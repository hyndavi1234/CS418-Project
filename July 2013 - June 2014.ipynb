{
 "cells": [
  {
   "cell_type": "markdown",
   "id": "ddb3a658-537a-4667-8b79-456321aa6646",
   "metadata": {},
   "source": [
    "## Import Statements"
   ]
  },
  {
   "cell_type": "code",
   "execution_count": 1,
   "id": "9df07ddc-a583-4190-9936-e8c62d8b597f",
   "metadata": {},
   "outputs": [],
   "source": [
    "import pandas as pd\n",
    "import numpy as np\n",
    "import matplotlib.pyplot as plt\n",
    "import matplotlib.dates as mdates\n",
    "import seaborn as sns\n",
    "from scipy import stats\n",
    "\n",
    "pd.options.display.max_columns=25"
   ]
  },
  {
   "cell_type": "markdown",
   "id": "380586dd-5331-4cf6-838e-af36c0c07fd2",
   "metadata": {
    "tags": []
   },
   "source": [
    "## Data FY 2014"
   ]
  },
  {
   "cell_type": "code",
   "execution_count": 2,
   "id": "18c6407c-2388-49ca-96ef-a19cff541b65",
   "metadata": {},
   "outputs": [
    {
     "data": {
      "text/plain": [
       "(67838, 24)"
      ]
     },
     "execution_count": 2,
     "metadata": {},
     "output_type": "execute_result"
    }
   ],
   "source": [
    "data_2014 = pd.read_excel('houston-houston-electricity-bills/coh-fy2014-ee-bills-july2013-june2014.xlsx')\n",
    "orig_shape_2014 = data_2014.shape[0]\n",
    "\n",
    "data_2014.shape"
   ]
  },
  {
   "cell_type": "code",
   "execution_count": 3,
   "id": "0c2aa10a-9b51-4933-8ddc-f9a5a1621841",
   "metadata": {},
   "outputs": [
    {
     "data": {
      "text/html": [
       "<div>\n",
       "<style scoped>\n",
       "    .dataframe tbody tr th:only-of-type {\n",
       "        vertical-align: middle;\n",
       "    }\n",
       "\n",
       "    .dataframe tbody tr th {\n",
       "        vertical-align: top;\n",
       "    }\n",
       "\n",
       "    .dataframe thead th {\n",
       "        text-align: right;\n",
       "    }\n",
       "</style>\n",
       "<table border=\"1\" class=\"dataframe\">\n",
       "  <thead>\n",
       "    <tr style=\"text-align: right;\">\n",
       "      <th></th>\n",
       "      <th>Reliant Contract No</th>\n",
       "      <th>Service Address</th>\n",
       "      <th>Meter No</th>\n",
       "      <th>ESID</th>\n",
       "      <th>Business Area</th>\n",
       "      <th>Cost Center</th>\n",
       "      <th>Fund</th>\n",
       "      <th>Bill Type</th>\n",
       "      <th>Bill Date</th>\n",
       "      <th>Read Date</th>\n",
       "      <th>Due Date</th>\n",
       "      <th>Meter Read</th>\n",
       "      <th>Base Cost ($)</th>\n",
       "      <th>T&amp;D Discretionary ($)</th>\n",
       "      <th>T&amp;D Charges ($)</th>\n",
       "      <th>Current Due ($)</th>\n",
       "      <th>Index Charge ($)</th>\n",
       "      <th>Total Due ($)</th>\n",
       "      <th>Franchise Fee ($)</th>\n",
       "      <th>Voucher Date</th>\n",
       "      <th>Billed Demand (KVA)</th>\n",
       "      <th>kWh Usage</th>\n",
       "      <th>Nodal Cu Charge ($)</th>\n",
       "      <th>Adder Charge ($)</th>\n",
       "    </tr>\n",
       "  </thead>\n",
       "  <tbody>\n",
       "    <tr>\n",
       "      <th>0</th>\n",
       "      <td>2059605</td>\n",
       "      <td>10518 BELLAIRE</td>\n",
       "      <td>303261</td>\n",
       "      <td>1008901000140050014100</td>\n",
       "      <td>2000</td>\n",
       "      <td>2000040005</td>\n",
       "      <td>8300</td>\n",
       "      <td>T</td>\n",
       "      <td>2014-05-28</td>\n",
       "      <td>2014-05-21</td>\n",
       "      <td>2014-06-27</td>\n",
       "      <td>64981.0</td>\n",
       "      <td>36098.63</td>\n",
       "      <td>2600.53</td>\n",
       "      <td>10078.92</td>\n",
       "      <td>50249.89</td>\n",
       "      <td>0.0</td>\n",
       "      <td>50249.89</td>\n",
       "      <td>-1014.83</td>\n",
       "      <td>2014-05-29</td>\n",
       "      <td>1470.526316</td>\n",
       "      <td>818192</td>\n",
       "      <td>479.19</td>\n",
       "      <td>0.0</td>\n",
       "    </tr>\n",
       "    <tr>\n",
       "      <th>1</th>\n",
       "      <td>2059605</td>\n",
       "      <td>10518 BELLAIRE</td>\n",
       "      <td>303261</td>\n",
       "      <td>1008901000140050014100</td>\n",
       "      <td>2000</td>\n",
       "      <td>2000040005</td>\n",
       "      <td>8300</td>\n",
       "      <td>T</td>\n",
       "      <td>2014-04-28</td>\n",
       "      <td>2014-04-22</td>\n",
       "      <td>2014-05-28</td>\n",
       "      <td>64299.0</td>\n",
       "      <td>38619.91</td>\n",
       "      <td>2576.95</td>\n",
       "      <td>9978.70</td>\n",
       "      <td>52378.23</td>\n",
       "      <td>0.0</td>\n",
       "      <td>52378.23</td>\n",
       "      <td>-1005.86</td>\n",
       "      <td>2014-04-29</td>\n",
       "      <td>1442.268041</td>\n",
       "      <td>875338</td>\n",
       "      <td>161.23</td>\n",
       "      <td>0.0</td>\n",
       "    </tr>\n",
       "    <tr>\n",
       "      <th>2</th>\n",
       "      <td>2059605</td>\n",
       "      <td>10518 BELLAIRE</td>\n",
       "      <td>303261</td>\n",
       "      <td>1008901000140050014100</td>\n",
       "      <td>2000</td>\n",
       "      <td>2000040005</td>\n",
       "      <td>8300</td>\n",
       "      <td>T</td>\n",
       "      <td>2014-03-27</td>\n",
       "      <td>2014-03-23</td>\n",
       "      <td>2014-04-26</td>\n",
       "      <td>63569.0</td>\n",
       "      <td>36275.51</td>\n",
       "      <td>2538.54</td>\n",
       "      <td>9896.25</td>\n",
       "      <td>49788.85</td>\n",
       "      <td>0.0</td>\n",
       "      <td>49788.85</td>\n",
       "      <td>-981.00</td>\n",
       "      <td>2014-03-28</td>\n",
       "      <td>1425.000000</td>\n",
       "      <td>822201</td>\n",
       "      <td>93.04</td>\n",
       "      <td>0.0</td>\n",
       "    </tr>\n",
       "    <tr>\n",
       "      <th>3</th>\n",
       "      <td>2059605</td>\n",
       "      <td>10518 BELLAIRE</td>\n",
       "      <td>303261</td>\n",
       "      <td>1008901000140050014100</td>\n",
       "      <td>2000</td>\n",
       "      <td>2000040005</td>\n",
       "      <td>8300</td>\n",
       "      <td>T</td>\n",
       "      <td>2014-02-27</td>\n",
       "      <td>2014-02-23</td>\n",
       "      <td>2014-03-29</td>\n",
       "      <td>62884.0</td>\n",
       "      <td>43283.31</td>\n",
       "      <td>2207.88</td>\n",
       "      <td>9373.41</td>\n",
       "      <td>56056.70</td>\n",
       "      <td>0.0</td>\n",
       "      <td>56056.70</td>\n",
       "      <td>-1053.49</td>\n",
       "      <td>2014-02-28</td>\n",
       "      <td>1513.265306</td>\n",
       "      <td>981036</td>\n",
       "      <td>77.36</td>\n",
       "      <td>0.0</td>\n",
       "    </tr>\n",
       "    <tr>\n",
       "      <th>4</th>\n",
       "      <td>2059605</td>\n",
       "      <td>10518 BELLAIRE</td>\n",
       "      <td>303261</td>\n",
       "      <td>1008901000140050014100</td>\n",
       "      <td>2000</td>\n",
       "      <td>2000040005</td>\n",
       "      <td>8300</td>\n",
       "      <td>T</td>\n",
       "      <td>2014-01-27</td>\n",
       "      <td>2014-01-21</td>\n",
       "      <td>2014-02-26</td>\n",
       "      <td>62066.0</td>\n",
       "      <td>37987.10</td>\n",
       "      <td>1992.16</td>\n",
       "      <td>8762.55</td>\n",
       "      <td>49748.12</td>\n",
       "      <td>0.0</td>\n",
       "      <td>49748.12</td>\n",
       "      <td>-950.63</td>\n",
       "      <td>2014-01-30</td>\n",
       "      <td>1373.195876</td>\n",
       "      <td>860995</td>\n",
       "      <td>17.73</td>\n",
       "      <td>0.0</td>\n",
       "    </tr>\n",
       "  </tbody>\n",
       "</table>\n",
       "</div>"
      ],
      "text/plain": [
       "   Reliant Contract No Service Address  Meter No                    ESID  \\\n",
       "0              2059605   10518 BELLAIRE   303261  1008901000140050014100   \n",
       "1              2059605   10518 BELLAIRE   303261  1008901000140050014100   \n",
       "2              2059605   10518 BELLAIRE   303261  1008901000140050014100   \n",
       "3              2059605   10518 BELLAIRE   303261  1008901000140050014100   \n",
       "4              2059605   10518 BELLAIRE   303261  1008901000140050014100   \n",
       "\n",
       "   Business Area  Cost Center  Fund Bill Type  Bill Date  Read Date  \\\n",
       "0           2000   2000040005  8300         T 2014-05-28 2014-05-21   \n",
       "1           2000   2000040005  8300         T 2014-04-28 2014-04-22   \n",
       "2           2000   2000040005  8300         T 2014-03-27 2014-03-23   \n",
       "3           2000   2000040005  8300         T 2014-02-27 2014-02-23   \n",
       "4           2000   2000040005  8300         T 2014-01-27 2014-01-21   \n",
       "\n",
       "    Due Date  Meter Read  Base Cost ($)  T&D Discretionary ($)  \\\n",
       "0 2014-06-27     64981.0       36098.63                2600.53   \n",
       "1 2014-05-28     64299.0       38619.91                2576.95   \n",
       "2 2014-04-26     63569.0       36275.51                2538.54   \n",
       "3 2014-03-29     62884.0       43283.31                2207.88   \n",
       "4 2014-02-26     62066.0       37987.10                1992.16   \n",
       "\n",
       "   T&D Charges ($)  Current Due ($)  Index Charge ($)  Total Due ($)  \\\n",
       "0         10078.92         50249.89               0.0       50249.89   \n",
       "1          9978.70         52378.23               0.0       52378.23   \n",
       "2          9896.25         49788.85               0.0       49788.85   \n",
       "3          9373.41         56056.70               0.0       56056.70   \n",
       "4          8762.55         49748.12               0.0       49748.12   \n",
       "\n",
       "   Franchise Fee ($) Voucher Date  Billed Demand (KVA)  kWh Usage  \\\n",
       "0           -1014.83   2014-05-29          1470.526316     818192   \n",
       "1           -1005.86   2014-04-29          1442.268041     875338   \n",
       "2            -981.00   2014-03-28          1425.000000     822201   \n",
       "3           -1053.49   2014-02-28          1513.265306     981036   \n",
       "4            -950.63   2014-01-30          1373.195876     860995   \n",
       "\n",
       "   Nodal Cu Charge ($)  Adder Charge ($)  \n",
       "0               479.19               0.0  \n",
       "1               161.23               0.0  \n",
       "2                93.04               0.0  \n",
       "3                77.36               0.0  \n",
       "4                17.73               0.0  "
      ]
     },
     "execution_count": 3,
     "metadata": {},
     "output_type": "execute_result"
    }
   ],
   "source": [
    "data_2014.head(5)"
   ]
  },
  {
   "cell_type": "markdown",
   "id": "c4b4b9cf-e538-4d26-ac80-1bb7a2a6aa14",
   "metadata": {},
   "source": [
    "### Checking Nulls"
   ]
  },
  {
   "cell_type": "code",
   "execution_count": 4,
   "id": "58a4adf2-9404-442f-b9ce-cf7841107857",
   "metadata": {},
   "outputs": [
    {
     "data": {
      "text/plain": [
       "Reliant Contract No          0\n",
       "Service Address              0\n",
       "Meter No                 17633\n",
       "ESID                         0\n",
       "Business Area                0\n",
       "Cost Center                  0\n",
       "Fund                         0\n",
       "Bill Type                    0\n",
       "Bill Date                    0\n",
       "Read Date                    0\n",
       "Due Date                     0\n",
       "Meter Read                  16\n",
       "Base Cost ($)                6\n",
       "T&D Discretionary ($)        0\n",
       "T&D Charges ($)              0\n",
       "Current Due ($)              0\n",
       "Index Charge ($)             3\n",
       "Total Due ($)                0\n",
       "Franchise Fee ($)            0\n",
       "Voucher Date                 0\n",
       "Billed Demand (KVA)         16\n",
       "kWh Usage                    0\n",
       "Nodal Cu Charge ($)          7\n",
       "Adder Charge ($)             3\n",
       "dtype: int64"
      ]
     },
     "execution_count": 4,
     "metadata": {},
     "output_type": "execute_result"
    }
   ],
   "source": [
    "data_2014.isna().sum()"
   ]
  },
  {
   "cell_type": "markdown",
   "id": "0513ea99-69e1-41ce-947b-0e107e659c10",
   "metadata": {},
   "source": [
    "### Checking Index Charge ($) column - This was previously Adjustment"
   ]
  },
  {
   "cell_type": "code",
   "execution_count": 5,
   "id": "980e401f-28aa-4503-8145-f232114cd49e",
   "metadata": {},
   "outputs": [
    {
     "data": {
      "text/plain": [
       "0.00        67320\n",
       "NaN             3\n",
       "8.23            3\n",
       "8.04            2\n",
       "7.36            2\n",
       "            ...  \n",
       "13587.81        1\n",
       "10639.12        1\n",
       "9521.45         1\n",
       "93.97           1\n",
       "70.22           1\n",
       "Name: Index Charge ($), Length: 511, dtype: int64"
      ]
     },
     "execution_count": 5,
     "metadata": {},
     "output_type": "execute_result"
    }
   ],
   "source": [
    "data_2014['Index Charge ($)'].value_counts(dropna=False)"
   ]
  },
  {
   "cell_type": "markdown",
   "id": "17d6b736-af09-4f76-aed4-738f033dc01c",
   "metadata": {},
   "source": [
    "The column does does have information regarding a certain price. Since we are using the total due amount at the end, Index Charge ($) does not need to be present again, as it would be included in the total due amount."
   ]
  },
  {
   "cell_type": "code",
   "execution_count": 6,
   "id": "ff09b4e4-4196-4d42-9f27-bae53b2de618",
   "metadata": {},
   "outputs": [],
   "source": [
    "data_2014.drop(columns=['Index Charge ($)'], inplace=True)"
   ]
  },
  {
   "cell_type": "markdown",
   "id": "dd82a057-195a-45c4-9600-eecc3c49c2dc",
   "metadata": {},
   "source": [
    "### Checking Unique Number of Customers"
   ]
  },
  {
   "cell_type": "markdown",
   "id": "305e8c03-b5fa-4514-8007-77d64bd80bd7",
   "metadata": {},
   "source": [
    "There are quite a few columns in the dataset that signify relating to a unique person/house/business. Checking the unique counts of such columns."
   ]
  },
  {
   "cell_type": "code",
   "execution_count": 7,
   "id": "5a108dd8-247e-4f00-8f30-c5f7ec3bc02d",
   "metadata": {},
   "outputs": [
    {
     "name": "stdout",
     "output_type": "stream",
     "text": [
      "Number of Unique Values in Reliant Contract No: 5888\n",
      "Number of Unique Values in Service Address : 5824\n",
      "Number of Unique Values in Meter No: 4026\n",
      "Number of Unique Values in ESID: 5885\n",
      "Number of Unique Values in Business Area: 8\n",
      "Number of Unique Values in Cost Center: 34\n"
     ]
    }
   ],
   "source": [
    "check_unique_columns = ['Reliant Contract No', 'Service Address ', 'Meter No', \n",
    "                        'ESID', 'Business Area', 'Cost Center',]\n",
    "\n",
    "for col in check_unique_columns:\n",
    "    print(f'Number of Unique Values in {col}: {data_2014[col].nunique()}')"
   ]
  },
  {
   "cell_type": "markdown",
   "id": "7a9dad9d-58a4-4df2-bf58-1e597175109a",
   "metadata": {},
   "source": [
    "NOTE: Compared to previous years, there is one less business area.\n",
    "\n",
    "Based on the above reported values and further research online:\n",
    "\n",
    "ESID signifies a unique ID provided to each customer subscribed to the electricity board. It would be best to choose ESID and Service Address columns going forward as these would provide number of unique customers and the areas (streets) where higher usage of electricity occurs.\n",
    "\n",
    "Business Area signifies a grouping a number of buildings which covers a certain area. This would be useful usage patterns grouped by certain zones in the city."
   ]
  },
  {
   "cell_type": "markdown",
   "id": "0ca5e161-d56b-40aa-bba3-e780ab496bf5",
   "metadata": {},
   "source": [
    "### Checking Bill Type"
   ]
  },
  {
   "cell_type": "code",
   "execution_count": 8,
   "id": "b14b9ec7-0d87-4079-95d1-123efe058169",
   "metadata": {},
   "outputs": [
    {
     "data": {
      "text/plain": [
       "T    67340\n",
       "P      498\n",
       "Name: Bill Type, dtype: int64"
      ]
     },
     "execution_count": 8,
     "metadata": {},
     "output_type": "execute_result"
    }
   ],
   "source": [
    "data_2014['Bill Type'].value_counts(dropna=False)"
   ]
  },
  {
   "cell_type": "markdown",
   "id": "92d9c724-40a3-4b68-9809-6f5de9ff5bc2",
   "metadata": {},
   "source": [
    "Bill Type could signify the type of the connection given. Since commercial, residential and government spaces would have different type of pricing and needs this column could be capturing that information.\n",
    "\n",
    "Previously there were 3 types of Bills. T, P, and C. But in year 2014 there are only 2 types. "
   ]
  },
  {
   "cell_type": "code",
   "execution_count": 9,
   "id": "94e55c29-d1df-463e-a4da-211fcf0e993b",
   "metadata": {},
   "outputs": [
    {
     "data": {
      "text/plain": [
       "(5824, 4026, 5885)"
      ]
     },
     "execution_count": 9,
     "metadata": {},
     "output_type": "execute_result"
    }
   ],
   "source": [
    "data_2014['Service Address '].nunique(), data_2014['Meter No'].nunique(), data_2014['ESID'].nunique()"
   ]
  },
  {
   "cell_type": "markdown",
   "id": "36b32c77-fd1e-4b92-ba25-83c773fa01ca",
   "metadata": {},
   "source": [
    "The next 3 columns are: Bill Date, Read Date and Due Date. Of these it would be best to choose the Bill date across all the data files to keep the data consistent. "
   ]
  },
  {
   "cell_type": "markdown",
   "id": "f9aaa99e-5044-49cb-80f1-1c504e1c13e2",
   "metadata": {},
   "source": [
    "### Electricity Usage Statistics"
   ]
  },
  {
   "cell_type": "code",
   "execution_count": 10,
   "id": "84c1ef5b-5f3f-4001-8141-9522241b412b",
   "metadata": {},
   "outputs": [
    {
     "data": {
      "text/html": [
       "<div>\n",
       "<style scoped>\n",
       "    .dataframe tbody tr th:only-of-type {\n",
       "        vertical-align: middle;\n",
       "    }\n",
       "\n",
       "    .dataframe tbody tr th {\n",
       "        vertical-align: top;\n",
       "    }\n",
       "\n",
       "    .dataframe thead th {\n",
       "        text-align: right;\n",
       "    }\n",
       "</style>\n",
       "<table border=\"1\" class=\"dataframe\">\n",
       "  <thead>\n",
       "    <tr style=\"text-align: right;\">\n",
       "      <th></th>\n",
       "      <th>Meter Read</th>\n",
       "      <th>Billed Demand (KVA)</th>\n",
       "      <th>kWh Usage</th>\n",
       "    </tr>\n",
       "  </thead>\n",
       "  <tbody>\n",
       "    <tr>\n",
       "      <th>count</th>\n",
       "      <td>67822.000000</td>\n",
       "      <td>67822.000000</td>\n",
       "      <td>6.783800e+04</td>\n",
       "    </tr>\n",
       "    <tr>\n",
       "      <th>mean</th>\n",
       "      <td>11922.180792</td>\n",
       "      <td>41.816244</td>\n",
       "      <td>1.757642e+04</td>\n",
       "    </tr>\n",
       "    <tr>\n",
       "      <th>std</th>\n",
       "      <td>19950.210597</td>\n",
       "      <td>365.658193</td>\n",
       "      <td>1.925858e+05</td>\n",
       "    </tr>\n",
       "    <tr>\n",
       "      <th>min</th>\n",
       "      <td>0.000000</td>\n",
       "      <td>0.000000</td>\n",
       "      <td>0.000000e+00</td>\n",
       "    </tr>\n",
       "    <tr>\n",
       "      <th>25%</th>\n",
       "      <td>0.000000</td>\n",
       "      <td>0.000000</td>\n",
       "      <td>1.000000e+00</td>\n",
       "    </tr>\n",
       "    <tr>\n",
       "      <th>50%</th>\n",
       "      <td>4507.000000</td>\n",
       "      <td>0.000000</td>\n",
       "      <td>2.200000e+02</td>\n",
       "    </tr>\n",
       "    <tr>\n",
       "      <th>75%</th>\n",
       "      <td>12230.750000</td>\n",
       "      <td>7.000000</td>\n",
       "      <td>1.419750e+03</td>\n",
       "    </tr>\n",
       "    <tr>\n",
       "      <th>max</th>\n",
       "      <td>492196.000000</td>\n",
       "      <td>17348.148148</td>\n",
       "      <td>9.383361e+06</td>\n",
       "    </tr>\n",
       "  </tbody>\n",
       "</table>\n",
       "</div>"
      ],
      "text/plain": [
       "          Meter Read  Billed Demand (KVA)     kWh Usage\n",
       "count   67822.000000         67822.000000  6.783800e+04\n",
       "mean    11922.180792            41.816244  1.757642e+04\n",
       "std     19950.210597           365.658193  1.925858e+05\n",
       "min         0.000000             0.000000  0.000000e+00\n",
       "25%         0.000000             0.000000  1.000000e+00\n",
       "50%      4507.000000             0.000000  2.200000e+02\n",
       "75%     12230.750000             7.000000  1.419750e+03\n",
       "max    492196.000000         17348.148148  9.383361e+06"
      ]
     },
     "execution_count": 10,
     "metadata": {},
     "output_type": "execute_result"
    }
   ],
   "source": [
    "data_2014[['Meter Read', 'Billed Demand (KVA)', 'kWh Usage']].describe()"
   ]
  },
  {
   "cell_type": "markdown",
   "id": "4d5a2e45-8090-4865-a367-a01f18144f87",
   "metadata": {},
   "source": [
    "There are 3 columns that denote the amount of electricity: Meter Read, Billed Demand, kWh Usage.\n",
    "\n",
    "Using kWh Usage as a standard unit of measurement."
   ]
  },
  {
   "cell_type": "code",
   "execution_count": 11,
   "id": "27c698d6-9b81-468f-976e-9d2cd34609b9",
   "metadata": {},
   "outputs": [
    {
     "data": {
      "text/html": [
       "<div>\n",
       "<style scoped>\n",
       "    .dataframe tbody tr th:only-of-type {\n",
       "        vertical-align: middle;\n",
       "    }\n",
       "\n",
       "    .dataframe tbody tr th {\n",
       "        vertical-align: top;\n",
       "    }\n",
       "\n",
       "    .dataframe thead th {\n",
       "        text-align: right;\n",
       "    }\n",
       "</style>\n",
       "<table border=\"1\" class=\"dataframe\">\n",
       "  <thead>\n",
       "    <tr style=\"text-align: right;\">\n",
       "      <th></th>\n",
       "      <th>Base Cost ($)</th>\n",
       "      <th>T&amp;D Discretionary ($)</th>\n",
       "      <th>T&amp;D Charges ($)</th>\n",
       "      <th>Current Due ($)</th>\n",
       "      <th>Total Due ($)</th>\n",
       "      <th>Franchise Fee ($)</th>\n",
       "      <th>Nodal Cu Charge ($)</th>\n",
       "      <th>Adder Charge ($)</th>\n",
       "    </tr>\n",
       "  </thead>\n",
       "  <tbody>\n",
       "    <tr>\n",
       "      <th>count</th>\n",
       "      <td>67832.000000</td>\n",
       "      <td>67838.000000</td>\n",
       "      <td>67838.000000</td>\n",
       "      <td>67838.000000</td>\n",
       "      <td>67838.000000</td>\n",
       "      <td>67838.000000</td>\n",
       "      <td>67831.000000</td>\n",
       "      <td>67835.000000</td>\n",
       "    </tr>\n",
       "    <tr>\n",
       "      <th>mean</th>\n",
       "      <td>752.493762</td>\n",
       "      <td>346.176442</td>\n",
       "      <td>243.271038</td>\n",
       "      <td>1429.004427</td>\n",
       "      <td>1428.948580</td>\n",
       "      <td>-30.802815</td>\n",
       "      <td>2.847491</td>\n",
       "      <td>8.410448</td>\n",
       "    </tr>\n",
       "    <tr>\n",
       "      <th>std</th>\n",
       "      <td>8850.260472</td>\n",
       "      <td>11412.058754</td>\n",
       "      <td>1761.077978</td>\n",
       "      <td>17419.486301</td>\n",
       "      <td>17420.904924</td>\n",
       "      <td>210.583496</td>\n",
       "      <td>42.663730</td>\n",
       "      <td>276.832133</td>\n",
       "    </tr>\n",
       "    <tr>\n",
       "      <th>min</th>\n",
       "      <td>-1269.920000</td>\n",
       "      <td>-45.930000</td>\n",
       "      <td>-1715.790000</td>\n",
       "      <td>-104.790000</td>\n",
       "      <td>0.000000</td>\n",
       "      <td>-6179.070000</td>\n",
       "      <td>-0.010000</td>\n",
       "      <td>0.000000</td>\n",
       "    </tr>\n",
       "    <tr>\n",
       "      <th>25%</th>\n",
       "      <td>0.070000</td>\n",
       "      <td>3.140000</td>\n",
       "      <td>5.750000</td>\n",
       "      <td>12.080000</td>\n",
       "      <td>12.080000</td>\n",
       "      <td>-4.830000</td>\n",
       "      <td>0.000000</td>\n",
       "      <td>0.000000</td>\n",
       "    </tr>\n",
       "    <tr>\n",
       "      <th>50%</th>\n",
       "      <td>10.020000</td>\n",
       "      <td>6.440000</td>\n",
       "      <td>10.380000</td>\n",
       "      <td>27.330000</td>\n",
       "      <td>27.270000</td>\n",
       "      <td>-0.470000</td>\n",
       "      <td>0.030000</td>\n",
       "      <td>0.000000</td>\n",
       "    </tr>\n",
       "    <tr>\n",
       "      <th>75%</th>\n",
       "      <td>59.690000</td>\n",
       "      <td>17.800000</td>\n",
       "      <td>60.692500</td>\n",
       "      <td>164.850000</td>\n",
       "      <td>164.212500</td>\n",
       "      <td>0.000000</td>\n",
       "      <td>0.170000</td>\n",
       "      <td>0.000000</td>\n",
       "    </tr>\n",
       "    <tr>\n",
       "      <th>max</th>\n",
       "      <td>586509.580000</td>\n",
       "      <td>781792.760000</td>\n",
       "      <td>70591.250000</td>\n",
       "      <td>906606.680000</td>\n",
       "      <td>906606.680000</td>\n",
       "      <td>0.000000</td>\n",
       "      <td>5531.690000</td>\n",
       "      <td>12528.970000</td>\n",
       "    </tr>\n",
       "  </tbody>\n",
       "</table>\n",
       "</div>"
      ],
      "text/plain": [
       "       Base Cost ($)  T&D Discretionary ($)  T&D Charges ($)  Current Due ($)  \\\n",
       "count   67832.000000           67838.000000     67838.000000     67838.000000   \n",
       "mean      752.493762             346.176442       243.271038      1429.004427   \n",
       "std      8850.260472           11412.058754      1761.077978     17419.486301   \n",
       "min     -1269.920000             -45.930000     -1715.790000      -104.790000   \n",
       "25%         0.070000               3.140000         5.750000        12.080000   \n",
       "50%        10.020000               6.440000        10.380000        27.330000   \n",
       "75%        59.690000              17.800000        60.692500       164.850000   \n",
       "max    586509.580000          781792.760000     70591.250000    906606.680000   \n",
       "\n",
       "       Total Due ($)  Franchise Fee ($)  Nodal Cu Charge ($)  Adder Charge ($)  \n",
       "count   67838.000000       67838.000000         67831.000000      67835.000000  \n",
       "mean     1428.948580         -30.802815             2.847491          8.410448  \n",
       "std     17420.904924         210.583496            42.663730        276.832133  \n",
       "min         0.000000       -6179.070000            -0.010000          0.000000  \n",
       "25%        12.080000          -4.830000             0.000000          0.000000  \n",
       "50%        27.270000          -0.470000             0.030000          0.000000  \n",
       "75%       164.212500           0.000000             0.170000          0.000000  \n",
       "max    906606.680000           0.000000          5531.690000      12528.970000  "
      ]
     },
     "execution_count": 11,
     "metadata": {},
     "output_type": "execute_result"
    }
   ],
   "source": [
    "data_2014[[\n",
    "    'Base Cost ($)', 'T&D Discretionary ($)', 'T&D Charges ($)', \n",
    "    'Current Due ($)', 'Total Due ($)', 'Franchise Fee ($)', \n",
    "    'Nodal Cu Charge ($)', 'Adder Charge ($)'\n",
    "     ]].describe()"
   ]
  },
  {
   "cell_type": "markdown",
   "id": "8b97c35a-d3e7-41a4-8302-dee0deb7a60a",
   "metadata": {},
   "source": [
    "Adder Charge ($) does not contain any useful information. Electing to drop that column. Previously this column was Reliability Unit Charge.\n",
    "\n",
    "The columns other than Current Due or Total Due are adding up the value present in these two columns. Going forward choosing the column Total Due ($). \n",
    "Based on the above statistics the columns Current Due and Total Due represent the same value. "
   ]
  },
  {
   "cell_type": "markdown",
   "id": "7eab6a87-21e4-4098-909e-27e9568a5cf9",
   "metadata": {},
   "source": [
    "Based on the above analysis of the dataset choosing the following columns:\n",
    "\n",
    "1. ESID\n",
    "2. Business Area\n",
    "3. Service Address \n",
    "3. Bill Type\n",
    "4. Bill Date\n",
    "5. Total Due ($)\n",
    "6. kWh Usage"
   ]
  },
  {
   "cell_type": "markdown",
   "id": "392ebdca-1a86-4ad2-b715-a3315bd33c9e",
   "metadata": {},
   "source": [
    "### Selecting and Filtering Columns"
   ]
  },
  {
   "cell_type": "code",
   "execution_count": 12,
   "id": "5ac1f860-ba14-4d51-aa3d-8cc4d7f419e6",
   "metadata": {},
   "outputs": [],
   "source": [
    "data_2014 = data_2014[[\n",
    "    'ESID', 'Business Area', 'Service Address ', 'Bill Type',\n",
    "    'Bill Date', 'Total Due ($)', 'kWh Usage'\n",
    "]]"
   ]
  },
  {
   "cell_type": "code",
   "execution_count": 13,
   "id": "e197c022-dc36-4333-94a1-dc7e76525559",
   "metadata": {
    "tags": []
   },
   "outputs": [],
   "source": [
    "rename_cols = {\n",
    "    'ESID': 'esid',\n",
    "    'Business Area': 'business_area',\n",
    "    'Service Address ': 'service_address',\n",
    "    'Bill Type': 'bill_type',\n",
    "    'Bill Date': 'bill_date',\n",
    "    'Total Due ($)': 'total_due',\n",
    "    'kWh Usage': 'kwh_usage'\n",
    "}\n",
    "\n",
    "data_2014_main = data_2014.rename(columns=rename_cols)"
   ]
  },
  {
   "cell_type": "markdown",
   "id": "8bcc4d6e-875d-45c1-9ee2-1f7cd864251f",
   "metadata": {},
   "source": [
    "Checking for Nulls again and dtypes"
   ]
  },
  {
   "cell_type": "code",
   "execution_count": 14,
   "id": "5fde1531-eb97-4195-b7cc-11b9cf7c931c",
   "metadata": {},
   "outputs": [
    {
     "data": {
      "text/plain": [
       "esid               0\n",
       "business_area      0\n",
       "service_address    0\n",
       "bill_type          0\n",
       "bill_date          0\n",
       "total_due          0\n",
       "kwh_usage          0\n",
       "dtype: int64"
      ]
     },
     "execution_count": 14,
     "metadata": {},
     "output_type": "execute_result"
    }
   ],
   "source": [
    "data_2014_main.isna().sum()"
   ]
  },
  {
   "cell_type": "code",
   "execution_count": 15,
   "id": "ea12fd10-c4a1-4ecd-b142-9535f5614bf7",
   "metadata": {},
   "outputs": [
    {
     "data": {
      "text/plain": [
       "esid                       object\n",
       "business_area               int64\n",
       "service_address            object\n",
       "bill_type                  object\n",
       "bill_date          datetime64[ns]\n",
       "total_due                 float64\n",
       "kwh_usage                   int64\n",
       "dtype: object"
      ]
     },
     "execution_count": 15,
     "metadata": {},
     "output_type": "execute_result"
    }
   ],
   "source": [
    "data_2014_main.dtypes"
   ]
  },
  {
   "cell_type": "code",
   "execution_count": 16,
   "id": "202a8ecb-4503-4ffa-87dc-70f9b6aec535",
   "metadata": {},
   "outputs": [
    {
     "data": {
      "text/plain": [
       "(67838, 7)"
      ]
     },
     "execution_count": 16,
     "metadata": {},
     "output_type": "execute_result"
    }
   ],
   "source": [
    "data_2014_main.shape"
   ]
  },
  {
   "cell_type": "code",
   "execution_count": 17,
   "id": "b0321576-fff7-482f-8295-462718642e44",
   "metadata": {},
   "outputs": [
    {
     "data": {
      "text/html": [
       "<div>\n",
       "<style scoped>\n",
       "    .dataframe tbody tr th:only-of-type {\n",
       "        vertical-align: middle;\n",
       "    }\n",
       "\n",
       "    .dataframe tbody tr th {\n",
       "        vertical-align: top;\n",
       "    }\n",
       "\n",
       "    .dataframe thead th {\n",
       "        text-align: right;\n",
       "    }\n",
       "</style>\n",
       "<table border=\"1\" class=\"dataframe\">\n",
       "  <thead>\n",
       "    <tr style=\"text-align: right;\">\n",
       "      <th></th>\n",
       "      <th>total_due</th>\n",
       "      <th>kwh_usage</th>\n",
       "    </tr>\n",
       "  </thead>\n",
       "  <tbody>\n",
       "    <tr>\n",
       "      <th>0</th>\n",
       "      <td>2.802455</td>\n",
       "      <td>4.157220</td>\n",
       "    </tr>\n",
       "    <tr>\n",
       "      <th>1</th>\n",
       "      <td>2.924627</td>\n",
       "      <td>4.453952</td>\n",
       "    </tr>\n",
       "    <tr>\n",
       "      <th>2</th>\n",
       "      <td>2.775990</td>\n",
       "      <td>4.178037</td>\n",
       "    </tr>\n",
       "    <tr>\n",
       "      <th>3</th>\n",
       "      <td>3.135782</td>\n",
       "      <td>5.002792</td>\n",
       "    </tr>\n",
       "    <tr>\n",
       "      <th>4</th>\n",
       "      <td>2.773652</td>\n",
       "      <td>4.379476</td>\n",
       "    </tr>\n",
       "    <tr>\n",
       "      <th>...</th>\n",
       "      <td>...</td>\n",
       "      <td>...</td>\n",
       "    </tr>\n",
       "    <tr>\n",
       "      <th>67833</th>\n",
       "      <td>-0.044563</td>\n",
       "      <td>-0.078056</td>\n",
       "    </tr>\n",
       "    <tr>\n",
       "      <th>67834</th>\n",
       "      <td>0.024122</td>\n",
       "      <td>-0.078056</td>\n",
       "    </tr>\n",
       "    <tr>\n",
       "      <th>67835</th>\n",
       "      <td>-0.047622</td>\n",
       "      <td>-0.078056</td>\n",
       "    </tr>\n",
       "    <tr>\n",
       "      <th>67836</th>\n",
       "      <td>-0.047384</td>\n",
       "      <td>-0.078056</td>\n",
       "    </tr>\n",
       "    <tr>\n",
       "      <th>67837</th>\n",
       "      <td>-0.043133</td>\n",
       "      <td>-0.078056</td>\n",
       "    </tr>\n",
       "  </tbody>\n",
       "</table>\n",
       "<p>67838 rows × 2 columns</p>\n",
       "</div>"
      ],
      "text/plain": [
       "       total_due  kwh_usage\n",
       "0       2.802455   4.157220\n",
       "1       2.924627   4.453952\n",
       "2       2.775990   4.178037\n",
       "3       3.135782   5.002792\n",
       "4       2.773652   4.379476\n",
       "...          ...        ...\n",
       "67833  -0.044563  -0.078056\n",
       "67834   0.024122  -0.078056\n",
       "67835  -0.047622  -0.078056\n",
       "67836  -0.047384  -0.078056\n",
       "67837  -0.043133  -0.078056\n",
       "\n",
       "[67838 rows x 2 columns]"
      ]
     },
     "execution_count": 17,
     "metadata": {},
     "output_type": "execute_result"
    }
   ],
   "source": [
    "zscore_2014 = stats.zscore(data_2014_main[['total_due', 'kwh_usage']])\n",
    "\n",
    "zscore_2014"
   ]
  },
  {
   "cell_type": "markdown",
   "id": "ee29c593-1cbb-49bd-806d-765e591f9605",
   "metadata": {},
   "source": [
    "Each zscore value signifies how many standard deviations away an individual value is from the mean. This is a good indicator to finding outliers in the dataframe.\n",
    "\n",
    "Usually z-score=3 is considered as a cut-off value to set the limit. Therefore, any z-score greater than +3 or less than -3 is considered as outlier which is pretty much similar to standard deviation method"
   ]
  },
  {
   "cell_type": "code",
   "execution_count": 18,
   "id": "bfa8bc95-be70-4ec2-bf5f-85d21304e0d5",
   "metadata": {},
   "outputs": [
    {
     "data": {
      "text/plain": [
       "(67838, 7)"
      ]
     },
     "execution_count": 18,
     "metadata": {},
     "output_type": "execute_result"
    }
   ],
   "source": [
    "# data_2014_main = data_2014_main[(np.abs(zscore_2014) < 3).all(axis=1)]\n",
    "\n",
    "data_2014_main.shape"
   ]
  },
  {
   "cell_type": "markdown",
   "id": "46539633-6b17-4820-bc49-253605b7c7ae",
   "metadata": {},
   "source": [
    "The number of rows has decreased from 67,838 to 67,427. So 411 rows were outliers based on the data."
   ]
  },
  {
   "cell_type": "code",
   "execution_count": 19,
   "id": "e99f13df-597d-4be6-80c3-0e853458961b",
   "metadata": {},
   "outputs": [
    {
     "data": {
      "text/html": [
       "<div>\n",
       "<style scoped>\n",
       "    .dataframe tbody tr th:only-of-type {\n",
       "        vertical-align: middle;\n",
       "    }\n",
       "\n",
       "    .dataframe tbody tr th {\n",
       "        vertical-align: top;\n",
       "    }\n",
       "\n",
       "    .dataframe thead th {\n",
       "        text-align: right;\n",
       "    }\n",
       "</style>\n",
       "<table border=\"1\" class=\"dataframe\">\n",
       "  <thead>\n",
       "    <tr style=\"text-align: right;\">\n",
       "      <th></th>\n",
       "      <th>esid</th>\n",
       "      <th>business_area</th>\n",
       "      <th>service_address</th>\n",
       "      <th>bill_type</th>\n",
       "      <th>bill_date</th>\n",
       "      <th>total_due</th>\n",
       "      <th>kwh_usage</th>\n",
       "    </tr>\n",
       "  </thead>\n",
       "  <tbody>\n",
       "    <tr>\n",
       "      <th>0</th>\n",
       "      <td>1008901000140050014100</td>\n",
       "      <td>2000</td>\n",
       "      <td>10518 BELLAIRE</td>\n",
       "      <td>T</td>\n",
       "      <td>2014-05-28</td>\n",
       "      <td>50249.89</td>\n",
       "      <td>818192</td>\n",
       "    </tr>\n",
       "    <tr>\n",
       "      <th>1</th>\n",
       "      <td>1008901000140050014100</td>\n",
       "      <td>2000</td>\n",
       "      <td>10518 BELLAIRE</td>\n",
       "      <td>T</td>\n",
       "      <td>2014-04-28</td>\n",
       "      <td>52378.23</td>\n",
       "      <td>875338</td>\n",
       "    </tr>\n",
       "    <tr>\n",
       "      <th>2</th>\n",
       "      <td>1008901000140050014100</td>\n",
       "      <td>2000</td>\n",
       "      <td>10518 BELLAIRE</td>\n",
       "      <td>T</td>\n",
       "      <td>2014-03-27</td>\n",
       "      <td>49788.85</td>\n",
       "      <td>822201</td>\n",
       "    </tr>\n",
       "    <tr>\n",
       "      <th>3</th>\n",
       "      <td>1008901000140050014100</td>\n",
       "      <td>2000</td>\n",
       "      <td>10518 BELLAIRE</td>\n",
       "      <td>T</td>\n",
       "      <td>2014-02-27</td>\n",
       "      <td>56056.70</td>\n",
       "      <td>981036</td>\n",
       "    </tr>\n",
       "    <tr>\n",
       "      <th>4</th>\n",
       "      <td>1008901000140050014100</td>\n",
       "      <td>2000</td>\n",
       "      <td>10518 BELLAIRE</td>\n",
       "      <td>T</td>\n",
       "      <td>2014-01-27</td>\n",
       "      <td>49748.12</td>\n",
       "      <td>860995</td>\n",
       "    </tr>\n",
       "  </tbody>\n",
       "</table>\n",
       "</div>"
      ],
      "text/plain": [
       "                     esid  business_area service_address bill_type  bill_date  \\\n",
       "0  1008901000140050014100           2000  10518 BELLAIRE         T 2014-05-28   \n",
       "1  1008901000140050014100           2000  10518 BELLAIRE         T 2014-04-28   \n",
       "2  1008901000140050014100           2000  10518 BELLAIRE         T 2014-03-27   \n",
       "3  1008901000140050014100           2000  10518 BELLAIRE         T 2014-02-27   \n",
       "4  1008901000140050014100           2000  10518 BELLAIRE         T 2014-01-27   \n",
       "\n",
       "   total_due  kwh_usage  \n",
       "0   50249.89     818192  \n",
       "1   52378.23     875338  \n",
       "2   49788.85     822201  \n",
       "3   56056.70     981036  \n",
       "4   49748.12     860995  "
      ]
     },
     "execution_count": 19,
     "metadata": {},
     "output_type": "execute_result"
    }
   ],
   "source": [
    "data_2014_main.head(5)"
   ]
  },
  {
   "cell_type": "code",
   "execution_count": 20,
   "id": "5e0634b5-f01c-4b58-9d30-ea61527bfc68",
   "metadata": {},
   "outputs": [
    {
     "data": {
      "text/plain": [
       "0"
      ]
     },
     "execution_count": 20,
     "metadata": {},
     "output_type": "execute_result"
    }
   ],
   "source": [
    "orig_shape_2014 - data_2014_main.shape[0]"
   ]
  },
  {
   "cell_type": "code",
   "execution_count": 21,
   "id": "9bfa1028-485a-4de9-9fba-e21917ac90ed",
   "metadata": {},
   "outputs": [],
   "source": [
    "data_2014_main.to_csv('electricity_usage_data_2014.csv', index=False)"
   ]
  }
 ],
 "metadata": {
  "kernelspec": {
   "display_name": "Python 3 (ipykernel)",
   "language": "python",
   "name": "python3"
  },
  "language_info": {
   "codemirror_mode": {
    "name": "ipython",
    "version": 3
   },
   "file_extension": ".py",
   "mimetype": "text/x-python",
   "name": "python",
   "nbconvert_exporter": "python",
   "pygments_lexer": "ipython3",
   "version": "3.10.9"
  }
 },
 "nbformat": 4,
 "nbformat_minor": 5
}

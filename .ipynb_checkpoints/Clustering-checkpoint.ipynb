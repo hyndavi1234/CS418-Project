{
 "cells": [
  {
   "cell_type": "markdown",
   "id": "48ba3f19-fbf4-414a-9231-b99f6b4634af",
   "metadata": {},
   "source": [
    "## Import Statements"
   ]
  },
  {
   "cell_type": "code",
   "execution_count": 1,
   "id": "19c37088-67e8-4475-a423-f10273460dd1",
   "metadata": {},
   "outputs": [],
   "source": [
    "import pandas as pd\n",
    "import numpy as np\n",
    "import matplotlib.pyplot as plt\n",
    "import matplotlib.dates as mdates\n",
    "import seaborn as sns\n",
    "from scipy import stats\n",
    "\n",
    "from sklearn.linear_model import LinearRegression\n",
    "from sklearn.ensemble import GradientBoostingRegressor\n",
    "from sklearn.tree import DecisionTreeRegressor\n",
    "\n",
    "from sklearn.preprocessing import LabelEncoder\n",
    "from sklearn.model_selection import train_test_split\n",
    "from sklearn.metrics import r2_score, mean_squared_error\n",
    "\n",
    "pd.options.display.max_columns=25"
   ]
  },
  {
   "cell_type": "code",
   "execution_count": null,
   "id": "b8b39d44-3c9e-4fcd-a60e-dd3553ef1dcb",
   "metadata": {},
   "outputs": [],
   "source": [
    "data_main = pd.read_csv('Electricity_Usage_Data.csv')"
   ]
  },
  {
   "cell_type": "code",
   "execution_count": 4,
   "id": "c058c9fb-93ca-44be-88b0-993b3931b027",
   "metadata": {},
   "outputs": [],
   "source": [
    "data_main[['bill_date']] = data_main[['bill_date']].apply(pd.to_datetime)"
   ]
  },
  {
   "cell_type": "code",
   "execution_count": null,
   "id": "627f134b-c29a-4641-bcca-bb3d8e19778d",
   "metadata": {},
   "outputs": [],
   "source": [
    "data_main.loc[:,'bill_date'] = data_main['bill_date'].apply(lambda x: pd.to_datetime(f'{x.year}-{x.month}-01'))"
   ]
  },
  {
   "cell_type": "markdown",
   "id": "4415009b-4a45-48ab-9a17-5e67cdd6d005",
   "metadata": {
    "tags": []
   },
   "source": [
    "### Clustering - Sunil\n",
    "\n",
    "Models proposed:\n",
    "\n",
    "1. KMeans - simple and easy model which is computationally efficient. requires the number of clusters to be specified and can be sensitive to initialization of centroids\n",
    "2. DBSCAN - can handle arbitrary shapes of clusters and noise points. But this model can be quite computationally expensive for big datasets.\n",
    "3. Hierarchical - can provide hierarchy of clusters which is useful fpr understanding relationships between the clusters. But this model too is computationally expensive.\n",
    "\n",
    "Currently still working on clustering."
   ]
  },
  {
   "cell_type": "code",
   "execution_count": null,
   "id": "50cf8478-e74a-48ed-af83-768419efcdd9",
   "metadata": {},
   "outputs": [],
   "source": [
    "from sklearn.cluster import KMeans, DBSCAN\n",
    "from sklearn.metrics import silhouette_score\n",
    "from sklearn.preprocessing import StandardScaler, normalize\n",
    "\n",
    "from sklearn.cluster import AgglomerativeClustering"
   ]
  },
  {
   "cell_type": "code",
   "execution_count": null,
   "id": "83b4ddc4-01d2-4ff0-a3a5-33337d019c72",
   "metadata": {},
   "outputs": [],
   "source": [
    "X = data_main[[\n",
    "    'business_area', \n",
    "    'address_enc', \n",
    "    'bill_type_enc', \n",
    "    'year', \n",
    "    'month',\n",
    "    'kwh_usage',\n",
    "]]"
   ]
  },
  {
   "cell_type": "code",
   "execution_count": null,
   "id": "9bff305d-4d56-402b-bc28-1969aeb6e445",
   "metadata": {},
   "outputs": [],
   "source": [
    "X.dtypes"
   ]
  },
  {
   "cell_type": "code",
   "execution_count": null,
   "id": "eeddf9b0-20f4-4461-a745-7cb90159132a",
   "metadata": {},
   "outputs": [],
   "source": [
    "db = DBSCAN(eps=0.4, min_samples=20)\n",
    "db.fit(X)\n",
    "\n",
    "y_pred = db.fit_predict(X)\n",
    "plt.figure(figsize=(10,6))\n",
    "plt.scatter(X[:,0], X[:,1],c=y_pred, cmap='Paired')\n",
    "plt.title(\"Clusters determined by DBSCAN\")"
   ]
  },
  {
   "cell_type": "code",
   "execution_count": null,
   "id": "8e7d65f9-29ed-4811-b6f2-cc30b77a2949",
   "metadata": {},
   "outputs": [],
   "source": [
    "for k in range(1, 11):\n",
    "    agg_cluster = AgglomerativeClustering(\n",
    "        n_clusters=k, \n",
    "        affinity='euclidean', \n",
    "        linkage='single'\n",
    "    )\n",
    "    agg_cluster.fit(X)\n",
    "    break"
   ]
  },
  {
   "cell_type": "code",
   "execution_count": null,
   "id": "1d8e31ac-a4dc-4a3e-99e5-dc5b298a8e6d",
   "metadata": {},
   "outputs": [],
   "source": [
    "kmeans_kwargs = {\n",
    "   \"init\": \"random\",\n",
    "   \"n_init\": 10,\n",
    "   \"max_iter\": 300,\n",
    "   \"random_state\": 42,\n",
    "}\n",
    "\n",
    "sse = []\n",
    "for k in range(1, 11):\n",
    "    kmeans = KMeans(n_clusters=k, **kmeans_kwargs)\n",
    "    kmeans.fit(scaled_features)\n",
    "    sse.append(kmeans.inertia_)"
   ]
  },
  {
   "cell_type": "code",
   "execution_count": null,
   "id": "0efc59fb-dbfa-4175-be0f-1d56ec7795c9",
   "metadata": {},
   "outputs": [],
   "source": [
    "plt.plot(range(1, 11), sse)\n",
    "plt.xticks(range(1, 11))\n",
    "plt.xlabel(\"Number of Clusters\")\n",
    "plt.ylabel(\"SSE\")\n",
    "plt.show()"
   ]
  }
 ],
 "metadata": {
  "kernelspec": {
   "display_name": "Python 3 (ipykernel)",
   "language": "python",
   "name": "python3"
  },
  "language_info": {
   "codemirror_mode": {
    "name": "ipython",
    "version": 3
   },
   "file_extension": ".py",
   "mimetype": "text/x-python",
   "name": "python",
   "nbconvert_exporter": "python",
   "pygments_lexer": "ipython3",
   "version": "3.10.9"
  }
 },
 "nbformat": 4,
 "nbformat_minor": 5
}

{
 "cells": [
  {
   "cell_type": "markdown",
   "id": "8043e72a-9c55-4e1c-8ae4-addd3dc5b812",
   "metadata": {},
   "source": [
    "## Import Statements"
   ]
  },
  {
   "cell_type": "code",
   "execution_count": 1,
   "id": "10c38aa1-b27d-4bc7-999a-686f8644a48d",
   "metadata": {},
   "outputs": [],
   "source": [
    "import pandas as pd\n",
    "import numpy as np\n",
    "import matplotlib.pyplot as plt\n",
    "import matplotlib.dates as mdates\n",
    "import seaborn as sns\n",
    "from scipy import stats\n",
    "\n",
    "from sklearn.linear_model import LinearRegression\n",
    "from sklearn.ensemble import GradientBoostingRegressor\n",
    "from sklearn.tree import DecisionTreeRegressor\n",
    "\n",
    "from sklearn.preprocessing import LabelEncoder\n",
    "from sklearn.model_selection import train_test_split\n",
    "from sklearn.metrics import r2_score, mean_squared_error\n",
    "\n",
    "pd.options.display.max_columns=25"
   ]
  },
  {
   "cell_type": "code",
   "execution_count": 2,
   "id": "fdc1dfef-9f83-436c-a37c-d958909f689e",
   "metadata": {},
   "outputs": [],
   "source": [
    "data_main = pd.read_csv('Electricity_Usage_Data.csv')"
   ]
  },
  {
   "cell_type": "code",
   "execution_count": 3,
   "id": "ab219c88-5842-4d92-a138-96406996cc91",
   "metadata": {},
   "outputs": [],
   "source": [
    "data_main[['bill_date']] = data_main[['bill_date']].apply(pd.to_datetime)"
   ]
  },
  {
   "cell_type": "code",
   "execution_count": 4,
   "id": "2cacdcac-d099-474e-8ef2-b5704ca8d027",
   "metadata": {},
   "outputs": [],
   "source": [
    "data_main.loc[:,'bill_date'] = data_main['bill_date'].apply(\n",
    "    lambda x: pd.to_datetime(f'{x.year}-{x.month}-01')\n",
    ")"
   ]
  },
  {
   "cell_type": "code",
   "execution_count": 5,
   "id": "3de803e2-d09f-448e-9e9c-1d040827b8c0",
   "metadata": {},
   "outputs": [],
   "source": [
    "address_enc = LabelEncoder()\n",
    "bill_type_enc = LabelEncoder()\n",
    "\n",
    "data_main['address_enc'] = address_enc.fit_transform(\n",
    "    data_main['service_address']\n",
    ")\n",
    "data_main['bill_type_enc'] = bill_type_enc.fit_transform(\n",
    "    data_main['bill_type']\n",
    ")\n",
    "data_main['year'] = data_main['bill_date'].apply(lambda x:x.year)\n",
    "data_main['month'] = data_main['bill_date'].apply(lambda x:x.month)"
   ]
  },
  {
   "cell_type": "markdown",
   "id": "a8d1c8ee-dc3e-4d01-85b6-b0b20d9e0667",
   "metadata": {},
   "source": [
    "### Regression - Task: Predicting Energy Usage - Sourabh\n",
    "\n",
    "Models Proposed:\n",
    "1. Linear Regression - Simple and easy to understand model. Using this to set a baseline. assumes linear relationship between thhe input features and the target variable.\n",
    "2. Gradient Boosting Regressor - Since this model is an ensemble model which combines, multiple decision tree. Expecting good accuracy from this model. can be computationally expensive and may require more resources to other models\n",
    "3. Decision Tree Regressor - This is a simple, interpretable model. can handle non-linear relationships between the input features. Can be prone to overfitting on the train data"
   ]
  },
  {
   "cell_type": "code",
   "execution_count": 6,
   "id": "db74ae57-e631-4c23-9328-fe0b10eed172",
   "metadata": {},
   "outputs": [
    {
     "data": {
      "text/plain": [
       "((191253, 11), (157498, 11))"
      ]
     },
     "execution_count": 6,
     "metadata": {},
     "output_type": "execute_result"
    }
   ],
   "source": [
    "data_main.head()\n",
    "\n",
    "Q1 = data_main['kwh_usage'].quantile(0.25)\n",
    "Q3 = data_main['kwh_usage'].quantile(0.75)\n",
    "IQR = Q3 - Q1\n",
    "\n",
    "Q1, Q3, IQR\n",
    "data_main_filt = data_main[~(\n",
    "    (data_main['kwh_usage'] < (Q1 - 1.5 * IQR)) | \n",
    "    (data_main['kwh_usage'] > (Q3 + 1.5 * IQR))\n",
    ")]\n",
    "\n",
    "data_main.shape, data_main_filt.shape"
   ]
  },
  {
   "cell_type": "markdown",
   "id": "e3196c02-6992-46a2-ac9d-be7a2378193c",
   "metadata": {},
   "source": [
    "Therefore, 33,755 rows have values that are considered outliers based on the IQR Method."
   ]
  },
  {
   "cell_type": "code",
   "execution_count": 7,
   "id": "09bbb1b7-f6c4-450a-901b-33290a09face",
   "metadata": {},
   "outputs": [],
   "source": [
    "def regression_metrics(model, X_train, X_test, y_train, y_test):\n",
    "    y_train_pred = model.predict(X_train)\n",
    "    y_test_pred = model.predict(X_test)\n",
    "\n",
    "    print(f'Train R2 Score: {r2_score(y_train, y_train_pred)}')\n",
    "    print(f'Test R2 Score: {r2_score(y_test, y_test_pred)}')\n",
    "\n",
    "    print(f'Train MSE Score: {mean_squared_error(y_train, y_train_pred)}')\n",
    "    print(f'Test MSE Score: {mean_squared_error(y_test, y_test_pred)}')"
   ]
  },
  {
   "cell_type": "code",
   "execution_count": 8,
   "id": "c8f0e9ca-a674-4fce-b6e2-c8d3fbcf5511",
   "metadata": {},
   "outputs": [],
   "source": [
    "X = data_main[[\n",
    "    'business_area', 'address_enc', 'bill_type_enc', 'year', 'month'\n",
    "]]\n",
    "y = data_main[['kwh_usage']]\n",
    "\n",
    "X_filt = data_main_filt[[\n",
    "    'business_area', 'address_enc', 'bill_type_enc', 'year', 'month'\n",
    "]]\n",
    "y_filt = data_main_filt[['kwh_usage']]"
   ]
  },
  {
   "cell_type": "code",
   "execution_count": 9,
   "id": "f2c0ae74-3a2c-4b00-b741-177c881386f4",
   "metadata": {},
   "outputs": [],
   "source": [
    "X_train, X_test, y_train, y_test = train_test_split(\n",
    "    X, y, test_size=0.2, random_state=42\n",
    ")\n",
    "\n",
    "X_train_filt, X_test_filt, y_train_filt, y_test_filt = train_test_split(\n",
    "    X_filt, y_filt, test_size=0.2, random_state=42\n",
    ")"
   ]
  },
  {
   "cell_type": "markdown",
   "id": "168082d7-acb4-4147-94df-f482e38af78f",
   "metadata": {},
   "source": [
    "#### Linear Regression"
   ]
  },
  {
   "cell_type": "code",
   "execution_count": 10,
   "id": "d601fcec-0ca7-4c7b-83ff-440d3177bc05",
   "metadata": {},
   "outputs": [],
   "source": [
    "reg = LinearRegression().fit(X_train, y_train)\n",
    "reg_filt = LinearRegression().fit(X_train_filt, y_train_filt)"
   ]
  },
  {
   "cell_type": "code",
   "execution_count": 11,
   "id": "aa6e0435-227e-4084-9bab-9d583b9300af",
   "metadata": {},
   "outputs": [
    {
     "name": "stdout",
     "output_type": "stream",
     "text": [
      "With Outliers\n",
      "Train R2 Score: 0.009173833177215318\n",
      "Test R2 Score: 0.007167343822345074\n",
      "Train MSE Score: 39877725926.044525\n",
      "Test MSE Score: 49616557595.280334\n",
      "==================================================\n",
      "Without Outliers\n",
      "Train R2 Score: 0.08955528262685242\n",
      "Test R2 Score: 0.09509437141206156\n",
      "Train MSE Score: 672051.7504459427\n",
      "Test MSE Score: 694695.2188051218\n"
     ]
    }
   ],
   "source": [
    "print('With Outliers')\n",
    "regression_metrics(reg, X_train, X_test, y_train, y_test)\n",
    "\n",
    "print('='*50)\n",
    "\n",
    "print('Without Outliers')\n",
    "regression_metrics(\n",
    "    reg_filt, X_train_filt, X_test_filt, y_train_filt, y_test_filt\n",
    ")"
   ]
  },
  {
   "cell_type": "markdown",
   "id": "8e075206-8f50-47ee-8a6e-5007502c9ed2",
   "metadata": {},
   "source": [
    "#### Gradient Boosting Regression"
   ]
  },
  {
   "cell_type": "code",
   "execution_count": 12,
   "id": "fdea402a-0ad9-4884-8bd9-3ad428f4fe86",
   "metadata": {},
   "outputs": [],
   "source": [
    "gbr = GradientBoostingRegressor().fit(X_train, np.ravel(y_train))\n",
    "gbr_filt = GradientBoostingRegressor().fit(\n",
    "    X_train_filt, np.ravel(y_train_filt)\n",
    ")"
   ]
  },
  {
   "cell_type": "code",
   "execution_count": 13,
   "id": "a12353e7-a22b-4c4e-b6c0-93de86e9ce74",
   "metadata": {},
   "outputs": [
    {
     "name": "stdout",
     "output_type": "stream",
     "text": [
      "With Outliers\n",
      "Train R2 Score: 0.7043295722890507\n",
      "Test R2 Score: 0.7315554088149221\n",
      "Train MSE Score: 11899831348.320082\n",
      "Test MSE Score: 13415449659.919912\n",
      "==================================================\n",
      "Without Outliers\n",
      "Train R2 Score: 0.1523656445581465\n",
      "Test R2 Score: 0.15408797851650213\n",
      "Train MSE Score: 625687.800085661\n",
      "Test MSE Score: 649405.8808887758\n"
     ]
    }
   ],
   "source": [
    "print('With Outliers')\n",
    "regression_metrics(\n",
    "    gbr, X_train, X_test, np.ravel(y_train), np.ravel(y_test)\n",
    ")\n",
    "\n",
    "print('='*50)\n",
    "\n",
    "print('Without Outliers')\n",
    "regression_metrics(\n",
    "    gbr_filt, X_train_filt, X_test_filt, np.ravel(y_train_filt), np.ravel(y_test_filt)\n",
    ")"
   ]
  },
  {
   "cell_type": "markdown",
   "id": "e30acdd8-f453-4cb4-a13f-bd06b175b2f0",
   "metadata": {},
   "source": [
    "#### Decision Tree Regressor"
   ]
  },
  {
   "cell_type": "code",
   "execution_count": 14,
   "id": "53940ba3-efd4-4377-9ab9-cb1f09f9ab47",
   "metadata": {},
   "outputs": [],
   "source": [
    "dtr = DecisionTreeRegressor().fit(X_train, np.ravel(y_train))\n",
    "dtr_filt = DecisionTreeRegressor().fit(X_train_filt, np.ravel(y_train_filt))"
   ]
  },
  {
   "cell_type": "code",
   "execution_count": 15,
   "id": "021cdfb8-9b6e-49bb-9672-5558a49a7125",
   "metadata": {},
   "outputs": [
    {
     "name": "stdout",
     "output_type": "stream",
     "text": [
      "With Outliers\n",
      "Train R2 Score: 0.9328533753005721\n",
      "Test R2 Score: 0.9252101010668637\n",
      "Train MSE Score: 2702446489.891373\n",
      "Test MSE Score: 3737606035.4899774\n",
      "==================================================\n",
      "Without Outliers\n",
      "Train R2 Score: 0.9934125253356817\n",
      "Test R2 Score: 0.8822752077931225\n",
      "Train MSE Score: 4862.594943652055\n",
      "Test MSE Score: 90377.21470310935\n"
     ]
    }
   ],
   "source": [
    "print('With Outliers')\n",
    "regression_metrics(\n",
    "    dtr, X_train, X_test, np.ravel(y_train), np.ravel(y_test)\n",
    ")\n",
    "\n",
    "print('='*50)\n",
    "\n",
    "print('Without Outliers')\n",
    "regression_metrics(\n",
    "    dtr_filt, X_train_filt, X_test_filt, np.ravel(y_train_filt), np.ravel(y_test_filt)\n",
    ")"
   ]
  },
  {
   "cell_type": "markdown",
   "id": "5b5ef14d-5d19-458c-8978-e14062ad6df5",
   "metadata": {},
   "source": [
    "#### Conclusions: Electricity usage can be predicted by using correlated features (Regression)\n",
    "* Used three regression techniques: Linear Regression, Gradient Boosting Regression, and Decision Tree Regression.\n",
    "* The linear regression was too simple and was not able to capture the correlations within the dataset hence the poor performance on the train as well as test set. This can also be seen in the high RMSE value too.\n",
    "* Gradient Boosting Regression was able to capture the relationships between the variables but unfortunately it is overfitting as reflected by the R2 score and RMSE value. On the test the R2 score is too low and RMSE is high which indicates overfitting.\n",
    "* The Decision Tree Regressor gave the best performance of the 3 models. It averages 95% on the train and 90% on the test set (taking into account both the model trained on outlier datset and without outliers).\n",
    "* Therefore, using regression analysis, we are able to show that electricity usage can be predicted provided we have the features such as area of the connection, the type of the bill (connection taken), the year and month in which the usage is being predicted."
   ]
  }
 ],
 "metadata": {
  "kernelspec": {
   "display_name": "Python 3 (ipykernel)",
   "language": "python",
   "name": "python3"
  },
  "language_info": {
   "codemirror_mode": {
    "name": "ipython",
    "version": 3
   },
   "file_extension": ".py",
   "mimetype": "text/x-python",
   "name": "python",
   "nbconvert_exporter": "python",
   "pygments_lexer": "ipython3",
   "version": "3.10.9"
  }
 },
 "nbformat": 4,
 "nbformat_minor": 5
}

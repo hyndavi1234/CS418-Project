{
 "cells": [
  {
   "cell_type": "markdown",
   "id": "ad21f159-d27c-4f19-8cc4-42c79d26991f",
   "metadata": {},
   "source": [
    "## Import Statements"
   ]
  },
  {
   "cell_type": "code",
   "execution_count": 1,
   "id": "4502d37d-35c4-4c2c-9c7e-c5c2c2d9916c",
   "metadata": {},
   "outputs": [],
   "source": [
    "import pandas as pd\n",
    "import numpy as np\n",
    "import matplotlib.pyplot as plt\n",
    "import matplotlib.dates as mdates\n",
    "import seaborn as sns\n",
    "from scipy import stats\n",
    "\n",
    "pd.options.display.max_columns=25"
   ]
  },
  {
   "cell_type": "markdown",
   "id": "f55d17f0-9e69-4cf0-9467-1db7ba3d0bb1",
   "metadata": {
    "tags": []
   },
   "source": [
    "## Data FY 2013-1"
   ]
  },
  {
   "cell_type": "code",
   "execution_count": 2,
   "id": "6515db9a-b6ad-44e3-bc93-b24dea628fa1",
   "metadata": {},
   "outputs": [
    {
     "data": {
      "text/plain": [
       "(66776, 24)"
      ]
     },
     "execution_count": 2,
     "metadata": {},
     "output_type": "execute_result"
    }
   ],
   "source": [
    "data_2013 = pd.read_excel('houston-houston-electricity-bills/coh-fy2013-ee-bills-july2012-june2013.xlsx')\n",
    "orig_shape_2013 = data_2013.shape[0]\n",
    "\n",
    "data_2013.shape"
   ]
  },
  {
   "cell_type": "code",
   "execution_count": 3,
   "id": "f9c90a4e-3378-4924-957f-cbbcf4e907f5",
   "metadata": {},
   "outputs": [
    {
     "data": {
      "text/html": [
       "<div>\n",
       "<style scoped>\n",
       "    .dataframe tbody tr th:only-of-type {\n",
       "        vertical-align: middle;\n",
       "    }\n",
       "\n",
       "    .dataframe tbody tr th {\n",
       "        vertical-align: top;\n",
       "    }\n",
       "\n",
       "    .dataframe thead th {\n",
       "        text-align: right;\n",
       "    }\n",
       "</style>\n",
       "<table border=\"1\" class=\"dataframe\">\n",
       "  <thead>\n",
       "    <tr style=\"text-align: right;\">\n",
       "      <th></th>\n",
       "      <th>Reliant Contract No</th>\n",
       "      <th>Service Address</th>\n",
       "      <th>Meter No</th>\n",
       "      <th>ESID</th>\n",
       "      <th>Business Area</th>\n",
       "      <th>Cost Center</th>\n",
       "      <th>Fund</th>\n",
       "      <th>Bill Type</th>\n",
       "      <th>Bill Date</th>\n",
       "      <th>Read Date</th>\n",
       "      <th>Due Date</th>\n",
       "      <th>Meter Read</th>\n",
       "      <th>Base Cost ($)</th>\n",
       "      <th>T&amp;D Discretionary ($)</th>\n",
       "      <th>T&amp;D Charges ($)</th>\n",
       "      <th>Current Due ($)</th>\n",
       "      <th>Index Charge ($)</th>\n",
       "      <th>Total Due ($)</th>\n",
       "      <th>Franchise Fee ($)</th>\n",
       "      <th>Voucher Date</th>\n",
       "      <th>Billed Demand (KVA)</th>\n",
       "      <th>kWh Usage</th>\n",
       "      <th>Nodal Cu Charge ($)</th>\n",
       "      <th>Adder Charge ($)</th>\n",
       "    </tr>\n",
       "  </thead>\n",
       "  <tbody>\n",
       "    <tr>\n",
       "      <th>0</th>\n",
       "      <td>2059605</td>\n",
       "      <td>10518 BELLAIRE</td>\n",
       "      <td>303261</td>\n",
       "      <td>1008901000140050014100</td>\n",
       "      <td>2000</td>\n",
       "      <td>2000040005</td>\n",
       "      <td>8300</td>\n",
       "      <td>T</td>\n",
       "      <td>2013-06-27</td>\n",
       "      <td>2013-06-23</td>\n",
       "      <td>2013-07-28</td>\n",
       "      <td>57061.0</td>\n",
       "      <td>57621.95</td>\n",
       "      <td>1319.11</td>\n",
       "      <td>10606.19</td>\n",
       "      <td>69785.20</td>\n",
       "      <td>NaN</td>\n",
       "      <td>69785.20</td>\n",
       "      <td>-1016.90</td>\n",
       "      <td>2013-07-01</td>\n",
       "      <td>1462.500000</td>\n",
       "      <td>876113.0</td>\n",
       "      <td>237.95</td>\n",
       "      <td>0.0</td>\n",
       "    </tr>\n",
       "    <tr>\n",
       "      <th>1</th>\n",
       "      <td>2059605</td>\n",
       "      <td>10518 BELLAIRE</td>\n",
       "      <td>303261</td>\n",
       "      <td>1008901000140050014100</td>\n",
       "      <td>2000</td>\n",
       "      <td>2000040005</td>\n",
       "      <td>8300</td>\n",
       "      <td>T</td>\n",
       "      <td>2013-05-29</td>\n",
       "      <td>2013-05-23</td>\n",
       "      <td>2013-06-28</td>\n",
       "      <td>56331.0</td>\n",
       "      <td>57981.59</td>\n",
       "      <td>1316.35</td>\n",
       "      <td>10676.66</td>\n",
       "      <td>70177.01</td>\n",
       "      <td>NaN</td>\n",
       "      <td>70177.01</td>\n",
       "      <td>-1041.76</td>\n",
       "      <td>2013-05-30</td>\n",
       "      <td>1496.907217</td>\n",
       "      <td>879842.0</td>\n",
       "      <td>202.41</td>\n",
       "      <td>0.0</td>\n",
       "    </tr>\n",
       "    <tr>\n",
       "      <th>2</th>\n",
       "      <td>2059605</td>\n",
       "      <td>10518 BELLAIRE</td>\n",
       "      <td>303261</td>\n",
       "      <td>1008901000140050014100</td>\n",
       "      <td>2000</td>\n",
       "      <td>2000040005</td>\n",
       "      <td>8300</td>\n",
       "      <td>T</td>\n",
       "      <td>2013-04-29</td>\n",
       "      <td>2013-04-23</td>\n",
       "      <td>2013-05-29</td>\n",
       "      <td>55598.0</td>\n",
       "      <td>67005.80</td>\n",
       "      <td>1357.92</td>\n",
       "      <td>10853.62</td>\n",
       "      <td>79309.40</td>\n",
       "      <td>NaN</td>\n",
       "      <td>79309.40</td>\n",
       "      <td>-1036.92</td>\n",
       "      <td>2013-04-30</td>\n",
       "      <td>1502.083333</td>\n",
       "      <td>997407.0</td>\n",
       "      <td>92.06</td>\n",
       "      <td>0.0</td>\n",
       "    </tr>\n",
       "    <tr>\n",
       "      <th>3</th>\n",
       "      <td>2059605</td>\n",
       "      <td>10518 BELLAIRE</td>\n",
       "      <td>303261</td>\n",
       "      <td>1008901000140050014100</td>\n",
       "      <td>2000</td>\n",
       "      <td>2000040005</td>\n",
       "      <td>8300</td>\n",
       "      <td>T</td>\n",
       "      <td>2013-03-28</td>\n",
       "      <td>2013-03-21</td>\n",
       "      <td>2013-04-27</td>\n",
       "      <td>54767.0</td>\n",
       "      <td>57008.44</td>\n",
       "      <td>1300.83</td>\n",
       "      <td>10473.16</td>\n",
       "      <td>68778.30</td>\n",
       "      <td>NaN</td>\n",
       "      <td>68778.30</td>\n",
       "      <td>-995.50</td>\n",
       "      <td>2013-03-29</td>\n",
       "      <td>1432.989691</td>\n",
       "      <td>849351.0</td>\n",
       "      <td>-4.13</td>\n",
       "      <td>0.0</td>\n",
       "    </tr>\n",
       "    <tr>\n",
       "      <th>4</th>\n",
       "      <td>2059605</td>\n",
       "      <td>10518 BELLAIRE</td>\n",
       "      <td>303261</td>\n",
       "      <td>1008901000140050014100</td>\n",
       "      <td>2000</td>\n",
       "      <td>2000040005</td>\n",
       "      <td>8300</td>\n",
       "      <td>T</td>\n",
       "      <td>2013-02-26</td>\n",
       "      <td>2013-02-21</td>\n",
       "      <td>2013-03-28</td>\n",
       "      <td>54059.0</td>\n",
       "      <td>61287.57</td>\n",
       "      <td>1313.49</td>\n",
       "      <td>10534.33</td>\n",
       "      <td>73135.18</td>\n",
       "      <td>NaN</td>\n",
       "      <td>73135.18</td>\n",
       "      <td>-1000.33</td>\n",
       "      <td>2013-02-27</td>\n",
       "      <td>1452.577320</td>\n",
       "      <td>911746.0</td>\n",
       "      <td>-0.21</td>\n",
       "      <td>0.0</td>\n",
       "    </tr>\n",
       "  </tbody>\n",
       "</table>\n",
       "</div>"
      ],
      "text/plain": [
       "   Reliant Contract No Service Address  Meter No                    ESID  \\\n",
       "0              2059605   10518 BELLAIRE   303261  1008901000140050014100   \n",
       "1              2059605   10518 BELLAIRE   303261  1008901000140050014100   \n",
       "2              2059605   10518 BELLAIRE   303261  1008901000140050014100   \n",
       "3              2059605   10518 BELLAIRE   303261  1008901000140050014100   \n",
       "4              2059605   10518 BELLAIRE   303261  1008901000140050014100   \n",
       "\n",
       "   Business Area  Cost Center  Fund Bill Type  Bill Date  Read Date  \\\n",
       "0           2000   2000040005  8300         T 2013-06-27 2013-06-23   \n",
       "1           2000   2000040005  8300         T 2013-05-29 2013-05-23   \n",
       "2           2000   2000040005  8300         T 2013-04-29 2013-04-23   \n",
       "3           2000   2000040005  8300         T 2013-03-28 2013-03-21   \n",
       "4           2000   2000040005  8300         T 2013-02-26 2013-02-21   \n",
       "\n",
       "    Due Date  Meter Read  Base Cost ($)  T&D Discretionary ($)  \\\n",
       "0 2013-07-28     57061.0       57621.95                1319.11   \n",
       "1 2013-06-28     56331.0       57981.59                1316.35   \n",
       "2 2013-05-29     55598.0       67005.80                1357.92   \n",
       "3 2013-04-27     54767.0       57008.44                1300.83   \n",
       "4 2013-03-28     54059.0       61287.57                1313.49   \n",
       "\n",
       "   T&D Charges ($)  Current Due ($)  Index Charge ($)  Total Due ($)  \\\n",
       "0         10606.19         69785.20               NaN       69785.20   \n",
       "1         10676.66         70177.01               NaN       70177.01   \n",
       "2         10853.62         79309.40               NaN       79309.40   \n",
       "3         10473.16         68778.30               NaN       68778.30   \n",
       "4         10534.33         73135.18               NaN       73135.18   \n",
       "\n",
       "   Franchise Fee ($) Voucher Date  Billed Demand (KVA)  kWh Usage  \\\n",
       "0           -1016.90   2013-07-01          1462.500000   876113.0   \n",
       "1           -1041.76   2013-05-30          1496.907217   879842.0   \n",
       "2           -1036.92   2013-04-30          1502.083333   997407.0   \n",
       "3            -995.50   2013-03-29          1432.989691   849351.0   \n",
       "4           -1000.33   2013-02-27          1452.577320   911746.0   \n",
       "\n",
       "   Nodal Cu Charge ($)  Adder Charge ($)  \n",
       "0               237.95               0.0  \n",
       "1               202.41               0.0  \n",
       "2                92.06               0.0  \n",
       "3                -4.13               0.0  \n",
       "4                -0.21               0.0  "
      ]
     },
     "execution_count": 3,
     "metadata": {},
     "output_type": "execute_result"
    }
   ],
   "source": [
    "data_2013.head(5)"
   ]
  },
  {
   "cell_type": "markdown",
   "id": "ecbe5f96-a65b-4677-926c-52ed140914e2",
   "metadata": {},
   "source": [
    "### Checking Nulls"
   ]
  },
  {
   "cell_type": "code",
   "execution_count": 4,
   "id": "2503bc21-ba09-456d-b64b-70940d6367b6",
   "metadata": {},
   "outputs": [
    {
     "data": {
      "text/plain": [
       "Reliant Contract No          0\n",
       "Service Address              0\n",
       "Meter No                 15228\n",
       "ESID                         0\n",
       "Business Area                0\n",
       "Cost Center                  0\n",
       "Fund                         0\n",
       "Bill Type                    0\n",
       "Bill Date                    0\n",
       "Read Date                    0\n",
       "Due Date                     0\n",
       "Meter Read                  12\n",
       "Base Cost ($)                1\n",
       "T&D Discretionary ($)        0\n",
       "T&D Charges ($)              1\n",
       "Current Due ($)              0\n",
       "Index Charge ($)         65183\n",
       "Total Due ($)                0\n",
       "Franchise Fee ($)            0\n",
       "Voucher Date                 0\n",
       "Billed Demand (KVA)         12\n",
       "kWh Usage                    1\n",
       "Nodal Cu Charge ($)          5\n",
       "Adder Charge ($)            14\n",
       "dtype: int64"
      ]
     },
     "execution_count": 4,
     "metadata": {},
     "output_type": "execute_result"
    }
   ],
   "source": [
    "data_2013.isna().sum()"
   ]
  },
  {
   "cell_type": "markdown",
   "id": "dde85b79-a290-4f69-a9cb-26df19c46de5",
   "metadata": {},
   "source": [
    "### Checking Index Charge ($) column - This was previously Adjustment"
   ]
  },
  {
   "cell_type": "code",
   "execution_count": 5,
   "id": "7b80542e-6e14-4bac-a7ab-2a51765403ac",
   "metadata": {},
   "outputs": [
    {
     "data": {
      "text/plain": [
       " NaN     65183\n",
       " 0.00     1592\n",
       "-0.54        1\n",
       "Name: Index Charge ($), dtype: int64"
      ]
     },
     "execution_count": 5,
     "metadata": {},
     "output_type": "execute_result"
    }
   ],
   "source": [
    "data_2013['Index Charge ($)'].value_counts(dropna=False)"
   ]
  },
  {
   "cell_type": "markdown",
   "id": "f2014011-4977-4cbf-a392-dcb0a97a7460",
   "metadata": {},
   "source": [
    "The column does not have any relevant information based on the above reported values. Electing to drop the column."
   ]
  },
  {
   "cell_type": "code",
   "execution_count": 6,
   "id": "54df3ca6-9954-4bc7-8609-9c7cafef4df9",
   "metadata": {},
   "outputs": [],
   "source": [
    "data_2013.drop(columns=['Index Charge ($)'], inplace=True)"
   ]
  },
  {
   "cell_type": "markdown",
   "id": "d2211090-0410-4676-9d34-6803c7d31adb",
   "metadata": {},
   "source": [
    "### Checking Unique Number of Customers"
   ]
  },
  {
   "cell_type": "markdown",
   "id": "d10a3d2c-ed68-4380-a88e-0f749b483e0b",
   "metadata": {},
   "source": [
    "There are quite a few columns in the dataset that signify relating to a unique person/house/business. Checking the unique counts of such columns."
   ]
  },
  {
   "cell_type": "code",
   "execution_count": 7,
   "id": "1d3bccda-8f20-4f2b-a34d-f60a2176ad1d",
   "metadata": {},
   "outputs": [
    {
     "name": "stdout",
     "output_type": "stream",
     "text": [
      "Number of Unique Values in Reliant Contract No: 5900\n",
      "Number of Unique Values in Service Address : 5840\n",
      "Number of Unique Values in Meter No: 4035\n",
      "Number of Unique Values in ESID: 5898\n",
      "Number of Unique Values in Business Area: 9\n",
      "Number of Unique Values in Cost Center: 39\n"
     ]
    }
   ],
   "source": [
    "check_unique_columns = ['Reliant Contract No', 'Service Address ', 'Meter No', \n",
    "                        'ESID', 'Business Area', 'Cost Center',]\n",
    "\n",
    "for col in check_unique_columns:\n",
    "    print(f'Number of Unique Values in {col}: {data_2013[col].nunique()}')"
   ]
  },
  {
   "cell_type": "markdown",
   "id": "02f1b336-764d-4265-94c1-e748ba4eb980",
   "metadata": {},
   "source": [
    "Based on the above reported values and further research online:\n",
    "\n",
    "ESID signifies a unique ID provided to each customer subscribed to the electricity board. It would be best to choose ESID and Service Address columns going forward as these would provide number of unique customers and the areas (streets) where higher usage of electricity occurs.\n",
    "\n",
    "Business Area signifies a grouping a number of buildings which covers a certain area. This would be useful usage patterns grouped by certain zones in the city."
   ]
  },
  {
   "cell_type": "markdown",
   "id": "a98063d6-15dc-47cb-9597-ee56e5225f90",
   "metadata": {},
   "source": [
    "### Checking Bill Type"
   ]
  },
  {
   "cell_type": "code",
   "execution_count": 8,
   "id": "82057c94-5bae-468f-b2c9-d155345cad77",
   "metadata": {},
   "outputs": [
    {
     "data": {
      "text/plain": [
       "T    66222\n",
       "P      552\n",
       "C        2\n",
       "Name: Bill Type, dtype: int64"
      ]
     },
     "execution_count": 8,
     "metadata": {},
     "output_type": "execute_result"
    }
   ],
   "source": [
    "data_2013['Bill Type'].value_counts(dropna=False)"
   ]
  },
  {
   "cell_type": "markdown",
   "id": "70a36160-e66d-49e9-bb47-b6071cf3133a",
   "metadata": {},
   "source": [
    "Bill Type could signify the type of the connection given. Since commercial, residential and government spaces would have different type of pricing and needs this column could be capturing that information."
   ]
  },
  {
   "cell_type": "code",
   "execution_count": 9,
   "id": "805c5144-b258-4235-b79f-75d9308e855a",
   "metadata": {},
   "outputs": [
    {
     "data": {
      "text/plain": [
       "(5840, 4035, 5898)"
      ]
     },
     "execution_count": 9,
     "metadata": {},
     "output_type": "execute_result"
    }
   ],
   "source": [
    "data_2013['Service Address '].nunique(), data_2013['Meter No'].nunique(), data_2013['ESID'].nunique()"
   ]
  },
  {
   "cell_type": "markdown",
   "id": "4ae2a9e7-e36a-4158-8c54-64610b172f22",
   "metadata": {},
   "source": [
    "The next 3 columns are: Bill Date, Read Date and Due Date. Of these it would be best to choose the Bill date across all the data files to keep the data consistent. "
   ]
  },
  {
   "cell_type": "markdown",
   "id": "9dfeb5f4-ad52-44d2-b4cb-7cb6d4dd6789",
   "metadata": {},
   "source": [
    "### Electricity Usage Statistics"
   ]
  },
  {
   "cell_type": "code",
   "execution_count": 10,
   "id": "07f2ba4a-5409-4883-bb23-7a65ec634076",
   "metadata": {},
   "outputs": [
    {
     "data": {
      "text/html": [
       "<div>\n",
       "<style scoped>\n",
       "    .dataframe tbody tr th:only-of-type {\n",
       "        vertical-align: middle;\n",
       "    }\n",
       "\n",
       "    .dataframe tbody tr th {\n",
       "        vertical-align: top;\n",
       "    }\n",
       "\n",
       "    .dataframe thead th {\n",
       "        text-align: right;\n",
       "    }\n",
       "</style>\n",
       "<table border=\"1\" class=\"dataframe\">\n",
       "  <thead>\n",
       "    <tr style=\"text-align: right;\">\n",
       "      <th></th>\n",
       "      <th>Meter Read</th>\n",
       "      <th>Billed Demand (KVA)</th>\n",
       "      <th>kWh Usage</th>\n",
       "    </tr>\n",
       "  </thead>\n",
       "  <tbody>\n",
       "    <tr>\n",
       "      <th>count</th>\n",
       "      <td>66764.000000</td>\n",
       "      <td>66764.000000</td>\n",
       "      <td>6.677500e+04</td>\n",
       "    </tr>\n",
       "    <tr>\n",
       "      <th>mean</th>\n",
       "      <td>9869.779829</td>\n",
       "      <td>44.208272</td>\n",
       "      <td>1.880421e+04</td>\n",
       "    </tr>\n",
       "    <tr>\n",
       "      <th>std</th>\n",
       "      <td>17911.694906</td>\n",
       "      <td>380.343991</td>\n",
       "      <td>2.024587e+05</td>\n",
       "    </tr>\n",
       "    <tr>\n",
       "      <th>min</th>\n",
       "      <td>0.000000</td>\n",
       "      <td>0.000000</td>\n",
       "      <td>0.000000e+00</td>\n",
       "    </tr>\n",
       "    <tr>\n",
       "      <th>25%</th>\n",
       "      <td>0.000000</td>\n",
       "      <td>0.000000</td>\n",
       "      <td>1.000000e+00</td>\n",
       "    </tr>\n",
       "    <tr>\n",
       "      <th>50%</th>\n",
       "      <td>3123.000000</td>\n",
       "      <td>0.000000</td>\n",
       "      <td>2.310000e+02</td>\n",
       "    </tr>\n",
       "    <tr>\n",
       "      <th>75%</th>\n",
       "      <td>9007.250000</td>\n",
       "      <td>8.000000</td>\n",
       "      <td>1.680000e+03</td>\n",
       "    </tr>\n",
       "    <tr>\n",
       "      <th>max</th>\n",
       "      <td>239800.000000</td>\n",
       "      <td>16775.903614</td>\n",
       "      <td>9.689658e+06</td>\n",
       "    </tr>\n",
       "  </tbody>\n",
       "</table>\n",
       "</div>"
      ],
      "text/plain": [
       "          Meter Read  Billed Demand (KVA)     kWh Usage\n",
       "count   66764.000000         66764.000000  6.677500e+04\n",
       "mean     9869.779829            44.208272  1.880421e+04\n",
       "std     17911.694906           380.343991  2.024587e+05\n",
       "min         0.000000             0.000000  0.000000e+00\n",
       "25%         0.000000             0.000000  1.000000e+00\n",
       "50%      3123.000000             0.000000  2.310000e+02\n",
       "75%      9007.250000             8.000000  1.680000e+03\n",
       "max    239800.000000         16775.903614  9.689658e+06"
      ]
     },
     "execution_count": 10,
     "metadata": {},
     "output_type": "execute_result"
    }
   ],
   "source": [
    "data_2013[['Meter Read', 'Billed Demand (KVA)', 'kWh Usage']].describe()"
   ]
  },
  {
   "cell_type": "markdown",
   "id": "33b5a923-8325-4eea-b829-ef65f67cb293",
   "metadata": {},
   "source": [
    "There are 3 columns that denote the amount of electricity: Meter Read, Billed Demand, kWh Usage.\n",
    "\n",
    "Using kWh Usage as a standard unit of measurement."
   ]
  },
  {
   "cell_type": "code",
   "execution_count": 11,
   "id": "985f3595-6bf0-45c4-89b0-9873817ccc3d",
   "metadata": {},
   "outputs": [
    {
     "data": {
      "text/html": [
       "<div>\n",
       "<style scoped>\n",
       "    .dataframe tbody tr th:only-of-type {\n",
       "        vertical-align: middle;\n",
       "    }\n",
       "\n",
       "    .dataframe tbody tr th {\n",
       "        vertical-align: top;\n",
       "    }\n",
       "\n",
       "    .dataframe thead th {\n",
       "        text-align: right;\n",
       "    }\n",
       "</style>\n",
       "<table border=\"1\" class=\"dataframe\">\n",
       "  <thead>\n",
       "    <tr style=\"text-align: right;\">\n",
       "      <th></th>\n",
       "      <th>Base Cost ($)</th>\n",
       "      <th>T&amp;D Discretionary ($)</th>\n",
       "      <th>T&amp;D Charges ($)</th>\n",
       "      <th>Current Due ($)</th>\n",
       "      <th>Total Due ($)</th>\n",
       "      <th>Franchise Fee ($)</th>\n",
       "      <th>Nodal Cu Charge ($)</th>\n",
       "      <th>Adder Charge ($)</th>\n",
       "    </tr>\n",
       "  </thead>\n",
       "  <tbody>\n",
       "    <tr>\n",
       "      <th>count</th>\n",
       "      <td>66775.000000</td>\n",
       "      <td>66776.000000</td>\n",
       "      <td>66775.000000</td>\n",
       "      <td>66776.000000</td>\n",
       "      <td>66776.000000</td>\n",
       "      <td>66776.000000</td>\n",
       "      <td>66771.000000</td>\n",
       "      <td>66762.0</td>\n",
       "    </tr>\n",
       "    <tr>\n",
       "      <th>mean</th>\n",
       "      <td>1249.628836</td>\n",
       "      <td>367.439382</td>\n",
       "      <td>278.533215</td>\n",
       "      <td>1901.861997</td>\n",
       "      <td>1902.580866</td>\n",
       "      <td>-33.921297</td>\n",
       "      <td>6.005230</td>\n",
       "      <td>0.0</td>\n",
       "    </tr>\n",
       "    <tr>\n",
       "      <th>std</th>\n",
       "      <td>13443.314342</td>\n",
       "      <td>11796.148872</td>\n",
       "      <td>1997.001709</td>\n",
       "      <td>21320.228167</td>\n",
       "      <td>21320.836910</td>\n",
       "      <td>237.409585</td>\n",
       "      <td>132.671939</td>\n",
       "      <td>0.0</td>\n",
       "    </tr>\n",
       "    <tr>\n",
       "      <th>min</th>\n",
       "      <td>0.000000</td>\n",
       "      <td>-7091.410000</td>\n",
       "      <td>-37666.730000</td>\n",
       "      <td>-44264.860000</td>\n",
       "      <td>0.000000</td>\n",
       "      <td>-7017.800000</td>\n",
       "      <td>-323.080000</td>\n",
       "      <td>0.0</td>\n",
       "    </tr>\n",
       "    <tr>\n",
       "      <th>25%</th>\n",
       "      <td>0.070000</td>\n",
       "      <td>3.120000</td>\n",
       "      <td>6.020000</td>\n",
       "      <td>11.820000</td>\n",
       "      <td>11.820000</td>\n",
       "      <td>-5.410000</td>\n",
       "      <td>0.000000</td>\n",
       "      <td>0.0</td>\n",
       "    </tr>\n",
       "    <tr>\n",
       "      <th>50%</th>\n",
       "      <td>15.360000</td>\n",
       "      <td>6.200000</td>\n",
       "      <td>10.940000</td>\n",
       "      <td>32.170000</td>\n",
       "      <td>32.040000</td>\n",
       "      <td>-0.460000</td>\n",
       "      <td>0.000000</td>\n",
       "      <td>0.0</td>\n",
       "    </tr>\n",
       "    <tr>\n",
       "      <th>75%</th>\n",
       "      <td>111.690000</td>\n",
       "      <td>20.730000</td>\n",
       "      <td>77.865000</td>\n",
       "      <td>234.010000</td>\n",
       "      <td>230.737500</td>\n",
       "      <td>0.000000</td>\n",
       "      <td>0.150000</td>\n",
       "      <td>0.0</td>\n",
       "    </tr>\n",
       "    <tr>\n",
       "      <th>max</th>\n",
       "      <td>650951.220000</td>\n",
       "      <td>756478.120000</td>\n",
       "      <td>69826.360000</td>\n",
       "      <td>907001.560000</td>\n",
       "      <td>907001.560000</td>\n",
       "      <td>84.910000</td>\n",
       "      <td>20461.930000</td>\n",
       "      <td>0.0</td>\n",
       "    </tr>\n",
       "  </tbody>\n",
       "</table>\n",
       "</div>"
      ],
      "text/plain": [
       "       Base Cost ($)  T&D Discretionary ($)  T&D Charges ($)  Current Due ($)  \\\n",
       "count   66775.000000           66776.000000     66775.000000     66776.000000   \n",
       "mean     1249.628836             367.439382       278.533215      1901.861997   \n",
       "std     13443.314342           11796.148872      1997.001709     21320.228167   \n",
       "min         0.000000           -7091.410000    -37666.730000    -44264.860000   \n",
       "25%         0.070000               3.120000         6.020000        11.820000   \n",
       "50%        15.360000               6.200000        10.940000        32.170000   \n",
       "75%       111.690000              20.730000        77.865000       234.010000   \n",
       "max    650951.220000          756478.120000     69826.360000    907001.560000   \n",
       "\n",
       "       Total Due ($)  Franchise Fee ($)  Nodal Cu Charge ($)  Adder Charge ($)  \n",
       "count   66776.000000       66776.000000         66771.000000           66762.0  \n",
       "mean     1902.580866         -33.921297             6.005230               0.0  \n",
       "std     21320.836910         237.409585           132.671939               0.0  \n",
       "min         0.000000       -7017.800000          -323.080000               0.0  \n",
       "25%        11.820000          -5.410000             0.000000               0.0  \n",
       "50%        32.040000          -0.460000             0.000000               0.0  \n",
       "75%       230.737500           0.000000             0.150000               0.0  \n",
       "max    907001.560000          84.910000         20461.930000               0.0  "
      ]
     },
     "execution_count": 11,
     "metadata": {},
     "output_type": "execute_result"
    }
   ],
   "source": [
    "data_2013[[\n",
    "    'Base Cost ($)', 'T&D Discretionary ($)', 'T&D Charges ($)', \n",
    "    'Current Due ($)', 'Total Due ($)', 'Franchise Fee ($)', \n",
    "    'Nodal Cu Charge ($)', 'Adder Charge ($)'\n",
    "     ]].describe()"
   ]
  },
  {
   "cell_type": "markdown",
   "id": "c58701e1-db68-45ae-ba9f-8496c1b96439",
   "metadata": {},
   "source": [
    "Adder Charge ($) does not contain any useful information. Electing to drop that column. Previously this column was Reliability Unit Charge.\n",
    "\n",
    "The columns other than Current Due or Total Due are adding up the value present in these two columns. Going forward choosing the column Total Due ($). \n",
    "Based on the above statistics the columns Current Due and Total Due represent the same value. "
   ]
  },
  {
   "cell_type": "markdown",
   "id": "61ebc8fb-a3d6-4677-8a87-26c1cb2658ce",
   "metadata": {},
   "source": [
    "Based on the above analysis of the dataset choosing the following columns:\n",
    "\n",
    "1. ESID\n",
    "2. Business Area\n",
    "3. Service Address \n",
    "3. Bill Type\n",
    "4. Bill Date\n",
    "5. Total Due ($)\n",
    "6. kWh Usage"
   ]
  },
  {
   "cell_type": "markdown",
   "id": "65ed18f0-329f-4841-8963-5743ff76de4e",
   "metadata": {},
   "source": [
    "### Selecting and Filtering Columns"
   ]
  },
  {
   "cell_type": "code",
   "execution_count": 12,
   "id": "d9b1935f-219b-4346-b5b9-d1279e6f2b80",
   "metadata": {},
   "outputs": [],
   "source": [
    "data_2013 = data_2013[[\n",
    "    'ESID', 'Business Area', 'Service Address ', 'Bill Type',\n",
    "    'Bill Date', 'Total Due ($)', 'kWh Usage'\n",
    "]]"
   ]
  },
  {
   "cell_type": "code",
   "execution_count": 13,
   "id": "a89852c7-7242-4a5c-9af6-4592811b4659",
   "metadata": {
    "tags": []
   },
   "outputs": [],
   "source": [
    "rename_cols = {\n",
    "    'ESID': 'esid',\n",
    "    'Business Area': 'business_area',\n",
    "    'Service Address ': 'service_address',\n",
    "    'Bill Type': 'bill_type',\n",
    "    'Bill Date': 'bill_date',\n",
    "    'Total Due ($)': 'total_due',\n",
    "    'kWh Usage': 'kwh_usage'\n",
    "}\n",
    "\n",
    "data_2013_main = data_2013.rename(columns=rename_cols)"
   ]
  },
  {
   "cell_type": "markdown",
   "id": "5e7fae7d-fdd7-44dc-9699-3074cb3072db",
   "metadata": {},
   "source": [
    "Checking for Nulls again and dtypes"
   ]
  },
  {
   "cell_type": "code",
   "execution_count": 14,
   "id": "fd50aba4-076a-41ab-85ed-c74e5f817002",
   "metadata": {},
   "outputs": [
    {
     "data": {
      "text/plain": [
       "esid               0\n",
       "business_area      0\n",
       "service_address    0\n",
       "bill_type          0\n",
       "bill_date          0\n",
       "total_due          0\n",
       "kwh_usage          1\n",
       "dtype: int64"
      ]
     },
     "execution_count": 14,
     "metadata": {},
     "output_type": "execute_result"
    }
   ],
   "source": [
    "data_2013_main.isna().sum()"
   ]
  },
  {
   "cell_type": "code",
   "execution_count": 15,
   "id": "930c73c0-fd76-4788-ae81-e3463dc38461",
   "metadata": {},
   "outputs": [],
   "source": [
    "data_2013_main.dropna(subset=['kwh_usage'], inplace=True)"
   ]
  },
  {
   "cell_type": "code",
   "execution_count": 16,
   "id": "c54bfcf0-67f3-495d-9553-724da011c53f",
   "metadata": {},
   "outputs": [
    {
     "data": {
      "text/plain": [
       "esid               0\n",
       "business_area      0\n",
       "service_address    0\n",
       "bill_type          0\n",
       "bill_date          0\n",
       "total_due          0\n",
       "kwh_usage          0\n",
       "dtype: int64"
      ]
     },
     "execution_count": 16,
     "metadata": {},
     "output_type": "execute_result"
    }
   ],
   "source": [
    "data_2013_main.isna().sum()"
   ]
  },
  {
   "cell_type": "code",
   "execution_count": 17,
   "id": "16d499aa-9b8f-465a-8247-325486411ffe",
   "metadata": {},
   "outputs": [
    {
     "data": {
      "text/plain": [
       "esid                       object\n",
       "business_area               int64\n",
       "service_address            object\n",
       "bill_type                  object\n",
       "bill_date          datetime64[ns]\n",
       "total_due                 float64\n",
       "kwh_usage                 float64\n",
       "dtype: object"
      ]
     },
     "execution_count": 17,
     "metadata": {},
     "output_type": "execute_result"
    }
   ],
   "source": [
    "data_2013_main.dtypes"
   ]
  },
  {
   "cell_type": "code",
   "execution_count": 18,
   "id": "8ac9c391-0ace-47eb-af0b-2039a9adf3c6",
   "metadata": {},
   "outputs": [
    {
     "data": {
      "text/plain": [
       "(66775, 7)"
      ]
     },
     "execution_count": 18,
     "metadata": {},
     "output_type": "execute_result"
    }
   ],
   "source": [
    "data_2013_main.shape"
   ]
  },
  {
   "cell_type": "code",
   "execution_count": 19,
   "id": "3ed9615f-ca9c-43db-a2a1-422f712649d2",
   "metadata": {},
   "outputs": [
    {
     "data": {
      "text/html": [
       "<div>\n",
       "<style scoped>\n",
       "    .dataframe tbody tr th:only-of-type {\n",
       "        vertical-align: middle;\n",
       "    }\n",
       "\n",
       "    .dataframe tbody tr th {\n",
       "        vertical-align: top;\n",
       "    }\n",
       "\n",
       "    .dataframe thead th {\n",
       "        text-align: right;\n",
       "    }\n",
       "</style>\n",
       "<table border=\"1\" class=\"dataframe\">\n",
       "  <thead>\n",
       "    <tr style=\"text-align: right;\">\n",
       "      <th></th>\n",
       "      <th>total_due</th>\n",
       "      <th>kwh_usage</th>\n",
       "    </tr>\n",
       "  </thead>\n",
       "  <tbody>\n",
       "    <tr>\n",
       "      <th>0</th>\n",
       "      <td>3.183862</td>\n",
       "      <td>4.234519</td>\n",
       "    </tr>\n",
       "    <tr>\n",
       "      <th>1</th>\n",
       "      <td>3.202239</td>\n",
       "      <td>4.252938</td>\n",
       "    </tr>\n",
       "    <tr>\n",
       "      <th>2</th>\n",
       "      <td>3.630570</td>\n",
       "      <td>4.833629</td>\n",
       "    </tr>\n",
       "    <tr>\n",
       "      <th>3</th>\n",
       "      <td>3.136636</td>\n",
       "      <td>4.102333</td>\n",
       "    </tr>\n",
       "    <tr>\n",
       "      <th>4</th>\n",
       "      <td>3.340984</td>\n",
       "      <td>4.410522</td>\n",
       "    </tr>\n",
       "    <tr>\n",
       "      <th>...</th>\n",
       "      <td>...</td>\n",
       "      <td>...</td>\n",
       "    </tr>\n",
       "    <tr>\n",
       "      <th>66771</th>\n",
       "      <td>-0.057672</td>\n",
       "      <td>-0.080314</td>\n",
       "    </tr>\n",
       "    <tr>\n",
       "      <th>66772</th>\n",
       "      <td>-0.057229</td>\n",
       "      <td>-0.080314</td>\n",
       "    </tr>\n",
       "    <tr>\n",
       "      <th>66773</th>\n",
       "      <td>-0.057217</td>\n",
       "      <td>-0.080314</td>\n",
       "    </tr>\n",
       "    <tr>\n",
       "      <th>66774</th>\n",
       "      <td>-0.057477</td>\n",
       "      <td>-0.080314</td>\n",
       "    </tr>\n",
       "    <tr>\n",
       "      <th>66775</th>\n",
       "      <td>-0.056839</td>\n",
       "      <td>-0.080314</td>\n",
       "    </tr>\n",
       "  </tbody>\n",
       "</table>\n",
       "<p>66775 rows × 2 columns</p>\n",
       "</div>"
      ],
      "text/plain": [
       "       total_due  kwh_usage\n",
       "0       3.183862   4.234519\n",
       "1       3.202239   4.252938\n",
       "2       3.630570   4.833629\n",
       "3       3.136636   4.102333\n",
       "4       3.340984   4.410522\n",
       "...          ...        ...\n",
       "66771  -0.057672  -0.080314\n",
       "66772  -0.057229  -0.080314\n",
       "66773  -0.057217  -0.080314\n",
       "66774  -0.057477  -0.080314\n",
       "66775  -0.056839  -0.080314\n",
       "\n",
       "[66775 rows x 2 columns]"
      ]
     },
     "execution_count": 19,
     "metadata": {},
     "output_type": "execute_result"
    }
   ],
   "source": [
    "zscore_2013 = stats.zscore(data_2013_main[['total_due', 'kwh_usage']])\n",
    "\n",
    "zscore_2013"
   ]
  },
  {
   "cell_type": "markdown",
   "id": "2b7e76e5-f91f-415a-9c69-13beed567e42",
   "metadata": {},
   "source": [
    "Each zscore value signifies how many standard deviations away an individual value is from the mean. This is a good indicator to finding outliers in the dataframe.\n",
    "\n",
    "Usually z-score=3 is considered as a cut-off value to set the limit. Therefore, any z-score greater than +3 or less than -3 is considered as outlier which is pretty much similar to standard deviation method"
   ]
  },
  {
   "cell_type": "code",
   "execution_count": 20,
   "id": "d39d255a-7bb3-47ae-8863-af4dddedbed8",
   "metadata": {},
   "outputs": [
    {
     "data": {
      "text/plain": [
       "(66775, 7)"
      ]
     },
     "execution_count": 20,
     "metadata": {},
     "output_type": "execute_result"
    }
   ],
   "source": [
    "# data_2013_main = data_2013_main[(np.abs(zscore_2013) < 3).all(axis=1)]\n",
    "\n",
    "data_2013_main.shape"
   ]
  },
  {
   "cell_type": "markdown",
   "id": "8621204a-3a29-4ca2-8f0c-e66329707672",
   "metadata": {},
   "source": [
    "The number of rows has decreased from 66,775 to 66,360. So 415 rows were outliers based on the data."
   ]
  },
  {
   "cell_type": "code",
   "execution_count": 21,
   "id": "f68e0a31-1e7f-489c-b750-2d2149c22bf1",
   "metadata": {},
   "outputs": [
    {
     "data": {
      "text/html": [
       "<div>\n",
       "<style scoped>\n",
       "    .dataframe tbody tr th:only-of-type {\n",
       "        vertical-align: middle;\n",
       "    }\n",
       "\n",
       "    .dataframe tbody tr th {\n",
       "        vertical-align: top;\n",
       "    }\n",
       "\n",
       "    .dataframe thead th {\n",
       "        text-align: right;\n",
       "    }\n",
       "</style>\n",
       "<table border=\"1\" class=\"dataframe\">\n",
       "  <thead>\n",
       "    <tr style=\"text-align: right;\">\n",
       "      <th></th>\n",
       "      <th>esid</th>\n",
       "      <th>business_area</th>\n",
       "      <th>service_address</th>\n",
       "      <th>bill_type</th>\n",
       "      <th>bill_date</th>\n",
       "      <th>total_due</th>\n",
       "      <th>kwh_usage</th>\n",
       "    </tr>\n",
       "  </thead>\n",
       "  <tbody>\n",
       "    <tr>\n",
       "      <th>0</th>\n",
       "      <td>1008901000140050014100</td>\n",
       "      <td>2000</td>\n",
       "      <td>10518 BELLAIRE</td>\n",
       "      <td>T</td>\n",
       "      <td>2013-06-27</td>\n",
       "      <td>69785.20</td>\n",
       "      <td>876113.0</td>\n",
       "    </tr>\n",
       "    <tr>\n",
       "      <th>1</th>\n",
       "      <td>1008901000140050014100</td>\n",
       "      <td>2000</td>\n",
       "      <td>10518 BELLAIRE</td>\n",
       "      <td>T</td>\n",
       "      <td>2013-05-29</td>\n",
       "      <td>70177.01</td>\n",
       "      <td>879842.0</td>\n",
       "    </tr>\n",
       "    <tr>\n",
       "      <th>2</th>\n",
       "      <td>1008901000140050014100</td>\n",
       "      <td>2000</td>\n",
       "      <td>10518 BELLAIRE</td>\n",
       "      <td>T</td>\n",
       "      <td>2013-04-29</td>\n",
       "      <td>79309.40</td>\n",
       "      <td>997407.0</td>\n",
       "    </tr>\n",
       "    <tr>\n",
       "      <th>3</th>\n",
       "      <td>1008901000140050014100</td>\n",
       "      <td>2000</td>\n",
       "      <td>10518 BELLAIRE</td>\n",
       "      <td>T</td>\n",
       "      <td>2013-03-28</td>\n",
       "      <td>68778.30</td>\n",
       "      <td>849351.0</td>\n",
       "    </tr>\n",
       "    <tr>\n",
       "      <th>4</th>\n",
       "      <td>1008901000140050014100</td>\n",
       "      <td>2000</td>\n",
       "      <td>10518 BELLAIRE</td>\n",
       "      <td>T</td>\n",
       "      <td>2013-02-26</td>\n",
       "      <td>73135.18</td>\n",
       "      <td>911746.0</td>\n",
       "    </tr>\n",
       "  </tbody>\n",
       "</table>\n",
       "</div>"
      ],
      "text/plain": [
       "                     esid  business_area service_address bill_type  bill_date  \\\n",
       "0  1008901000140050014100           2000  10518 BELLAIRE         T 2013-06-27   \n",
       "1  1008901000140050014100           2000  10518 BELLAIRE         T 2013-05-29   \n",
       "2  1008901000140050014100           2000  10518 BELLAIRE         T 2013-04-29   \n",
       "3  1008901000140050014100           2000  10518 BELLAIRE         T 2013-03-28   \n",
       "4  1008901000140050014100           2000  10518 BELLAIRE         T 2013-02-26   \n",
       "\n",
       "   total_due  kwh_usage  \n",
       "0   69785.20   876113.0  \n",
       "1   70177.01   879842.0  \n",
       "2   79309.40   997407.0  \n",
       "3   68778.30   849351.0  \n",
       "4   73135.18   911746.0  "
      ]
     },
     "execution_count": 21,
     "metadata": {},
     "output_type": "execute_result"
    }
   ],
   "source": [
    "data_2013_main.head(5)"
   ]
  },
  {
   "cell_type": "code",
   "execution_count": 22,
   "id": "a8519f2e-22ec-4eb8-9dd9-2f7035a68db0",
   "metadata": {},
   "outputs": [
    {
     "data": {
      "text/plain": [
       "1"
      ]
     },
     "execution_count": 22,
     "metadata": {},
     "output_type": "execute_result"
    }
   ],
   "source": [
    "orig_shape_2013 - data_2013_main.shape[0]"
   ]
  },
  {
   "cell_type": "code",
   "execution_count": 23,
   "id": "eb1f1a94-8b34-411a-ba81-d2ae30f59d24",
   "metadata": {},
   "outputs": [],
   "source": [
    "data_2013_main.to_csv('electricity_usage_data_2013.csv', index=False)"
   ]
  }
 ],
 "metadata": {
  "kernelspec": {
   "display_name": "Python 3 (ipykernel)",
   "language": "python",
   "name": "python3"
  },
  "language_info": {
   "codemirror_mode": {
    "name": "ipython",
    "version": 3
   },
   "file_extension": ".py",
   "mimetype": "text/x-python",
   "name": "python",
   "nbconvert_exporter": "python",
   "pygments_lexer": "ipython3",
   "version": "3.10.9"
  }
 },
 "nbformat": 4,
 "nbformat_minor": 5
}

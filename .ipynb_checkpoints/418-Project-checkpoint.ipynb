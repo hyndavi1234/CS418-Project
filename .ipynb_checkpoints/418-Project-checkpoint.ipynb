{
 "cells": [
  {
   "cell_type": "markdown",
   "id": "9579c8ca-72e4-49a8-a0ce-6209f4d9ad08",
   "metadata": {},
   "source": [
    "## Any Changes\n",
    "Our goal was to \"analyse and forecast the energy usage in an urban city\". Since the previous milestone there has not been a change in the goal.\n",
    "\n",
    "## Data\n",
    "The source of the data is the following link: [LINK](https://data.world/houston/houston-electricity-bills)\n",
    "\n",
    "There are 4 files, they are:\n",
    "1. July 2011 to June 2012 excel file - 57,430 rows and 24 columns\n",
    "2. May 2012 to April 2013 excel file - 65,806 rows and 24 columns\n",
    "3. July 2012 to June 2013 excel file - 66,776 rows and 24 columns\n",
    "4. July 2013 to June 2014 excel file - 67,838 rows and 24 columns\n",
    "\n",
    "The data tables contain information regarding the building address, location, service number, billing dates, total amount due. \n",
    "\n",
    "The plan is to go through and clean the data tables individually and make them consistent. Once that is done the next step is to merge the cleaned data tables. After merging the tables one important check is to search for duplicates since there is an overlap of dates it is highly likely that there will be duplicates.\n",
    "\n",
    "Description of each column \n",
    "1. Reliant Contract No: A unique identifier for each contract. \n",
    "2. Service Address: Address for the service location\n",
    "3. Meter No: Meter number for the service location.\n",
    "4. ESID: Electric Service Identifier for the service location.\n",
    "5. Business Area: Business area code for the service location.\n",
    "6. Cost Center: Cost center code for the service location.\n",
    "7. Fund: Fund code for the service location.\n",
    "8. Bill Type: Type of bill (e.g. \"T\" for \"Total\", \"P\" for \"Partial\", etc.). \n",
    "9. Bill Date: Date the bill was generated. \n",
    "10. Read Date: Date the meter was read. \n",
    "11. Due Date: Due date for the bill. \n",
    "12. Meter Read: Meter reading for the service location. \n",
    "13. Base Cost: TBase cost for the service. \n",
    "14. T&D Discretionary: Transmission and Distribution Discretionary charge for the service. \n",
    "15. T&D Charges: Transmission and Distribution charge for the service. \n",
    "16. Current Due: Current due amount for the service.\n",
    "17. Index Charge: Index charge for the service. \n",
    "18. Total Due: Total due amount for the service. \n",
    "19. Franchise Fee: Franchise fee for the service. \n",
    "20. Voucher Date: Date the voucher was issued for the service. \n",
    "21. Billed Demand: Billed demand for the service in KVA. \n",
    "22. kWh Usage: Kilowatt-hour usage for the service. \n",
    "23. Nodal Cu Charge:  Nodal Cu Charge for the service. \n",
    "24. Adder Charge:  Adder Charge for the service.\n",
    "\n",
    "Statistical Data Type of Each Column \n",
    "1. Reliant Contract No: integer (ratio)\n",
    "2. Service Address: string (nominal)\n",
    "3. Meter No: integer (nominal)\n",
    "4. ESID: integer (nominal)\n",
    "5. Business Area: integer (ratio))\n",
    "6. Cost Center: integer (ratio)\n",
    "7. Fund: integer (ratio)\n",
    "8. Bill Type: string (nominal)\n",
    "9. Bill Date: date (nominal)\n",
    "10. Read Date: date (nominal)\n",
    "11. Due Date: date (nominal)\n",
    "12. Meter Read: integer (ratio)\n",
    "13. Base Cost: float (nominal)\n",
    "14. T&D Discretionary: float (nominal)\n",
    "15. T&D Charges: float (nominal)\n",
    "16. Current Due: float (nominal)\n",
    "17. Index Charge: float (nominal)\n",
    "18. Total Due: float (nominal)\n",
    "19. Franchise Fee: float (nominal)\n",
    "20. Voucher Date: date (nominal)\n",
    "21. Billed Demand (KVA): integer (nominal)\n",
    "22. kWh Usage: integer (nominal)\n",
    "23. Nodal Cu Charge: float (nominal)\n",
    "24. Adder Charge: float (nominal)\n",
    "\n",
    "## Problem\n",
    "The key issue in generating electricity is to determine how much capacity to generate in order to meet future demand. \n",
    "\n",
    "Electricity usage forecasting involves predicting the demand for electricity over a specific eriod. This process has several uses, including energy procurement, where it helps suppliers purchase the right amount of energy to ensure a steady supply.\n",
    "\n",
    "The advancement of smart infrastructure and integration of distributed renewable power has raised future supply, demand, and pricing uncertainties. This unpredictability has increased interest in price prediction and energy analysis.\n",
    "\n",
    "## Research Questions\n",
    "1. Previous electricity usage data can be used for predicting the usage for future (Time-Series) - Hyndavi \n",
    "2. Group areas based on their energy consumption (Clustering) - Sunil\n",
    "3. Electricity usage can be predicted by using correlated features (Regression) - Sourabh\n",
    "4. Classification of bill type can be done using features in the data (Classification) - Sharmisha"
   ]
  },
  {
   "cell_type": "markdown",
   "id": "11e1643d-0e31-4461-a4fb-ae5ce739cbd3",
   "metadata": {},
   "source": [
    "## Import Statements"
   ]
  },
  {
   "cell_type": "code",
   "execution_count": 1,
   "id": "72f2f7f1-a63a-4819-a76f-098d75393918",
   "metadata": {},
   "outputs": [],
   "source": [
    "import pandas as pd\n",
    "import numpy as np\n",
    "import matplotlib.pyplot as plt\n",
    "import matplotlib.dates as mdates\n",
    "import seaborn as sns\n",
    "from scipy import stats\n",
    "\n",
    "from sklearn.linear_model import LinearRegression, LogisticRegression\n",
    "from sklearn.ensemble import GradientBoostingRegressor\n",
    "\n",
    "from sklearn.tree import DecisionTreeClassifier, DecisionTreeRegressor\n",
    "from sklearn.ensemble import RandomForestClassifier\n",
    "\n",
    "from sklearn.preprocessing import LabelEncoder\n",
    "from sklearn.model_selection import train_test_split\n",
    "from sklearn.metrics import r2_score, mean_squared_error, accuracy_score, f1_score\n",
    "\n",
    "pd.options.display.max_columns=25"
   ]
  },
  {
   "cell_type": "markdown",
   "id": "c9b41a0c-32da-4c84-aac9-27ade94ba727",
   "metadata": {
    "tags": []
   },
   "source": [
    "## Data FY 2012 - Hyndavi"
   ]
  },
  {
   "cell_type": "code",
   "execution_count": 2,
   "id": "2e545b88-2731-480b-9bd0-dd5b56718c78",
   "metadata": {},
   "outputs": [
    {
     "data": {
      "text/plain": [
       "(57430, 24)"
      ]
     },
     "execution_count": 2,
     "metadata": {},
     "output_type": "execute_result"
    }
   ],
   "source": [
    "data_2012 = pd.read_excel('houston-houston-electricity-bills/coh-fy2012-ee-bills-july2011-june2012.xls')\n",
    "orig_shape_2012 = data_2012.shape[0]\n",
    "\n",
    "data_2012.shape"
   ]
  },
  {
   "cell_type": "code",
   "execution_count": 3,
   "id": "1e45fa9f-73fa-48a6-a32a-074286fd1d03",
   "metadata": {},
   "outputs": [
    {
     "data": {
      "text/html": [
       "<div>\n",
       "<style scoped>\n",
       "    .dataframe tbody tr th:only-of-type {\n",
       "        vertical-align: middle;\n",
       "    }\n",
       "\n",
       "    .dataframe tbody tr th {\n",
       "        vertical-align: top;\n",
       "    }\n",
       "\n",
       "    .dataframe thead th {\n",
       "        text-align: right;\n",
       "    }\n",
       "</style>\n",
       "<table border=\"1\" class=\"dataframe\">\n",
       "  <thead>\n",
       "    <tr style=\"text-align: right;\">\n",
       "      <th></th>\n",
       "      <th>Reliant Contract No</th>\n",
       "      <th>Service Address</th>\n",
       "      <th>Meter No</th>\n",
       "      <th>ESID</th>\n",
       "      <th>Business Area</th>\n",
       "      <th>Cost Center</th>\n",
       "      <th>Fund</th>\n",
       "      <th>Bill Type</th>\n",
       "      <th>Bill Date</th>\n",
       "      <th>Read Date</th>\n",
       "      <th>Due Date</th>\n",
       "      <th>Meter Read</th>\n",
       "      <th>Base Cost ($)</th>\n",
       "      <th>T&amp;D Discretionary ($)</th>\n",
       "      <th>T&amp;D Charges ($)</th>\n",
       "      <th>Current Due ($)</th>\n",
       "      <th>Adjustment ($)</th>\n",
       "      <th>Total Due ($)</th>\n",
       "      <th>Franchise Fee ($)</th>\n",
       "      <th>Voucher Date</th>\n",
       "      <th>Billed Demand</th>\n",
       "      <th>kWh Usage</th>\n",
       "      <th>Nodal Cu Charge ($)</th>\n",
       "      <th>Reliability Unit Charge ($)</th>\n",
       "    </tr>\n",
       "  </thead>\n",
       "  <tbody>\n",
       "    <tr>\n",
       "      <th>0</th>\n",
       "      <td>2059605</td>\n",
       "      <td>10518 BELLAIRE</td>\n",
       "      <td>303261</td>\n",
       "      <td>1008901000140050014100</td>\n",
       "      <td>2000</td>\n",
       "      <td>2000040005</td>\n",
       "      <td>8300</td>\n",
       "      <td>T</td>\n",
       "      <td>2012-06-26</td>\n",
       "      <td>2012-06-21</td>\n",
       "      <td>2012-07-26</td>\n",
       "      <td>47940.0</td>\n",
       "      <td>61070.65</td>\n",
       "      <td>1638.01</td>\n",
       "      <td>10440.86</td>\n",
       "      <td>73232.11</td>\n",
       "      <td>NaN</td>\n",
       "      <td>73232.11</td>\n",
       "      <td>-1047.28</td>\n",
       "      <td>2012-06-27</td>\n",
       "      <td>1507.291667</td>\n",
       "      <td>905421</td>\n",
       "      <td>82.59</td>\n",
       "      <td>0.0</td>\n",
       "    </tr>\n",
       "    <tr>\n",
       "      <th>1</th>\n",
       "      <td>2059605</td>\n",
       "      <td>10518 BELLAIRE</td>\n",
       "      <td>303261</td>\n",
       "      <td>1008901000140050014100</td>\n",
       "      <td>2000</td>\n",
       "      <td>2000040005</td>\n",
       "      <td>8300</td>\n",
       "      <td>T</td>\n",
       "      <td>2012-05-25</td>\n",
       "      <td>2012-05-21</td>\n",
       "      <td>2012-06-24</td>\n",
       "      <td>47186.0</td>\n",
       "      <td>56319.47</td>\n",
       "      <td>1631.00</td>\n",
       "      <td>10364.63</td>\n",
       "      <td>68463.46</td>\n",
       "      <td>NaN</td>\n",
       "      <td>68463.46</td>\n",
       "      <td>-1045.21</td>\n",
       "      <td>2012-05-30</td>\n",
       "      <td>1496.907217</td>\n",
       "      <td>824107</td>\n",
       "      <td>148.36</td>\n",
       "      <td>0.0</td>\n",
       "    </tr>\n",
       "    <tr>\n",
       "      <th>2</th>\n",
       "      <td>2059605</td>\n",
       "      <td>10518 BELLAIRE</td>\n",
       "      <td>303261</td>\n",
       "      <td>1008901000140050014100</td>\n",
       "      <td>2000</td>\n",
       "      <td>2000040005</td>\n",
       "      <td>8300</td>\n",
       "      <td>T</td>\n",
       "      <td>2012-04-27</td>\n",
       "      <td>2012-04-23</td>\n",
       "      <td>2012-05-27</td>\n",
       "      <td>46499.0</td>\n",
       "      <td>68461.63</td>\n",
       "      <td>1674.67</td>\n",
       "      <td>10676.79</td>\n",
       "      <td>80847.87</td>\n",
       "      <td>NaN</td>\n",
       "      <td>80847.87</td>\n",
       "      <td>-1081.11</td>\n",
       "      <td>2012-04-30</td>\n",
       "      <td>1562.500000</td>\n",
       "      <td>977744</td>\n",
       "      <td>34.78</td>\n",
       "      <td>0.0</td>\n",
       "    </tr>\n",
       "    <tr>\n",
       "      <th>3</th>\n",
       "      <td>2059605</td>\n",
       "      <td>10518 BELLAIRE</td>\n",
       "      <td>303261</td>\n",
       "      <td>1008901000140050014100</td>\n",
       "      <td>2000</td>\n",
       "      <td>2000040005</td>\n",
       "      <td>8300</td>\n",
       "      <td>T</td>\n",
       "      <td>2012-03-27</td>\n",
       "      <td>2012-03-21</td>\n",
       "      <td>2012-04-26</td>\n",
       "      <td>45684.0</td>\n",
       "      <td>62036.29</td>\n",
       "      <td>1696.66</td>\n",
       "      <td>10681.48</td>\n",
       "      <td>74373.93</td>\n",
       "      <td>NaN</td>\n",
       "      <td>74373.93</td>\n",
       "      <td>-1087.32</td>\n",
       "      <td>2012-03-28</td>\n",
       "      <td>1567.708333</td>\n",
       "      <td>876838</td>\n",
       "      <td>-40.50</td>\n",
       "      <td>0.0</td>\n",
       "    </tr>\n",
       "    <tr>\n",
       "      <th>4</th>\n",
       "      <td>2059605</td>\n",
       "      <td>10518 BELLAIRE</td>\n",
       "      <td>303261</td>\n",
       "      <td>1008901000140050014100</td>\n",
       "      <td>2000</td>\n",
       "      <td>2000040005</td>\n",
       "      <td>8300</td>\n",
       "      <td>T</td>\n",
       "      <td>2012-02-27</td>\n",
       "      <td>2012-02-21</td>\n",
       "      <td>2012-03-28</td>\n",
       "      <td>44954.0</td>\n",
       "      <td>61670.24</td>\n",
       "      <td>1703.80</td>\n",
       "      <td>10707.94</td>\n",
       "      <td>74080.27</td>\n",
       "      <td>NaN</td>\n",
       "      <td>74080.27</td>\n",
       "      <td>-1090.08</td>\n",
       "      <td>2012-02-28</td>\n",
       "      <td>1577.083333</td>\n",
       "      <td>872898</td>\n",
       "      <td>-1.71</td>\n",
       "      <td>0.0</td>\n",
       "    </tr>\n",
       "  </tbody>\n",
       "</table>\n",
       "</div>"
      ],
      "text/plain": [
       "   Reliant Contract No Service Address  Meter No                    ESID  \\\n",
       "0              2059605   10518 BELLAIRE   303261  1008901000140050014100   \n",
       "1              2059605   10518 BELLAIRE   303261  1008901000140050014100   \n",
       "2              2059605   10518 BELLAIRE   303261  1008901000140050014100   \n",
       "3              2059605   10518 BELLAIRE   303261  1008901000140050014100   \n",
       "4              2059605   10518 BELLAIRE   303261  1008901000140050014100   \n",
       "\n",
       "   Business Area  Cost Center  Fund Bill Type  Bill Date  Read Date  \\\n",
       "0           2000   2000040005  8300         T 2012-06-26 2012-06-21   \n",
       "1           2000   2000040005  8300         T 2012-05-25 2012-05-21   \n",
       "2           2000   2000040005  8300         T 2012-04-27 2012-04-23   \n",
       "3           2000   2000040005  8300         T 2012-03-27 2012-03-21   \n",
       "4           2000   2000040005  8300         T 2012-02-27 2012-02-21   \n",
       "\n",
       "    Due Date  Meter Read  Base Cost ($)  T&D Discretionary ($)  \\\n",
       "0 2012-07-26     47940.0       61070.65                1638.01   \n",
       "1 2012-06-24     47186.0       56319.47                1631.00   \n",
       "2 2012-05-27     46499.0       68461.63                1674.67   \n",
       "3 2012-04-26     45684.0       62036.29                1696.66   \n",
       "4 2012-03-28     44954.0       61670.24                1703.80   \n",
       "\n",
       "   T&D Charges ($)  Current Due ($)  Adjustment ($)  Total Due ($)  \\\n",
       "0         10440.86         73232.11             NaN       73232.11   \n",
       "1         10364.63         68463.46             NaN       68463.46   \n",
       "2         10676.79         80847.87             NaN       80847.87   \n",
       "3         10681.48         74373.93             NaN       74373.93   \n",
       "4         10707.94         74080.27             NaN       74080.27   \n",
       "\n",
       "   Franchise Fee ($) Voucher Date  Billed Demand   kWh Usage  \\\n",
       "0           -1047.28   2012-06-27     1507.291667     905421   \n",
       "1           -1045.21   2012-05-30     1496.907217     824107   \n",
       "2           -1081.11   2012-04-30     1562.500000     977744   \n",
       "3           -1087.32   2012-03-28     1567.708333     876838   \n",
       "4           -1090.08   2012-02-28     1577.083333     872898   \n",
       "\n",
       "   Nodal Cu Charge ($)  Reliability Unit Charge ($)  \n",
       "0                82.59                          0.0  \n",
       "1               148.36                          0.0  \n",
       "2                34.78                          0.0  \n",
       "3               -40.50                          0.0  \n",
       "4                -1.71                          0.0  "
      ]
     },
     "execution_count": 3,
     "metadata": {},
     "output_type": "execute_result"
    }
   ],
   "source": [
    "data_2012.head(5)"
   ]
  },
  {
   "cell_type": "markdown",
   "id": "c8c821b3-65e2-41a2-8372-231f2caba847",
   "metadata": {},
   "source": [
    "### Checking Nulls"
   ]
  },
  {
   "cell_type": "code",
   "execution_count": 4,
   "id": "a713f2a7-172d-49a5-a2f2-bfa5b89b165b",
   "metadata": {},
   "outputs": [
    {
     "data": {
      "text/plain": [
       "Reliant Contract No                0\n",
       "Service Address                    0\n",
       "Meter No                        7809\n",
       "ESID                               0\n",
       "Business Area                      0\n",
       "Cost Center                        0\n",
       "Fund                               0\n",
       "Bill Type                          0\n",
       "Bill Date                          0\n",
       "Read Date                          0\n",
       "Due Date                           0\n",
       "Meter Read                         2\n",
       "Base Cost ($)                      0\n",
       "T&D Discretionary ($)              0\n",
       "T&D Charges ($)                    0\n",
       "Current Due ($)                    0\n",
       "Adjustment ($)                 56259\n",
       "Total Due ($)                      0\n",
       "Franchise Fee ($)                  0\n",
       "Voucher Date                       0\n",
       "Billed Demand                      3\n",
       "kWh Usage                          0\n",
       "Nodal Cu Charge ($)                1\n",
       "Reliability Unit Charge ($)        4\n",
       "dtype: int64"
      ]
     },
     "execution_count": 4,
     "metadata": {},
     "output_type": "execute_result"
    }
   ],
   "source": [
    "data_2012.isna().sum()"
   ]
  },
  {
   "cell_type": "markdown",
   "id": "edb2fa27-43f4-4cea-b076-a6ba28eaf6b3",
   "metadata": {},
   "source": [
    "### Checking Adjustment ($) column"
   ]
  },
  {
   "cell_type": "code",
   "execution_count": 5,
   "id": "3be177f4-a0cf-490d-b9e6-fad904cbd86e",
   "metadata": {},
   "outputs": [
    {
     "data": {
      "text/plain": [
       "NaN       56259\n",
       "0.0        1170\n",
       "9425.9        1\n",
       "Name: Adjustment ($), dtype: int64"
      ]
     },
     "execution_count": 5,
     "metadata": {},
     "output_type": "execute_result"
    }
   ],
   "source": [
    "data_2012['Adjustment ($)'].value_counts(dropna=False)"
   ]
  },
  {
   "cell_type": "markdown",
   "id": "add60169-e91f-43f0-8e1c-92dd2bd6753e",
   "metadata": {},
   "source": [
    "The column does not have any relevant information based on the above reported values. Electing to drop the column."
   ]
  },
  {
   "cell_type": "code",
   "execution_count": 6,
   "id": "15d16a51-7fc7-4080-accb-c918d99692ab",
   "metadata": {},
   "outputs": [],
   "source": [
    "data_2012.drop(columns=['Adjustment ($)'], inplace=True)"
   ]
  },
  {
   "cell_type": "markdown",
   "id": "b8f6e1f7-c504-48b7-be64-36607153f965",
   "metadata": {},
   "source": [
    "### Checking Unique Number of Customers"
   ]
  },
  {
   "cell_type": "markdown",
   "id": "b95564e3-7637-425b-98db-1b6d5d216670",
   "metadata": {},
   "source": [
    "There are quite a few columns in the dataset that signify relating to a unique person/house/business. Checking the unique counts of such columns."
   ]
  },
  {
   "cell_type": "code",
   "execution_count": 7,
   "id": "95d87e91-7f44-4b15-9cd6-dacb2cafd692",
   "metadata": {},
   "outputs": [
    {
     "name": "stdout",
     "output_type": "stream",
     "text": [
      "Number of Unique Values in Reliant Contract No: 5241\n",
      "Number of Unique Values in Service Address : 5183\n",
      "Number of Unique Values in Meter No: 4021\n",
      "Number of Unique Values in ESID: 5241\n",
      "Number of Unique Values in Business Area: 9\n",
      "Number of Unique Values in Cost Center: 38\n"
     ]
    }
   ],
   "source": [
    "check_unique_columns = ['Reliant Contract No', 'Service Address ', 'Meter No', \n",
    "                        'ESID', 'Business Area', 'Cost Center',]\n",
    "\n",
    "for col in check_unique_columns:\n",
    "    print(f'Number of Unique Values in {col}: {data_2012[col].nunique()}')"
   ]
  },
  {
   "cell_type": "markdown",
   "id": "5ba37035-5f64-4a8c-a6d1-1e45c4fac4cf",
   "metadata": {},
   "source": [
    "Based on the above reported values and further research online:\n",
    "\n",
    "ESID signifies a unique ID provided to each customer subscribed to the electricity board. It would be best to choose ESID and Service Address columns going forward as these would provide number of unique customers and the areas (streets) where higher usage of electricity occurs.\n",
    "\n",
    "Business Area signifies a grouping a number of buildings which covers a certain area. This would be useful usage patterns grouped by certain zones in the city."
   ]
  },
  {
   "cell_type": "markdown",
   "id": "62455df4-f792-48c0-b970-3a181ef78e15",
   "metadata": {},
   "source": [
    "### Checking Bill Type"
   ]
  },
  {
   "cell_type": "code",
   "execution_count": 8,
   "id": "aa2dbd90-7359-40e9-835f-fb5ae33ee8cb",
   "metadata": {},
   "outputs": [
    {
     "data": {
      "text/plain": [
       "T    56859\n",
       "P      552\n",
       "C       19\n",
       "Name: Bill Type, dtype: int64"
      ]
     },
     "execution_count": 8,
     "metadata": {},
     "output_type": "execute_result"
    }
   ],
   "source": [
    "data_2012['Bill Type'].value_counts(dropna=False)"
   ]
  },
  {
   "cell_type": "markdown",
   "id": "a96f837c-124d-49a6-96f6-86257b536963",
   "metadata": {},
   "source": [
    "Bill Type could signify the type of the connection given. Since commercial, residential and government spaces would have different type of pricing and needs this column could be capturing that information."
   ]
  },
  {
   "cell_type": "code",
   "execution_count": 9,
   "id": "f63da27f-65a7-4e21-8164-687259e68b24",
   "metadata": {},
   "outputs": [
    {
     "data": {
      "text/plain": [
       "(5183, 4021, 5241)"
      ]
     },
     "execution_count": 9,
     "metadata": {},
     "output_type": "execute_result"
    }
   ],
   "source": [
    "data_2012['Service Address '].nunique(), data_2012['Meter No'].nunique(), data_2012['ESID'].nunique()"
   ]
  },
  {
   "cell_type": "markdown",
   "id": "cd94cbc8-bdb0-492b-b315-ccd06574e11f",
   "metadata": {},
   "source": [
    "The next 3 columns are: Bill Date, Read Date and Due Date. Of these it would be best to choose the Bill date across all the data files to keep the data consistent. "
   ]
  },
  {
   "cell_type": "markdown",
   "id": "28e57e17-e234-4049-a277-dc6464fc53f2",
   "metadata": {},
   "source": [
    "### Electricity Usage Statistics"
   ]
  },
  {
   "cell_type": "code",
   "execution_count": 10,
   "id": "2a7c0666-f6ec-40c3-8abc-d9492a97dcce",
   "metadata": {},
   "outputs": [
    {
     "data": {
      "text/html": [
       "<div>\n",
       "<style scoped>\n",
       "    .dataframe tbody tr th:only-of-type {\n",
       "        vertical-align: middle;\n",
       "    }\n",
       "\n",
       "    .dataframe tbody tr th {\n",
       "        vertical-align: top;\n",
       "    }\n",
       "\n",
       "    .dataframe thead th {\n",
       "        text-align: right;\n",
       "    }\n",
       "</style>\n",
       "<table border=\"1\" class=\"dataframe\">\n",
       "  <thead>\n",
       "    <tr style=\"text-align: right;\">\n",
       "      <th></th>\n",
       "      <th>Meter Read</th>\n",
       "      <th>Billed Demand</th>\n",
       "      <th>kWh Usage</th>\n",
       "    </tr>\n",
       "  </thead>\n",
       "  <tbody>\n",
       "    <tr>\n",
       "      <th>count</th>\n",
       "      <td>57428.000000</td>\n",
       "      <td>57427.000000</td>\n",
       "      <td>5.743000e+04</td>\n",
       "    </tr>\n",
       "    <tr>\n",
       "      <th>mean</th>\n",
       "      <td>10008.024135</td>\n",
       "      <td>52.581303</td>\n",
       "      <td>2.249732e+04</td>\n",
       "    </tr>\n",
       "    <tr>\n",
       "      <th>std</th>\n",
       "      <td>19208.052944</td>\n",
       "      <td>432.027165</td>\n",
       "      <td>2.216349e+05</td>\n",
       "    </tr>\n",
       "    <tr>\n",
       "      <th>min</th>\n",
       "      <td>0.000000</td>\n",
       "      <td>0.000000</td>\n",
       "      <td>0.000000e+00</td>\n",
       "    </tr>\n",
       "    <tr>\n",
       "      <th>25%</th>\n",
       "      <td>118.750000</td>\n",
       "      <td>0.000000</td>\n",
       "      <td>1.000000e+02</td>\n",
       "    </tr>\n",
       "    <tr>\n",
       "      <th>50%</th>\n",
       "      <td>2583.000000</td>\n",
       "      <td>0.000000</td>\n",
       "      <td>2.980000e+02</td>\n",
       "    </tr>\n",
       "    <tr>\n",
       "      <th>75%</th>\n",
       "      <td>7879.000000</td>\n",
       "      <td>11.000000</td>\n",
       "      <td>2.240000e+03</td>\n",
       "    </tr>\n",
       "    <tr>\n",
       "      <th>max</th>\n",
       "      <td>342348.000000</td>\n",
       "      <td>18495.555556</td>\n",
       "      <td>1.069344e+07</td>\n",
       "    </tr>\n",
       "  </tbody>\n",
       "</table>\n",
       "</div>"
      ],
      "text/plain": [
       "          Meter Read  Billed Demand      kWh Usage\n",
       "count   57428.000000    57427.000000  5.743000e+04\n",
       "mean    10008.024135       52.581303  2.249732e+04\n",
       "std     19208.052944      432.027165  2.216349e+05\n",
       "min         0.000000        0.000000  0.000000e+00\n",
       "25%       118.750000        0.000000  1.000000e+02\n",
       "50%      2583.000000        0.000000  2.980000e+02\n",
       "75%      7879.000000       11.000000  2.240000e+03\n",
       "max    342348.000000    18495.555556  1.069344e+07"
      ]
     },
     "execution_count": 10,
     "metadata": {},
     "output_type": "execute_result"
    }
   ],
   "source": [
    "data_2012[['Meter Read', 'Billed Demand ', 'kWh Usage']].describe()"
   ]
  },
  {
   "cell_type": "markdown",
   "id": "3b1129c6-00b7-44d0-b788-fb2ed9a9f9e6",
   "metadata": {},
   "source": [
    "There are 3 columns that denote the amount of electricity: Meter Read, Billed Demand, kWh Usage.\n",
    "\n",
    "Using kWh Usage as a standard unit of measurement."
   ]
  },
  {
   "cell_type": "code",
   "execution_count": 11,
   "id": "0388e8cd-9f89-4ce1-a609-2724f7c44a90",
   "metadata": {},
   "outputs": [
    {
     "data": {
      "text/html": [
       "<div>\n",
       "<style scoped>\n",
       "    .dataframe tbody tr th:only-of-type {\n",
       "        vertical-align: middle;\n",
       "    }\n",
       "\n",
       "    .dataframe tbody tr th {\n",
       "        vertical-align: top;\n",
       "    }\n",
       "\n",
       "    .dataframe thead th {\n",
       "        text-align: right;\n",
       "    }\n",
       "</style>\n",
       "<table border=\"1\" class=\"dataframe\">\n",
       "  <thead>\n",
       "    <tr style=\"text-align: right;\">\n",
       "      <th></th>\n",
       "      <th>Base Cost ($)</th>\n",
       "      <th>T&amp;D Discretionary ($)</th>\n",
       "      <th>T&amp;D Charges ($)</th>\n",
       "      <th>Current Due ($)</th>\n",
       "      <th>Total Due ($)</th>\n",
       "      <th>Franchise Fee ($)</th>\n",
       "      <th>Nodal Cu Charge ($)</th>\n",
       "      <th>Reliability Unit Charge ($)</th>\n",
       "    </tr>\n",
       "  </thead>\n",
       "  <tbody>\n",
       "    <tr>\n",
       "      <th>count</th>\n",
       "      <td>57430.000000</td>\n",
       "      <td>57430.000000</td>\n",
       "      <td>57430.000000</td>\n",
       "      <td>57430.000000</td>\n",
       "      <td>57430.000000</td>\n",
       "      <td>57430.000000</td>\n",
       "      <td>57429.000000</td>\n",
       "      <td>57426.0</td>\n",
       "    </tr>\n",
       "    <tr>\n",
       "      <th>mean</th>\n",
       "      <td>1557.590034</td>\n",
       "      <td>404.377159</td>\n",
       "      <td>322.324780</td>\n",
       "      <td>2292.520167</td>\n",
       "      <td>2326.005266</td>\n",
       "      <td>-36.249975</td>\n",
       "      <td>8.067123</td>\n",
       "      <td>0.0</td>\n",
       "    </tr>\n",
       "    <tr>\n",
       "      <th>std</th>\n",
       "      <td>15332.140262</td>\n",
       "      <td>12617.605024</td>\n",
       "      <td>2103.325682</td>\n",
       "      <td>23457.157709</td>\n",
       "      <td>23484.415824</td>\n",
       "      <td>255.356787</td>\n",
       "      <td>136.268511</td>\n",
       "      <td>0.0</td>\n",
       "    </tr>\n",
       "    <tr>\n",
       "      <th>min</th>\n",
       "      <td>0.000000</td>\n",
       "      <td>-44.990000</td>\n",
       "      <td>-680.340000</td>\n",
       "      <td>-64.210000</td>\n",
       "      <td>0.000000</td>\n",
       "      <td>-9352.010000</td>\n",
       "      <td>-367.210000</td>\n",
       "      <td>0.0</td>\n",
       "    </tr>\n",
       "    <tr>\n",
       "      <th>25%</th>\n",
       "      <td>6.870000</td>\n",
       "      <td>3.240000</td>\n",
       "      <td>7.380000</td>\n",
       "      <td>18.650000</td>\n",
       "      <td>18.430000</td>\n",
       "      <td>-5.740000</td>\n",
       "      <td>0.000000</td>\n",
       "      <td>0.0</td>\n",
       "    </tr>\n",
       "    <tr>\n",
       "      <th>50%</th>\n",
       "      <td>20.590000</td>\n",
       "      <td>3.910000</td>\n",
       "      <td>12.440000</td>\n",
       "      <td>38.240000</td>\n",
       "      <td>38.490000</td>\n",
       "      <td>-0.500000</td>\n",
       "      <td>0.010000</td>\n",
       "      <td>0.0</td>\n",
       "    </tr>\n",
       "    <tr>\n",
       "      <th>75%</th>\n",
       "      <td>155.252500</td>\n",
       "      <td>17.070000</td>\n",
       "      <td>98.847500</td>\n",
       "      <td>312.610000</td>\n",
       "      <td>317.212500</td>\n",
       "      <td>0.000000</td>\n",
       "      <td>0.280000</td>\n",
       "      <td>0.0</td>\n",
       "    </tr>\n",
       "    <tr>\n",
       "      <th>max</th>\n",
       "      <td>740473.960000</td>\n",
       "      <td>754326.010000</td>\n",
       "      <td>64282.330000</td>\n",
       "      <td>907483.660000</td>\n",
       "      <td>907483.660000</td>\n",
       "      <td>0.000000</td>\n",
       "      <td>18019.450000</td>\n",
       "      <td>0.0</td>\n",
       "    </tr>\n",
       "  </tbody>\n",
       "</table>\n",
       "</div>"
      ],
      "text/plain": [
       "       Base Cost ($)  T&D Discretionary ($)  T&D Charges ($)  Current Due ($)  \\\n",
       "count   57430.000000           57430.000000     57430.000000     57430.000000   \n",
       "mean     1557.590034             404.377159       322.324780      2292.520167   \n",
       "std     15332.140262           12617.605024      2103.325682     23457.157709   \n",
       "min         0.000000             -44.990000      -680.340000       -64.210000   \n",
       "25%         6.870000               3.240000         7.380000        18.650000   \n",
       "50%        20.590000               3.910000        12.440000        38.240000   \n",
       "75%       155.252500              17.070000        98.847500       312.610000   \n",
       "max    740473.960000          754326.010000     64282.330000    907483.660000   \n",
       "\n",
       "       Total Due ($)  Franchise Fee ($)  Nodal Cu Charge ($)  \\\n",
       "count   57430.000000       57430.000000         57429.000000   \n",
       "mean     2326.005266         -36.249975             8.067123   \n",
       "std     23484.415824         255.356787           136.268511   \n",
       "min         0.000000       -9352.010000          -367.210000   \n",
       "25%        18.430000          -5.740000             0.000000   \n",
       "50%        38.490000          -0.500000             0.010000   \n",
       "75%       317.212500           0.000000             0.280000   \n",
       "max    907483.660000           0.000000         18019.450000   \n",
       "\n",
       "       Reliability Unit Charge ($)  \n",
       "count                      57426.0  \n",
       "mean                           0.0  \n",
       "std                            0.0  \n",
       "min                            0.0  \n",
       "25%                            0.0  \n",
       "50%                            0.0  \n",
       "75%                            0.0  \n",
       "max                            0.0  "
      ]
     },
     "execution_count": 11,
     "metadata": {},
     "output_type": "execute_result"
    }
   ],
   "source": [
    "data_2012[[\n",
    "    'Base Cost ($)', 'T&D Discretionary ($)', 'T&D Charges ($)', \n",
    "    'Current Due ($)', 'Total Due ($)', 'Franchise Fee ($)', \n",
    "    'Nodal Cu Charge ($)', 'Reliability Unit Charge ($)'\n",
    "     ]].describe()"
   ]
  },
  {
   "cell_type": "markdown",
   "id": "aa4d0e11-a970-49fd-b70c-4dbd65dcc6e0",
   "metadata": {},
   "source": [
    "Reliability Unit Charge does not contain any useful information. Electing to drop that column.\n",
    "\n",
    "The columns other than Current Due or Total Due are adding up the value present in these two columns. Going forward choosing the column Total Due ($). \n",
    "Based on the above statistics the columns Current Due and Total Due represent the same value. "
   ]
  },
  {
   "cell_type": "markdown",
   "id": "452ee9d6-def2-4b92-bea1-7463033bd013",
   "metadata": {},
   "source": [
    "### Selecting and Filtering Columns"
   ]
  },
  {
   "cell_type": "code",
   "execution_count": 12,
   "id": "174fdd42-4639-4c59-8280-4caa30e3fdc6",
   "metadata": {},
   "outputs": [
    {
     "data": {
      "text/plain": [
       "Index(['Reliant Contract No', 'Service Address ', 'Meter No', 'ESID',\n",
       "       'Business Area', 'Cost Center', 'Fund', 'Bill Type', 'Bill Date',\n",
       "       'Read Date', 'Due Date', 'Meter Read', 'Base Cost ($)',\n",
       "       'T&D Discretionary ($)', 'T&D Charges ($)', 'Current Due ($)',\n",
       "       'Total Due ($)', 'Franchise Fee ($)', 'Voucher Date', 'Billed Demand ',\n",
       "       'kWh Usage', 'Nodal Cu Charge ($)', 'Reliability Unit Charge ($)'],\n",
       "      dtype='object')"
      ]
     },
     "execution_count": 12,
     "metadata": {},
     "output_type": "execute_result"
    }
   ],
   "source": [
    "data_2012.columns"
   ]
  },
  {
   "cell_type": "markdown",
   "id": "a4ac1f20-55eb-4481-b5a9-2c9d35cb31dc",
   "metadata": {},
   "source": [
    "Based on the above analysis of the dataset choosing the following columns:\n",
    "\n",
    "1. ESID\n",
    "2. Business Area\n",
    "3. Service Address \n",
    "3. Bill Type\n",
    "4. Bill Date\n",
    "5. Total Due ($)\n",
    "6. kWh Usage"
   ]
  },
  {
   "cell_type": "code",
   "execution_count": 13,
   "id": "08a6d431-6645-45f5-aa4b-fe709fdda02b",
   "metadata": {},
   "outputs": [],
   "source": [
    "data_2012 = data_2012[[\n",
    "    'ESID', 'Business Area', 'Service Address ', 'Bill Type',\n",
    "    'Bill Date', 'Total Due ($)', 'kWh Usage'\n",
    "]]"
   ]
  },
  {
   "cell_type": "code",
   "execution_count": 14,
   "id": "98221318-2530-47d4-a0a9-824093136784",
   "metadata": {
    "tags": []
   },
   "outputs": [],
   "source": [
    "rename_cols = {\n",
    "    'ESID': 'esid',\n",
    "    'Business Area': 'business_area',\n",
    "    'Service Address ': 'service_address',\n",
    "    'Bill Type': 'bill_type',\n",
    "    'Bill Date': 'bill_date',\n",
    "    'Total Due ($)': 'total_due',\n",
    "    'kWh Usage': 'kwh_usage'\n",
    "}\n",
    "\n",
    "data_2012_main = data_2012.rename(columns=rename_cols)"
   ]
  },
  {
   "cell_type": "markdown",
   "id": "a6930826-558d-4c46-b88d-6d905dd8e481",
   "metadata": {},
   "source": [
    "Checking for Nulls again and dtypes"
   ]
  },
  {
   "cell_type": "code",
   "execution_count": 15,
   "id": "707855ff-c3cf-42e9-99fd-b4d1aad5bcba",
   "metadata": {},
   "outputs": [
    {
     "data": {
      "text/plain": [
       "esid               0\n",
       "business_area      0\n",
       "service_address    0\n",
       "bill_type          0\n",
       "bill_date          0\n",
       "total_due          0\n",
       "kwh_usage          0\n",
       "dtype: int64"
      ]
     },
     "execution_count": 15,
     "metadata": {},
     "output_type": "execute_result"
    }
   ],
   "source": [
    "data_2012_main.isna().sum()"
   ]
  },
  {
   "cell_type": "code",
   "execution_count": 16,
   "id": "43e23051-1d5d-444c-85c4-02cc915e8ff6",
   "metadata": {},
   "outputs": [
    {
     "data": {
      "text/plain": [
       "esid                       object\n",
       "business_area               int64\n",
       "service_address            object\n",
       "bill_type                  object\n",
       "bill_date          datetime64[ns]\n",
       "total_due                 float64\n",
       "kwh_usage                   int64\n",
       "dtype: object"
      ]
     },
     "execution_count": 16,
     "metadata": {},
     "output_type": "execute_result"
    }
   ],
   "source": [
    "data_2012_main.dtypes"
   ]
  },
  {
   "cell_type": "code",
   "execution_count": 17,
   "id": "8b447e41-a22e-4cae-af0c-788e60e9eadd",
   "metadata": {},
   "outputs": [
    {
     "data": {
      "text/plain": [
       "(57430, 7)"
      ]
     },
     "execution_count": 17,
     "metadata": {},
     "output_type": "execute_result"
    }
   ],
   "source": [
    "data_2012_main.shape"
   ]
  },
  {
   "cell_type": "code",
   "execution_count": 18,
   "id": "6d4cc5b7-6957-4c60-b778-afad4fe82d1b",
   "metadata": {},
   "outputs": [
    {
     "data": {
      "text/html": [
       "<div>\n",
       "<style scoped>\n",
       "    .dataframe tbody tr th:only-of-type {\n",
       "        vertical-align: middle;\n",
       "    }\n",
       "\n",
       "    .dataframe tbody tr th {\n",
       "        vertical-align: top;\n",
       "    }\n",
       "\n",
       "    .dataframe thead th {\n",
       "        text-align: right;\n",
       "    }\n",
       "</style>\n",
       "<table border=\"1\" class=\"dataframe\">\n",
       "  <thead>\n",
       "    <tr style=\"text-align: right;\">\n",
       "      <th></th>\n",
       "      <th>total_due</th>\n",
       "      <th>kwh_usage</th>\n",
       "    </tr>\n",
       "  </thead>\n",
       "  <tbody>\n",
       "    <tr>\n",
       "      <th>0</th>\n",
       "      <td>3.019310</td>\n",
       "      <td>3.983720</td>\n",
       "    </tr>\n",
       "    <tr>\n",
       "      <th>1</th>\n",
       "      <td>2.816252</td>\n",
       "      <td>3.616835</td>\n",
       "    </tr>\n",
       "    <tr>\n",
       "      <th>2</th>\n",
       "      <td>3.343602</td>\n",
       "      <td>4.310039</td>\n",
       "    </tr>\n",
       "    <tr>\n",
       "      <th>3</th>\n",
       "      <td>3.067930</td>\n",
       "      <td>3.854755</td>\n",
       "    </tr>\n",
       "    <tr>\n",
       "      <th>4</th>\n",
       "      <td>3.055426</td>\n",
       "      <td>3.836978</td>\n",
       "    </tr>\n",
       "    <tr>\n",
       "      <th>...</th>\n",
       "      <td>...</td>\n",
       "      <td>...</td>\n",
       "    </tr>\n",
       "    <tr>\n",
       "      <th>57425</th>\n",
       "      <td>-0.070053</td>\n",
       "      <td>-0.090029</td>\n",
       "    </tr>\n",
       "    <tr>\n",
       "      <th>57426</th>\n",
       "      <td>-0.070059</td>\n",
       "      <td>-0.090029</td>\n",
       "    </tr>\n",
       "    <tr>\n",
       "      <th>57427</th>\n",
       "      <td>-0.070064</td>\n",
       "      <td>-0.090029</td>\n",
       "    </tr>\n",
       "    <tr>\n",
       "      <th>57428</th>\n",
       "      <td>-0.070255</td>\n",
       "      <td>-0.090029</td>\n",
       "    </tr>\n",
       "    <tr>\n",
       "      <th>57429</th>\n",
       "      <td>-0.011686</td>\n",
       "      <td>-0.090029</td>\n",
       "    </tr>\n",
       "  </tbody>\n",
       "</table>\n",
       "<p>57430 rows × 2 columns</p>\n",
       "</div>"
      ],
      "text/plain": [
       "       total_due  kwh_usage\n",
       "0       3.019310   3.983720\n",
       "1       2.816252   3.616835\n",
       "2       3.343602   4.310039\n",
       "3       3.067930   3.854755\n",
       "4       3.055426   3.836978\n",
       "...          ...        ...\n",
       "57425  -0.070053  -0.090029\n",
       "57426  -0.070059  -0.090029\n",
       "57427  -0.070064  -0.090029\n",
       "57428  -0.070255  -0.090029\n",
       "57429  -0.011686  -0.090029\n",
       "\n",
       "[57430 rows x 2 columns]"
      ]
     },
     "execution_count": 18,
     "metadata": {},
     "output_type": "execute_result"
    }
   ],
   "source": [
    "zscore_2012 = stats.zscore(data_2012_main[['total_due', 'kwh_usage']])\n",
    "\n",
    "zscore_2012"
   ]
  },
  {
   "cell_type": "markdown",
   "id": "8ff20214-f8e7-4cc5-9ee1-d11b446d8486",
   "metadata": {},
   "source": [
    "Each zscore value signifies how many standard deviations away an individual value is from the mean. This is a good indicator to finding outliers in the dataframe.\n",
    "\n",
    "Usually z-score=3 is considered as a cut-off value to set the limit. Therefore, any z-score greater than +3 or less than -3 is considered as outlier which is pretty much similar to standard deviation method"
   ]
  },
  {
   "cell_type": "code",
   "execution_count": 19,
   "id": "7b5dff86-4b4c-4a1b-b816-2bf9a9d1639c",
   "metadata": {},
   "outputs": [
    {
     "data": {
      "text/plain": [
       "(57430, 7)"
      ]
     },
     "execution_count": 19,
     "metadata": {},
     "output_type": "execute_result"
    }
   ],
   "source": [
    "# data_2012_main = data_2012_main[(np.abs(zscore_2012) < 3).all(axis=1)]\n",
    "\n",
    "data_2012_main.shape"
   ]
  },
  {
   "cell_type": "markdown",
   "id": "2e70c83d-4b62-4214-8544-92a10da60cb5",
   "metadata": {},
   "source": [
    "The number of rows has decreased from 57,430 to 57,025. So 405 rows were outliers based on the data."
   ]
  },
  {
   "cell_type": "code",
   "execution_count": 20,
   "id": "7c8cd9e0-636b-497b-ae70-c4e9c1984541",
   "metadata": {},
   "outputs": [
    {
     "data": {
      "text/html": [
       "<div>\n",
       "<style scoped>\n",
       "    .dataframe tbody tr th:only-of-type {\n",
       "        vertical-align: middle;\n",
       "    }\n",
       "\n",
       "    .dataframe tbody tr th {\n",
       "        vertical-align: top;\n",
       "    }\n",
       "\n",
       "    .dataframe thead th {\n",
       "        text-align: right;\n",
       "    }\n",
       "</style>\n",
       "<table border=\"1\" class=\"dataframe\">\n",
       "  <thead>\n",
       "    <tr style=\"text-align: right;\">\n",
       "      <th></th>\n",
       "      <th>esid</th>\n",
       "      <th>business_area</th>\n",
       "      <th>service_address</th>\n",
       "      <th>bill_type</th>\n",
       "      <th>bill_date</th>\n",
       "      <th>total_due</th>\n",
       "      <th>kwh_usage</th>\n",
       "    </tr>\n",
       "  </thead>\n",
       "  <tbody>\n",
       "    <tr>\n",
       "      <th>0</th>\n",
       "      <td>1008901000140050014100</td>\n",
       "      <td>2000</td>\n",
       "      <td>10518 BELLAIRE</td>\n",
       "      <td>T</td>\n",
       "      <td>2012-06-26</td>\n",
       "      <td>73232.11</td>\n",
       "      <td>905421</td>\n",
       "    </tr>\n",
       "    <tr>\n",
       "      <th>1</th>\n",
       "      <td>1008901000140050014100</td>\n",
       "      <td>2000</td>\n",
       "      <td>10518 BELLAIRE</td>\n",
       "      <td>T</td>\n",
       "      <td>2012-05-25</td>\n",
       "      <td>68463.46</td>\n",
       "      <td>824107</td>\n",
       "    </tr>\n",
       "    <tr>\n",
       "      <th>2</th>\n",
       "      <td>1008901000140050014100</td>\n",
       "      <td>2000</td>\n",
       "      <td>10518 BELLAIRE</td>\n",
       "      <td>T</td>\n",
       "      <td>2012-04-27</td>\n",
       "      <td>80847.87</td>\n",
       "      <td>977744</td>\n",
       "    </tr>\n",
       "    <tr>\n",
       "      <th>3</th>\n",
       "      <td>1008901000140050014100</td>\n",
       "      <td>2000</td>\n",
       "      <td>10518 BELLAIRE</td>\n",
       "      <td>T</td>\n",
       "      <td>2012-03-27</td>\n",
       "      <td>74373.93</td>\n",
       "      <td>876838</td>\n",
       "    </tr>\n",
       "    <tr>\n",
       "      <th>4</th>\n",
       "      <td>1008901000140050014100</td>\n",
       "      <td>2000</td>\n",
       "      <td>10518 BELLAIRE</td>\n",
       "      <td>T</td>\n",
       "      <td>2012-02-27</td>\n",
       "      <td>74080.27</td>\n",
       "      <td>872898</td>\n",
       "    </tr>\n",
       "  </tbody>\n",
       "</table>\n",
       "</div>"
      ],
      "text/plain": [
       "                     esid  business_area service_address bill_type  bill_date  \\\n",
       "0  1008901000140050014100           2000  10518 BELLAIRE         T 2012-06-26   \n",
       "1  1008901000140050014100           2000  10518 BELLAIRE         T 2012-05-25   \n",
       "2  1008901000140050014100           2000  10518 BELLAIRE         T 2012-04-27   \n",
       "3  1008901000140050014100           2000  10518 BELLAIRE         T 2012-03-27   \n",
       "4  1008901000140050014100           2000  10518 BELLAIRE         T 2012-02-27   \n",
       "\n",
       "   total_due  kwh_usage  \n",
       "0   73232.11     905421  \n",
       "1   68463.46     824107  \n",
       "2   80847.87     977744  \n",
       "3   74373.93     876838  \n",
       "4   74080.27     872898  "
      ]
     },
     "execution_count": 20,
     "metadata": {},
     "output_type": "execute_result"
    }
   ],
   "source": [
    "data_2012_main.head(5)"
   ]
  },
  {
   "cell_type": "code",
   "execution_count": 21,
   "id": "ba028530-8e52-4775-8854-394fc5b84f77",
   "metadata": {},
   "outputs": [
    {
     "data": {
      "text/plain": [
       "0"
      ]
     },
     "execution_count": 21,
     "metadata": {},
     "output_type": "execute_result"
    }
   ],
   "source": [
    "orig_shape_2012 - data_2012_main.shape[0]"
   ]
  },
  {
   "cell_type": "code",
   "execution_count": 22,
   "id": "513e2fb0-7f53-4a48-badb-b88ca66d024b",
   "metadata": {},
   "outputs": [],
   "source": [
    "data_2012.to_csv('electricity_usage_data_2012.csv', index=False)"
   ]
  },
  {
   "cell_type": "markdown",
   "id": "c68c193a-5cbf-4646-b362-54ea15aebf67",
   "metadata": {},
   "source": [
    "The trend graph of both the cost and energy usage is the same as the value of cost = energy usage times the cost per unit."
   ]
  },
  {
   "cell_type": "markdown",
   "id": "b76998fe-6534-4a33-959d-dae5deb12bae",
   "metadata": {
    "jp-MarkdownHeadingCollapsed": true,
    "tags": []
   },
   "source": [
    "## Performing a Similar Analysis on FY 2013-1, FY 2013-2, and FY 2014 before merging datasets"
   ]
  },
  {
   "cell_type": "markdown",
   "id": "eacd1520-c83f-437a-afc7-66fa20ce1f1a",
   "metadata": {
    "tags": []
   },
   "source": [
    "## Data FY 2013-1 - Sunil"
   ]
  },
  {
   "cell_type": "code",
   "execution_count": 23,
   "id": "94f04f32-f928-4045-96ea-3f71d545c74a",
   "metadata": {},
   "outputs": [
    {
     "data": {
      "text/plain": [
       "(66776, 24)"
      ]
     },
     "execution_count": 23,
     "metadata": {},
     "output_type": "execute_result"
    }
   ],
   "source": [
    "data_2013 = pd.read_excel('houston-houston-electricity-bills/coh-fy2013-ee-bills-july2012-june2013.xlsx')\n",
    "orig_shape_2013 = data_2013.shape[0]\n",
    "\n",
    "data_2013.shape"
   ]
  },
  {
   "cell_type": "code",
   "execution_count": 24,
   "id": "4a291396-8353-4c23-91d1-069757714862",
   "metadata": {},
   "outputs": [
    {
     "data": {
      "text/html": [
       "<div>\n",
       "<style scoped>\n",
       "    .dataframe tbody tr th:only-of-type {\n",
       "        vertical-align: middle;\n",
       "    }\n",
       "\n",
       "    .dataframe tbody tr th {\n",
       "        vertical-align: top;\n",
       "    }\n",
       "\n",
       "    .dataframe thead th {\n",
       "        text-align: right;\n",
       "    }\n",
       "</style>\n",
       "<table border=\"1\" class=\"dataframe\">\n",
       "  <thead>\n",
       "    <tr style=\"text-align: right;\">\n",
       "      <th></th>\n",
       "      <th>Reliant Contract No</th>\n",
       "      <th>Service Address</th>\n",
       "      <th>Meter No</th>\n",
       "      <th>ESID</th>\n",
       "      <th>Business Area</th>\n",
       "      <th>Cost Center</th>\n",
       "      <th>Fund</th>\n",
       "      <th>Bill Type</th>\n",
       "      <th>Bill Date</th>\n",
       "      <th>Read Date</th>\n",
       "      <th>Due Date</th>\n",
       "      <th>Meter Read</th>\n",
       "      <th>Base Cost ($)</th>\n",
       "      <th>T&amp;D Discretionary ($)</th>\n",
       "      <th>T&amp;D Charges ($)</th>\n",
       "      <th>Current Due ($)</th>\n",
       "      <th>Index Charge ($)</th>\n",
       "      <th>Total Due ($)</th>\n",
       "      <th>Franchise Fee ($)</th>\n",
       "      <th>Voucher Date</th>\n",
       "      <th>Billed Demand (KVA)</th>\n",
       "      <th>kWh Usage</th>\n",
       "      <th>Nodal Cu Charge ($)</th>\n",
       "      <th>Adder Charge ($)</th>\n",
       "    </tr>\n",
       "  </thead>\n",
       "  <tbody>\n",
       "    <tr>\n",
       "      <th>0</th>\n",
       "      <td>2059605</td>\n",
       "      <td>10518 BELLAIRE</td>\n",
       "      <td>303261</td>\n",
       "      <td>1008901000140050014100</td>\n",
       "      <td>2000</td>\n",
       "      <td>2000040005</td>\n",
       "      <td>8300</td>\n",
       "      <td>T</td>\n",
       "      <td>2013-06-27</td>\n",
       "      <td>2013-06-23</td>\n",
       "      <td>2013-07-28</td>\n",
       "      <td>57061.0</td>\n",
       "      <td>57621.95</td>\n",
       "      <td>1319.11</td>\n",
       "      <td>10606.19</td>\n",
       "      <td>69785.20</td>\n",
       "      <td>NaN</td>\n",
       "      <td>69785.20</td>\n",
       "      <td>-1016.90</td>\n",
       "      <td>2013-07-01</td>\n",
       "      <td>1462.500000</td>\n",
       "      <td>876113.0</td>\n",
       "      <td>237.95</td>\n",
       "      <td>0.0</td>\n",
       "    </tr>\n",
       "    <tr>\n",
       "      <th>1</th>\n",
       "      <td>2059605</td>\n",
       "      <td>10518 BELLAIRE</td>\n",
       "      <td>303261</td>\n",
       "      <td>1008901000140050014100</td>\n",
       "      <td>2000</td>\n",
       "      <td>2000040005</td>\n",
       "      <td>8300</td>\n",
       "      <td>T</td>\n",
       "      <td>2013-05-29</td>\n",
       "      <td>2013-05-23</td>\n",
       "      <td>2013-06-28</td>\n",
       "      <td>56331.0</td>\n",
       "      <td>57981.59</td>\n",
       "      <td>1316.35</td>\n",
       "      <td>10676.66</td>\n",
       "      <td>70177.01</td>\n",
       "      <td>NaN</td>\n",
       "      <td>70177.01</td>\n",
       "      <td>-1041.76</td>\n",
       "      <td>2013-05-30</td>\n",
       "      <td>1496.907217</td>\n",
       "      <td>879842.0</td>\n",
       "      <td>202.41</td>\n",
       "      <td>0.0</td>\n",
       "    </tr>\n",
       "    <tr>\n",
       "      <th>2</th>\n",
       "      <td>2059605</td>\n",
       "      <td>10518 BELLAIRE</td>\n",
       "      <td>303261</td>\n",
       "      <td>1008901000140050014100</td>\n",
       "      <td>2000</td>\n",
       "      <td>2000040005</td>\n",
       "      <td>8300</td>\n",
       "      <td>T</td>\n",
       "      <td>2013-04-29</td>\n",
       "      <td>2013-04-23</td>\n",
       "      <td>2013-05-29</td>\n",
       "      <td>55598.0</td>\n",
       "      <td>67005.80</td>\n",
       "      <td>1357.92</td>\n",
       "      <td>10853.62</td>\n",
       "      <td>79309.40</td>\n",
       "      <td>NaN</td>\n",
       "      <td>79309.40</td>\n",
       "      <td>-1036.92</td>\n",
       "      <td>2013-04-30</td>\n",
       "      <td>1502.083333</td>\n",
       "      <td>997407.0</td>\n",
       "      <td>92.06</td>\n",
       "      <td>0.0</td>\n",
       "    </tr>\n",
       "    <tr>\n",
       "      <th>3</th>\n",
       "      <td>2059605</td>\n",
       "      <td>10518 BELLAIRE</td>\n",
       "      <td>303261</td>\n",
       "      <td>1008901000140050014100</td>\n",
       "      <td>2000</td>\n",
       "      <td>2000040005</td>\n",
       "      <td>8300</td>\n",
       "      <td>T</td>\n",
       "      <td>2013-03-28</td>\n",
       "      <td>2013-03-21</td>\n",
       "      <td>2013-04-27</td>\n",
       "      <td>54767.0</td>\n",
       "      <td>57008.44</td>\n",
       "      <td>1300.83</td>\n",
       "      <td>10473.16</td>\n",
       "      <td>68778.30</td>\n",
       "      <td>NaN</td>\n",
       "      <td>68778.30</td>\n",
       "      <td>-995.50</td>\n",
       "      <td>2013-03-29</td>\n",
       "      <td>1432.989691</td>\n",
       "      <td>849351.0</td>\n",
       "      <td>-4.13</td>\n",
       "      <td>0.0</td>\n",
       "    </tr>\n",
       "    <tr>\n",
       "      <th>4</th>\n",
       "      <td>2059605</td>\n",
       "      <td>10518 BELLAIRE</td>\n",
       "      <td>303261</td>\n",
       "      <td>1008901000140050014100</td>\n",
       "      <td>2000</td>\n",
       "      <td>2000040005</td>\n",
       "      <td>8300</td>\n",
       "      <td>T</td>\n",
       "      <td>2013-02-26</td>\n",
       "      <td>2013-02-21</td>\n",
       "      <td>2013-03-28</td>\n",
       "      <td>54059.0</td>\n",
       "      <td>61287.57</td>\n",
       "      <td>1313.49</td>\n",
       "      <td>10534.33</td>\n",
       "      <td>73135.18</td>\n",
       "      <td>NaN</td>\n",
       "      <td>73135.18</td>\n",
       "      <td>-1000.33</td>\n",
       "      <td>2013-02-27</td>\n",
       "      <td>1452.577320</td>\n",
       "      <td>911746.0</td>\n",
       "      <td>-0.21</td>\n",
       "      <td>0.0</td>\n",
       "    </tr>\n",
       "  </tbody>\n",
       "</table>\n",
       "</div>"
      ],
      "text/plain": [
       "   Reliant Contract No Service Address  Meter No                    ESID  \\\n",
       "0              2059605   10518 BELLAIRE   303261  1008901000140050014100   \n",
       "1              2059605   10518 BELLAIRE   303261  1008901000140050014100   \n",
       "2              2059605   10518 BELLAIRE   303261  1008901000140050014100   \n",
       "3              2059605   10518 BELLAIRE   303261  1008901000140050014100   \n",
       "4              2059605   10518 BELLAIRE   303261  1008901000140050014100   \n",
       "\n",
       "   Business Area  Cost Center  Fund Bill Type  Bill Date  Read Date  \\\n",
       "0           2000   2000040005  8300         T 2013-06-27 2013-06-23   \n",
       "1           2000   2000040005  8300         T 2013-05-29 2013-05-23   \n",
       "2           2000   2000040005  8300         T 2013-04-29 2013-04-23   \n",
       "3           2000   2000040005  8300         T 2013-03-28 2013-03-21   \n",
       "4           2000   2000040005  8300         T 2013-02-26 2013-02-21   \n",
       "\n",
       "    Due Date  Meter Read  Base Cost ($)  T&D Discretionary ($)  \\\n",
       "0 2013-07-28     57061.0       57621.95                1319.11   \n",
       "1 2013-06-28     56331.0       57981.59                1316.35   \n",
       "2 2013-05-29     55598.0       67005.80                1357.92   \n",
       "3 2013-04-27     54767.0       57008.44                1300.83   \n",
       "4 2013-03-28     54059.0       61287.57                1313.49   \n",
       "\n",
       "   T&D Charges ($)  Current Due ($)  Index Charge ($)  Total Due ($)  \\\n",
       "0         10606.19         69785.20               NaN       69785.20   \n",
       "1         10676.66         70177.01               NaN       70177.01   \n",
       "2         10853.62         79309.40               NaN       79309.40   \n",
       "3         10473.16         68778.30               NaN       68778.30   \n",
       "4         10534.33         73135.18               NaN       73135.18   \n",
       "\n",
       "   Franchise Fee ($) Voucher Date  Billed Demand (KVA)  kWh Usage  \\\n",
       "0           -1016.90   2013-07-01          1462.500000   876113.0   \n",
       "1           -1041.76   2013-05-30          1496.907217   879842.0   \n",
       "2           -1036.92   2013-04-30          1502.083333   997407.0   \n",
       "3            -995.50   2013-03-29          1432.989691   849351.0   \n",
       "4           -1000.33   2013-02-27          1452.577320   911746.0   \n",
       "\n",
       "   Nodal Cu Charge ($)  Adder Charge ($)  \n",
       "0               237.95               0.0  \n",
       "1               202.41               0.0  \n",
       "2                92.06               0.0  \n",
       "3                -4.13               0.0  \n",
       "4                -0.21               0.0  "
      ]
     },
     "execution_count": 24,
     "metadata": {},
     "output_type": "execute_result"
    }
   ],
   "source": [
    "data_2013.head(5)"
   ]
  },
  {
   "cell_type": "markdown",
   "id": "dae5df87-a01f-4095-bdcd-aea04b2f30cf",
   "metadata": {},
   "source": [
    "### Checking Nulls"
   ]
  },
  {
   "cell_type": "code",
   "execution_count": 25,
   "id": "ce590177-a98e-44a6-b5db-5722c2463679",
   "metadata": {},
   "outputs": [
    {
     "data": {
      "text/plain": [
       "Reliant Contract No          0\n",
       "Service Address              0\n",
       "Meter No                 15228\n",
       "ESID                         0\n",
       "Business Area                0\n",
       "Cost Center                  0\n",
       "Fund                         0\n",
       "Bill Type                    0\n",
       "Bill Date                    0\n",
       "Read Date                    0\n",
       "Due Date                     0\n",
       "Meter Read                  12\n",
       "Base Cost ($)                1\n",
       "T&D Discretionary ($)        0\n",
       "T&D Charges ($)              1\n",
       "Current Due ($)              0\n",
       "Index Charge ($)         65183\n",
       "Total Due ($)                0\n",
       "Franchise Fee ($)            0\n",
       "Voucher Date                 0\n",
       "Billed Demand (KVA)         12\n",
       "kWh Usage                    1\n",
       "Nodal Cu Charge ($)          5\n",
       "Adder Charge ($)            14\n",
       "dtype: int64"
      ]
     },
     "execution_count": 25,
     "metadata": {},
     "output_type": "execute_result"
    }
   ],
   "source": [
    "data_2013.isna().sum()"
   ]
  },
  {
   "cell_type": "markdown",
   "id": "e5e7e600-a085-4890-b43b-5a6ce06b4714",
   "metadata": {},
   "source": [
    "### Checking Index Charge ($) column - This was previously Adjustment"
   ]
  },
  {
   "cell_type": "code",
   "execution_count": 26,
   "id": "8c747e74-2920-4c13-9393-0640d6275025",
   "metadata": {},
   "outputs": [
    {
     "data": {
      "text/plain": [
       " NaN     65183\n",
       " 0.00     1592\n",
       "-0.54        1\n",
       "Name: Index Charge ($), dtype: int64"
      ]
     },
     "execution_count": 26,
     "metadata": {},
     "output_type": "execute_result"
    }
   ],
   "source": [
    "data_2013['Index Charge ($)'].value_counts(dropna=False)"
   ]
  },
  {
   "cell_type": "markdown",
   "id": "50b4b801-5262-4014-8fe6-af112cca641e",
   "metadata": {},
   "source": [
    "The column does not have any relevant information based on the above reported values. Electing to drop the column."
   ]
  },
  {
   "cell_type": "code",
   "execution_count": 27,
   "id": "6c987e2a-0ab0-42e2-8215-9a6f4b1883f1",
   "metadata": {},
   "outputs": [],
   "source": [
    "data_2013.drop(columns=['Index Charge ($)'], inplace=True)"
   ]
  },
  {
   "cell_type": "markdown",
   "id": "841aa956-3905-4f1f-b6f0-838fd37a7f96",
   "metadata": {},
   "source": [
    "### Checking Unique Number of Customers"
   ]
  },
  {
   "cell_type": "markdown",
   "id": "1617ecd5-c756-4ae0-8229-f1657e2eaa38",
   "metadata": {},
   "source": [
    "There are quite a few columns in the dataset that signify relating to a unique person/house/business. Checking the unique counts of such columns."
   ]
  },
  {
   "cell_type": "code",
   "execution_count": 28,
   "id": "f0fec381-909b-408d-9fd8-4f85d8ef7fcc",
   "metadata": {},
   "outputs": [
    {
     "name": "stdout",
     "output_type": "stream",
     "text": [
      "Number of Unique Values in Reliant Contract No: 5900\n",
      "Number of Unique Values in Service Address : 5840\n",
      "Number of Unique Values in Meter No: 4035\n",
      "Number of Unique Values in ESID: 5898\n",
      "Number of Unique Values in Business Area: 9\n",
      "Number of Unique Values in Cost Center: 39\n"
     ]
    }
   ],
   "source": [
    "check_unique_columns = ['Reliant Contract No', 'Service Address ', 'Meter No', \n",
    "                        'ESID', 'Business Area', 'Cost Center',]\n",
    "\n",
    "for col in check_unique_columns:\n",
    "    print(f'Number of Unique Values in {col}: {data_2013[col].nunique()}')"
   ]
  },
  {
   "cell_type": "markdown",
   "id": "85dc51f8-cb84-4717-b753-015cb0980927",
   "metadata": {},
   "source": [
    "Based on the above reported values and further research online:\n",
    "\n",
    "ESID signifies a unique ID provided to each customer subscribed to the electricity board. It would be best to choose ESID and Service Address columns going forward as these would provide number of unique customers and the areas (streets) where higher usage of electricity occurs.\n",
    "\n",
    "Business Area signifies a grouping a number of buildings which covers a certain area. This would be useful usage patterns grouped by certain zones in the city."
   ]
  },
  {
   "cell_type": "markdown",
   "id": "b8080480-fecf-49c0-985d-4d442c9bfd5f",
   "metadata": {},
   "source": [
    "### Checking Bill Type"
   ]
  },
  {
   "cell_type": "code",
   "execution_count": 29,
   "id": "98885b58-8d7e-48ca-b239-4e547a61be58",
   "metadata": {},
   "outputs": [
    {
     "data": {
      "text/plain": [
       "T    66222\n",
       "P      552\n",
       "C        2\n",
       "Name: Bill Type, dtype: int64"
      ]
     },
     "execution_count": 29,
     "metadata": {},
     "output_type": "execute_result"
    }
   ],
   "source": [
    "data_2013['Bill Type'].value_counts(dropna=False)"
   ]
  },
  {
   "cell_type": "markdown",
   "id": "c7b43fdb-4be4-4746-b5f2-b417ab33fd36",
   "metadata": {},
   "source": [
    "Bill Type could signify the type of the connection given. Since commercial, residential and government spaces would have different type of pricing and needs this column could be capturing that information."
   ]
  },
  {
   "cell_type": "code",
   "execution_count": 30,
   "id": "5c9d8c55-ddf9-49bf-a090-4158e40940b0",
   "metadata": {},
   "outputs": [
    {
     "data": {
      "text/plain": [
       "(5840, 4035, 5898)"
      ]
     },
     "execution_count": 30,
     "metadata": {},
     "output_type": "execute_result"
    }
   ],
   "source": [
    "data_2013['Service Address '].nunique(), data_2013['Meter No'].nunique(), data_2013['ESID'].nunique()"
   ]
  },
  {
   "cell_type": "markdown",
   "id": "041f2e5f-2e92-4d6a-b369-b7ecbfe48b17",
   "metadata": {},
   "source": [
    "The next 3 columns are: Bill Date, Read Date and Due Date. Of these it would be best to choose the Bill date across all the data files to keep the data consistent. "
   ]
  },
  {
   "cell_type": "markdown",
   "id": "78dec29f-3d55-4dc9-b6ae-c4d4c9f72e03",
   "metadata": {},
   "source": [
    "### Electricity Usage Statistics"
   ]
  },
  {
   "cell_type": "code",
   "execution_count": 31,
   "id": "fedc5ec4-a857-43b9-9d2e-c5d0e1b107e7",
   "metadata": {},
   "outputs": [
    {
     "data": {
      "text/html": [
       "<div>\n",
       "<style scoped>\n",
       "    .dataframe tbody tr th:only-of-type {\n",
       "        vertical-align: middle;\n",
       "    }\n",
       "\n",
       "    .dataframe tbody tr th {\n",
       "        vertical-align: top;\n",
       "    }\n",
       "\n",
       "    .dataframe thead th {\n",
       "        text-align: right;\n",
       "    }\n",
       "</style>\n",
       "<table border=\"1\" class=\"dataframe\">\n",
       "  <thead>\n",
       "    <tr style=\"text-align: right;\">\n",
       "      <th></th>\n",
       "      <th>Meter Read</th>\n",
       "      <th>Billed Demand (KVA)</th>\n",
       "      <th>kWh Usage</th>\n",
       "    </tr>\n",
       "  </thead>\n",
       "  <tbody>\n",
       "    <tr>\n",
       "      <th>count</th>\n",
       "      <td>66764.000000</td>\n",
       "      <td>66764.000000</td>\n",
       "      <td>6.677500e+04</td>\n",
       "    </tr>\n",
       "    <tr>\n",
       "      <th>mean</th>\n",
       "      <td>9869.779829</td>\n",
       "      <td>44.208272</td>\n",
       "      <td>1.880421e+04</td>\n",
       "    </tr>\n",
       "    <tr>\n",
       "      <th>std</th>\n",
       "      <td>17911.694906</td>\n",
       "      <td>380.343991</td>\n",
       "      <td>2.024587e+05</td>\n",
       "    </tr>\n",
       "    <tr>\n",
       "      <th>min</th>\n",
       "      <td>0.000000</td>\n",
       "      <td>0.000000</td>\n",
       "      <td>0.000000e+00</td>\n",
       "    </tr>\n",
       "    <tr>\n",
       "      <th>25%</th>\n",
       "      <td>0.000000</td>\n",
       "      <td>0.000000</td>\n",
       "      <td>1.000000e+00</td>\n",
       "    </tr>\n",
       "    <tr>\n",
       "      <th>50%</th>\n",
       "      <td>3123.000000</td>\n",
       "      <td>0.000000</td>\n",
       "      <td>2.310000e+02</td>\n",
       "    </tr>\n",
       "    <tr>\n",
       "      <th>75%</th>\n",
       "      <td>9007.250000</td>\n",
       "      <td>8.000000</td>\n",
       "      <td>1.680000e+03</td>\n",
       "    </tr>\n",
       "    <tr>\n",
       "      <th>max</th>\n",
       "      <td>239800.000000</td>\n",
       "      <td>16775.903614</td>\n",
       "      <td>9.689658e+06</td>\n",
       "    </tr>\n",
       "  </tbody>\n",
       "</table>\n",
       "</div>"
      ],
      "text/plain": [
       "          Meter Read  Billed Demand (KVA)     kWh Usage\n",
       "count   66764.000000         66764.000000  6.677500e+04\n",
       "mean     9869.779829            44.208272  1.880421e+04\n",
       "std     17911.694906           380.343991  2.024587e+05\n",
       "min         0.000000             0.000000  0.000000e+00\n",
       "25%         0.000000             0.000000  1.000000e+00\n",
       "50%      3123.000000             0.000000  2.310000e+02\n",
       "75%      9007.250000             8.000000  1.680000e+03\n",
       "max    239800.000000         16775.903614  9.689658e+06"
      ]
     },
     "execution_count": 31,
     "metadata": {},
     "output_type": "execute_result"
    }
   ],
   "source": [
    "data_2013[['Meter Read', 'Billed Demand (KVA)', 'kWh Usage']].describe()"
   ]
  },
  {
   "cell_type": "markdown",
   "id": "a81cbdd2-4b86-427d-bfb7-073e09de19a8",
   "metadata": {},
   "source": [
    "There are 3 columns that denote the amount of electricity: Meter Read, Billed Demand, kWh Usage.\n",
    "\n",
    "Using kWh Usage as a standard unit of measurement."
   ]
  },
  {
   "cell_type": "code",
   "execution_count": 32,
   "id": "8a7923a2-67f2-473f-ae76-246a94d64116",
   "metadata": {},
   "outputs": [
    {
     "data": {
      "text/html": [
       "<div>\n",
       "<style scoped>\n",
       "    .dataframe tbody tr th:only-of-type {\n",
       "        vertical-align: middle;\n",
       "    }\n",
       "\n",
       "    .dataframe tbody tr th {\n",
       "        vertical-align: top;\n",
       "    }\n",
       "\n",
       "    .dataframe thead th {\n",
       "        text-align: right;\n",
       "    }\n",
       "</style>\n",
       "<table border=\"1\" class=\"dataframe\">\n",
       "  <thead>\n",
       "    <tr style=\"text-align: right;\">\n",
       "      <th></th>\n",
       "      <th>Base Cost ($)</th>\n",
       "      <th>T&amp;D Discretionary ($)</th>\n",
       "      <th>T&amp;D Charges ($)</th>\n",
       "      <th>Current Due ($)</th>\n",
       "      <th>Total Due ($)</th>\n",
       "      <th>Franchise Fee ($)</th>\n",
       "      <th>Nodal Cu Charge ($)</th>\n",
       "      <th>Adder Charge ($)</th>\n",
       "    </tr>\n",
       "  </thead>\n",
       "  <tbody>\n",
       "    <tr>\n",
       "      <th>count</th>\n",
       "      <td>66775.000000</td>\n",
       "      <td>66776.000000</td>\n",
       "      <td>66775.000000</td>\n",
       "      <td>66776.000000</td>\n",
       "      <td>66776.000000</td>\n",
       "      <td>66776.000000</td>\n",
       "      <td>66771.000000</td>\n",
       "      <td>66762.0</td>\n",
       "    </tr>\n",
       "    <tr>\n",
       "      <th>mean</th>\n",
       "      <td>1249.628836</td>\n",
       "      <td>367.439382</td>\n",
       "      <td>278.533215</td>\n",
       "      <td>1901.861997</td>\n",
       "      <td>1902.580866</td>\n",
       "      <td>-33.921297</td>\n",
       "      <td>6.005230</td>\n",
       "      <td>0.0</td>\n",
       "    </tr>\n",
       "    <tr>\n",
       "      <th>std</th>\n",
       "      <td>13443.314342</td>\n",
       "      <td>11796.148872</td>\n",
       "      <td>1997.001709</td>\n",
       "      <td>21320.228167</td>\n",
       "      <td>21320.836910</td>\n",
       "      <td>237.409585</td>\n",
       "      <td>132.671939</td>\n",
       "      <td>0.0</td>\n",
       "    </tr>\n",
       "    <tr>\n",
       "      <th>min</th>\n",
       "      <td>0.000000</td>\n",
       "      <td>-7091.410000</td>\n",
       "      <td>-37666.730000</td>\n",
       "      <td>-44264.860000</td>\n",
       "      <td>0.000000</td>\n",
       "      <td>-7017.800000</td>\n",
       "      <td>-323.080000</td>\n",
       "      <td>0.0</td>\n",
       "    </tr>\n",
       "    <tr>\n",
       "      <th>25%</th>\n",
       "      <td>0.070000</td>\n",
       "      <td>3.120000</td>\n",
       "      <td>6.020000</td>\n",
       "      <td>11.820000</td>\n",
       "      <td>11.820000</td>\n",
       "      <td>-5.410000</td>\n",
       "      <td>0.000000</td>\n",
       "      <td>0.0</td>\n",
       "    </tr>\n",
       "    <tr>\n",
       "      <th>50%</th>\n",
       "      <td>15.360000</td>\n",
       "      <td>6.200000</td>\n",
       "      <td>10.940000</td>\n",
       "      <td>32.170000</td>\n",
       "      <td>32.040000</td>\n",
       "      <td>-0.460000</td>\n",
       "      <td>0.000000</td>\n",
       "      <td>0.0</td>\n",
       "    </tr>\n",
       "    <tr>\n",
       "      <th>75%</th>\n",
       "      <td>111.690000</td>\n",
       "      <td>20.730000</td>\n",
       "      <td>77.865000</td>\n",
       "      <td>234.010000</td>\n",
       "      <td>230.737500</td>\n",
       "      <td>0.000000</td>\n",
       "      <td>0.150000</td>\n",
       "      <td>0.0</td>\n",
       "    </tr>\n",
       "    <tr>\n",
       "      <th>max</th>\n",
       "      <td>650951.220000</td>\n",
       "      <td>756478.120000</td>\n",
       "      <td>69826.360000</td>\n",
       "      <td>907001.560000</td>\n",
       "      <td>907001.560000</td>\n",
       "      <td>84.910000</td>\n",
       "      <td>20461.930000</td>\n",
       "      <td>0.0</td>\n",
       "    </tr>\n",
       "  </tbody>\n",
       "</table>\n",
       "</div>"
      ],
      "text/plain": [
       "       Base Cost ($)  T&D Discretionary ($)  T&D Charges ($)  Current Due ($)  \\\n",
       "count   66775.000000           66776.000000     66775.000000     66776.000000   \n",
       "mean     1249.628836             367.439382       278.533215      1901.861997   \n",
       "std     13443.314342           11796.148872      1997.001709     21320.228167   \n",
       "min         0.000000           -7091.410000    -37666.730000    -44264.860000   \n",
       "25%         0.070000               3.120000         6.020000        11.820000   \n",
       "50%        15.360000               6.200000        10.940000        32.170000   \n",
       "75%       111.690000              20.730000        77.865000       234.010000   \n",
       "max    650951.220000          756478.120000     69826.360000    907001.560000   \n",
       "\n",
       "       Total Due ($)  Franchise Fee ($)  Nodal Cu Charge ($)  Adder Charge ($)  \n",
       "count   66776.000000       66776.000000         66771.000000           66762.0  \n",
       "mean     1902.580866         -33.921297             6.005230               0.0  \n",
       "std     21320.836910         237.409585           132.671939               0.0  \n",
       "min         0.000000       -7017.800000          -323.080000               0.0  \n",
       "25%        11.820000          -5.410000             0.000000               0.0  \n",
       "50%        32.040000          -0.460000             0.000000               0.0  \n",
       "75%       230.737500           0.000000             0.150000               0.0  \n",
       "max    907001.560000          84.910000         20461.930000               0.0  "
      ]
     },
     "execution_count": 32,
     "metadata": {},
     "output_type": "execute_result"
    }
   ],
   "source": [
    "data_2013[[\n",
    "    'Base Cost ($)', 'T&D Discretionary ($)', 'T&D Charges ($)', \n",
    "    'Current Due ($)', 'Total Due ($)', 'Franchise Fee ($)', \n",
    "    'Nodal Cu Charge ($)', 'Adder Charge ($)'\n",
    "     ]].describe()"
   ]
  },
  {
   "cell_type": "markdown",
   "id": "cfc94605-4977-47e5-8b38-f693216755ff",
   "metadata": {},
   "source": [
    "Adder Charge ($) does not contain any useful information. Electing to drop that column. Previously this column was Reliability Unit Charge.\n",
    "\n",
    "The columns other than Current Due or Total Due are adding up the value present in these two columns. Going forward choosing the column Total Due ($). \n",
    "Based on the above statistics the columns Current Due and Total Due represent the same value. "
   ]
  },
  {
   "cell_type": "markdown",
   "id": "d058be54-96ce-444f-9960-4173f67b2747",
   "metadata": {},
   "source": [
    "Based on the above analysis of the dataset choosing the following columns:\n",
    "\n",
    "1. ESID\n",
    "2. Business Area\n",
    "3. Service Address \n",
    "3. Bill Type\n",
    "4. Bill Date\n",
    "5. Total Due ($)\n",
    "6. kWh Usage"
   ]
  },
  {
   "cell_type": "markdown",
   "id": "777e5b2a-55ce-413a-a033-230319c15f0a",
   "metadata": {},
   "source": [
    "### Selecting and Filtering Columns"
   ]
  },
  {
   "cell_type": "code",
   "execution_count": 33,
   "id": "c6bf9508-c88f-42d7-8840-a401bd1fc2fc",
   "metadata": {},
   "outputs": [],
   "source": [
    "data_2013 = data_2013[[\n",
    "    'ESID', 'Business Area', 'Service Address ', 'Bill Type',\n",
    "    'Bill Date', 'Total Due ($)', 'kWh Usage'\n",
    "]]"
   ]
  },
  {
   "cell_type": "code",
   "execution_count": 34,
   "id": "b45acaf8-2271-45fb-8360-3fbd2801c7b9",
   "metadata": {
    "tags": []
   },
   "outputs": [],
   "source": [
    "rename_cols = {\n",
    "    'ESID': 'esid',\n",
    "    'Business Area': 'business_area',\n",
    "    'Service Address ': 'service_address',\n",
    "    'Bill Type': 'bill_type',\n",
    "    'Bill Date': 'bill_date',\n",
    "    'Total Due ($)': 'total_due',\n",
    "    'kWh Usage': 'kwh_usage'\n",
    "}\n",
    "\n",
    "data_2013_main = data_2013.rename(columns=rename_cols)"
   ]
  },
  {
   "cell_type": "markdown",
   "id": "c24947f1-6d55-4eaf-921f-7a26fac6a170",
   "metadata": {},
   "source": [
    "Checking for Nulls again and dtypes"
   ]
  },
  {
   "cell_type": "code",
   "execution_count": 35,
   "id": "fa6663b6-8af1-475e-a08f-4f68b22af44e",
   "metadata": {},
   "outputs": [
    {
     "data": {
      "text/plain": [
       "esid               0\n",
       "business_area      0\n",
       "service_address    0\n",
       "bill_type          0\n",
       "bill_date          0\n",
       "total_due          0\n",
       "kwh_usage          1\n",
       "dtype: int64"
      ]
     },
     "execution_count": 35,
     "metadata": {},
     "output_type": "execute_result"
    }
   ],
   "source": [
    "data_2013_main.isna().sum()"
   ]
  },
  {
   "cell_type": "code",
   "execution_count": 36,
   "id": "375408c9-07d5-497d-a970-9b209a40c9c9",
   "metadata": {},
   "outputs": [],
   "source": [
    "data_2013_main.dropna(subset=['kwh_usage'], inplace=True)"
   ]
  },
  {
   "cell_type": "code",
   "execution_count": 37,
   "id": "ffc1c6cc-4409-4aaf-bfc0-16598c677a1a",
   "metadata": {},
   "outputs": [
    {
     "data": {
      "text/plain": [
       "esid               0\n",
       "business_area      0\n",
       "service_address    0\n",
       "bill_type          0\n",
       "bill_date          0\n",
       "total_due          0\n",
       "kwh_usage          0\n",
       "dtype: int64"
      ]
     },
     "execution_count": 37,
     "metadata": {},
     "output_type": "execute_result"
    }
   ],
   "source": [
    "data_2013_main.isna().sum()"
   ]
  },
  {
   "cell_type": "code",
   "execution_count": 38,
   "id": "2261451b-c187-4113-a05b-1f22548efcb3",
   "metadata": {},
   "outputs": [
    {
     "data": {
      "text/plain": [
       "esid                       object\n",
       "business_area               int64\n",
       "service_address            object\n",
       "bill_type                  object\n",
       "bill_date          datetime64[ns]\n",
       "total_due                 float64\n",
       "kwh_usage                 float64\n",
       "dtype: object"
      ]
     },
     "execution_count": 38,
     "metadata": {},
     "output_type": "execute_result"
    }
   ],
   "source": [
    "data_2013_main.dtypes"
   ]
  },
  {
   "cell_type": "code",
   "execution_count": 39,
   "id": "18fd89ae-8ed3-40d5-8200-18206ba44f9b",
   "metadata": {},
   "outputs": [
    {
     "data": {
      "text/plain": [
       "(66775, 7)"
      ]
     },
     "execution_count": 39,
     "metadata": {},
     "output_type": "execute_result"
    }
   ],
   "source": [
    "data_2013_main.shape"
   ]
  },
  {
   "cell_type": "code",
   "execution_count": 40,
   "id": "dc68bd1c-9519-431f-90fb-d6fb906330d6",
   "metadata": {},
   "outputs": [
    {
     "data": {
      "text/html": [
       "<div>\n",
       "<style scoped>\n",
       "    .dataframe tbody tr th:only-of-type {\n",
       "        vertical-align: middle;\n",
       "    }\n",
       "\n",
       "    .dataframe tbody tr th {\n",
       "        vertical-align: top;\n",
       "    }\n",
       "\n",
       "    .dataframe thead th {\n",
       "        text-align: right;\n",
       "    }\n",
       "</style>\n",
       "<table border=\"1\" class=\"dataframe\">\n",
       "  <thead>\n",
       "    <tr style=\"text-align: right;\">\n",
       "      <th></th>\n",
       "      <th>total_due</th>\n",
       "      <th>kwh_usage</th>\n",
       "    </tr>\n",
       "  </thead>\n",
       "  <tbody>\n",
       "    <tr>\n",
       "      <th>0</th>\n",
       "      <td>3.183862</td>\n",
       "      <td>4.234519</td>\n",
       "    </tr>\n",
       "    <tr>\n",
       "      <th>1</th>\n",
       "      <td>3.202239</td>\n",
       "      <td>4.252938</td>\n",
       "    </tr>\n",
       "    <tr>\n",
       "      <th>2</th>\n",
       "      <td>3.630570</td>\n",
       "      <td>4.833629</td>\n",
       "    </tr>\n",
       "    <tr>\n",
       "      <th>3</th>\n",
       "      <td>3.136636</td>\n",
       "      <td>4.102333</td>\n",
       "    </tr>\n",
       "    <tr>\n",
       "      <th>4</th>\n",
       "      <td>3.340984</td>\n",
       "      <td>4.410522</td>\n",
       "    </tr>\n",
       "    <tr>\n",
       "      <th>...</th>\n",
       "      <td>...</td>\n",
       "      <td>...</td>\n",
       "    </tr>\n",
       "    <tr>\n",
       "      <th>66771</th>\n",
       "      <td>-0.057672</td>\n",
       "      <td>-0.080314</td>\n",
       "    </tr>\n",
       "    <tr>\n",
       "      <th>66772</th>\n",
       "      <td>-0.057229</td>\n",
       "      <td>-0.080314</td>\n",
       "    </tr>\n",
       "    <tr>\n",
       "      <th>66773</th>\n",
       "      <td>-0.057217</td>\n",
       "      <td>-0.080314</td>\n",
       "    </tr>\n",
       "    <tr>\n",
       "      <th>66774</th>\n",
       "      <td>-0.057477</td>\n",
       "      <td>-0.080314</td>\n",
       "    </tr>\n",
       "    <tr>\n",
       "      <th>66775</th>\n",
       "      <td>-0.056839</td>\n",
       "      <td>-0.080314</td>\n",
       "    </tr>\n",
       "  </tbody>\n",
       "</table>\n",
       "<p>66775 rows × 2 columns</p>\n",
       "</div>"
      ],
      "text/plain": [
       "       total_due  kwh_usage\n",
       "0       3.183862   4.234519\n",
       "1       3.202239   4.252938\n",
       "2       3.630570   4.833629\n",
       "3       3.136636   4.102333\n",
       "4       3.340984   4.410522\n",
       "...          ...        ...\n",
       "66771  -0.057672  -0.080314\n",
       "66772  -0.057229  -0.080314\n",
       "66773  -0.057217  -0.080314\n",
       "66774  -0.057477  -0.080314\n",
       "66775  -0.056839  -0.080314\n",
       "\n",
       "[66775 rows x 2 columns]"
      ]
     },
     "execution_count": 40,
     "metadata": {},
     "output_type": "execute_result"
    }
   ],
   "source": [
    "zscore_2013 = stats.zscore(data_2013_main[['total_due', 'kwh_usage']])\n",
    "\n",
    "zscore_2013"
   ]
  },
  {
   "cell_type": "markdown",
   "id": "e0ac882b-b28d-4959-8603-48e51686efd2",
   "metadata": {},
   "source": [
    "Each zscore value signifies how many standard deviations away an individual value is from the mean. This is a good indicator to finding outliers in the dataframe.\n",
    "\n",
    "Usually z-score=3 is considered as a cut-off value to set the limit. Therefore, any z-score greater than +3 or less than -3 is considered as outlier which is pretty much similar to standard deviation method"
   ]
  },
  {
   "cell_type": "code",
   "execution_count": 41,
   "id": "11aa1964-fd3c-4382-9d69-396f29c999ed",
   "metadata": {},
   "outputs": [
    {
     "data": {
      "text/plain": [
       "(66775, 7)"
      ]
     },
     "execution_count": 41,
     "metadata": {},
     "output_type": "execute_result"
    }
   ],
   "source": [
    "# data_2013_main = data_2013_main[(np.abs(zscore_2013) < 3).all(axis=1)]\n",
    "\n",
    "data_2013_main.shape"
   ]
  },
  {
   "cell_type": "markdown",
   "id": "ff98d00f-296e-4ac7-bed2-d9c7a3f59b33",
   "metadata": {},
   "source": [
    "The number of rows has decreased from 66,775 to 66,360. So 415 rows were outliers based on the data."
   ]
  },
  {
   "cell_type": "code",
   "execution_count": 42,
   "id": "0e89bcb4-6c40-4c74-95e2-6b7e92b19a72",
   "metadata": {},
   "outputs": [
    {
     "data": {
      "text/html": [
       "<div>\n",
       "<style scoped>\n",
       "    .dataframe tbody tr th:only-of-type {\n",
       "        vertical-align: middle;\n",
       "    }\n",
       "\n",
       "    .dataframe tbody tr th {\n",
       "        vertical-align: top;\n",
       "    }\n",
       "\n",
       "    .dataframe thead th {\n",
       "        text-align: right;\n",
       "    }\n",
       "</style>\n",
       "<table border=\"1\" class=\"dataframe\">\n",
       "  <thead>\n",
       "    <tr style=\"text-align: right;\">\n",
       "      <th></th>\n",
       "      <th>esid</th>\n",
       "      <th>business_area</th>\n",
       "      <th>service_address</th>\n",
       "      <th>bill_type</th>\n",
       "      <th>bill_date</th>\n",
       "      <th>total_due</th>\n",
       "      <th>kwh_usage</th>\n",
       "    </tr>\n",
       "  </thead>\n",
       "  <tbody>\n",
       "    <tr>\n",
       "      <th>0</th>\n",
       "      <td>1008901000140050014100</td>\n",
       "      <td>2000</td>\n",
       "      <td>10518 BELLAIRE</td>\n",
       "      <td>T</td>\n",
       "      <td>2013-06-27</td>\n",
       "      <td>69785.20</td>\n",
       "      <td>876113.0</td>\n",
       "    </tr>\n",
       "    <tr>\n",
       "      <th>1</th>\n",
       "      <td>1008901000140050014100</td>\n",
       "      <td>2000</td>\n",
       "      <td>10518 BELLAIRE</td>\n",
       "      <td>T</td>\n",
       "      <td>2013-05-29</td>\n",
       "      <td>70177.01</td>\n",
       "      <td>879842.0</td>\n",
       "    </tr>\n",
       "    <tr>\n",
       "      <th>2</th>\n",
       "      <td>1008901000140050014100</td>\n",
       "      <td>2000</td>\n",
       "      <td>10518 BELLAIRE</td>\n",
       "      <td>T</td>\n",
       "      <td>2013-04-29</td>\n",
       "      <td>79309.40</td>\n",
       "      <td>997407.0</td>\n",
       "    </tr>\n",
       "    <tr>\n",
       "      <th>3</th>\n",
       "      <td>1008901000140050014100</td>\n",
       "      <td>2000</td>\n",
       "      <td>10518 BELLAIRE</td>\n",
       "      <td>T</td>\n",
       "      <td>2013-03-28</td>\n",
       "      <td>68778.30</td>\n",
       "      <td>849351.0</td>\n",
       "    </tr>\n",
       "    <tr>\n",
       "      <th>4</th>\n",
       "      <td>1008901000140050014100</td>\n",
       "      <td>2000</td>\n",
       "      <td>10518 BELLAIRE</td>\n",
       "      <td>T</td>\n",
       "      <td>2013-02-26</td>\n",
       "      <td>73135.18</td>\n",
       "      <td>911746.0</td>\n",
       "    </tr>\n",
       "  </tbody>\n",
       "</table>\n",
       "</div>"
      ],
      "text/plain": [
       "                     esid  business_area service_address bill_type  bill_date  \\\n",
       "0  1008901000140050014100           2000  10518 BELLAIRE         T 2013-06-27   \n",
       "1  1008901000140050014100           2000  10518 BELLAIRE         T 2013-05-29   \n",
       "2  1008901000140050014100           2000  10518 BELLAIRE         T 2013-04-29   \n",
       "3  1008901000140050014100           2000  10518 BELLAIRE         T 2013-03-28   \n",
       "4  1008901000140050014100           2000  10518 BELLAIRE         T 2013-02-26   \n",
       "\n",
       "   total_due  kwh_usage  \n",
       "0   69785.20   876113.0  \n",
       "1   70177.01   879842.0  \n",
       "2   79309.40   997407.0  \n",
       "3   68778.30   849351.0  \n",
       "4   73135.18   911746.0  "
      ]
     },
     "execution_count": 42,
     "metadata": {},
     "output_type": "execute_result"
    }
   ],
   "source": [
    "data_2013_main.head(5)"
   ]
  },
  {
   "cell_type": "code",
   "execution_count": 43,
   "id": "0a5f9534-55f1-4fac-a6c0-d376b2625332",
   "metadata": {},
   "outputs": [
    {
     "data": {
      "text/plain": [
       "1"
      ]
     },
     "execution_count": 43,
     "metadata": {},
     "output_type": "execute_result"
    }
   ],
   "source": [
    "orig_shape_2013 - data_2013_main.shape[0]"
   ]
  },
  {
   "cell_type": "code",
   "execution_count": 44,
   "id": "6a3f2a83-f7a5-4f29-9d25-e8d996b7f243",
   "metadata": {},
   "outputs": [],
   "source": [
    "data_2013_main.to_csv('electricity_usage_data_2013.csv', index=False)"
   ]
  },
  {
   "cell_type": "markdown",
   "id": "f4f8e78a-0b69-44f3-9d9b-df437babf83a",
   "metadata": {
    "tags": []
   },
   "source": [
    "## Data FY 2013-2 - Sourabh"
   ]
  },
  {
   "cell_type": "code",
   "execution_count": 45,
   "id": "61b35d8a-29a8-4e29-8183-c27f4a274e80",
   "metadata": {},
   "outputs": [
    {
     "data": {
      "text/plain": [
       "(65806, 24)"
      ]
     },
     "execution_count": 45,
     "metadata": {},
     "output_type": "execute_result"
    }
   ],
   "source": [
    "data_2013_2 = pd.read_excel('houston-houston-electricity-bills/coh-ee-bills-may2012-apr2013.xlsx')\n",
    "orig_shape_2013_2 = data_2013_2.shape[0]\n",
    "\n",
    "data_2013_2.shape"
   ]
  },
  {
   "cell_type": "code",
   "execution_count": 46,
   "id": "91710a1a-3606-47bc-9c74-e8b414f58e79",
   "metadata": {},
   "outputs": [
    {
     "data": {
      "text/html": [
       "<div>\n",
       "<style scoped>\n",
       "    .dataframe tbody tr th:only-of-type {\n",
       "        vertical-align: middle;\n",
       "    }\n",
       "\n",
       "    .dataframe tbody tr th {\n",
       "        vertical-align: top;\n",
       "    }\n",
       "\n",
       "    .dataframe thead th {\n",
       "        text-align: right;\n",
       "    }\n",
       "</style>\n",
       "<table border=\"1\" class=\"dataframe\">\n",
       "  <thead>\n",
       "    <tr style=\"text-align: right;\">\n",
       "      <th></th>\n",
       "      <th>Reliant Contract No</th>\n",
       "      <th>Service Address</th>\n",
       "      <th>Meter No</th>\n",
       "      <th>ESID</th>\n",
       "      <th>Business Area</th>\n",
       "      <th>Cost Center</th>\n",
       "      <th>Fund</th>\n",
       "      <th>Bill Type</th>\n",
       "      <th>Bill Date</th>\n",
       "      <th>Read Date</th>\n",
       "      <th>Due Date</th>\n",
       "      <th>Meter Read</th>\n",
       "      <th>Base Cost ($)</th>\n",
       "      <th>T&amp;D Discretionary ($)</th>\n",
       "      <th>T&amp;D Charges ($)</th>\n",
       "      <th>Current Due ($)</th>\n",
       "      <th>Adjustment ($)</th>\n",
       "      <th>Total Due ($)</th>\n",
       "      <th>Franchise Fee ($)</th>\n",
       "      <th>Voucher Date</th>\n",
       "      <th>Billed Demand (KVA)</th>\n",
       "      <th>kWh Usage</th>\n",
       "      <th>Nodal Cu Charge ($)</th>\n",
       "      <th>Reliability Unit Charge ($)</th>\n",
       "    </tr>\n",
       "  </thead>\n",
       "  <tbody>\n",
       "    <tr>\n",
       "      <th>0</th>\n",
       "      <td>2059605</td>\n",
       "      <td>10518 BELLAIRE</td>\n",
       "      <td>303261</td>\n",
       "      <td>1008901000140050014100</td>\n",
       "      <td>2000</td>\n",
       "      <td>2000040005</td>\n",
       "      <td>8300</td>\n",
       "      <td>T</td>\n",
       "      <td>2013-04-29</td>\n",
       "      <td>2013-04-23</td>\n",
       "      <td>2013-05-29</td>\n",
       "      <td>55598.0</td>\n",
       "      <td>67005.80</td>\n",
       "      <td>1357.92</td>\n",
       "      <td>10853.62</td>\n",
       "      <td>79309.40</td>\n",
       "      <td>NaN</td>\n",
       "      <td>79309.40</td>\n",
       "      <td>-1036.92</td>\n",
       "      <td>2013-04-30</td>\n",
       "      <td>1502.083333</td>\n",
       "      <td>997407.0</td>\n",
       "      <td>92.06</td>\n",
       "      <td>0.0</td>\n",
       "    </tr>\n",
       "    <tr>\n",
       "      <th>1</th>\n",
       "      <td>2059605</td>\n",
       "      <td>10518 BELLAIRE</td>\n",
       "      <td>303261</td>\n",
       "      <td>1008901000140050014100</td>\n",
       "      <td>2000</td>\n",
       "      <td>2000040005</td>\n",
       "      <td>8300</td>\n",
       "      <td>T</td>\n",
       "      <td>2013-03-28</td>\n",
       "      <td>2013-03-21</td>\n",
       "      <td>2013-04-27</td>\n",
       "      <td>54767.0</td>\n",
       "      <td>57008.44</td>\n",
       "      <td>1300.83</td>\n",
       "      <td>10473.16</td>\n",
       "      <td>68778.30</td>\n",
       "      <td>NaN</td>\n",
       "      <td>68778.30</td>\n",
       "      <td>-995.50</td>\n",
       "      <td>2013-03-29</td>\n",
       "      <td>1432.989691</td>\n",
       "      <td>849351.0</td>\n",
       "      <td>-4.13</td>\n",
       "      <td>0.0</td>\n",
       "    </tr>\n",
       "    <tr>\n",
       "      <th>2</th>\n",
       "      <td>2059605</td>\n",
       "      <td>10518 BELLAIRE</td>\n",
       "      <td>303261</td>\n",
       "      <td>1008901000140050014100</td>\n",
       "      <td>2000</td>\n",
       "      <td>2000040005</td>\n",
       "      <td>8300</td>\n",
       "      <td>T</td>\n",
       "      <td>2013-02-26</td>\n",
       "      <td>2013-02-21</td>\n",
       "      <td>2013-03-28</td>\n",
       "      <td>54059.0</td>\n",
       "      <td>61287.57</td>\n",
       "      <td>1313.49</td>\n",
       "      <td>10534.33</td>\n",
       "      <td>73135.18</td>\n",
       "      <td>NaN</td>\n",
       "      <td>73135.18</td>\n",
       "      <td>-1000.33</td>\n",
       "      <td>2013-02-27</td>\n",
       "      <td>1452.577320</td>\n",
       "      <td>911746.0</td>\n",
       "      <td>-0.21</td>\n",
       "      <td>0.0</td>\n",
       "    </tr>\n",
       "    <tr>\n",
       "      <th>3</th>\n",
       "      <td>2059605</td>\n",
       "      <td>10518 BELLAIRE</td>\n",
       "      <td>303261</td>\n",
       "      <td>1008901000140050014100</td>\n",
       "      <td>2000</td>\n",
       "      <td>2000040005</td>\n",
       "      <td>8300</td>\n",
       "      <td>T</td>\n",
       "      <td>2013-01-28</td>\n",
       "      <td>2013-01-22</td>\n",
       "      <td>2013-02-27</td>\n",
       "      <td>53299.0</td>\n",
       "      <td>64657.23</td>\n",
       "      <td>1369.20</td>\n",
       "      <td>10878.65</td>\n",
       "      <td>77043.90</td>\n",
       "      <td>NaN</td>\n",
       "      <td>77043.90</td>\n",
       "      <td>-1048.66</td>\n",
       "      <td>2013-01-29</td>\n",
       "      <td>1498.969072</td>\n",
       "      <td>969810.0</td>\n",
       "      <td>138.82</td>\n",
       "      <td>0.0</td>\n",
       "    </tr>\n",
       "    <tr>\n",
       "      <th>4</th>\n",
       "      <td>2059605</td>\n",
       "      <td>10518 BELLAIRE</td>\n",
       "      <td>303261</td>\n",
       "      <td>1008901000140050014100</td>\n",
       "      <td>2000</td>\n",
       "      <td>2000040005</td>\n",
       "      <td>8300</td>\n",
       "      <td>T</td>\n",
       "      <td>2012-12-28</td>\n",
       "      <td>2012-12-20</td>\n",
       "      <td>2013-01-27</td>\n",
       "      <td>52491.0</td>\n",
       "      <td>60872.54</td>\n",
       "      <td>1612.61</td>\n",
       "      <td>10928.60</td>\n",
       "      <td>73740.34</td>\n",
       "      <td>NaN</td>\n",
       "      <td>73740.34</td>\n",
       "      <td>-1088.01</td>\n",
       "      <td>2012-12-31</td>\n",
       "      <td>1572.916667</td>\n",
       "      <td>927935.0</td>\n",
       "      <td>326.59</td>\n",
       "      <td>0.0</td>\n",
       "    </tr>\n",
       "  </tbody>\n",
       "</table>\n",
       "</div>"
      ],
      "text/plain": [
       "   Reliant Contract No Service Address  Meter No                    ESID  \\\n",
       "0              2059605   10518 BELLAIRE   303261  1008901000140050014100   \n",
       "1              2059605   10518 BELLAIRE   303261  1008901000140050014100   \n",
       "2              2059605   10518 BELLAIRE   303261  1008901000140050014100   \n",
       "3              2059605   10518 BELLAIRE   303261  1008901000140050014100   \n",
       "4              2059605   10518 BELLAIRE   303261  1008901000140050014100   \n",
       "\n",
       "   Business Area  Cost Center  Fund Bill Type  Bill Date  Read Date  \\\n",
       "0           2000   2000040005  8300         T 2013-04-29 2013-04-23   \n",
       "1           2000   2000040005  8300         T 2013-03-28 2013-03-21   \n",
       "2           2000   2000040005  8300         T 2013-02-26 2013-02-21   \n",
       "3           2000   2000040005  8300         T 2013-01-28 2013-01-22   \n",
       "4           2000   2000040005  8300         T 2012-12-28 2012-12-20   \n",
       "\n",
       "    Due Date  Meter Read  Base Cost ($)  T&D Discretionary ($)  \\\n",
       "0 2013-05-29     55598.0       67005.80                1357.92   \n",
       "1 2013-04-27     54767.0       57008.44                1300.83   \n",
       "2 2013-03-28     54059.0       61287.57                1313.49   \n",
       "3 2013-02-27     53299.0       64657.23                1369.20   \n",
       "4 2013-01-27     52491.0       60872.54                1612.61   \n",
       "\n",
       "   T&D Charges ($)  Current Due ($)  Adjustment ($)  Total Due ($)  \\\n",
       "0         10853.62         79309.40             NaN       79309.40   \n",
       "1         10473.16         68778.30             NaN       68778.30   \n",
       "2         10534.33         73135.18             NaN       73135.18   \n",
       "3         10878.65         77043.90             NaN       77043.90   \n",
       "4         10928.60         73740.34             NaN       73740.34   \n",
       "\n",
       "   Franchise Fee ($) Voucher Date  Billed Demand (KVA)  kWh Usage  \\\n",
       "0           -1036.92   2013-04-30          1502.083333   997407.0   \n",
       "1            -995.50   2013-03-29          1432.989691   849351.0   \n",
       "2           -1000.33   2013-02-27          1452.577320   911746.0   \n",
       "3           -1048.66   2013-01-29          1498.969072   969810.0   \n",
       "4           -1088.01   2012-12-31          1572.916667   927935.0   \n",
       "\n",
       "   Nodal Cu Charge ($)  Reliability Unit Charge ($)  \n",
       "0                92.06                          0.0  \n",
       "1                -4.13                          0.0  \n",
       "2                -0.21                          0.0  \n",
       "3               138.82                          0.0  \n",
       "4               326.59                          0.0  "
      ]
     },
     "execution_count": 46,
     "metadata": {},
     "output_type": "execute_result"
    }
   ],
   "source": [
    "data_2013_2.head(5)"
   ]
  },
  {
   "cell_type": "markdown",
   "id": "fbb77586-5ef8-4d39-906b-631f3bbbd7a4",
   "metadata": {},
   "source": [
    "### Checking Nulls"
   ]
  },
  {
   "cell_type": "code",
   "execution_count": 47,
   "id": "56547ecb-ee36-4bfd-b7ad-668b3c48bc78",
   "metadata": {},
   "outputs": [
    {
     "data": {
      "text/plain": [
       "Reliant Contract No                0\n",
       "Service Address                    0\n",
       "Meter No                       14049\n",
       "ESID                               0\n",
       "Business Area                      0\n",
       "Cost Center                        0\n",
       "Fund                               0\n",
       "Bill Type                          0\n",
       "Bill Date                          0\n",
       "Read Date                          0\n",
       "Due Date                           0\n",
       "Meter Read                        16\n",
       "Base Cost ($)                      0\n",
       "T&D Discretionary ($)              0\n",
       "T&D Charges ($)                    0\n",
       "Current Due ($)                    0\n",
       "Adjustment ($)                 64229\n",
       "Total Due ($)                      0\n",
       "Franchise Fee ($)                  0\n",
       "Voucher Date                       0\n",
       "Billed Demand (KVA)               16\n",
       "kWh Usage                          1\n",
       "Nodal Cu Charge ($)                4\n",
       "Reliability Unit Charge ($)       16\n",
       "dtype: int64"
      ]
     },
     "execution_count": 47,
     "metadata": {},
     "output_type": "execute_result"
    }
   ],
   "source": [
    "data_2013_2.isna().sum()"
   ]
  },
  {
   "cell_type": "markdown",
   "id": "ecfbaeb7-4a9d-4cd5-8e1f-8596ed2236e7",
   "metadata": {},
   "source": [
    "### Checking Adjustment ($) column "
   ]
  },
  {
   "cell_type": "markdown",
   "id": "e73d549d-60e2-4438-85c3-15f5d6d0b123",
   "metadata": {},
   "source": [
    "This column was named Index Charge in the other FY 2013 electricity usage data file"
   ]
  },
  {
   "cell_type": "code",
   "execution_count": 48,
   "id": "21e53c24-7069-4cfa-91c3-7ec326d4de18",
   "metadata": {},
   "outputs": [
    {
     "data": {
      "text/plain": [
       "NaN       64229\n",
       "0.0        1576\n",
       "9425.9        1\n",
       "Name: Adjustment ($), dtype: int64"
      ]
     },
     "execution_count": 48,
     "metadata": {},
     "output_type": "execute_result"
    }
   ],
   "source": [
    "data_2013_2['Adjustment ($)'].value_counts(dropna=False)"
   ]
  },
  {
   "cell_type": "markdown",
   "id": "3de2479f-5ff3-436d-a655-d4522e2bf811",
   "metadata": {},
   "source": [
    "The column does not have any relevant information based on the above reported values. Electing to drop the column."
   ]
  },
  {
   "cell_type": "code",
   "execution_count": 49,
   "id": "88c7be17-4101-48c3-9551-6cc046020dbe",
   "metadata": {},
   "outputs": [],
   "source": [
    "data_2013_2.drop(columns=['Adjustment ($)'], inplace=True)"
   ]
  },
  {
   "cell_type": "markdown",
   "id": "10fb0978-ad24-44ea-8154-8a95e03f6925",
   "metadata": {},
   "source": [
    "### Checking Unique Number of Customers"
   ]
  },
  {
   "cell_type": "markdown",
   "id": "308e2715-8417-4564-abf4-56cc7f57f046",
   "metadata": {},
   "source": [
    "There are quite a few columns in the dataset that signify relating to a unique person/house/business. Checking the unique counts of such columns."
   ]
  },
  {
   "cell_type": "code",
   "execution_count": 50,
   "id": "de91c42e-a5db-4056-8ac5-5a2552828923",
   "metadata": {},
   "outputs": [
    {
     "name": "stdout",
     "output_type": "stream",
     "text": [
      "Number of Unique Values in Reliant Contract No: 5786\n",
      "Number of Unique Values in Service Address : 5725\n",
      "Number of Unique Values in Meter No: 4035\n",
      "Number of Unique Values in ESID: 5783\n",
      "Number of Unique Values in Business Area: 9\n",
      "Number of Unique Values in Cost Center: 39\n"
     ]
    }
   ],
   "source": [
    "check_unique_columns = ['Reliant Contract No', 'Service Address ', 'Meter No', \n",
    "                        'ESID', 'Business Area', 'Cost Center',]\n",
    "\n",
    "for col in check_unique_columns:\n",
    "    print(f'Number of Unique Values in {col}: {data_2013_2[col].nunique()}')"
   ]
  },
  {
   "cell_type": "markdown",
   "id": "763acea4-e999-4d1f-ab07-246e4b4f33f3",
   "metadata": {},
   "source": [
    "Based on the above reported values and further research online:\n",
    "\n",
    "ESID signifies a unique ID provided to each customer subscribed to the electricity board. It would be best to choose ESID and Service Address columns going forward as these would provide number of unique customers and the areas (streets) where higher usage of electricity occurs.\n",
    "\n",
    "Business Area signifies a grouping a number of buildings which covers a certain area. This would be useful usage patterns grouped by certain zones in the city."
   ]
  },
  {
   "cell_type": "markdown",
   "id": "0ae9734a-0c28-4e3f-adcd-98994e25cc32",
   "metadata": {},
   "source": [
    "### Checking Bill Type"
   ]
  },
  {
   "cell_type": "code",
   "execution_count": 51,
   "id": "1834ce4d-97c2-4893-bbb1-f1709185436f",
   "metadata": {},
   "outputs": [
    {
     "data": {
      "text/plain": [
       "T    65252\n",
       "P      552\n",
       "C        2\n",
       "Name: Bill Type, dtype: int64"
      ]
     },
     "execution_count": 51,
     "metadata": {},
     "output_type": "execute_result"
    }
   ],
   "source": [
    "data_2013_2['Bill Type'].value_counts(dropna=False)"
   ]
  },
  {
   "cell_type": "markdown",
   "id": "166a97a2-2355-4bb9-802a-4c36364b0565",
   "metadata": {},
   "source": [
    "Bill Type could signify the type of the connection given. Since commercial, residential and government spaces would have different type of pricing and needs this column could be capturing that information."
   ]
  },
  {
   "cell_type": "code",
   "execution_count": 52,
   "id": "7e70a5fe-c8f3-4938-a8ce-4754037cc5d3",
   "metadata": {},
   "outputs": [
    {
     "data": {
      "text/plain": [
       "(5725, 4035, 5783)"
      ]
     },
     "execution_count": 52,
     "metadata": {},
     "output_type": "execute_result"
    }
   ],
   "source": [
    "data_2013_2['Service Address '].nunique(), data_2013_2['Meter No'].nunique(), data_2013_2['ESID'].nunique()"
   ]
  },
  {
   "cell_type": "markdown",
   "id": "11404731-d045-44f0-a11d-3e040d5503d8",
   "metadata": {},
   "source": [
    "The next 3 columns are: Bill Date, Read Date and Due Date. Of these it would be best to choose the Bill date across all the data files to keep the data consistent. "
   ]
  },
  {
   "cell_type": "markdown",
   "id": "81d6c364-fe63-475a-ab98-ecbbfcc73e59",
   "metadata": {},
   "source": [
    "### Electricity Usage Statistics"
   ]
  },
  {
   "cell_type": "code",
   "execution_count": 53,
   "id": "b9fd56ab-9426-4aa0-8fe5-ad01df597f18",
   "metadata": {},
   "outputs": [
    {
     "data": {
      "text/html": [
       "<div>\n",
       "<style scoped>\n",
       "    .dataframe tbody tr th:only-of-type {\n",
       "        vertical-align: middle;\n",
       "    }\n",
       "\n",
       "    .dataframe tbody tr th {\n",
       "        vertical-align: top;\n",
       "    }\n",
       "\n",
       "    .dataframe thead th {\n",
       "        text-align: right;\n",
       "    }\n",
       "</style>\n",
       "<table border=\"1\" class=\"dataframe\">\n",
       "  <thead>\n",
       "    <tr style=\"text-align: right;\">\n",
       "      <th></th>\n",
       "      <th>Meter Read</th>\n",
       "      <th>Billed Demand (KVA)</th>\n",
       "      <th>kWh Usage</th>\n",
       "    </tr>\n",
       "  </thead>\n",
       "  <tbody>\n",
       "    <tr>\n",
       "      <th>count</th>\n",
       "      <td>65790.000000</td>\n",
       "      <td>65790.000000</td>\n",
       "      <td>6.580500e+04</td>\n",
       "    </tr>\n",
       "    <tr>\n",
       "      <th>mean</th>\n",
       "      <td>9743.299217</td>\n",
       "      <td>45.011893</td>\n",
       "      <td>1.926132e+04</td>\n",
       "    </tr>\n",
       "    <tr>\n",
       "      <th>std</th>\n",
       "      <td>17901.894291</td>\n",
       "      <td>382.634210</td>\n",
       "      <td>2.047392e+05</td>\n",
       "    </tr>\n",
       "    <tr>\n",
       "      <th>min</th>\n",
       "      <td>0.000000</td>\n",
       "      <td>0.000000</td>\n",
       "      <td>0.000000e+00</td>\n",
       "    </tr>\n",
       "    <tr>\n",
       "      <th>25%</th>\n",
       "      <td>0.000000</td>\n",
       "      <td>0.000000</td>\n",
       "      <td>1.000000e+00</td>\n",
       "    </tr>\n",
       "    <tr>\n",
       "      <th>50%</th>\n",
       "      <td>3004.500000</td>\n",
       "      <td>0.000000</td>\n",
       "      <td>2.410000e+02</td>\n",
       "    </tr>\n",
       "    <tr>\n",
       "      <th>75%</th>\n",
       "      <td>8669.000000</td>\n",
       "      <td>9.000000</td>\n",
       "      <td>1.789000e+03</td>\n",
       "    </tr>\n",
       "    <tr>\n",
       "      <th>max</th>\n",
       "      <td>239800.000000</td>\n",
       "      <td>16775.903614</td>\n",
       "      <td>9.689658e+06</td>\n",
       "    </tr>\n",
       "  </tbody>\n",
       "</table>\n",
       "</div>"
      ],
      "text/plain": [
       "          Meter Read  Billed Demand (KVA)     kWh Usage\n",
       "count   65790.000000         65790.000000  6.580500e+04\n",
       "mean     9743.299217            45.011893  1.926132e+04\n",
       "std     17901.894291           382.634210  2.047392e+05\n",
       "min         0.000000             0.000000  0.000000e+00\n",
       "25%         0.000000             0.000000  1.000000e+00\n",
       "50%      3004.500000             0.000000  2.410000e+02\n",
       "75%      8669.000000             9.000000  1.789000e+03\n",
       "max    239800.000000         16775.903614  9.689658e+06"
      ]
     },
     "execution_count": 53,
     "metadata": {},
     "output_type": "execute_result"
    }
   ],
   "source": [
    "data_2013_2[['Meter Read', 'Billed Demand (KVA)', 'kWh Usage']].describe()"
   ]
  },
  {
   "cell_type": "markdown",
   "id": "bb1ba08e-a031-4e23-88e1-7a8a12eb5d18",
   "metadata": {},
   "source": [
    "There are 3 columns that denote the amount of electricity: Meter Read, Billed Demand, kWh Usage.\n",
    "\n",
    "Using kWh Usage as a standard unit of measurement."
   ]
  },
  {
   "cell_type": "code",
   "execution_count": 54,
   "id": "cbba3189-02fa-45a1-ae10-9fc599367bea",
   "metadata": {},
   "outputs": [
    {
     "data": {
      "text/html": [
       "<div>\n",
       "<style scoped>\n",
       "    .dataframe tbody tr th:only-of-type {\n",
       "        vertical-align: middle;\n",
       "    }\n",
       "\n",
       "    .dataframe tbody tr th {\n",
       "        vertical-align: top;\n",
       "    }\n",
       "\n",
       "    .dataframe thead th {\n",
       "        text-align: right;\n",
       "    }\n",
       "</style>\n",
       "<table border=\"1\" class=\"dataframe\">\n",
       "  <thead>\n",
       "    <tr style=\"text-align: right;\">\n",
       "      <th></th>\n",
       "      <th>Base Cost ($)</th>\n",
       "      <th>T&amp;D Discretionary ($)</th>\n",
       "      <th>T&amp;D Charges ($)</th>\n",
       "      <th>Current Due ($)</th>\n",
       "      <th>Total Due ($)</th>\n",
       "      <th>Franchise Fee ($)</th>\n",
       "      <th>Nodal Cu Charge ($)</th>\n",
       "      <th>Reliability Unit Charge ($)</th>\n",
       "    </tr>\n",
       "  </thead>\n",
       "  <tbody>\n",
       "    <tr>\n",
       "      <th>count</th>\n",
       "      <td>65806.000000</td>\n",
       "      <td>65806.000000</td>\n",
       "      <td>65806.000000</td>\n",
       "      <td>65806.000000</td>\n",
       "      <td>65806.000000</td>\n",
       "      <td>65806.000000</td>\n",
       "      <td>65802.000000</td>\n",
       "      <td>65790.0</td>\n",
       "    </tr>\n",
       "    <tr>\n",
       "      <th>mean</th>\n",
       "      <td>1286.967789</td>\n",
       "      <td>374.537243</td>\n",
       "      <td>283.605427</td>\n",
       "      <td>1950.938646</td>\n",
       "      <td>1951.890851</td>\n",
       "      <td>-34.636836</td>\n",
       "      <td>5.695807</td>\n",
       "      <td>0.0</td>\n",
       "    </tr>\n",
       "    <tr>\n",
       "      <th>std</th>\n",
       "      <td>13665.877497</td>\n",
       "      <td>11888.489071</td>\n",
       "      <td>1995.337024</td>\n",
       "      <td>21571.815431</td>\n",
       "      <td>21572.522026</td>\n",
       "      <td>241.014300</td>\n",
       "      <td>132.109391</td>\n",
       "      <td>0.0</td>\n",
       "    </tr>\n",
       "    <tr>\n",
       "      <th>min</th>\n",
       "      <td>0.000000</td>\n",
       "      <td>-7091.410000</td>\n",
       "      <td>-37666.730000</td>\n",
       "      <td>-44264.860000</td>\n",
       "      <td>0.000000</td>\n",
       "      <td>-7017.800000</td>\n",
       "      <td>-323.080000</td>\n",
       "      <td>0.0</td>\n",
       "    </tr>\n",
       "    <tr>\n",
       "      <th>25%</th>\n",
       "      <td>0.070000</td>\n",
       "      <td>3.100000</td>\n",
       "      <td>6.020000</td>\n",
       "      <td>10.830000</td>\n",
       "      <td>11.020000</td>\n",
       "      <td>-5.520000</td>\n",
       "      <td>0.000000</td>\n",
       "      <td>0.0</td>\n",
       "    </tr>\n",
       "    <tr>\n",
       "      <th>50%</th>\n",
       "      <td>16.070000</td>\n",
       "      <td>5.800000</td>\n",
       "      <td>11.140000</td>\n",
       "      <td>32.770000</td>\n",
       "      <td>32.650000</td>\n",
       "      <td>-0.460000</td>\n",
       "      <td>0.000000</td>\n",
       "      <td>0.0</td>\n",
       "    </tr>\n",
       "    <tr>\n",
       "      <th>75%</th>\n",
       "      <td>119.257500</td>\n",
       "      <td>21.527500</td>\n",
       "      <td>81.792500</td>\n",
       "      <td>250.297500</td>\n",
       "      <td>247.592500</td>\n",
       "      <td>0.000000</td>\n",
       "      <td>0.140000</td>\n",
       "      <td>0.0</td>\n",
       "    </tr>\n",
       "    <tr>\n",
       "      <th>max</th>\n",
       "      <td>650951.220000</td>\n",
       "      <td>756478.120000</td>\n",
       "      <td>69826.360000</td>\n",
       "      <td>907001.560000</td>\n",
       "      <td>907001.560000</td>\n",
       "      <td>84.910000</td>\n",
       "      <td>20461.930000</td>\n",
       "      <td>0.0</td>\n",
       "    </tr>\n",
       "  </tbody>\n",
       "</table>\n",
       "</div>"
      ],
      "text/plain": [
       "       Base Cost ($)  T&D Discretionary ($)  T&D Charges ($)  Current Due ($)  \\\n",
       "count   65806.000000           65806.000000     65806.000000     65806.000000   \n",
       "mean     1286.967789             374.537243       283.605427      1950.938646   \n",
       "std     13665.877497           11888.489071      1995.337024     21571.815431   \n",
       "min         0.000000           -7091.410000    -37666.730000    -44264.860000   \n",
       "25%         0.070000               3.100000         6.020000        10.830000   \n",
       "50%        16.070000               5.800000        11.140000        32.770000   \n",
       "75%       119.257500              21.527500        81.792500       250.297500   \n",
       "max    650951.220000          756478.120000     69826.360000    907001.560000   \n",
       "\n",
       "       Total Due ($)  Franchise Fee ($)  Nodal Cu Charge ($)  \\\n",
       "count   65806.000000       65806.000000         65802.000000   \n",
       "mean     1951.890851         -34.636836             5.695807   \n",
       "std     21572.522026         241.014300           132.109391   \n",
       "min         0.000000       -7017.800000          -323.080000   \n",
       "25%        11.020000          -5.520000             0.000000   \n",
       "50%        32.650000          -0.460000             0.000000   \n",
       "75%       247.592500           0.000000             0.140000   \n",
       "max    907001.560000          84.910000         20461.930000   \n",
       "\n",
       "       Reliability Unit Charge ($)  \n",
       "count                      65790.0  \n",
       "mean                           0.0  \n",
       "std                            0.0  \n",
       "min                            0.0  \n",
       "25%                            0.0  \n",
       "50%                            0.0  \n",
       "75%                            0.0  \n",
       "max                            0.0  "
      ]
     },
     "execution_count": 54,
     "metadata": {},
     "output_type": "execute_result"
    }
   ],
   "source": [
    "data_2013_2[[\n",
    "    'Base Cost ($)', 'T&D Discretionary ($)', 'T&D Charges ($)', \n",
    "    'Current Due ($)', 'Total Due ($)', 'Franchise Fee ($)', \n",
    "    'Nodal Cu Charge ($)', 'Reliability Unit Charge ($)'\n",
    "     ]].describe()"
   ]
  },
  {
   "cell_type": "markdown",
   "id": "9d9d21bf-6eb0-4ce4-9a76-b72b3d7c76de",
   "metadata": {},
   "source": [
    "Reliability Unit Charge ($) does not contain any useful information. Electing to drop that column.\n",
    "\n",
    "The columns other than Current Due or Total Due are adding up the value present in these two columns. Going forward choosing the column Total Due ($). \n",
    "Based on the above statistics the columns Current Due and Total Due represent the same value. "
   ]
  },
  {
   "cell_type": "markdown",
   "id": "ea4b5873-2f14-456a-afd5-e0e80d9335e7",
   "metadata": {},
   "source": [
    "Based on the above analysis of the dataset choosing the following columns:\n",
    "\n",
    "1. ESID\n",
    "2. Business Area\n",
    "3. Service Address \n",
    "3. Bill Type\n",
    "4. Bill Date\n",
    "5. Total Due ($)\n",
    "6. kWh Usage"
   ]
  },
  {
   "cell_type": "markdown",
   "id": "54ccf86d-ea8a-44da-bc38-96a25b8cc890",
   "metadata": {},
   "source": [
    "### Selecting and Filtering Columns"
   ]
  },
  {
   "cell_type": "code",
   "execution_count": 55,
   "id": "7225b0a3-644a-4009-825c-42cb222fd59a",
   "metadata": {},
   "outputs": [],
   "source": [
    "data_2013_2 = data_2013_2[[\n",
    "    'ESID', 'Business Area', 'Service Address ', 'Bill Type',\n",
    "    'Bill Date', 'Total Due ($)', 'kWh Usage'\n",
    "]]"
   ]
  },
  {
   "cell_type": "code",
   "execution_count": 56,
   "id": "23aebbdb-11d8-45ef-ba42-2800ffb7635f",
   "metadata": {
    "tags": []
   },
   "outputs": [],
   "source": [
    "rename_cols = {\n",
    "    'ESID': 'esid',\n",
    "    'Business Area': 'business_area',\n",
    "    'Service Address ': 'service_address',\n",
    "    'Bill Type': 'bill_type',\n",
    "    'Bill Date': 'bill_date',\n",
    "    'Total Due ($)': 'total_due',\n",
    "    'kWh Usage': 'kwh_usage'\n",
    "}\n",
    "\n",
    "data_2013_2_main = data_2013_2.rename(columns=rename_cols)"
   ]
  },
  {
   "cell_type": "markdown",
   "id": "87c3bf5a-0882-453b-8018-9371e0497940",
   "metadata": {},
   "source": [
    "Checking for Nulls again and dtypes"
   ]
  },
  {
   "cell_type": "code",
   "execution_count": 57,
   "id": "89312d1e-ec8b-4436-9e65-9cc0b469cafb",
   "metadata": {},
   "outputs": [
    {
     "data": {
      "text/plain": [
       "esid               0\n",
       "business_area      0\n",
       "service_address    0\n",
       "bill_type          0\n",
       "bill_date          0\n",
       "total_due          0\n",
       "kwh_usage          1\n",
       "dtype: int64"
      ]
     },
     "execution_count": 57,
     "metadata": {},
     "output_type": "execute_result"
    }
   ],
   "source": [
    "data_2013_2_main.isna().sum()"
   ]
  },
  {
   "cell_type": "code",
   "execution_count": 58,
   "id": "4082d2d7-4c4a-479a-a541-daa6d10be721",
   "metadata": {},
   "outputs": [],
   "source": [
    "data_2013_2_main.dropna(subset=['kwh_usage'], inplace=True)"
   ]
  },
  {
   "cell_type": "code",
   "execution_count": 59,
   "id": "5c623a3d-0f55-4b0d-9b04-226e12146372",
   "metadata": {},
   "outputs": [
    {
     "data": {
      "text/plain": [
       "esid               0\n",
       "business_area      0\n",
       "service_address    0\n",
       "bill_type          0\n",
       "bill_date          0\n",
       "total_due          0\n",
       "kwh_usage          0\n",
       "dtype: int64"
      ]
     },
     "execution_count": 59,
     "metadata": {},
     "output_type": "execute_result"
    }
   ],
   "source": [
    "data_2013_2_main.isna().sum()"
   ]
  },
  {
   "cell_type": "code",
   "execution_count": 60,
   "id": "ff6211ab-a784-47f7-84d7-25b343c3ca26",
   "metadata": {},
   "outputs": [
    {
     "data": {
      "text/plain": [
       "esid                       object\n",
       "business_area               int64\n",
       "service_address            object\n",
       "bill_type                  object\n",
       "bill_date          datetime64[ns]\n",
       "total_due                 float64\n",
       "kwh_usage                 float64\n",
       "dtype: object"
      ]
     },
     "execution_count": 60,
     "metadata": {},
     "output_type": "execute_result"
    }
   ],
   "source": [
    "data_2013_2_main.dtypes"
   ]
  },
  {
   "cell_type": "code",
   "execution_count": 61,
   "id": "4348be4a-dc23-4af4-b403-1f1d8a38f392",
   "metadata": {},
   "outputs": [
    {
     "data": {
      "text/plain": [
       "(65805, 7)"
      ]
     },
     "execution_count": 61,
     "metadata": {},
     "output_type": "execute_result"
    }
   ],
   "source": [
    "data_2013_2_main.shape"
   ]
  },
  {
   "cell_type": "code",
   "execution_count": 62,
   "id": "a23eb590-52aa-4615-bd04-76b41ac98122",
   "metadata": {},
   "outputs": [
    {
     "data": {
      "text/html": [
       "<div>\n",
       "<style scoped>\n",
       "    .dataframe tbody tr th:only-of-type {\n",
       "        vertical-align: middle;\n",
       "    }\n",
       "\n",
       "    .dataframe tbody tr th {\n",
       "        vertical-align: top;\n",
       "    }\n",
       "\n",
       "    .dataframe thead th {\n",
       "        text-align: right;\n",
       "    }\n",
       "</style>\n",
       "<table border=\"1\" class=\"dataframe\">\n",
       "  <thead>\n",
       "    <tr style=\"text-align: right;\">\n",
       "      <th></th>\n",
       "      <th>total_due</th>\n",
       "      <th>kwh_usage</th>\n",
       "    </tr>\n",
       "  </thead>\n",
       "  <tbody>\n",
       "    <tr>\n",
       "      <th>0</th>\n",
       "      <td>3.585927</td>\n",
       "      <td>4.777556</td>\n",
       "    </tr>\n",
       "    <tr>\n",
       "      <th>1</th>\n",
       "      <td>3.097755</td>\n",
       "      <td>4.054406</td>\n",
       "    </tr>\n",
       "    <tr>\n",
       "      <th>2</th>\n",
       "      <td>3.299719</td>\n",
       "      <td>4.359162</td>\n",
       "    </tr>\n",
       "    <tr>\n",
       "      <th>3</th>\n",
       "      <td>3.480909</td>\n",
       "      <td>4.642764</td>\n",
       "    </tr>\n",
       "    <tr>\n",
       "      <th>4</th>\n",
       "      <td>3.327772</td>\n",
       "      <td>4.438234</td>\n",
       "    </tr>\n",
       "    <tr>\n",
       "      <th>...</th>\n",
       "      <td>...</td>\n",
       "      <td>...</td>\n",
       "    </tr>\n",
       "    <tr>\n",
       "      <th>65801</th>\n",
       "      <td>-0.058835</td>\n",
       "      <td>-0.081652</td>\n",
       "    </tr>\n",
       "    <tr>\n",
       "      <th>65802</th>\n",
       "      <td>-0.059092</td>\n",
       "      <td>-0.081652</td>\n",
       "    </tr>\n",
       "    <tr>\n",
       "      <th>65803</th>\n",
       "      <td>-0.058462</td>\n",
       "      <td>-0.081652</td>\n",
       "    </tr>\n",
       "    <tr>\n",
       "      <th>65804</th>\n",
       "      <td>-0.058694</td>\n",
       "      <td>-0.081652</td>\n",
       "    </tr>\n",
       "    <tr>\n",
       "      <th>65805</th>\n",
       "      <td>-0.058593</td>\n",
       "      <td>-0.081652</td>\n",
       "    </tr>\n",
       "  </tbody>\n",
       "</table>\n",
       "<p>65805 rows × 2 columns</p>\n",
       "</div>"
      ],
      "text/plain": [
       "       total_due  kwh_usage\n",
       "0       3.585927   4.777556\n",
       "1       3.097755   4.054406\n",
       "2       3.299719   4.359162\n",
       "3       3.480909   4.642764\n",
       "4       3.327772   4.438234\n",
       "...          ...        ...\n",
       "65801  -0.058835  -0.081652\n",
       "65802  -0.059092  -0.081652\n",
       "65803  -0.058462  -0.081652\n",
       "65804  -0.058694  -0.081652\n",
       "65805  -0.058593  -0.081652\n",
       "\n",
       "[65805 rows x 2 columns]"
      ]
     },
     "execution_count": 62,
     "metadata": {},
     "output_type": "execute_result"
    }
   ],
   "source": [
    "zscore_2013_2 = stats.zscore(data_2013_2_main[['total_due', 'kwh_usage']])\n",
    "\n",
    "zscore_2013_2"
   ]
  },
  {
   "cell_type": "markdown",
   "id": "16c6647f-bfc0-4bc4-b36f-6a8bb9d1dd8a",
   "metadata": {},
   "source": [
    "Each zscore value signifies how many standard deviations away an individual value is from the mean. This is a good indicator to finding outliers in the dataframe.\n",
    "\n",
    "Usually z-score=3 is considered as a cut-off value to set the limit. Therefore, any z-score greater than +3 or less than -3 is considered as outlier which is pretty much similar to standard deviation method"
   ]
  },
  {
   "cell_type": "code",
   "execution_count": 63,
   "id": "f65ee032-d8df-4319-aba0-dd0db8695cc5",
   "metadata": {},
   "outputs": [
    {
     "data": {
      "text/plain": [
       "(65805, 7)"
      ]
     },
     "execution_count": 63,
     "metadata": {},
     "output_type": "execute_result"
    }
   ],
   "source": [
    "# data_2013_2_main = data_2013_2_main[(np.abs(zscore_2013_2) < 3).all(axis=1)]\n",
    "\n",
    "data_2013_2_main.shape"
   ]
  },
  {
   "cell_type": "markdown",
   "id": "a83296b6-f5c3-409c-b0c5-f89ca3e9c3b7",
   "metadata": {},
   "source": [
    "The number of rows has decreased from 65,805 to 65,388. So 417 rows were outliers based on the data."
   ]
  },
  {
   "cell_type": "code",
   "execution_count": 64,
   "id": "7572f556-9f98-42dc-8c01-8d0b64ca850f",
   "metadata": {},
   "outputs": [
    {
     "data": {
      "text/html": [
       "<div>\n",
       "<style scoped>\n",
       "    .dataframe tbody tr th:only-of-type {\n",
       "        vertical-align: middle;\n",
       "    }\n",
       "\n",
       "    .dataframe tbody tr th {\n",
       "        vertical-align: top;\n",
       "    }\n",
       "\n",
       "    .dataframe thead th {\n",
       "        text-align: right;\n",
       "    }\n",
       "</style>\n",
       "<table border=\"1\" class=\"dataframe\">\n",
       "  <thead>\n",
       "    <tr style=\"text-align: right;\">\n",
       "      <th></th>\n",
       "      <th>esid</th>\n",
       "      <th>business_area</th>\n",
       "      <th>service_address</th>\n",
       "      <th>bill_type</th>\n",
       "      <th>bill_date</th>\n",
       "      <th>total_due</th>\n",
       "      <th>kwh_usage</th>\n",
       "    </tr>\n",
       "  </thead>\n",
       "  <tbody>\n",
       "    <tr>\n",
       "      <th>0</th>\n",
       "      <td>1008901000140050014100</td>\n",
       "      <td>2000</td>\n",
       "      <td>10518 BELLAIRE</td>\n",
       "      <td>T</td>\n",
       "      <td>2013-04-29</td>\n",
       "      <td>79309.40</td>\n",
       "      <td>997407.0</td>\n",
       "    </tr>\n",
       "    <tr>\n",
       "      <th>1</th>\n",
       "      <td>1008901000140050014100</td>\n",
       "      <td>2000</td>\n",
       "      <td>10518 BELLAIRE</td>\n",
       "      <td>T</td>\n",
       "      <td>2013-03-28</td>\n",
       "      <td>68778.30</td>\n",
       "      <td>849351.0</td>\n",
       "    </tr>\n",
       "    <tr>\n",
       "      <th>2</th>\n",
       "      <td>1008901000140050014100</td>\n",
       "      <td>2000</td>\n",
       "      <td>10518 BELLAIRE</td>\n",
       "      <td>T</td>\n",
       "      <td>2013-02-26</td>\n",
       "      <td>73135.18</td>\n",
       "      <td>911746.0</td>\n",
       "    </tr>\n",
       "    <tr>\n",
       "      <th>3</th>\n",
       "      <td>1008901000140050014100</td>\n",
       "      <td>2000</td>\n",
       "      <td>10518 BELLAIRE</td>\n",
       "      <td>T</td>\n",
       "      <td>2013-01-28</td>\n",
       "      <td>77043.90</td>\n",
       "      <td>969810.0</td>\n",
       "    </tr>\n",
       "    <tr>\n",
       "      <th>4</th>\n",
       "      <td>1008901000140050014100</td>\n",
       "      <td>2000</td>\n",
       "      <td>10518 BELLAIRE</td>\n",
       "      <td>T</td>\n",
       "      <td>2012-12-28</td>\n",
       "      <td>73740.34</td>\n",
       "      <td>927935.0</td>\n",
       "    </tr>\n",
       "  </tbody>\n",
       "</table>\n",
       "</div>"
      ],
      "text/plain": [
       "                     esid  business_area service_address bill_type  bill_date  \\\n",
       "0  1008901000140050014100           2000  10518 BELLAIRE         T 2013-04-29   \n",
       "1  1008901000140050014100           2000  10518 BELLAIRE         T 2013-03-28   \n",
       "2  1008901000140050014100           2000  10518 BELLAIRE         T 2013-02-26   \n",
       "3  1008901000140050014100           2000  10518 BELLAIRE         T 2013-01-28   \n",
       "4  1008901000140050014100           2000  10518 BELLAIRE         T 2012-12-28   \n",
       "\n",
       "   total_due  kwh_usage  \n",
       "0   79309.40   997407.0  \n",
       "1   68778.30   849351.0  \n",
       "2   73135.18   911746.0  \n",
       "3   77043.90   969810.0  \n",
       "4   73740.34   927935.0  "
      ]
     },
     "execution_count": 64,
     "metadata": {},
     "output_type": "execute_result"
    }
   ],
   "source": [
    "data_2013_2_main.head(5)"
   ]
  },
  {
   "cell_type": "code",
   "execution_count": 65,
   "id": "242ecd0e-32f9-4bcd-998a-b1324dd9c916",
   "metadata": {},
   "outputs": [
    {
     "data": {
      "text/plain": [
       "1"
      ]
     },
     "execution_count": 65,
     "metadata": {},
     "output_type": "execute_result"
    }
   ],
   "source": [
    "orig_shape_2013_2 - data_2013_2_main.shape[0]"
   ]
  },
  {
   "cell_type": "code",
   "execution_count": 66,
   "id": "5cef892b-d4b2-42cf-965e-7fc612f408b3",
   "metadata": {},
   "outputs": [],
   "source": [
    "data_2013_2_main.to_csv('electricity_usage_data_2013_2.csv', index=False)"
   ]
  },
  {
   "cell_type": "markdown",
   "id": "ec13f511-8ea0-4f0a-8c1b-f08b957801c6",
   "metadata": {
    "tags": []
   },
   "source": [
    "## Data FY 2014 - Sharmisha"
   ]
  },
  {
   "cell_type": "code",
   "execution_count": 67,
   "id": "54e617f3-aaf7-4c53-8f5e-ff4036fe1e97",
   "metadata": {},
   "outputs": [
    {
     "data": {
      "text/plain": [
       "(67838, 24)"
      ]
     },
     "execution_count": 67,
     "metadata": {},
     "output_type": "execute_result"
    }
   ],
   "source": [
    "data_2014 = pd.read_excel('houston-houston-electricity-bills/coh-fy2014-ee-bills-july2013-june2014.xlsx')\n",
    "orig_shape_2014 = data_2014.shape[0]\n",
    "\n",
    "data_2014.shape"
   ]
  },
  {
   "cell_type": "code",
   "execution_count": 68,
   "id": "5064e209-5638-431b-b9eb-56c76c46dacf",
   "metadata": {},
   "outputs": [
    {
     "data": {
      "text/html": [
       "<div>\n",
       "<style scoped>\n",
       "    .dataframe tbody tr th:only-of-type {\n",
       "        vertical-align: middle;\n",
       "    }\n",
       "\n",
       "    .dataframe tbody tr th {\n",
       "        vertical-align: top;\n",
       "    }\n",
       "\n",
       "    .dataframe thead th {\n",
       "        text-align: right;\n",
       "    }\n",
       "</style>\n",
       "<table border=\"1\" class=\"dataframe\">\n",
       "  <thead>\n",
       "    <tr style=\"text-align: right;\">\n",
       "      <th></th>\n",
       "      <th>Reliant Contract No</th>\n",
       "      <th>Service Address</th>\n",
       "      <th>Meter No</th>\n",
       "      <th>ESID</th>\n",
       "      <th>Business Area</th>\n",
       "      <th>Cost Center</th>\n",
       "      <th>Fund</th>\n",
       "      <th>Bill Type</th>\n",
       "      <th>Bill Date</th>\n",
       "      <th>Read Date</th>\n",
       "      <th>Due Date</th>\n",
       "      <th>Meter Read</th>\n",
       "      <th>Base Cost ($)</th>\n",
       "      <th>T&amp;D Discretionary ($)</th>\n",
       "      <th>T&amp;D Charges ($)</th>\n",
       "      <th>Current Due ($)</th>\n",
       "      <th>Index Charge ($)</th>\n",
       "      <th>Total Due ($)</th>\n",
       "      <th>Franchise Fee ($)</th>\n",
       "      <th>Voucher Date</th>\n",
       "      <th>Billed Demand (KVA)</th>\n",
       "      <th>kWh Usage</th>\n",
       "      <th>Nodal Cu Charge ($)</th>\n",
       "      <th>Adder Charge ($)</th>\n",
       "    </tr>\n",
       "  </thead>\n",
       "  <tbody>\n",
       "    <tr>\n",
       "      <th>0</th>\n",
       "      <td>2059605</td>\n",
       "      <td>10518 BELLAIRE</td>\n",
       "      <td>303261</td>\n",
       "      <td>1008901000140050014100</td>\n",
       "      <td>2000</td>\n",
       "      <td>2000040005</td>\n",
       "      <td>8300</td>\n",
       "      <td>T</td>\n",
       "      <td>2014-05-28</td>\n",
       "      <td>2014-05-21</td>\n",
       "      <td>2014-06-27</td>\n",
       "      <td>64981.0</td>\n",
       "      <td>36098.63</td>\n",
       "      <td>2600.53</td>\n",
       "      <td>10078.92</td>\n",
       "      <td>50249.89</td>\n",
       "      <td>0.0</td>\n",
       "      <td>50249.89</td>\n",
       "      <td>-1014.83</td>\n",
       "      <td>2014-05-29</td>\n",
       "      <td>1470.526316</td>\n",
       "      <td>818192</td>\n",
       "      <td>479.19</td>\n",
       "      <td>0.0</td>\n",
       "    </tr>\n",
       "    <tr>\n",
       "      <th>1</th>\n",
       "      <td>2059605</td>\n",
       "      <td>10518 BELLAIRE</td>\n",
       "      <td>303261</td>\n",
       "      <td>1008901000140050014100</td>\n",
       "      <td>2000</td>\n",
       "      <td>2000040005</td>\n",
       "      <td>8300</td>\n",
       "      <td>T</td>\n",
       "      <td>2014-04-28</td>\n",
       "      <td>2014-04-22</td>\n",
       "      <td>2014-05-28</td>\n",
       "      <td>64299.0</td>\n",
       "      <td>38619.91</td>\n",
       "      <td>2576.95</td>\n",
       "      <td>9978.70</td>\n",
       "      <td>52378.23</td>\n",
       "      <td>0.0</td>\n",
       "      <td>52378.23</td>\n",
       "      <td>-1005.86</td>\n",
       "      <td>2014-04-29</td>\n",
       "      <td>1442.268041</td>\n",
       "      <td>875338</td>\n",
       "      <td>161.23</td>\n",
       "      <td>0.0</td>\n",
       "    </tr>\n",
       "    <tr>\n",
       "      <th>2</th>\n",
       "      <td>2059605</td>\n",
       "      <td>10518 BELLAIRE</td>\n",
       "      <td>303261</td>\n",
       "      <td>1008901000140050014100</td>\n",
       "      <td>2000</td>\n",
       "      <td>2000040005</td>\n",
       "      <td>8300</td>\n",
       "      <td>T</td>\n",
       "      <td>2014-03-27</td>\n",
       "      <td>2014-03-23</td>\n",
       "      <td>2014-04-26</td>\n",
       "      <td>63569.0</td>\n",
       "      <td>36275.51</td>\n",
       "      <td>2538.54</td>\n",
       "      <td>9896.25</td>\n",
       "      <td>49788.85</td>\n",
       "      <td>0.0</td>\n",
       "      <td>49788.85</td>\n",
       "      <td>-981.00</td>\n",
       "      <td>2014-03-28</td>\n",
       "      <td>1425.000000</td>\n",
       "      <td>822201</td>\n",
       "      <td>93.04</td>\n",
       "      <td>0.0</td>\n",
       "    </tr>\n",
       "    <tr>\n",
       "      <th>3</th>\n",
       "      <td>2059605</td>\n",
       "      <td>10518 BELLAIRE</td>\n",
       "      <td>303261</td>\n",
       "      <td>1008901000140050014100</td>\n",
       "      <td>2000</td>\n",
       "      <td>2000040005</td>\n",
       "      <td>8300</td>\n",
       "      <td>T</td>\n",
       "      <td>2014-02-27</td>\n",
       "      <td>2014-02-23</td>\n",
       "      <td>2014-03-29</td>\n",
       "      <td>62884.0</td>\n",
       "      <td>43283.31</td>\n",
       "      <td>2207.88</td>\n",
       "      <td>9373.41</td>\n",
       "      <td>56056.70</td>\n",
       "      <td>0.0</td>\n",
       "      <td>56056.70</td>\n",
       "      <td>-1053.49</td>\n",
       "      <td>2014-02-28</td>\n",
       "      <td>1513.265306</td>\n",
       "      <td>981036</td>\n",
       "      <td>77.36</td>\n",
       "      <td>0.0</td>\n",
       "    </tr>\n",
       "    <tr>\n",
       "      <th>4</th>\n",
       "      <td>2059605</td>\n",
       "      <td>10518 BELLAIRE</td>\n",
       "      <td>303261</td>\n",
       "      <td>1008901000140050014100</td>\n",
       "      <td>2000</td>\n",
       "      <td>2000040005</td>\n",
       "      <td>8300</td>\n",
       "      <td>T</td>\n",
       "      <td>2014-01-27</td>\n",
       "      <td>2014-01-21</td>\n",
       "      <td>2014-02-26</td>\n",
       "      <td>62066.0</td>\n",
       "      <td>37987.10</td>\n",
       "      <td>1992.16</td>\n",
       "      <td>8762.55</td>\n",
       "      <td>49748.12</td>\n",
       "      <td>0.0</td>\n",
       "      <td>49748.12</td>\n",
       "      <td>-950.63</td>\n",
       "      <td>2014-01-30</td>\n",
       "      <td>1373.195876</td>\n",
       "      <td>860995</td>\n",
       "      <td>17.73</td>\n",
       "      <td>0.0</td>\n",
       "    </tr>\n",
       "  </tbody>\n",
       "</table>\n",
       "</div>"
      ],
      "text/plain": [
       "   Reliant Contract No Service Address  Meter No                    ESID  \\\n",
       "0              2059605   10518 BELLAIRE   303261  1008901000140050014100   \n",
       "1              2059605   10518 BELLAIRE   303261  1008901000140050014100   \n",
       "2              2059605   10518 BELLAIRE   303261  1008901000140050014100   \n",
       "3              2059605   10518 BELLAIRE   303261  1008901000140050014100   \n",
       "4              2059605   10518 BELLAIRE   303261  1008901000140050014100   \n",
       "\n",
       "   Business Area  Cost Center  Fund Bill Type  Bill Date  Read Date  \\\n",
       "0           2000   2000040005  8300         T 2014-05-28 2014-05-21   \n",
       "1           2000   2000040005  8300         T 2014-04-28 2014-04-22   \n",
       "2           2000   2000040005  8300         T 2014-03-27 2014-03-23   \n",
       "3           2000   2000040005  8300         T 2014-02-27 2014-02-23   \n",
       "4           2000   2000040005  8300         T 2014-01-27 2014-01-21   \n",
       "\n",
       "    Due Date  Meter Read  Base Cost ($)  T&D Discretionary ($)  \\\n",
       "0 2014-06-27     64981.0       36098.63                2600.53   \n",
       "1 2014-05-28     64299.0       38619.91                2576.95   \n",
       "2 2014-04-26     63569.0       36275.51                2538.54   \n",
       "3 2014-03-29     62884.0       43283.31                2207.88   \n",
       "4 2014-02-26     62066.0       37987.10                1992.16   \n",
       "\n",
       "   T&D Charges ($)  Current Due ($)  Index Charge ($)  Total Due ($)  \\\n",
       "0         10078.92         50249.89               0.0       50249.89   \n",
       "1          9978.70         52378.23               0.0       52378.23   \n",
       "2          9896.25         49788.85               0.0       49788.85   \n",
       "3          9373.41         56056.70               0.0       56056.70   \n",
       "4          8762.55         49748.12               0.0       49748.12   \n",
       "\n",
       "   Franchise Fee ($) Voucher Date  Billed Demand (KVA)  kWh Usage  \\\n",
       "0           -1014.83   2014-05-29          1470.526316     818192   \n",
       "1           -1005.86   2014-04-29          1442.268041     875338   \n",
       "2            -981.00   2014-03-28          1425.000000     822201   \n",
       "3           -1053.49   2014-02-28          1513.265306     981036   \n",
       "4            -950.63   2014-01-30          1373.195876     860995   \n",
       "\n",
       "   Nodal Cu Charge ($)  Adder Charge ($)  \n",
       "0               479.19               0.0  \n",
       "1               161.23               0.0  \n",
       "2                93.04               0.0  \n",
       "3                77.36               0.0  \n",
       "4                17.73               0.0  "
      ]
     },
     "execution_count": 68,
     "metadata": {},
     "output_type": "execute_result"
    }
   ],
   "source": [
    "data_2014.head(5)"
   ]
  },
  {
   "cell_type": "markdown",
   "id": "0dce9efa-08c3-416a-8938-95739b1ef1da",
   "metadata": {},
   "source": [
    "### Checking Nulls"
   ]
  },
  {
   "cell_type": "code",
   "execution_count": 69,
   "id": "5ea5d502-7fa4-4e91-9474-27196168102a",
   "metadata": {},
   "outputs": [
    {
     "data": {
      "text/plain": [
       "Reliant Contract No          0\n",
       "Service Address              0\n",
       "Meter No                 17633\n",
       "ESID                         0\n",
       "Business Area                0\n",
       "Cost Center                  0\n",
       "Fund                         0\n",
       "Bill Type                    0\n",
       "Bill Date                    0\n",
       "Read Date                    0\n",
       "Due Date                     0\n",
       "Meter Read                  16\n",
       "Base Cost ($)                6\n",
       "T&D Discretionary ($)        0\n",
       "T&D Charges ($)              0\n",
       "Current Due ($)              0\n",
       "Index Charge ($)             3\n",
       "Total Due ($)                0\n",
       "Franchise Fee ($)            0\n",
       "Voucher Date                 0\n",
       "Billed Demand (KVA)         16\n",
       "kWh Usage                    0\n",
       "Nodal Cu Charge ($)          7\n",
       "Adder Charge ($)             3\n",
       "dtype: int64"
      ]
     },
     "execution_count": 69,
     "metadata": {},
     "output_type": "execute_result"
    }
   ],
   "source": [
    "data_2014.isna().sum()"
   ]
  },
  {
   "cell_type": "markdown",
   "id": "bf82691b-2123-4ec7-9182-ab6b73b33011",
   "metadata": {},
   "source": [
    "### Checking Index Charge ($) column - This was previously Adjustment"
   ]
  },
  {
   "cell_type": "code",
   "execution_count": 70,
   "id": "0d57347c-ba6b-4711-af49-cfa18c901bda",
   "metadata": {},
   "outputs": [
    {
     "data": {
      "text/plain": [
       "0.00        67320\n",
       "NaN             3\n",
       "8.23            3\n",
       "8.04            2\n",
       "7.36            2\n",
       "            ...  \n",
       "13587.81        1\n",
       "10639.12        1\n",
       "9521.45         1\n",
       "93.97           1\n",
       "70.22           1\n",
       "Name: Index Charge ($), Length: 511, dtype: int64"
      ]
     },
     "execution_count": 70,
     "metadata": {},
     "output_type": "execute_result"
    }
   ],
   "source": [
    "data_2014['Index Charge ($)'].value_counts(dropna=False)"
   ]
  },
  {
   "cell_type": "markdown",
   "id": "268b28a8-9427-4962-b1da-b0b658209cf3",
   "metadata": {},
   "source": [
    "The column does does have information regarding a certain price. Since we are using the total due amount at the end, Index Charge ($) does not need to be present again, as it would be included in the total due amount."
   ]
  },
  {
   "cell_type": "code",
   "execution_count": 71,
   "id": "50e387fa-2b4f-47ee-aa7a-3f996259a13d",
   "metadata": {},
   "outputs": [],
   "source": [
    "data_2014.drop(columns=['Index Charge ($)'], inplace=True)"
   ]
  },
  {
   "cell_type": "markdown",
   "id": "56eca987-3895-4972-8156-b17958f92960",
   "metadata": {},
   "source": [
    "### Checking Unique Number of Customers"
   ]
  },
  {
   "cell_type": "markdown",
   "id": "44832bc6-9f98-4a0c-ac6f-de048889960e",
   "metadata": {},
   "source": [
    "There are quite a few columns in the dataset that signify relating to a unique person/house/business. Checking the unique counts of such columns."
   ]
  },
  {
   "cell_type": "code",
   "execution_count": 72,
   "id": "e26e9e40-3a05-4675-9145-e26817bd20a2",
   "metadata": {},
   "outputs": [
    {
     "name": "stdout",
     "output_type": "stream",
     "text": [
      "Number of Unique Values in Reliant Contract No: 5888\n",
      "Number of Unique Values in Service Address : 5824\n",
      "Number of Unique Values in Meter No: 4026\n",
      "Number of Unique Values in ESID: 5885\n",
      "Number of Unique Values in Business Area: 8\n",
      "Number of Unique Values in Cost Center: 34\n"
     ]
    }
   ],
   "source": [
    "check_unique_columns = ['Reliant Contract No', 'Service Address ', 'Meter No', \n",
    "                        'ESID', 'Business Area', 'Cost Center',]\n",
    "\n",
    "for col in check_unique_columns:\n",
    "    print(f'Number of Unique Values in {col}: {data_2014[col].nunique()}')"
   ]
  },
  {
   "cell_type": "markdown",
   "id": "0698a4c7-b516-406f-995e-05e5a06620cb",
   "metadata": {},
   "source": [
    "NOTE: Compared to previous years, there is one less business area.\n",
    "\n",
    "Based on the above reported values and further research online:\n",
    "\n",
    "ESID signifies a unique ID provided to each customer subscribed to the electricity board. It would be best to choose ESID and Service Address columns going forward as these would provide number of unique customers and the areas (streets) where higher usage of electricity occurs.\n",
    "\n",
    "Business Area signifies a grouping a number of buildings which covers a certain area. This would be useful usage patterns grouped by certain zones in the city."
   ]
  },
  {
   "cell_type": "markdown",
   "id": "650bf0b7-d5c3-439f-924f-84454b552ef5",
   "metadata": {},
   "source": [
    "### Checking Bill Type"
   ]
  },
  {
   "cell_type": "code",
   "execution_count": 73,
   "id": "822f8063-99d0-400c-b936-b6db83b2c76d",
   "metadata": {},
   "outputs": [
    {
     "data": {
      "text/plain": [
       "T    67340\n",
       "P      498\n",
       "Name: Bill Type, dtype: int64"
      ]
     },
     "execution_count": 73,
     "metadata": {},
     "output_type": "execute_result"
    }
   ],
   "source": [
    "data_2014['Bill Type'].value_counts(dropna=False)"
   ]
  },
  {
   "cell_type": "markdown",
   "id": "1c26be66-cc71-4bfb-b9c2-3c3bb1621b02",
   "metadata": {},
   "source": [
    "Bill Type could signify the type of the connection given. Since commercial, residential and government spaces would have different type of pricing and needs this column could be capturing that information.\n",
    "\n",
    "Previously there were 3 types of Bills. T, P, and C. But in year 2014 there are only 2 types. "
   ]
  },
  {
   "cell_type": "code",
   "execution_count": 74,
   "id": "aead4522-9d59-4ed0-a18c-4cf14e41bbb0",
   "metadata": {},
   "outputs": [
    {
     "data": {
      "text/plain": [
       "(5824, 4026, 5885)"
      ]
     },
     "execution_count": 74,
     "metadata": {},
     "output_type": "execute_result"
    }
   ],
   "source": [
    "data_2014['Service Address '].nunique(), data_2014['Meter No'].nunique(), data_2014['ESID'].nunique()"
   ]
  },
  {
   "cell_type": "markdown",
   "id": "02c716f7-8c11-4bda-b624-ffe0fd154cf3",
   "metadata": {},
   "source": [
    "The next 3 columns are: Bill Date, Read Date and Due Date. Of these it would be best to choose the Bill date across all the data files to keep the data consistent. "
   ]
  },
  {
   "cell_type": "markdown",
   "id": "40e7f98a-3db8-4313-bce0-a7e6b30147a7",
   "metadata": {},
   "source": [
    "### Electricity Usage Statistics"
   ]
  },
  {
   "cell_type": "code",
   "execution_count": 75,
   "id": "5cfa3301-de70-4d6d-882c-5e0d51c20a87",
   "metadata": {},
   "outputs": [
    {
     "data": {
      "text/html": [
       "<div>\n",
       "<style scoped>\n",
       "    .dataframe tbody tr th:only-of-type {\n",
       "        vertical-align: middle;\n",
       "    }\n",
       "\n",
       "    .dataframe tbody tr th {\n",
       "        vertical-align: top;\n",
       "    }\n",
       "\n",
       "    .dataframe thead th {\n",
       "        text-align: right;\n",
       "    }\n",
       "</style>\n",
       "<table border=\"1\" class=\"dataframe\">\n",
       "  <thead>\n",
       "    <tr style=\"text-align: right;\">\n",
       "      <th></th>\n",
       "      <th>Meter Read</th>\n",
       "      <th>Billed Demand (KVA)</th>\n",
       "      <th>kWh Usage</th>\n",
       "    </tr>\n",
       "  </thead>\n",
       "  <tbody>\n",
       "    <tr>\n",
       "      <th>count</th>\n",
       "      <td>67822.000000</td>\n",
       "      <td>67822.000000</td>\n",
       "      <td>6.783800e+04</td>\n",
       "    </tr>\n",
       "    <tr>\n",
       "      <th>mean</th>\n",
       "      <td>11922.180792</td>\n",
       "      <td>41.816244</td>\n",
       "      <td>1.757642e+04</td>\n",
       "    </tr>\n",
       "    <tr>\n",
       "      <th>std</th>\n",
       "      <td>19950.210597</td>\n",
       "      <td>365.658193</td>\n",
       "      <td>1.925858e+05</td>\n",
       "    </tr>\n",
       "    <tr>\n",
       "      <th>min</th>\n",
       "      <td>0.000000</td>\n",
       "      <td>0.000000</td>\n",
       "      <td>0.000000e+00</td>\n",
       "    </tr>\n",
       "    <tr>\n",
       "      <th>25%</th>\n",
       "      <td>0.000000</td>\n",
       "      <td>0.000000</td>\n",
       "      <td>1.000000e+00</td>\n",
       "    </tr>\n",
       "    <tr>\n",
       "      <th>50%</th>\n",
       "      <td>4507.000000</td>\n",
       "      <td>0.000000</td>\n",
       "      <td>2.200000e+02</td>\n",
       "    </tr>\n",
       "    <tr>\n",
       "      <th>75%</th>\n",
       "      <td>12230.750000</td>\n",
       "      <td>7.000000</td>\n",
       "      <td>1.419750e+03</td>\n",
       "    </tr>\n",
       "    <tr>\n",
       "      <th>max</th>\n",
       "      <td>492196.000000</td>\n",
       "      <td>17348.148148</td>\n",
       "      <td>9.383361e+06</td>\n",
       "    </tr>\n",
       "  </tbody>\n",
       "</table>\n",
       "</div>"
      ],
      "text/plain": [
       "          Meter Read  Billed Demand (KVA)     kWh Usage\n",
       "count   67822.000000         67822.000000  6.783800e+04\n",
       "mean    11922.180792            41.816244  1.757642e+04\n",
       "std     19950.210597           365.658193  1.925858e+05\n",
       "min         0.000000             0.000000  0.000000e+00\n",
       "25%         0.000000             0.000000  1.000000e+00\n",
       "50%      4507.000000             0.000000  2.200000e+02\n",
       "75%     12230.750000             7.000000  1.419750e+03\n",
       "max    492196.000000         17348.148148  9.383361e+06"
      ]
     },
     "execution_count": 75,
     "metadata": {},
     "output_type": "execute_result"
    }
   ],
   "source": [
    "data_2014[['Meter Read', 'Billed Demand (KVA)', 'kWh Usage']].describe()"
   ]
  },
  {
   "cell_type": "markdown",
   "id": "41eac186-87ae-4bd2-9315-c4cc2d9e5c17",
   "metadata": {},
   "source": [
    "There are 3 columns that denote the amount of electricity: Meter Read, Billed Demand, kWh Usage.\n",
    "\n",
    "Using kWh Usage as a standard unit of measurement."
   ]
  },
  {
   "cell_type": "code",
   "execution_count": 76,
   "id": "c828d52a-837f-4493-8a0b-74916e81c9c2",
   "metadata": {},
   "outputs": [
    {
     "data": {
      "text/html": [
       "<div>\n",
       "<style scoped>\n",
       "    .dataframe tbody tr th:only-of-type {\n",
       "        vertical-align: middle;\n",
       "    }\n",
       "\n",
       "    .dataframe tbody tr th {\n",
       "        vertical-align: top;\n",
       "    }\n",
       "\n",
       "    .dataframe thead th {\n",
       "        text-align: right;\n",
       "    }\n",
       "</style>\n",
       "<table border=\"1\" class=\"dataframe\">\n",
       "  <thead>\n",
       "    <tr style=\"text-align: right;\">\n",
       "      <th></th>\n",
       "      <th>Base Cost ($)</th>\n",
       "      <th>T&amp;D Discretionary ($)</th>\n",
       "      <th>T&amp;D Charges ($)</th>\n",
       "      <th>Current Due ($)</th>\n",
       "      <th>Total Due ($)</th>\n",
       "      <th>Franchise Fee ($)</th>\n",
       "      <th>Nodal Cu Charge ($)</th>\n",
       "      <th>Adder Charge ($)</th>\n",
       "    </tr>\n",
       "  </thead>\n",
       "  <tbody>\n",
       "    <tr>\n",
       "      <th>count</th>\n",
       "      <td>67832.000000</td>\n",
       "      <td>67838.000000</td>\n",
       "      <td>67838.000000</td>\n",
       "      <td>67838.000000</td>\n",
       "      <td>67838.000000</td>\n",
       "      <td>67838.000000</td>\n",
       "      <td>67831.000000</td>\n",
       "      <td>67835.000000</td>\n",
       "    </tr>\n",
       "    <tr>\n",
       "      <th>mean</th>\n",
       "      <td>752.493762</td>\n",
       "      <td>346.176442</td>\n",
       "      <td>243.271038</td>\n",
       "      <td>1429.004427</td>\n",
       "      <td>1428.948580</td>\n",
       "      <td>-30.802815</td>\n",
       "      <td>2.847491</td>\n",
       "      <td>8.410448</td>\n",
       "    </tr>\n",
       "    <tr>\n",
       "      <th>std</th>\n",
       "      <td>8850.260472</td>\n",
       "      <td>11412.058754</td>\n",
       "      <td>1761.077978</td>\n",
       "      <td>17419.486301</td>\n",
       "      <td>17420.904924</td>\n",
       "      <td>210.583496</td>\n",
       "      <td>42.663730</td>\n",
       "      <td>276.832133</td>\n",
       "    </tr>\n",
       "    <tr>\n",
       "      <th>min</th>\n",
       "      <td>-1269.920000</td>\n",
       "      <td>-45.930000</td>\n",
       "      <td>-1715.790000</td>\n",
       "      <td>-104.790000</td>\n",
       "      <td>0.000000</td>\n",
       "      <td>-6179.070000</td>\n",
       "      <td>-0.010000</td>\n",
       "      <td>0.000000</td>\n",
       "    </tr>\n",
       "    <tr>\n",
       "      <th>25%</th>\n",
       "      <td>0.070000</td>\n",
       "      <td>3.140000</td>\n",
       "      <td>5.750000</td>\n",
       "      <td>12.080000</td>\n",
       "      <td>12.080000</td>\n",
       "      <td>-4.830000</td>\n",
       "      <td>0.000000</td>\n",
       "      <td>0.000000</td>\n",
       "    </tr>\n",
       "    <tr>\n",
       "      <th>50%</th>\n",
       "      <td>10.020000</td>\n",
       "      <td>6.440000</td>\n",
       "      <td>10.380000</td>\n",
       "      <td>27.330000</td>\n",
       "      <td>27.270000</td>\n",
       "      <td>-0.470000</td>\n",
       "      <td>0.030000</td>\n",
       "      <td>0.000000</td>\n",
       "    </tr>\n",
       "    <tr>\n",
       "      <th>75%</th>\n",
       "      <td>59.690000</td>\n",
       "      <td>17.800000</td>\n",
       "      <td>60.692500</td>\n",
       "      <td>164.850000</td>\n",
       "      <td>164.212500</td>\n",
       "      <td>0.000000</td>\n",
       "      <td>0.170000</td>\n",
       "      <td>0.000000</td>\n",
       "    </tr>\n",
       "    <tr>\n",
       "      <th>max</th>\n",
       "      <td>586509.580000</td>\n",
       "      <td>781792.760000</td>\n",
       "      <td>70591.250000</td>\n",
       "      <td>906606.680000</td>\n",
       "      <td>906606.680000</td>\n",
       "      <td>0.000000</td>\n",
       "      <td>5531.690000</td>\n",
       "      <td>12528.970000</td>\n",
       "    </tr>\n",
       "  </tbody>\n",
       "</table>\n",
       "</div>"
      ],
      "text/plain": [
       "       Base Cost ($)  T&D Discretionary ($)  T&D Charges ($)  Current Due ($)  \\\n",
       "count   67832.000000           67838.000000     67838.000000     67838.000000   \n",
       "mean      752.493762             346.176442       243.271038      1429.004427   \n",
       "std      8850.260472           11412.058754      1761.077978     17419.486301   \n",
       "min     -1269.920000             -45.930000     -1715.790000      -104.790000   \n",
       "25%         0.070000               3.140000         5.750000        12.080000   \n",
       "50%        10.020000               6.440000        10.380000        27.330000   \n",
       "75%        59.690000              17.800000        60.692500       164.850000   \n",
       "max    586509.580000          781792.760000     70591.250000    906606.680000   \n",
       "\n",
       "       Total Due ($)  Franchise Fee ($)  Nodal Cu Charge ($)  Adder Charge ($)  \n",
       "count   67838.000000       67838.000000         67831.000000      67835.000000  \n",
       "mean     1428.948580         -30.802815             2.847491          8.410448  \n",
       "std     17420.904924         210.583496            42.663730        276.832133  \n",
       "min         0.000000       -6179.070000            -0.010000          0.000000  \n",
       "25%        12.080000          -4.830000             0.000000          0.000000  \n",
       "50%        27.270000          -0.470000             0.030000          0.000000  \n",
       "75%       164.212500           0.000000             0.170000          0.000000  \n",
       "max    906606.680000           0.000000          5531.690000      12528.970000  "
      ]
     },
     "execution_count": 76,
     "metadata": {},
     "output_type": "execute_result"
    }
   ],
   "source": [
    "data_2014[[\n",
    "    'Base Cost ($)', 'T&D Discretionary ($)', 'T&D Charges ($)', \n",
    "    'Current Due ($)', 'Total Due ($)', 'Franchise Fee ($)', \n",
    "    'Nodal Cu Charge ($)', 'Adder Charge ($)'\n",
    "     ]].describe()"
   ]
  },
  {
   "cell_type": "markdown",
   "id": "122c0823-67d6-4675-bed3-d6dd47660995",
   "metadata": {},
   "source": [
    "Adder Charge ($) does not contain any useful information. Electing to drop that column. Previously this column was Reliability Unit Charge.\n",
    "\n",
    "The columns other than Current Due or Total Due are adding up the value present in these two columns. Going forward choosing the column Total Due ($). \n",
    "Based on the above statistics the columns Current Due and Total Due represent the same value. "
   ]
  },
  {
   "cell_type": "markdown",
   "id": "7840e616-b6b6-4565-a6c6-0a950bc29885",
   "metadata": {},
   "source": [
    "Based on the above analysis of the dataset choosing the following columns:\n",
    "\n",
    "1. ESID\n",
    "2. Business Area\n",
    "3. Service Address \n",
    "3. Bill Type\n",
    "4. Bill Date\n",
    "5. Total Due ($)\n",
    "6. kWh Usage"
   ]
  },
  {
   "cell_type": "markdown",
   "id": "135089cb-562f-487c-ae28-bdf47656c689",
   "metadata": {},
   "source": [
    "### Selecting and Filtering Columns"
   ]
  },
  {
   "cell_type": "code",
   "execution_count": 77,
   "id": "b9abc0b8-d99a-437d-a22b-09355fd3b5bb",
   "metadata": {},
   "outputs": [],
   "source": [
    "data_2014 = data_2014[[\n",
    "    'ESID', 'Business Area', 'Service Address ', 'Bill Type',\n",
    "    'Bill Date', 'Total Due ($)', 'kWh Usage'\n",
    "]]"
   ]
  },
  {
   "cell_type": "code",
   "execution_count": 78,
   "id": "f795f807-bbd4-4f2c-a69d-ef744aebf961",
   "metadata": {
    "tags": []
   },
   "outputs": [],
   "source": [
    "rename_cols = {\n",
    "    'ESID': 'esid',\n",
    "    'Business Area': 'business_area',\n",
    "    'Service Address ': 'service_address',\n",
    "    'Bill Type': 'bill_type',\n",
    "    'Bill Date': 'bill_date',\n",
    "    'Total Due ($)': 'total_due',\n",
    "    'kWh Usage': 'kwh_usage'\n",
    "}\n",
    "\n",
    "data_2014_main = data_2014.rename(columns=rename_cols)"
   ]
  },
  {
   "cell_type": "markdown",
   "id": "bee7e5c6-1f45-42bd-8dad-01a0a5fab990",
   "metadata": {},
   "source": [
    "Checking for Nulls again and dtypes"
   ]
  },
  {
   "cell_type": "code",
   "execution_count": 79,
   "id": "79b3aa2b-4295-45d0-b8f4-2a8f4d65b552",
   "metadata": {},
   "outputs": [
    {
     "data": {
      "text/plain": [
       "esid               0\n",
       "business_area      0\n",
       "service_address    0\n",
       "bill_type          0\n",
       "bill_date          0\n",
       "total_due          0\n",
       "kwh_usage          0\n",
       "dtype: int64"
      ]
     },
     "execution_count": 79,
     "metadata": {},
     "output_type": "execute_result"
    }
   ],
   "source": [
    "data_2014_main.isna().sum()"
   ]
  },
  {
   "cell_type": "code",
   "execution_count": 80,
   "id": "89e2f002-782e-46fd-91b0-e09a39c43d96",
   "metadata": {},
   "outputs": [
    {
     "data": {
      "text/plain": [
       "esid                       object\n",
       "business_area               int64\n",
       "service_address            object\n",
       "bill_type                  object\n",
       "bill_date          datetime64[ns]\n",
       "total_due                 float64\n",
       "kwh_usage                   int64\n",
       "dtype: object"
      ]
     },
     "execution_count": 80,
     "metadata": {},
     "output_type": "execute_result"
    }
   ],
   "source": [
    "data_2014_main.dtypes"
   ]
  },
  {
   "cell_type": "code",
   "execution_count": 81,
   "id": "94b60c3d-df4b-42a3-920a-049527156fa5",
   "metadata": {},
   "outputs": [
    {
     "data": {
      "text/plain": [
       "(67838, 7)"
      ]
     },
     "execution_count": 81,
     "metadata": {},
     "output_type": "execute_result"
    }
   ],
   "source": [
    "data_2014_main.shape"
   ]
  },
  {
   "cell_type": "code",
   "execution_count": 82,
   "id": "d8662a1b-052c-4cb7-8023-e95fa932c155",
   "metadata": {},
   "outputs": [
    {
     "data": {
      "text/html": [
       "<div>\n",
       "<style scoped>\n",
       "    .dataframe tbody tr th:only-of-type {\n",
       "        vertical-align: middle;\n",
       "    }\n",
       "\n",
       "    .dataframe tbody tr th {\n",
       "        vertical-align: top;\n",
       "    }\n",
       "\n",
       "    .dataframe thead th {\n",
       "        text-align: right;\n",
       "    }\n",
       "</style>\n",
       "<table border=\"1\" class=\"dataframe\">\n",
       "  <thead>\n",
       "    <tr style=\"text-align: right;\">\n",
       "      <th></th>\n",
       "      <th>total_due</th>\n",
       "      <th>kwh_usage</th>\n",
       "    </tr>\n",
       "  </thead>\n",
       "  <tbody>\n",
       "    <tr>\n",
       "      <th>0</th>\n",
       "      <td>2.802455</td>\n",
       "      <td>4.157220</td>\n",
       "    </tr>\n",
       "    <tr>\n",
       "      <th>1</th>\n",
       "      <td>2.924627</td>\n",
       "      <td>4.453952</td>\n",
       "    </tr>\n",
       "    <tr>\n",
       "      <th>2</th>\n",
       "      <td>2.775990</td>\n",
       "      <td>4.178037</td>\n",
       "    </tr>\n",
       "    <tr>\n",
       "      <th>3</th>\n",
       "      <td>3.135782</td>\n",
       "      <td>5.002792</td>\n",
       "    </tr>\n",
       "    <tr>\n",
       "      <th>4</th>\n",
       "      <td>2.773652</td>\n",
       "      <td>4.379476</td>\n",
       "    </tr>\n",
       "    <tr>\n",
       "      <th>...</th>\n",
       "      <td>...</td>\n",
       "      <td>...</td>\n",
       "    </tr>\n",
       "    <tr>\n",
       "      <th>67833</th>\n",
       "      <td>-0.044563</td>\n",
       "      <td>-0.078056</td>\n",
       "    </tr>\n",
       "    <tr>\n",
       "      <th>67834</th>\n",
       "      <td>0.024122</td>\n",
       "      <td>-0.078056</td>\n",
       "    </tr>\n",
       "    <tr>\n",
       "      <th>67835</th>\n",
       "      <td>-0.047622</td>\n",
       "      <td>-0.078056</td>\n",
       "    </tr>\n",
       "    <tr>\n",
       "      <th>67836</th>\n",
       "      <td>-0.047384</td>\n",
       "      <td>-0.078056</td>\n",
       "    </tr>\n",
       "    <tr>\n",
       "      <th>67837</th>\n",
       "      <td>-0.043133</td>\n",
       "      <td>-0.078056</td>\n",
       "    </tr>\n",
       "  </tbody>\n",
       "</table>\n",
       "<p>67838 rows × 2 columns</p>\n",
       "</div>"
      ],
      "text/plain": [
       "       total_due  kwh_usage\n",
       "0       2.802455   4.157220\n",
       "1       2.924627   4.453952\n",
       "2       2.775990   4.178037\n",
       "3       3.135782   5.002792\n",
       "4       2.773652   4.379476\n",
       "...          ...        ...\n",
       "67833  -0.044563  -0.078056\n",
       "67834   0.024122  -0.078056\n",
       "67835  -0.047622  -0.078056\n",
       "67836  -0.047384  -0.078056\n",
       "67837  -0.043133  -0.078056\n",
       "\n",
       "[67838 rows x 2 columns]"
      ]
     },
     "execution_count": 82,
     "metadata": {},
     "output_type": "execute_result"
    }
   ],
   "source": [
    "zscore_2014 = stats.zscore(data_2014_main[['total_due', 'kwh_usage']])\n",
    "\n",
    "zscore_2014"
   ]
  },
  {
   "cell_type": "markdown",
   "id": "c4ef7652-0383-4766-985e-ee70a889faa2",
   "metadata": {},
   "source": [
    "Each zscore value signifies how many standard deviations away an individual value is from the mean. This is a good indicator to finding outliers in the dataframe.\n",
    "\n",
    "Usually z-score=3 is considered as a cut-off value to set the limit. Therefore, any z-score greater than +3 or less than -3 is considered as outlier which is pretty much similar to standard deviation method"
   ]
  },
  {
   "cell_type": "code",
   "execution_count": 83,
   "id": "15c07a88-9cd8-4a0b-b015-25d5b5f5f711",
   "metadata": {},
   "outputs": [
    {
     "data": {
      "text/plain": [
       "(67838, 7)"
      ]
     },
     "execution_count": 83,
     "metadata": {},
     "output_type": "execute_result"
    }
   ],
   "source": [
    "# data_2014_main = data_2014_main[(np.abs(zscore_2014) < 3).all(axis=1)]\n",
    "\n",
    "data_2014_main.shape"
   ]
  },
  {
   "cell_type": "markdown",
   "id": "dd0a1dcd-d138-4f31-bb80-f516362d51d3",
   "metadata": {},
   "source": [
    "The number of rows has decreased from 67,838 to 67,427. So 411 rows were outliers based on the data."
   ]
  },
  {
   "cell_type": "code",
   "execution_count": 84,
   "id": "1bcc118a-6cbb-4b39-8fc8-49cb959cbdcc",
   "metadata": {},
   "outputs": [
    {
     "data": {
      "text/html": [
       "<div>\n",
       "<style scoped>\n",
       "    .dataframe tbody tr th:only-of-type {\n",
       "        vertical-align: middle;\n",
       "    }\n",
       "\n",
       "    .dataframe tbody tr th {\n",
       "        vertical-align: top;\n",
       "    }\n",
       "\n",
       "    .dataframe thead th {\n",
       "        text-align: right;\n",
       "    }\n",
       "</style>\n",
       "<table border=\"1\" class=\"dataframe\">\n",
       "  <thead>\n",
       "    <tr style=\"text-align: right;\">\n",
       "      <th></th>\n",
       "      <th>esid</th>\n",
       "      <th>business_area</th>\n",
       "      <th>service_address</th>\n",
       "      <th>bill_type</th>\n",
       "      <th>bill_date</th>\n",
       "      <th>total_due</th>\n",
       "      <th>kwh_usage</th>\n",
       "    </tr>\n",
       "  </thead>\n",
       "  <tbody>\n",
       "    <tr>\n",
       "      <th>0</th>\n",
       "      <td>1008901000140050014100</td>\n",
       "      <td>2000</td>\n",
       "      <td>10518 BELLAIRE</td>\n",
       "      <td>T</td>\n",
       "      <td>2014-05-28</td>\n",
       "      <td>50249.89</td>\n",
       "      <td>818192</td>\n",
       "    </tr>\n",
       "    <tr>\n",
       "      <th>1</th>\n",
       "      <td>1008901000140050014100</td>\n",
       "      <td>2000</td>\n",
       "      <td>10518 BELLAIRE</td>\n",
       "      <td>T</td>\n",
       "      <td>2014-04-28</td>\n",
       "      <td>52378.23</td>\n",
       "      <td>875338</td>\n",
       "    </tr>\n",
       "    <tr>\n",
       "      <th>2</th>\n",
       "      <td>1008901000140050014100</td>\n",
       "      <td>2000</td>\n",
       "      <td>10518 BELLAIRE</td>\n",
       "      <td>T</td>\n",
       "      <td>2014-03-27</td>\n",
       "      <td>49788.85</td>\n",
       "      <td>822201</td>\n",
       "    </tr>\n",
       "    <tr>\n",
       "      <th>3</th>\n",
       "      <td>1008901000140050014100</td>\n",
       "      <td>2000</td>\n",
       "      <td>10518 BELLAIRE</td>\n",
       "      <td>T</td>\n",
       "      <td>2014-02-27</td>\n",
       "      <td>56056.70</td>\n",
       "      <td>981036</td>\n",
       "    </tr>\n",
       "    <tr>\n",
       "      <th>4</th>\n",
       "      <td>1008901000140050014100</td>\n",
       "      <td>2000</td>\n",
       "      <td>10518 BELLAIRE</td>\n",
       "      <td>T</td>\n",
       "      <td>2014-01-27</td>\n",
       "      <td>49748.12</td>\n",
       "      <td>860995</td>\n",
       "    </tr>\n",
       "  </tbody>\n",
       "</table>\n",
       "</div>"
      ],
      "text/plain": [
       "                     esid  business_area service_address bill_type  bill_date  \\\n",
       "0  1008901000140050014100           2000  10518 BELLAIRE         T 2014-05-28   \n",
       "1  1008901000140050014100           2000  10518 BELLAIRE         T 2014-04-28   \n",
       "2  1008901000140050014100           2000  10518 BELLAIRE         T 2014-03-27   \n",
       "3  1008901000140050014100           2000  10518 BELLAIRE         T 2014-02-27   \n",
       "4  1008901000140050014100           2000  10518 BELLAIRE         T 2014-01-27   \n",
       "\n",
       "   total_due  kwh_usage  \n",
       "0   50249.89     818192  \n",
       "1   52378.23     875338  \n",
       "2   49788.85     822201  \n",
       "3   56056.70     981036  \n",
       "4   49748.12     860995  "
      ]
     },
     "execution_count": 84,
     "metadata": {},
     "output_type": "execute_result"
    }
   ],
   "source": [
    "data_2014_main.head(5)"
   ]
  },
  {
   "cell_type": "code",
   "execution_count": 85,
   "id": "4d09b415-f0ce-4e66-8aaa-0920d5b37817",
   "metadata": {},
   "outputs": [
    {
     "data": {
      "text/plain": [
       "0"
      ]
     },
     "execution_count": 85,
     "metadata": {},
     "output_type": "execute_result"
    }
   ],
   "source": [
    "orig_shape_2014 - data_2014_main.shape[0]"
   ]
  },
  {
   "cell_type": "code",
   "execution_count": 86,
   "id": "0059d9bd-38ba-4581-9480-3032766a997b",
   "metadata": {},
   "outputs": [],
   "source": [
    "data_2014_main.to_csv('electricity_usage_data_2014.csv', index=False)"
   ]
  },
  {
   "cell_type": "markdown",
   "id": "9c749c15-46df-49cb-afb9-1ce966531dd1",
   "metadata": {
    "tags": []
   },
   "source": [
    "## Merging the DataFrames - Sourabh"
   ]
  },
  {
   "cell_type": "code",
   "execution_count": 87,
   "id": "5300784f-c2db-41bd-bc2e-fec2b18206fe",
   "metadata": {},
   "outputs": [
    {
     "data": {
      "text/plain": [
       "(257848, 7)"
      ]
     },
     "execution_count": 87,
     "metadata": {},
     "output_type": "execute_result"
    }
   ],
   "source": [
    "df_list = [data_2012_main, data_2013_main, data_2013_2_main, data_2014_main]\n",
    "\n",
    "data = pd.concat(df_list)\n",
    "data.shape"
   ]
  },
  {
   "cell_type": "markdown",
   "id": "bc9a0efe-3362-4507-81ab-c7a89626cae2",
   "metadata": {},
   "source": [
    "Since we cleaned each df separetely there should not be any NANs, but checking for it nonetheless."
   ]
  },
  {
   "cell_type": "code",
   "execution_count": 88,
   "id": "7dcac222-3e35-4266-9f18-eea451609709",
   "metadata": {},
   "outputs": [
    {
     "data": {
      "text/plain": [
       "esid               0\n",
       "business_area      0\n",
       "service_address    0\n",
       "bill_type          0\n",
       "bill_date          0\n",
       "total_due          0\n",
       "kwh_usage          0\n",
       "dtype: int64"
      ]
     },
     "execution_count": 88,
     "metadata": {},
     "output_type": "execute_result"
    }
   ],
   "source": [
    "data.isna().sum()"
   ]
  },
  {
   "cell_type": "markdown",
   "id": "0630d227-22aa-4338-b65b-73d98e9b2598",
   "metadata": {},
   "source": [
    "### Checking for Duplicate Rows"
   ]
  },
  {
   "cell_type": "markdown",
   "id": "a9f20ad6-f91d-46a8-ae7d-4b1e38c7906b",
   "metadata": {},
   "source": [
    "Since there is an overlap in time period for the CSV files it is important not to have repeating rows.\n",
    "\n",
    "We can check for this in the following way: A particular ESID should be billed only once. Therefore by taking a subset of ESID, Business Area and Bill Date we can know if a particular customer's billing info has been repeated in the df or not."
   ]
  },
  {
   "cell_type": "code",
   "execution_count": 89,
   "id": "296c9556-90f3-4d3c-add5-20f18d134d2c",
   "metadata": {},
   "outputs": [
    {
     "data": {
      "text/plain": [
       "66595"
      ]
     },
     "execution_count": 89,
     "metadata": {},
     "output_type": "execute_result"
    }
   ],
   "source": [
    "dup_rows_index = data.duplicated(subset=['esid', 'business_area', 'service_address', 'bill_date'])\n",
    "(dup_rows_index).sum()"
   ]
  },
  {
   "cell_type": "markdown",
   "id": "5cef59ef-ec30-42a4-895a-708a99089193",
   "metadata": {},
   "source": [
    "This confirms the doubt that the overlap with the FY 2012 and FY 2013 with the CSV file has generated duplicate rows in the data.\n",
    "We need to remove these columns."
   ]
  },
  {
   "cell_type": "code",
   "execution_count": 90,
   "id": "4e51c333-b13e-45ab-9a8c-f93075811199",
   "metadata": {},
   "outputs": [
    {
     "data": {
      "text/plain": [
       "(191253, 7)"
      ]
     },
     "execution_count": 90,
     "metadata": {},
     "output_type": "execute_result"
    }
   ],
   "source": [
    "data_main = data[~(dup_rows_index)]\n",
    "\n",
    "data_main.shape"
   ]
  },
  {
   "cell_type": "code",
   "execution_count": 91,
   "id": "0796fb1b-8a72-44ce-bd8c-9e5bd8e26501",
   "metadata": {},
   "outputs": [],
   "source": [
    "data_main.to_csv('Electricity_Usage_Data.csv', index=False)"
   ]
  },
  {
   "cell_type": "markdown",
   "id": "776e23bf-0a4b-4bad-9591-b317238b31d9",
   "metadata": {},
   "source": [
    "## Visualizations"
   ]
  },
  {
   "cell_type": "code",
   "execution_count": 92,
   "id": "6c630947-abd8-494d-8755-edd6289e04f2",
   "metadata": {},
   "outputs": [],
   "source": [
    "data_main = pd.read_csv('Electricity_Usage_Data.csv')"
   ]
  },
  {
   "cell_type": "code",
   "execution_count": 93,
   "id": "56d9fcd5-6d66-4d8a-a3bc-03409241fe3d",
   "metadata": {},
   "outputs": [],
   "source": [
    "data_main[['bill_date']] = data_main[['bill_date']].apply(pd.to_datetime)"
   ]
  },
  {
   "cell_type": "code",
   "execution_count": 94,
   "id": "d0b89549-bb37-4550-b19a-308dd569f752",
   "metadata": {},
   "outputs": [],
   "source": [
    "data_main.loc[:,'bill_date'] = data_main['bill_date'].apply(lambda x: pd.to_datetime(f'{x.year}-{x.month}-01'))"
   ]
  },
  {
   "cell_type": "code",
   "execution_count": 95,
   "id": "932fc5ab-62e7-4c17-ae8f-df63f13ffc03",
   "metadata": {},
   "outputs": [],
   "source": [
    "viz_df = data_main.set_index('bill_date')"
   ]
  },
  {
   "cell_type": "code",
   "execution_count": 96,
   "id": "9cd7202d-4014-4d9e-bf30-4899c124473c",
   "metadata": {},
   "outputs": [
    {
     "data": {
      "text/html": [
       "<div>\n",
       "<style scoped>\n",
       "    .dataframe tbody tr th:only-of-type {\n",
       "        vertical-align: middle;\n",
       "    }\n",
       "\n",
       "    .dataframe tbody tr th {\n",
       "        vertical-align: top;\n",
       "    }\n",
       "\n",
       "    .dataframe thead th {\n",
       "        text-align: right;\n",
       "    }\n",
       "</style>\n",
       "<table border=\"1\" class=\"dataframe\">\n",
       "  <thead>\n",
       "    <tr style=\"text-align: right;\">\n",
       "      <th></th>\n",
       "      <th>esid</th>\n",
       "      <th>business_area</th>\n",
       "      <th>service_address</th>\n",
       "      <th>bill_type</th>\n",
       "      <th>total_due</th>\n",
       "      <th>kwh_usage</th>\n",
       "    </tr>\n",
       "    <tr>\n",
       "      <th>bill_date</th>\n",
       "      <th></th>\n",
       "      <th></th>\n",
       "      <th></th>\n",
       "      <th></th>\n",
       "      <th></th>\n",
       "      <th></th>\n",
       "    </tr>\n",
       "  </thead>\n",
       "  <tbody>\n",
       "    <tr>\n",
       "      <th>2012-06-01</th>\n",
       "      <td>1008901000140050014100</td>\n",
       "      <td>2000</td>\n",
       "      <td>10518 BELLAIRE</td>\n",
       "      <td>T</td>\n",
       "      <td>73232.11</td>\n",
       "      <td>905421.0</td>\n",
       "    </tr>\n",
       "    <tr>\n",
       "      <th>2012-05-01</th>\n",
       "      <td>1008901000140050014100</td>\n",
       "      <td>2000</td>\n",
       "      <td>10518 BELLAIRE</td>\n",
       "      <td>T</td>\n",
       "      <td>68463.46</td>\n",
       "      <td>824107.0</td>\n",
       "    </tr>\n",
       "    <tr>\n",
       "      <th>2012-04-01</th>\n",
       "      <td>1008901000140050014100</td>\n",
       "      <td>2000</td>\n",
       "      <td>10518 BELLAIRE</td>\n",
       "      <td>T</td>\n",
       "      <td>80847.87</td>\n",
       "      <td>977744.0</td>\n",
       "    </tr>\n",
       "    <tr>\n",
       "      <th>2012-03-01</th>\n",
       "      <td>1008901000140050014100</td>\n",
       "      <td>2000</td>\n",
       "      <td>10518 BELLAIRE</td>\n",
       "      <td>T</td>\n",
       "      <td>74373.93</td>\n",
       "      <td>876838.0</td>\n",
       "    </tr>\n",
       "    <tr>\n",
       "      <th>2012-02-01</th>\n",
       "      <td>1008901000140050014100</td>\n",
       "      <td>2000</td>\n",
       "      <td>10518 BELLAIRE</td>\n",
       "      <td>T</td>\n",
       "      <td>74080.27</td>\n",
       "      <td>872898.0</td>\n",
       "    </tr>\n",
       "  </tbody>\n",
       "</table>\n",
       "</div>"
      ],
      "text/plain": [
       "                              esid  business_area service_address bill_type  \\\n",
       "bill_date                                                                     \n",
       "2012-06-01  1008901000140050014100           2000  10518 BELLAIRE         T   \n",
       "2012-05-01  1008901000140050014100           2000  10518 BELLAIRE         T   \n",
       "2012-04-01  1008901000140050014100           2000  10518 BELLAIRE         T   \n",
       "2012-03-01  1008901000140050014100           2000  10518 BELLAIRE         T   \n",
       "2012-02-01  1008901000140050014100           2000  10518 BELLAIRE         T   \n",
       "\n",
       "            total_due  kwh_usage  \n",
       "bill_date                         \n",
       "2012-06-01   73232.11   905421.0  \n",
       "2012-05-01   68463.46   824107.0  \n",
       "2012-04-01   80847.87   977744.0  \n",
       "2012-03-01   74373.93   876838.0  \n",
       "2012-02-01   74080.27   872898.0  "
      ]
     },
     "execution_count": 96,
     "metadata": {},
     "output_type": "execute_result"
    }
   ],
   "source": [
    "viz_df.head()"
   ]
  },
  {
   "cell_type": "markdown",
   "id": "a383c018-ca7d-4ea0-a179-afe07a800575",
   "metadata": {
    "tags": []
   },
   "source": [
    "### Visualization #1 - Hyndavi"
   ]
  },
  {
   "cell_type": "code",
   "execution_count": 97,
   "id": "05972d71-a4dd-4370-8627-136192a02869",
   "metadata": {},
   "outputs": [],
   "source": [
    "def plotbox(df, column):\n",
    "    plot_features = df.groupby(pd.Grouper(freq=str(60)+'T')).mean().copy()\n",
    "    plot_features[column] = [eval('x.%s'%column) for x in plot_features.index] \n",
    "    plot_features.boxplot('kwh_usage', by=column, figsize=(12, 8), grid=False)\n",
    "    plt.ylabel('kWh Usage')\n",
    "    plt.xlabel(column)\n",
    "    plt.show()"
   ]
  },
  {
   "cell_type": "code",
   "execution_count": 98,
   "id": "a215da27-73c7-46b0-aa16-bf6de0a08893",
   "metadata": {},
   "outputs": [
    {
     "data": {
      "image/png": "[encoded data removed]",
      "text/plain": [
       "<Figure size 1200x800 with 1 Axes>"
      ]
     },
     "metadata": {},
     "output_type": "display_data"
    }
   ],
   "source": [
    "plotbox(viz_df, 'month')"
   ]
  },
  {
   "cell_type": "markdown",
   "id": "c003d9e3-3bde-4986-876e-3e3cad8324c6",
   "metadata": {},
   "source": [
    "Based on the above box plot, we can see that the highest energy is consumed in the months of June-September. That is in the summer/fall season energy usage is quite high."
   ]
  },
  {
   "cell_type": "code",
   "execution_count": 99,
   "id": "6cca9e62-c6eb-4846-8762-56be0044df49",
   "metadata": {},
   "outputs": [
    {
     "data": {
      "image/png": "[encoded data removed]",
      "text/plain": [
       "<Figure size 800x600 with 1 Axes>"
      ]
     },
     "metadata": {},
     "output_type": "display_data"
    },
    {
     "data": {
      "image/png": "[encoded data removed]",
      "text/plain": [
       "<Figure size 800x600 with 1 Axes>"
      ]
     },
     "metadata": {},
     "output_type": "display_data"
    }
   ],
   "source": [
    "# Bar chart for 'Bill Type'\n",
    "plt.figure(figsize=(8, 6))\n",
    "data_main['bill_type'].value_counts().plot(kind='bar')\n",
    "plt.title('Bill Type')\n",
    "plt.xlabel('Type')\n",
    "plt.ylabel('Frequency')\n",
    "plt.show()\n",
    "\n",
    "# Bar chart for 'Business Area'\n",
    "plt.figure(figsize=(8, 6))\n",
    "data_main['business_area'].value_counts().plot(kind='bar')\n",
    "plt.title('business_area')\n",
    "plt.xlabel('Area')\n",
    "plt.ylabel('Frequency')\n",
    "plt.show()"
   ]
  },
  {
   "cell_type": "markdown",
   "id": "335d564c-ae9d-4a3f-9ae2-336654de7b60",
   "metadata": {},
   "source": [
    "The business area 2000 is the most populous area based on the frequency plot.\n",
    "\n",
    "And the most common type of Bill type is T."
   ]
  },
  {
   "cell_type": "markdown",
   "id": "fab787c4-439f-4bd8-8c13-23766c2447e5",
   "metadata": {},
   "source": [
    "### Visualization #2 - Sunil"
   ]
  },
  {
   "cell_type": "code",
   "execution_count": 100,
   "id": "1f43c51d-7142-4836-9170-03a7876a9d13",
   "metadata": {},
   "outputs": [
    {
     "data": {
      "image/png": "[encoded data removed]",
      "text/plain": [
       "<Figure size 800x600 with 1 Axes>"
      ]
     },
     "metadata": {},
     "output_type": "display_data"
    }
   ],
   "source": [
    "viz_df_2 = data_main.groupby('bill_date').agg({'kwh_usage':'mean'}).reset_index()\n",
    "\n",
    "temp_list = [0 for _ in range(12)]\n",
    "\n",
    "date_dict = {\n",
    "    '2011': temp_list.copy(),\n",
    "    '2012': temp_list.copy(),\n",
    "    '2013': temp_list.copy(),\n",
    "    '2014': temp_list.copy(),\n",
    "}\n",
    "\n",
    "for date, usage in viz_df_2.values:\n",
    "    date_dict[str(date.year)][date.month-1] = usage\n",
    "\n",
    "usage_2011 = date_dict['2011']\n",
    "usage_2012 = date_dict['2012']\n",
    "usage_2013 = date_dict['2013']\n",
    "usage_2014 = date_dict['2014']\n",
    "\n",
    "\n",
    "plt.figure(figsize=(8,6))\n",
    "plt.plot(range(12), usage_2011, label='2011')\n",
    "plt.plot(range(12), usage_2012, label='2012')\n",
    "plt.plot(range(12), usage_2013, label='2013')\n",
    "plt.plot(range(12), usage_2014, label='2014')\n",
    "plt.xlabel('Month')\n",
    "plt.ylabel('kWh Usage')\n",
    "plt.title('Average Monthly Usage of Electricity')\n",
    "plt.legend()\n",
    "plt.show()"
   ]
  },
  {
   "cell_type": "markdown",
   "id": "47faf73d-743b-4fed-b41e-a588f1ef3318",
   "metadata": {},
   "source": [
    "In 2011 the first 6 months and  in 2014 the last 6 months have the value 0. This is due to the fact that the data has been collected for each year from July of the current year to June of the next year (Financial Year).\n",
    "\n",
    "Similar to the previous plot, we can see the same trend. But one thing to be observed is that the trend across all these years has remained relatively same across the months even in these 4 years."
   ]
  },
  {
   "cell_type": "markdown",
   "id": "988c314a-875f-41cb-b6db-ae7f8f4afced",
   "metadata": {
    "tags": []
   },
   "source": [
    "### Visualization #3 - Sourabh"
   ]
  },
  {
   "cell_type": "code",
   "execution_count": 101,
   "id": "072a8449-5d58-4d66-9114-247e2f7e0537",
   "metadata": {},
   "outputs": [
    {
     "data": {
      "image/png": "[encoded data removed]",
      "text/plain": [
       "<Figure size 1200x800 with 1 Axes>"
      ]
     },
     "metadata": {},
     "output_type": "display_data"
    }
   ],
   "source": [
    "plotbox(viz_df, 'year')"
   ]
  },
  {
   "cell_type": "markdown",
   "id": "62360a3b-0ef9-4199-9099-6f94ebeadbdc",
   "metadata": {},
   "source": [
    "It was expected that energy consumption would increase through the years. It was surprising to see that the energy use in fact decreased. Further analysis needs to be done in order to see why this might have happened."
   ]
  },
  {
   "cell_type": "code",
   "execution_count": 102,
   "id": "9720c05e-5390-45e9-b8f9-4e2ec7f7c511",
   "metadata": {},
   "outputs": [
    {
     "data": {
      "text/html": [
       "<div>\n",
       "<style scoped>\n",
       "    .dataframe tbody tr th:only-of-type {\n",
       "        vertical-align: middle;\n",
       "    }\n",
       "\n",
       "    .dataframe tbody tr th {\n",
       "        vertical-align: top;\n",
       "    }\n",
       "\n",
       "    .dataframe thead th {\n",
       "        text-align: right;\n",
       "    }\n",
       "</style>\n",
       "<table border=\"1\" class=\"dataframe\">\n",
       "  <thead>\n",
       "    <tr style=\"text-align: right;\">\n",
       "      <th></th>\n",
       "      <th>esid</th>\n",
       "      <th>total_due</th>\n",
       "      <th>kwh_usage</th>\n",
       "    </tr>\n",
       "    <tr>\n",
       "      <th>business_area</th>\n",
       "      <th></th>\n",
       "      <th></th>\n",
       "      <th></th>\n",
       "    </tr>\n",
       "  </thead>\n",
       "  <tbody>\n",
       "    <tr>\n",
       "      <th>1600</th>\n",
       "      <td>2</td>\n",
       "      <td>20686.296296</td>\n",
       "      <td>267252.759259</td>\n",
       "    </tr>\n",
       "    <tr>\n",
       "      <th>4200</th>\n",
       "      <td>32</td>\n",
       "      <td>12314.233342</td>\n",
       "      <td>139198.855389</td>\n",
       "    </tr>\n",
       "    <tr>\n",
       "      <th>2800</th>\n",
       "      <td>202</td>\n",
       "      <td>7763.883129</td>\n",
       "      <td>99229.628037</td>\n",
       "    </tr>\n",
       "    <tr>\n",
       "      <th>6500</th>\n",
       "      <td>10</td>\n",
       "      <td>2069.572381</td>\n",
       "      <td>24864.882784</td>\n",
       "    </tr>\n",
       "    <tr>\n",
       "      <th>2500</th>\n",
       "      <td>574</td>\n",
       "      <td>1762.559758</td>\n",
       "      <td>21484.003090</td>\n",
       "    </tr>\n",
       "    <tr>\n",
       "      <th>2000</th>\n",
       "      <td>4759</td>\n",
       "      <td>1685.935398</td>\n",
       "      <td>16412.006549</td>\n",
       "    </tr>\n",
       "    <tr>\n",
       "      <th>2100</th>\n",
       "      <td>23</td>\n",
       "      <td>1153.184006</td>\n",
       "      <td>13450.079826</td>\n",
       "    </tr>\n",
       "    <tr>\n",
       "      <th>3600</th>\n",
       "      <td>449</td>\n",
       "      <td>856.760282</td>\n",
       "      <td>9159.579703</td>\n",
       "    </tr>\n",
       "    <tr>\n",
       "      <th>6800</th>\n",
       "      <td>39</td>\n",
       "      <td>308.368067</td>\n",
       "      <td>3174.383499</td>\n",
       "    </tr>\n",
       "  </tbody>\n",
       "</table>\n",
       "</div>"
      ],
      "text/plain": [
       "               esid     total_due      kwh_usage\n",
       "business_area                                   \n",
       "1600              2  20686.296296  267252.759259\n",
       "4200             32  12314.233342  139198.855389\n",
       "2800            202   7763.883129   99229.628037\n",
       "6500             10   2069.572381   24864.882784\n",
       "2500            574   1762.559758   21484.003090\n",
       "2000           4759   1685.935398   16412.006549\n",
       "2100             23   1153.184006   13450.079826\n",
       "3600            449    856.760282    9159.579703\n",
       "6800             39    308.368067    3174.383499"
      ]
     },
     "execution_count": 102,
     "metadata": {},
     "output_type": "execute_result"
    }
   ],
   "source": [
    "data_main_agg = data_main.groupby('business_area').agg({\n",
    "    'esid': pd.Series.nunique,\n",
    "    'total_due': 'mean',\n",
    "    'kwh_usage': 'mean',\n",
    "})\n",
    "\n",
    "data_main_agg.sort_values(by='kwh_usage', ascending=False)"
   ]
  },
  {
   "cell_type": "code",
   "execution_count": 103,
   "id": "d91794d8-481e-4924-9d60-4e95866d8251",
   "metadata": {},
   "outputs": [
    {
     "data": {
      "image/png": "[encoded data removed]",
      "text/plain": [
       "<Figure size 640x480 with 1 Axes>"
      ]
     },
     "metadata": {},
     "output_type": "display_data"
    }
   ],
   "source": [
    "plt.plot(data_main_agg.index, data_main_agg['total_due'], color='b', label='Average Cost')\n",
    "plt.title('Average Energy Usage by Business Area')\n",
    "plt.legend()\n",
    "plt.show()"
   ]
  },
  {
   "cell_type": "code",
   "execution_count": 104,
   "id": "dd319957-7848-4386-9dca-a767bc99b822",
   "metadata": {},
   "outputs": [],
   "source": [
    "address_enc = LabelEncoder()\n",
    "bill_type_enc = LabelEncoder()\n",
    "\n",
    "data_main['address_enc'] = address_enc.fit_transform(data_main['service_address'])\n",
    "data_main['bill_type_enc'] = bill_type_enc.fit_transform(data_main['bill_type'])\n",
    "data_main['year'] = data_main['bill_date'].apply(lambda x:x.year)\n",
    "data_main['month'] = data_main['bill_date'].apply(lambda x:x.month)"
   ]
  },
  {
   "cell_type": "code",
   "execution_count": 105,
   "id": "39d95c8b-7e7a-4fb6-939f-1e5fa31c86ca",
   "metadata": {},
   "outputs": [
    {
     "data": {
      "text/plain": [
       "<AxesSubplot:>"
      ]
     },
     "execution_count": 105,
     "metadata": {},
     "output_type": "execute_result"
    },
    {
     "data": {
      "image/png": "[encoded data removed]",
      "text/plain": [
       "<Figure size 640x480 with 2 Axes>"
      ]
     },
     "metadata": {},
     "output_type": "display_data"
    }
   ],
   "source": [
    "sns.heatmap(data_main.corr())"
   ]
  },
  {
   "cell_type": "markdown",
   "id": "0949df92-ec26-40e8-b9cc-c4bacaaa9cea",
   "metadata": {},
   "source": [
    "There do not seem to be any features that have high correlation with kwh usage except total due. But this is to be expected since the amount of energy used is directly proportional to the cost.\n",
    "\n",
    "It might be difficult to use the features as they are for ML modeling."
   ]
  },
  {
   "cell_type": "markdown",
   "id": "a0cc032b-bf95-408c-b028-832a76580b5b",
   "metadata": {},
   "source": [
    "### Visualization #4 - Sharmisha"
   ]
  },
  {
   "cell_type": "code",
   "execution_count": 106,
   "id": "ca5af81a-34e9-4b2b-b569-0459c8546bb6",
   "metadata": {},
   "outputs": [
    {
     "data": {
      "image/png": "[encoded data removed]",
      "text/plain": [
       "<Figure size 1200x600 with 1 Axes>"
      ]
     },
     "metadata": {},
     "output_type": "display_data"
    }
   ],
   "source": [
    "monthly_en = viz_df.resample('M', label = 'left')['kwh_usage'].max()\n",
    "plt.figure(figsize = (12,6))\n",
    "\n",
    "#plotting the max monthly energy consumption\n",
    "plt.plot(monthly_en)\n",
    "# ensuring the limits on x axis to be between the dataframe's datetime limits\n",
    "plt.xlim(monthly_en.index.min(), monthly_en.index.max())\n",
    "# Using matplotlib MonthLocator to be used in the xticks to mark individual months\n",
    "locator = mdates.MonthLocator(bymonthday = 1, interval = 2)  # every 2 months \n",
    "fmt = mdates.DateFormatter('%m-%y') \n",
    "X = plt.gca().xaxis\n",
    "# Setting the locator\n",
    "X.set_major_locator(locator)\n",
    "# Specify formatter\n",
    "X.set_major_formatter(fmt)\n",
    "plt.xticks(rotation = 45)\n",
    "plt.ylabel('Max Energy consumption in kWh')\n",
    "plt.xlabel('Date')\n",
    "plt.title('Peak energy usage of a month over the years 2011-14')\n",
    "plt.show()\n"
   ]
  },
  {
   "cell_type": "markdown",
   "id": "9d44d89e-a4c8-4ba8-bb1a-ee50ee6da2bd",
   "metadata": {},
   "source": [
    "There is a noticable trend in the usage of energy across the months starting from 2011 to 2014."
   ]
  },
  {
   "cell_type": "markdown",
   "id": "66c2c344-5fa7-4bab-8bbb-5f621c30f925",
   "metadata": {},
   "source": [
    "## ML Models"
   ]
  },
  {
   "cell_type": "code",
   "execution_count": 107,
   "id": "8e7747eb-5395-439f-aa32-34158c075b82",
   "metadata": {},
   "outputs": [],
   "source": [
    "address_enc = LabelEncoder()\n",
    "bill_type_enc = LabelEncoder()\n",
    "\n",
    "data_main['address_enc'] = address_enc.fit_transform(data_main['service_address'])\n",
    "data_main['bill_type_enc'] = bill_type_enc.fit_transform(data_main['bill_type'])\n",
    "data_main['year'] = data_main['bill_date'].apply(lambda x:x.year)\n",
    "data_main['month'] = data_main['bill_date'].apply(lambda x:x.month)"
   ]
  },
  {
   "cell_type": "markdown",
   "id": "1bdab7cc-0183-47d0-8ebf-c534ef14eb36",
   "metadata": {},
   "source": [
    "### Regression - Task: Predicting Energy Usage - Sourabh\n",
    "\n",
    "Models Proposed:\n",
    "1. Linear Regression - Simple and easy to understand model. Using this to set a baseline. assumes linear relationship between thhe input features and the target variable.\n",
    "2. Gradient Boosting Regressor - Since this model is an ensemble model which combines, multiple decision tree. Expecting good accuracy from this model. can be computationally expensive and may require more resources to other models\n",
    "3. Decision Tree Regressor - This is a simple, interpretable model. can handle non-linear relationships between the input features. Can be prone to overfitting on the train data"
   ]
  },
  {
   "cell_type": "code",
   "execution_count": 108,
   "id": "88f369f0-af94-455b-a4f3-f33408843570",
   "metadata": {},
   "outputs": [],
   "source": [
    "def regression_metrics(model, X_train, X_test, y_train, y_test):\n",
    "    y_train_pred = model.predict(X_train)\n",
    "    y_test_pred = model.predict(X_test)\n",
    "\n",
    "    print(f'Train R2 Score: {r2_score(y_train, y_train_pred)}')\n",
    "    print(f'Test R2 Score: {r2_score(y_test, y_test_pred)}')\n",
    "\n",
    "    print(f'Train MSE Score: {mean_squared_error(y_train, y_train_pred)}')\n",
    "    print(f'Test MSE Score: {mean_squared_error(y_test, y_test_pred)}')"
   ]
  },
  {
   "cell_type": "code",
   "execution_count": 109,
   "id": "4d26f8be-62e5-47a0-a381-e54bc7917740",
   "metadata": {},
   "outputs": [],
   "source": [
    "X = data_main[[\n",
    "    'business_area', 'address_enc', 'bill_type_enc', 'year', 'month'\n",
    "]]\n",
    "y = data_main[['kwh_usage']]"
   ]
  },
  {
   "cell_type": "code",
   "execution_count": 110,
   "id": "5b469b5a-9524-4877-9732-dabf29075ba6",
   "metadata": {},
   "outputs": [],
   "source": [
    "X_train, X_test, y_train, y_test = train_test_split(X, y, test_size=0.2, random_state=42)"
   ]
  },
  {
   "cell_type": "markdown",
   "id": "2192fa68-6d7f-499e-bc91-6dd0c34c4f11",
   "metadata": {},
   "source": [
    "#### Linear Regression"
   ]
  },
  {
   "cell_type": "code",
   "execution_count": 111,
   "id": "3d0a1eac-3fd7-4cd7-a429-b138fa618cdd",
   "metadata": {},
   "outputs": [],
   "source": [
    "reg = LinearRegression().fit(X_train, y_train)"
   ]
  },
  {
   "cell_type": "code",
   "execution_count": 112,
   "id": "4a60fc49-fdd2-4a59-bb34-797ef50f3564",
   "metadata": {},
   "outputs": [
    {
     "name": "stdout",
     "output_type": "stream",
     "text": [
      "Train R2 Score: 0.009173833177215318\n",
      "Test R2 Score: 0.007167343822345074\n",
      "Train MSE Score: 39877725926.044525\n",
      "Test MSE Score: 49616557595.280334\n"
     ]
    }
   ],
   "source": [
    "regression_metrics(reg, X_train, X_test, y_train, y_test)"
   ]
  },
  {
   "cell_type": "markdown",
   "id": "793d65b5-6d85-470b-a0f7-8001ab4d3b6b",
   "metadata": {},
   "source": [
    "#### Gradient Boosting Regression"
   ]
  },
  {
   "cell_type": "code",
   "execution_count": 113,
   "id": "ab53f9f8-5b05-4ad7-83f9-19ebdb3508d7",
   "metadata": {},
   "outputs": [],
   "source": [
    "gbr = GradientBoostingRegressor().fit(X_train, np.ravel(y_train))"
   ]
  },
  {
   "cell_type": "code",
   "execution_count": 114,
   "id": "7cc8486d-1ab3-4092-aabc-4faf2c890adf",
   "metadata": {},
   "outputs": [
    {
     "name": "stdout",
     "output_type": "stream",
     "text": [
      "Train R2 Score: 0.7043295722890507\n",
      "Test R2 Score: 0.731555408814922\n",
      "Train MSE Score: 11899831348.320082\n",
      "Test MSE Score: 13415449659.919914\n"
     ]
    }
   ],
   "source": [
    "regression_metrics(gbr, X_train, X_test, np.ravel(y_train), np.ravel(y_test))"
   ]
  },
  {
   "cell_type": "markdown",
   "id": "64948186-ca32-4ec3-8367-cbb37857cf21",
   "metadata": {},
   "source": [
    "#### Decision Tree Regressor"
   ]
  },
  {
   "cell_type": "code",
   "execution_count": 115,
   "id": "bfd8c34d-30db-4119-b8d6-67d655cdc0f5",
   "metadata": {},
   "outputs": [],
   "source": [
    "dtr = DecisionTreeRegressor().fit(X_train, np.ravel(y_train))"
   ]
  },
  {
   "cell_type": "code",
   "execution_count": 116,
   "id": "c7ab8110-e5c8-41f6-9505-6083368747fa",
   "metadata": {},
   "outputs": [
    {
     "name": "stdout",
     "output_type": "stream",
     "text": [
      "Train R2 Score: 0.9328533753005721\n",
      "Test R2 Score: 0.9247996538963315\n",
      "Train MSE Score: 2702446489.891373\n",
      "Test MSE Score: 3758118027.666927\n"
     ]
    }
   ],
   "source": [
    "regression_metrics(dtr, X_train, X_test, np.ravel(y_train), np.ravel(y_test))"
   ]
  },
  {
   "cell_type": "markdown",
   "id": "f2577957-bbe4-45d5-9239-db03f279bad2",
   "metadata": {},
   "source": [
    "### Classification - Task: Predicting Type of Bill - Sharmisha\n",
    "\n",
    "Models proposed:\n",
    "1. Logistic Regression - widely used interpretable model which can be used for setting a baseline accuracy. This model assumed linear relationship between the variables, so mighht give bad results\n",
    "\n",
    "2. Decision Tree Classifier - It can handle the non-linear relationships well between input and target variable. Can be prone to overfitting on the train data.\n",
    "\n",
    "3. Random Forest Classifier - ensemble model, takes advantage of multiple decision trees to create a powerful model. But this model is not easy to interpret and requires more computational resource to run."
   ]
  },
  {
   "cell_type": "code",
   "execution_count": 117,
   "id": "d68f8ec9-03c8-4233-b794-daf134aa7b16",
   "metadata": {},
   "outputs": [],
   "source": [
    "def classification_metrics(model, X_train, X_test, y_train, y_test):\n",
    "    y_train_pred = model.predict(X_train)\n",
    "    y_test_pred = model.predict(X_test)\n",
    "\n",
    "    print(f'Train F1 Score: {f1_score(y_train, y_train_pred, average=\"macro\")}')\n",
    "    print(f'Test F1 Score: {f1_score(y_test, y_test_pred, average=\"macro\")}')\n",
    "\n",
    "    print(f'Train Accuracy Score: {accuracy_score(y_train, y_train_pred)}')\n",
    "    print(f'Test Accuract Score: {accuracy_score(y_test, y_test_pred)}')"
   ]
  },
  {
   "cell_type": "code",
   "execution_count": 118,
   "id": "71d8165c-3a69-415d-8e07-807a5d8fcb7e",
   "metadata": {},
   "outputs": [],
   "source": [
    "X = data_main[[\n",
    "    'business_area', 'address_enc', 'kwh_usage', 'year', 'month'\n",
    "]]\n",
    "y = data_main[['bill_type_enc']]"
   ]
  },
  {
   "cell_type": "code",
   "execution_count": 119,
   "id": "2a8feae3-ad69-4093-a195-af02846a3690",
   "metadata": {},
   "outputs": [],
   "source": [
    "X_train, X_test, y_train, y_test = train_test_split(X, y, test_size=0.2, random_state=42)"
   ]
  },
  {
   "cell_type": "markdown",
   "id": "3d7542e9-5fb3-4c80-b765-61e53d6b95c0",
   "metadata": {},
   "source": [
    "#### Logistic Regression"
   ]
  },
  {
   "cell_type": "code",
   "execution_count": 120,
   "id": "1b995f7a-6bd2-4d4f-a3a7-d887e027b50d",
   "metadata": {},
   "outputs": [
    {
     "name": "stderr",
     "output_type": "stream",
     "text": [
      "C:\\Users\\swarg\\anaconda3\\lib\\site-packages\\sklearn\\linear_model\\_logistic.py:814: ConvergenceWarning: lbfgs failed to converge (status=1):\n",
      "STOP: TOTAL NO. of ITERATIONS REACHED LIMIT.\n",
      "\n",
      "Increase the number of iterations (max_iter) or scale the data as shown in:\n",
      "    https://scikit-learn.org/stable/modules/preprocessing.html\n",
      "Please also refer to the documentation for alternative solver options:\n",
      "    https://scikit-learn.org/stable/modules/linear_model.html#logistic-regression\n",
      "  n_iter_i = _check_optimize_result(\n"
     ]
    }
   ],
   "source": [
    "lreg = LogisticRegression().fit(X_train, np.ravel(y_train))"
   ]
  },
  {
   "cell_type": "code",
   "execution_count": 121,
   "id": "7ce427c3-0c09-48d5-8797-b8ba35fe16ab",
   "metadata": {},
   "outputs": [
    {
     "name": "stdout",
     "output_type": "stream",
     "text": [
      "Train F1 Score: 0.6435088261325143\n",
      "Test F1 Score: 0.6427111304198002\n",
      "Train Accuracy Score: 0.9986993634070143\n",
      "Test Accuract Score: 0.9986928446315129\n"
     ]
    }
   ],
   "source": [
    "classification_metrics(lreg, X_train, X_test, y_train, y_test)"
   ]
  },
  {
   "cell_type": "markdown",
   "id": "736ea6b8-f751-439c-9284-49229cba80a2",
   "metadata": {},
   "source": [
    "#### Decision Tree Classifier"
   ]
  },
  {
   "cell_type": "code",
   "execution_count": 122,
   "id": "677b2203-3eed-4d42-82f9-c546d275da87",
   "metadata": {},
   "outputs": [],
   "source": [
    "dtc = DecisionTreeClassifier().fit(X_train, y_train)"
   ]
  },
  {
   "cell_type": "code",
   "execution_count": 123,
   "id": "f13d8327-c9b5-45e2-9634-d1996a745cc9",
   "metadata": {},
   "outputs": [
    {
     "name": "stdout",
     "output_type": "stream",
     "text": [
      "Train F1 Score: 0.9998707454630322\n",
      "Test F1 Score: 0.6666403148167668\n",
      "Train Accuracy Score: 0.9999934641377237\n",
      "Test Accuract Score: 0.9998431413557816\n"
     ]
    }
   ],
   "source": [
    "classification_metrics(dtc, X_train, X_test, y_train, y_test)"
   ]
  },
  {
   "cell_type": "markdown",
   "id": "a836e1df-c777-43c0-897d-3c97926e1dc8",
   "metadata": {},
   "source": [
    "#### Random Forest Classifier"
   ]
  },
  {
   "cell_type": "code",
   "execution_count": 124,
   "id": "d5f2f59b-8a6e-4a5d-90a9-424ef12f269e",
   "metadata": {},
   "outputs": [],
   "source": [
    "rfc = RandomForestClassifier().fit(X_train, np.ravel(y_train))"
   ]
  },
  {
   "cell_type": "code",
   "execution_count": 125,
   "id": "81cc888e-7bc7-44eb-85c6-0c8c4ff346e7",
   "metadata": {},
   "outputs": [
    {
     "name": "stdout",
     "output_type": "stream",
     "text": [
      "Train F1 Score: 0.9998707454630322\n",
      "Test F1 Score: 0.6666403148167668\n",
      "Train Accuracy Score: 0.9999934641377237\n",
      "Test Accuract Score: 0.9998431413557816\n"
     ]
    }
   ],
   "source": [
    "classification_metrics(dtc, X_train, X_test, np.ravel(y_train), np.ravel(y_test))"
   ]
  },
  {
   "cell_type": "markdown",
   "id": "0adc1d6d-6918-4216-8575-b23372e3b26b",
   "metadata": {},
   "source": [
    "### Time-Series - Hyndavi\n",
    "\n",
    "Proposed Models:\n",
    "1. VAR - can model multiple time series variables simultaneously and capture complex relationships between multiple time series variables. But this model can be sensitive to the number of lags used in the model.\n",
    "2. ARIMA - Can capture the autocorrelation and trends in the time series data as well as seasonality. But it may not perform well with long term forecasting and requires turning to make it optimal\n",
    "3. LSTM - can model complex relationships between time series data such as non-stationary and non-linear time series data. But it requires a lot of computational resources compared to the other models.\n",
    "\n",
    "Currently still working on time-series analysis."
   ]
  },
  {
   "cell_type": "code",
   "execution_count": null,
   "id": "5e005d4a-c85d-4e2e-8fe2-5ea5594bfb8a",
   "metadata": {},
   "outputs": [],
   "source": [
    "from statsmodels.tsa.api import VAR"
   ]
  },
  {
   "cell_type": "code",
   "execution_count": null,
   "id": "a8cbf64e-cdc2-4676-8973-292125085c7e",
   "metadata": {},
   "outputs": [],
   "source": [
    "X = data_main[[\n",
    "    'business_area', \n",
    "    'address_enc', \n",
    "    'bill_type_enc',\n",
    "    'bill_date',\n",
    "    'year', \n",
    "    'month',\n",
    "    'kwh_usage',\n",
    "]]\n",
    "X.set_index('bill_date', inplace=True)"
   ]
  },
  {
   "cell_type": "code",
   "execution_count": null,
   "id": "024232df-32ac-4871-8cd8-c3efb8ea48b3",
   "metadata": {},
   "outputs": [],
   "source": [
    "model = VAR(endog=X)\n",
    "model_fit = model.fit()\n",
    "#Print a summary of the model results\n",
    "model_fit.summary()"
   ]
  },
  {
   "cell_type": "code",
   "execution_count": null,
   "id": "223469ad-14fa-46e7-9e44-d003a43f365e",
   "metadata": {},
   "outputs": [],
   "source": [
    "# Impulse Response Analysis\n",
    "irf = model_fit.irf(20)\n",
    "irf.plot()\n",
    "plt.show()"
   ]
  },
  {
   "cell_type": "markdown",
   "id": "9e51435b-6fec-4d49-b8b5-7f2bc0493ebd",
   "metadata": {
    "tags": []
   },
   "source": [
    "### Clustering - Sunil\n",
    "\n",
    "Models proposed:\n",
    "\n",
    "1. KMeans - simple and easy model which is computationally efficient. requires the number of clusters to be specified and can be sensitive to initialization of centroids\n",
    "2. DBSCAN - can handle arbitrary shapes of clusters and noise points. But this model can be quite computationally expensive for big datasets.\n",
    "3. Hierarchical - can provide hierarchy of clusters which is useful fpr understanding relationships between the clusters. But this model too is computationally expensive.\n",
    "\n",
    "Currently still working on clustering."
   ]
  },
  {
   "cell_type": "code",
   "execution_count": null,
   "id": "67c833d0-81a8-4017-bc61-57b81a03bc56",
   "metadata": {},
   "outputs": [],
   "source": [
    "from sklearn.cluster import KMeans, DBSCAN\n",
    "from sklearn.metrics import silhouette_score\n",
    "from sklearn.preprocessing import StandardScaler, normalize\n",
    "\n",
    "from sklearn.cluster import AgglomerativeClustering"
   ]
  },
  {
   "cell_type": "code",
   "execution_count": null,
   "id": "5ba5d25a-cfe4-4a36-b1df-cbe98a9b0f88",
   "metadata": {},
   "outputs": [],
   "source": [
    "X = data_main[[\n",
    "    'business_area', \n",
    "    'address_enc', \n",
    "    'bill_type_enc', \n",
    "    'year', \n",
    "    'month',\n",
    "    'kwh_usage',\n",
    "]]"
   ]
  },
  {
   "cell_type": "code",
   "execution_count": null,
   "id": "d1d089b8-2e21-4c1f-96d1-569c2a100c29",
   "metadata": {},
   "outputs": [],
   "source": [
    "X.dtypes"
   ]
  },
  {
   "cell_type": "code",
   "execution_count": null,
   "id": "fa7699c4-d5f4-44a0-a72e-cf7c1170bb98",
   "metadata": {},
   "outputs": [],
   "source": [
    "db = DBSCAN(eps=0.4, min_samples=20)\n",
    "db.fit(X)\n",
    "\n",
    "y_pred = db.fit_predict(X)\n",
    "plt.figure(figsize=(10,6))\n",
    "plt.scatter(X[:,0], X[:,1],c=y_pred, cmap='Paired')\n",
    "plt.title(\"Clusters determined by DBSCAN\")"
   ]
  },
  {
   "cell_type": "code",
   "execution_count": null,
   "id": "f5efa326-bdb0-4e06-aed8-6d0929c85141",
   "metadata": {},
   "outputs": [],
   "source": [
    "for k in range(1, 11):\n",
    "    agg_cluster = AgglomerativeClustering(\n",
    "        n_clusters=k, \n",
    "        affinity='euclidean', \n",
    "        linkage='single'\n",
    "    )\n",
    "    agg_cluster.fit(X)\n",
    "    break"
   ]
  },
  {
   "cell_type": "code",
   "execution_count": null,
   "id": "756bb9fa-f0f9-413a-8c52-dbf67c2647f6",
   "metadata": {},
   "outputs": [],
   "source": [
    "kmeans_kwargs = {\n",
    "   \"init\": \"random\",\n",
    "   \"n_init\": 10,\n",
    "   \"max_iter\": 300,\n",
    "   \"random_state\": 42,\n",
    "}\n",
    "\n",
    "sse = []\n",
    "for k in range(1, 11):\n",
    "    kmeans = KMeans(n_clusters=k, **kmeans_kwargs)\n",
    "    kmeans.fit(scaled_features)\n",
    "    sse.append(kmeans.inertia_)"
   ]
  },
  {
   "cell_type": "code",
   "execution_count": null,
   "id": "106792e5-f0c7-4087-b198-70a11beb7f59",
   "metadata": {},
   "outputs": [],
   "source": [
    "plt.plot(range(1, 11), sse)\n",
    "plt.xticks(range(1, 11))\n",
    "plt.xlabel(\"Number of Clusters\")\n",
    "plt.ylabel(\"SSE\")\n",
    "plt.show()"
   ]
  },
  {
   "cell_type": "markdown",
   "id": "6399d9bc-16c4-404d-9685-2842275ac1d2",
   "metadata": {},
   "source": [
    "## Reflection\n",
    "\n",
    "1. The hardest part of the project so far was the initial data cleaning process and making sense of the columns. So far the correlation between the features is still quite low so generating useful insights from these features is proving challenging. \n",
    "\n",
    "2. During Summer/Fall months there is quite high usage of energy. As well as there are few business areas where there is more usage of energy. This has been visualized as well.\n",
    "\n",
    "3. The results so far are preliminary. We need to iterate further on these results and thhe observations in order to verify the conclusions befere we can confidently say that our observations are indeed correct.\n",
    "\n",
    "4. The data might prove insufficient for few of the ML tasks that we are planning on performing. Therefore finding another data source which can be combined with these datasets is going to prove difficult in case the need arises.\n",
    "\n",
    "5. Yes, we believe we are on track with the project. We have a plan to work on the models that have not yet been implemented and we are going to verify the work we have done so far before concluding the work.\n",
    "\n",
    "6. The data as it stands right now is good as it has been useful to give the insights we have given so far. Once we are able to figure out the time-series and Clustering analysis part as well we would be able ot prove that the data is able to forecast as well and cluster high energy needing areas into groups.\n",
    "\n",
    "\n",
    "## Next Work\n",
    "We want to recheck our work done so far to verify the data cleaning and analysis that we have done. Once we get more confidence in the results we have presented here we want to work on the time series analysis and clustering analysis which is pending.\n",
    "We will look for further resources to help get us started on these two model tasks.\n",
    "The project would have achieved its goals if we are able to answer the hypotheses that we have come up with.\n",
    "\n",
    "\n",
    "## References\n",
    "1. [sklearn](https://scikit-learn.org/stable/)\n",
    "2. [pandas](https://pandas.pydata.org/docs/)\n",
    "3. [scipy](https://docs.scipy.org/doc/scipy/)\n",
    "4. [data](https://data.world/houston/houston-electricity-bills)"
   ]
  }
 ],
 "metadata": {
  "kernelspec": {
   "display_name": "Python 3 (ipykernel)",
   "language": "python",
   "name": "python3"
  },
  "language_info": {
   "codemirror_mode": {
    "name": "ipython",
    "version": 3
   },
   "file_extension": ".py",
   "mimetype": "text/x-python",
   "name": "python",
   "nbconvert_exporter": "python",
   "pygments_lexer": "ipython3",
   "version": "3.9.13"
  }
 },
 "nbformat": 4,
 "nbformat_minor": 5
}

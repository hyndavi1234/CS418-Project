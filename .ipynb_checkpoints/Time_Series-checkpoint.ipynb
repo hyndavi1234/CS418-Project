{
 "cells": [
  {
   "cell_type": "markdown",
   "id": "b7ff09f8-8409-4ada-a156-c44e9c8bbd15",
   "metadata": {},
   "source": [
    "## Import Statements"
   ]
  },
  {
   "cell_type": "code",
   "execution_count": 1,
   "id": "0ac5bbb2-d3cd-4be0-a2e3-74d7ed0e7f09",
   "metadata": {},
   "outputs": [],
   "source": [
    "import pandas as pd\n",
    "import numpy as np\n",
    "import matplotlib.pyplot as plt\n",
    "import matplotlib.dates as mdates\n",
    "import seaborn as sns\n",
    "from scipy import stats\n",
    "\n",
    "from sklearn.linear_model import LinearRegression\n",
    "from sklearn.ensemble import GradientBoostingRegressor\n",
    "from sklearn.tree import DecisionTreeRegressor\n",
    "\n",
    "from sklearn.preprocessing import LabelEncoder\n",
    "from sklearn.model_selection import train_test_split\n",
    "from sklearn.metrics import r2_score, mean_squared_error\n",
    "\n",
    "pd.options.display.max_columns=25"
   ]
  },
  {
   "cell_type": "code",
   "execution_count": null,
   "id": "4f2c0dc7-c335-4521-9aa5-285ff3e610d3",
   "metadata": {},
   "outputs": [],
   "source": [
    "data_main = pd.read_csv('Electricity_Usage_Data.csv')"
   ]
  },
  {
   "cell_type": "code",
   "execution_count": 4,
   "id": "04c61aba-6b82-4e5d-acc8-f6a98fce7966",
   "metadata": {},
   "outputs": [],
   "source": [
    "data_main[['bill_date']] = data_main[['bill_date']].apply(pd.to_datetime)"
   ]
  },
  {
   "cell_type": "code",
   "execution_count": null,
   "id": "02462289-cf4a-4a37-9b23-70ad29ab8ee4",
   "metadata": {},
   "outputs": [],
   "source": [
    "data_main.loc[:,'bill_date'] = data_main['bill_date'].apply(lambda x: pd.to_datetime(f'{x.year}-{x.month}-01'))"
   ]
  },
  {
   "cell_type": "code",
   "execution_count": 107,
   "id": "a8b37d87-209f-4520-bc49-e3dc8644dfee",
   "metadata": {},
   "outputs": [],
   "source": [
    "address_enc = LabelEncoder()\n",
    "bill_type_enc = LabelEncoder()\n",
    "\n",
    "data_main['address_enc'] = address_enc.fit_transform(data_main['service_address'])\n",
    "data_main['bill_type_enc'] = bill_type_enc.fit_transform(data_main['bill_type'])\n",
    "data_main['year'] = data_main['bill_date'].apply(lambda x:x.year)\n",
    "data_main['month'] = data_main['bill_date'].apply(lambda x:x.month)"
   ]
  },
  {
   "cell_type": "markdown",
   "id": "cfc72423-8732-45ab-9617-9267ac2c2063",
   "metadata": {},
   "source": [
    "### Time-Series - Hyndavi\n",
    "\n",
    "Proposed Models:\n",
    "1. VAR - can model multiple time series variables simultaneously and capture complex relationships between multiple time series variables. But this model can be sensitive to the number of lags used in the model.\n",
    "2. ARIMA - Can capture the autocorrelation and trends in the time series data as well as seasonality. But it may not perform well with long term forecasting and requires turning to make it optimal\n",
    "3. LSTM - can model complex relationships between time series data such as non-stationary and non-linear time series data. But it requires a lot of computational resources compared to the other models.\n",
    "\n",
    "Currently still working on time-series analysis."
   ]
  },
  {
   "cell_type": "code",
   "execution_count": null,
   "id": "7b3e0c29-2782-4440-8321-1d069641cc3c",
   "metadata": {},
   "outputs": [],
   "source": [
    "from statsmodels.tsa.api import VAR"
   ]
  },
  {
   "cell_type": "code",
   "execution_count": null,
   "id": "cbb63085-cd14-4469-a6c8-9bf95247f12f",
   "metadata": {},
   "outputs": [],
   "source": [
    "X = data_main[[\n",
    "    'business_area', \n",
    "    'address_enc', \n",
    "    'bill_type_enc',\n",
    "    'bill_date',\n",
    "    'year', \n",
    "    'month',\n",
    "    'kwh_usage',\n",
    "]]\n",
    "X.set_index('bill_date', inplace=True)"
   ]
  },
  {
   "cell_type": "code",
   "execution_count": null,
   "id": "d58691fb-3ff8-4179-9bbb-ef9ad8413cc3",
   "metadata": {},
   "outputs": [],
   "source": [
    "model = VAR(endog=X)\n",
    "model_fit = model.fit()\n",
    "#Print a summary of the model results\n",
    "model_fit.summary()"
   ]
  },
  {
   "cell_type": "code",
   "execution_count": null,
   "id": "0729b979-f954-4e48-96f9-7ae86cdd9e29",
   "metadata": {},
   "outputs": [],
   "source": [
    "# Impulse Response Analysis\n",
    "irf = model_fit.irf(20)\n",
    "irf.plot()\n",
    "plt.show()"
   ]
  }
 ],
 "metadata": {
  "kernelspec": {
   "display_name": "Python 3 (ipykernel)",
   "language": "python",
   "name": "python3"
  },
  "language_info": {
   "codemirror_mode": {
    "name": "ipython",
    "version": 3
   },
   "file_extension": ".py",
   "mimetype": "text/x-python",
   "name": "python",
   "nbconvert_exporter": "python",
   "pygments_lexer": "ipython3",
   "version": "3.10.9"
  }
 },
 "nbformat": 4,
 "nbformat_minor": 5
}

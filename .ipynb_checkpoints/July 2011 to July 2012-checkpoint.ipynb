{
 "cells": [
  {
   "cell_type": "markdown",
   "id": "83d432b4-9729-4ebb-854a-a1ea04c77fdd",
   "metadata": {},
   "source": [
    "## Import Statements"
   ]
  },
  {
   "cell_type": "code",
   "execution_count": 1,
   "id": "4788669f-eadb-4f7e-9725-8ce39ac6862c",
   "metadata": {},
   "outputs": [],
   "source": [
    "import pandas as pd\n",
    "import numpy as np\n",
    "import matplotlib.pyplot as plt\n",
    "import matplotlib.dates as mdates\n",
    "import seaborn as sns\n",
    "from scipy import stats\n",
    "\n",
    "pd.options.display.max_columns=25"
   ]
  },
  {
   "cell_type": "markdown",
   "id": "71ed996f-ed2c-4a54-9062-431b8166de6a",
   "metadata": {
    "tags": []
   },
   "source": [
    "## Data FY 2012"
   ]
  },
  {
   "cell_type": "code",
   "execution_count": 2,
   "id": "809f9b0f-d9af-49e6-80d7-9fc65de8a5d6",
   "metadata": {},
   "outputs": [
    {
     "data": {
      "text/plain": [
       "(57430, 24)"
      ]
     },
     "execution_count": 2,
     "metadata": {},
     "output_type": "execute_result"
    }
   ],
   "source": [
    "data_2012 = pd.read_excel('houston-houston-electricity-bills/coh-fy2012-ee-bills-july2011-june2012.xls')\n",
    "orig_shape_2012 = data_2012.shape[0]\n",
    "\n",
    "data_2012.shape"
   ]
  },
  {
   "cell_type": "code",
   "execution_count": 3,
   "id": "50b48670-d06c-475f-bd1e-726534bed7c1",
   "metadata": {},
   "outputs": [
    {
     "data": {
      "text/html": [
       "<div>\n",
       "<style scoped>\n",
       "    .dataframe tbody tr th:only-of-type {\n",
       "        vertical-align: middle;\n",
       "    }\n",
       "\n",
       "    .dataframe tbody tr th {\n",
       "        vertical-align: top;\n",
       "    }\n",
       "\n",
       "    .dataframe thead th {\n",
       "        text-align: right;\n",
       "    }\n",
       "</style>\n",
       "<table border=\"1\" class=\"dataframe\">\n",
       "  <thead>\n",
       "    <tr style=\"text-align: right;\">\n",
       "      <th></th>\n",
       "      <th>Reliant Contract No</th>\n",
       "      <th>Service Address</th>\n",
       "      <th>Meter No</th>\n",
       "      <th>ESID</th>\n",
       "      <th>Business Area</th>\n",
       "      <th>Cost Center</th>\n",
       "      <th>Fund</th>\n",
       "      <th>Bill Type</th>\n",
       "      <th>Bill Date</th>\n",
       "      <th>Read Date</th>\n",
       "      <th>Due Date</th>\n",
       "      <th>Meter Read</th>\n",
       "      <th>Base Cost ($)</th>\n",
       "      <th>T&amp;D Discretionary ($)</th>\n",
       "      <th>T&amp;D Charges ($)</th>\n",
       "      <th>Current Due ($)</th>\n",
       "      <th>Adjustment ($)</th>\n",
       "      <th>Total Due ($)</th>\n",
       "      <th>Franchise Fee ($)</th>\n",
       "      <th>Voucher Date</th>\n",
       "      <th>Billed Demand</th>\n",
       "      <th>kWh Usage</th>\n",
       "      <th>Nodal Cu Charge ($)</th>\n",
       "      <th>Reliability Unit Charge ($)</th>\n",
       "    </tr>\n",
       "  </thead>\n",
       "  <tbody>\n",
       "    <tr>\n",
       "      <th>0</th>\n",
       "      <td>2059605</td>\n",
       "      <td>10518 BELLAIRE</td>\n",
       "      <td>303261</td>\n",
       "      <td>1008901000140050014100</td>\n",
       "      <td>2000</td>\n",
       "      <td>2000040005</td>\n",
       "      <td>8300</td>\n",
       "      <td>T</td>\n",
       "      <td>2012-06-26</td>\n",
       "      <td>2012-06-21</td>\n",
       "      <td>2012-07-26</td>\n",
       "      <td>47940.0</td>\n",
       "      <td>61070.65</td>\n",
       "      <td>1638.01</td>\n",
       "      <td>10440.86</td>\n",
       "      <td>73232.11</td>\n",
       "      <td>NaN</td>\n",
       "      <td>73232.11</td>\n",
       "      <td>-1047.28</td>\n",
       "      <td>2012-06-27</td>\n",
       "      <td>1507.291667</td>\n",
       "      <td>905421</td>\n",
       "      <td>82.59</td>\n",
       "      <td>0.0</td>\n",
       "    </tr>\n",
       "    <tr>\n",
       "      <th>1</th>\n",
       "      <td>2059605</td>\n",
       "      <td>10518 BELLAIRE</td>\n",
       "      <td>303261</td>\n",
       "      <td>1008901000140050014100</td>\n",
       "      <td>2000</td>\n",
       "      <td>2000040005</td>\n",
       "      <td>8300</td>\n",
       "      <td>T</td>\n",
       "      <td>2012-05-25</td>\n",
       "      <td>2012-05-21</td>\n",
       "      <td>2012-06-24</td>\n",
       "      <td>47186.0</td>\n",
       "      <td>56319.47</td>\n",
       "      <td>1631.00</td>\n",
       "      <td>10364.63</td>\n",
       "      <td>68463.46</td>\n",
       "      <td>NaN</td>\n",
       "      <td>68463.46</td>\n",
       "      <td>-1045.21</td>\n",
       "      <td>2012-05-30</td>\n",
       "      <td>1496.907217</td>\n",
       "      <td>824107</td>\n",
       "      <td>148.36</td>\n",
       "      <td>0.0</td>\n",
       "    </tr>\n",
       "    <tr>\n",
       "      <th>2</th>\n",
       "      <td>2059605</td>\n",
       "      <td>10518 BELLAIRE</td>\n",
       "      <td>303261</td>\n",
       "      <td>1008901000140050014100</td>\n",
       "      <td>2000</td>\n",
       "      <td>2000040005</td>\n",
       "      <td>8300</td>\n",
       "      <td>T</td>\n",
       "      <td>2012-04-27</td>\n",
       "      <td>2012-04-23</td>\n",
       "      <td>2012-05-27</td>\n",
       "      <td>46499.0</td>\n",
       "      <td>68461.63</td>\n",
       "      <td>1674.67</td>\n",
       "      <td>10676.79</td>\n",
       "      <td>80847.87</td>\n",
       "      <td>NaN</td>\n",
       "      <td>80847.87</td>\n",
       "      <td>-1081.11</td>\n",
       "      <td>2012-04-30</td>\n",
       "      <td>1562.500000</td>\n",
       "      <td>977744</td>\n",
       "      <td>34.78</td>\n",
       "      <td>0.0</td>\n",
       "    </tr>\n",
       "    <tr>\n",
       "      <th>3</th>\n",
       "      <td>2059605</td>\n",
       "      <td>10518 BELLAIRE</td>\n",
       "      <td>303261</td>\n",
       "      <td>1008901000140050014100</td>\n",
       "      <td>2000</td>\n",
       "      <td>2000040005</td>\n",
       "      <td>8300</td>\n",
       "      <td>T</td>\n",
       "      <td>2012-03-27</td>\n",
       "      <td>2012-03-21</td>\n",
       "      <td>2012-04-26</td>\n",
       "      <td>45684.0</td>\n",
       "      <td>62036.29</td>\n",
       "      <td>1696.66</td>\n",
       "      <td>10681.48</td>\n",
       "      <td>74373.93</td>\n",
       "      <td>NaN</td>\n",
       "      <td>74373.93</td>\n",
       "      <td>-1087.32</td>\n",
       "      <td>2012-03-28</td>\n",
       "      <td>1567.708333</td>\n",
       "      <td>876838</td>\n",
       "      <td>-40.50</td>\n",
       "      <td>0.0</td>\n",
       "    </tr>\n",
       "    <tr>\n",
       "      <th>4</th>\n",
       "      <td>2059605</td>\n",
       "      <td>10518 BELLAIRE</td>\n",
       "      <td>303261</td>\n",
       "      <td>1008901000140050014100</td>\n",
       "      <td>2000</td>\n",
       "      <td>2000040005</td>\n",
       "      <td>8300</td>\n",
       "      <td>T</td>\n",
       "      <td>2012-02-27</td>\n",
       "      <td>2012-02-21</td>\n",
       "      <td>2012-03-28</td>\n",
       "      <td>44954.0</td>\n",
       "      <td>61670.24</td>\n",
       "      <td>1703.80</td>\n",
       "      <td>10707.94</td>\n",
       "      <td>74080.27</td>\n",
       "      <td>NaN</td>\n",
       "      <td>74080.27</td>\n",
       "      <td>-1090.08</td>\n",
       "      <td>2012-02-28</td>\n",
       "      <td>1577.083333</td>\n",
       "      <td>872898</td>\n",
       "      <td>-1.71</td>\n",
       "      <td>0.0</td>\n",
       "    </tr>\n",
       "  </tbody>\n",
       "</table>\n",
       "</div>"
      ],
      "text/plain": [
       "   Reliant Contract No Service Address  Meter No                    ESID  \\\n",
       "0              2059605   10518 BELLAIRE   303261  1008901000140050014100   \n",
       "1              2059605   10518 BELLAIRE   303261  1008901000140050014100   \n",
       "2              2059605   10518 BELLAIRE   303261  1008901000140050014100   \n",
       "3              2059605   10518 BELLAIRE   303261  1008901000140050014100   \n",
       "4              2059605   10518 BELLAIRE   303261  1008901000140050014100   \n",
       "\n",
       "   Business Area  Cost Center  Fund Bill Type  Bill Date  Read Date  \\\n",
       "0           2000   2000040005  8300         T 2012-06-26 2012-06-21   \n",
       "1           2000   2000040005  8300         T 2012-05-25 2012-05-21   \n",
       "2           2000   2000040005  8300         T 2012-04-27 2012-04-23   \n",
       "3           2000   2000040005  8300         T 2012-03-27 2012-03-21   \n",
       "4           2000   2000040005  8300         T 2012-02-27 2012-02-21   \n",
       "\n",
       "    Due Date  Meter Read  Base Cost ($)  T&D Discretionary ($)  \\\n",
       "0 2012-07-26     47940.0       61070.65                1638.01   \n",
       "1 2012-06-24     47186.0       56319.47                1631.00   \n",
       "2 2012-05-27     46499.0       68461.63                1674.67   \n",
       "3 2012-04-26     45684.0       62036.29                1696.66   \n",
       "4 2012-03-28     44954.0       61670.24                1703.80   \n",
       "\n",
       "   T&D Charges ($)  Current Due ($)  Adjustment ($)  Total Due ($)  \\\n",
       "0         10440.86         73232.11             NaN       73232.11   \n",
       "1         10364.63         68463.46             NaN       68463.46   \n",
       "2         10676.79         80847.87             NaN       80847.87   \n",
       "3         10681.48         74373.93             NaN       74373.93   \n",
       "4         10707.94         74080.27             NaN       74080.27   \n",
       "\n",
       "   Franchise Fee ($) Voucher Date  Billed Demand   kWh Usage  \\\n",
       "0           -1047.28   2012-06-27     1507.291667     905421   \n",
       "1           -1045.21   2012-05-30     1496.907217     824107   \n",
       "2           -1081.11   2012-04-30     1562.500000     977744   \n",
       "3           -1087.32   2012-03-28     1567.708333     876838   \n",
       "4           -1090.08   2012-02-28     1577.083333     872898   \n",
       "\n",
       "   Nodal Cu Charge ($)  Reliability Unit Charge ($)  \n",
       "0                82.59                          0.0  \n",
       "1               148.36                          0.0  \n",
       "2                34.78                          0.0  \n",
       "3               -40.50                          0.0  \n",
       "4                -1.71                          0.0  "
      ]
     },
     "execution_count": 3,
     "metadata": {},
     "output_type": "execute_result"
    }
   ],
   "source": [
    "data_2012.head(5)"
   ]
  },
  {
   "cell_type": "markdown",
   "id": "5a32f02f-8649-43a1-87ea-bc6802af84b6",
   "metadata": {},
   "source": [
    "### Checking Nulls"
   ]
  },
  {
   "cell_type": "code",
   "execution_count": 4,
   "id": "1bf91881-7859-4e11-878a-81c7ad8a293c",
   "metadata": {},
   "outputs": [
    {
     "data": {
      "text/plain": [
       "Reliant Contract No                0\n",
       "Service Address                    0\n",
       "Meter No                        7809\n",
       "ESID                               0\n",
       "Business Area                      0\n",
       "Cost Center                        0\n",
       "Fund                               0\n",
       "Bill Type                          0\n",
       "Bill Date                          0\n",
       "Read Date                          0\n",
       "Due Date                           0\n",
       "Meter Read                         2\n",
       "Base Cost ($)                      0\n",
       "T&D Discretionary ($)              0\n",
       "T&D Charges ($)                    0\n",
       "Current Due ($)                    0\n",
       "Adjustment ($)                 56259\n",
       "Total Due ($)                      0\n",
       "Franchise Fee ($)                  0\n",
       "Voucher Date                       0\n",
       "Billed Demand                      3\n",
       "kWh Usage                          0\n",
       "Nodal Cu Charge ($)                1\n",
       "Reliability Unit Charge ($)        4\n",
       "dtype: int64"
      ]
     },
     "execution_count": 4,
     "metadata": {},
     "output_type": "execute_result"
    }
   ],
   "source": [
    "data_2012.isna().sum()"
   ]
  },
  {
   "cell_type": "markdown",
   "id": "68bca205-eca2-453a-a898-e3b9d2cad7c0",
   "metadata": {},
   "source": [
    "### Checking Adjustment ($) column"
   ]
  },
  {
   "cell_type": "code",
   "execution_count": 5,
   "id": "65be4e52-9fc0-4a48-9588-c30207a9ff09",
   "metadata": {},
   "outputs": [
    {
     "data": {
      "text/plain": [
       "NaN       56259\n",
       "0.0        1170\n",
       "9425.9        1\n",
       "Name: Adjustment ($), dtype: int64"
      ]
     },
     "execution_count": 5,
     "metadata": {},
     "output_type": "execute_result"
    }
   ],
   "source": [
    "data_2012['Adjustment ($)'].value_counts(dropna=False)"
   ]
  },
  {
   "cell_type": "markdown",
   "id": "eea5d2cb-f5a3-442b-a649-560eba86702c",
   "metadata": {},
   "source": [
    "The column does not have any relevant information based on the above reported values. Electing to drop the column."
   ]
  },
  {
   "cell_type": "code",
   "execution_count": 6,
   "id": "1c9298d6-89c7-47cc-a722-31d4c1d654b6",
   "metadata": {},
   "outputs": [],
   "source": [
    "data_2012.drop(columns=['Adjustment ($)'], inplace=True)"
   ]
  },
  {
   "cell_type": "markdown",
   "id": "ae3ded6d-7b59-4603-bd89-eb68b7cc67b1",
   "metadata": {},
   "source": [
    "### Checking Unique Number of Customers"
   ]
  },
  {
   "cell_type": "markdown",
   "id": "5cf88faa-de57-408c-98d8-ce5b8c83d9d9",
   "metadata": {},
   "source": [
    "There are quite a few columns in the dataset that signify relating to a unique person/house/business. Checking the unique counts of such columns."
   ]
  },
  {
   "cell_type": "code",
   "execution_count": 7,
   "id": "4da9ac48-55e4-4299-8891-40d46c2ee2be",
   "metadata": {},
   "outputs": [
    {
     "name": "stdout",
     "output_type": "stream",
     "text": [
      "Number of Unique Values in Reliant Contract No: 5241\n",
      "Number of Unique Values in Service Address : 5183\n",
      "Number of Unique Values in Meter No: 4021\n",
      "Number of Unique Values in ESID: 5241\n",
      "Number of Unique Values in Business Area: 9\n",
      "Number of Unique Values in Cost Center: 38\n"
     ]
    }
   ],
   "source": [
    "check_unique_columns = ['Reliant Contract No', 'Service Address ', 'Meter No', \n",
    "                        'ESID', 'Business Area', 'Cost Center',]\n",
    "\n",
    "for col in check_unique_columns:\n",
    "    print(f'Number of Unique Values in {col}: {data_2012[col].nunique()}')"
   ]
  },
  {
   "cell_type": "markdown",
   "id": "7da62794-7e3f-4dcf-b9f9-6cf0adb65564",
   "metadata": {},
   "source": [
    "Based on the above reported values and further research online:\n",
    "\n",
    "ESID signifies a unique ID provided to each customer subscribed to the electricity board. It would be best to choose ESID and Service Address columns going forward as these would provide number of unique customers and the areas (streets) where higher usage of electricity occurs.\n",
    "\n",
    "Business Area signifies a grouping a number of buildings which covers a certain area. This would be useful usage patterns grouped by certain zones in the city."
   ]
  },
  {
   "cell_type": "markdown",
   "id": "5d196cf0-3607-41c7-89ec-e860ef18ec30",
   "metadata": {},
   "source": [
    "### Checking Bill Type"
   ]
  },
  {
   "cell_type": "code",
   "execution_count": 8,
   "id": "3ed41b97-47e8-4cd0-8dac-e73679d75c8e",
   "metadata": {},
   "outputs": [
    {
     "data": {
      "text/plain": [
       "T    56859\n",
       "P      552\n",
       "C       19\n",
       "Name: Bill Type, dtype: int64"
      ]
     },
     "execution_count": 8,
     "metadata": {},
     "output_type": "execute_result"
    }
   ],
   "source": [
    "data_2012['Bill Type'].value_counts(dropna=False)"
   ]
  },
  {
   "cell_type": "markdown",
   "id": "d987cd96-ea36-4ec9-b3f9-9db39550f61e",
   "metadata": {},
   "source": [
    "Bill Type could signify the type of the connection given. Since commercial, residential and government spaces would have different type of pricing and needs this column could be capturing that information."
   ]
  },
  {
   "cell_type": "code",
   "execution_count": 9,
   "id": "b334f382-db2a-4c71-b020-b20b3304cb19",
   "metadata": {},
   "outputs": [
    {
     "data": {
      "text/plain": [
       "(5183, 4021, 5241)"
      ]
     },
     "execution_count": 9,
     "metadata": {},
     "output_type": "execute_result"
    }
   ],
   "source": [
    "data_2012['Service Address '].nunique(), data_2012['Meter No'].nunique(), data_2012['ESID'].nunique()"
   ]
  },
  {
   "cell_type": "markdown",
   "id": "2664394c-47f0-4dfd-89ce-87d2e75b456b",
   "metadata": {},
   "source": [
    "The next 3 columns are: Bill Date, Read Date and Due Date. Of these it would be best to choose the Bill date across all the data files to keep the data consistent. "
   ]
  },
  {
   "cell_type": "markdown",
   "id": "b0c291ae-7194-4153-a0d8-d957b42103e0",
   "metadata": {},
   "source": [
    "### Electricity Usage Statistics"
   ]
  },
  {
   "cell_type": "code",
   "execution_count": 10,
   "id": "7fc393ad-aaa1-4a1d-af76-5b3364a78948",
   "metadata": {},
   "outputs": [
    {
     "data": {
      "text/html": [
       "<div>\n",
       "<style scoped>\n",
       "    .dataframe tbody tr th:only-of-type {\n",
       "        vertical-align: middle;\n",
       "    }\n",
       "\n",
       "    .dataframe tbody tr th {\n",
       "        vertical-align: top;\n",
       "    }\n",
       "\n",
       "    .dataframe thead th {\n",
       "        text-align: right;\n",
       "    }\n",
       "</style>\n",
       "<table border=\"1\" class=\"dataframe\">\n",
       "  <thead>\n",
       "    <tr style=\"text-align: right;\">\n",
       "      <th></th>\n",
       "      <th>Meter Read</th>\n",
       "      <th>Billed Demand</th>\n",
       "      <th>kWh Usage</th>\n",
       "    </tr>\n",
       "  </thead>\n",
       "  <tbody>\n",
       "    <tr>\n",
       "      <th>count</th>\n",
       "      <td>57428.000000</td>\n",
       "      <td>57427.000000</td>\n",
       "      <td>5.743000e+04</td>\n",
       "    </tr>\n",
       "    <tr>\n",
       "      <th>mean</th>\n",
       "      <td>10008.024135</td>\n",
       "      <td>52.581303</td>\n",
       "      <td>2.249732e+04</td>\n",
       "    </tr>\n",
       "    <tr>\n",
       "      <th>std</th>\n",
       "      <td>19208.052944</td>\n",
       "      <td>432.027165</td>\n",
       "      <td>2.216349e+05</td>\n",
       "    </tr>\n",
       "    <tr>\n",
       "      <th>min</th>\n",
       "      <td>0.000000</td>\n",
       "      <td>0.000000</td>\n",
       "      <td>0.000000e+00</td>\n",
       "    </tr>\n",
       "    <tr>\n",
       "      <th>25%</th>\n",
       "      <td>118.750000</td>\n",
       "      <td>0.000000</td>\n",
       "      <td>1.000000e+02</td>\n",
       "    </tr>\n",
       "    <tr>\n",
       "      <th>50%</th>\n",
       "      <td>2583.000000</td>\n",
       "      <td>0.000000</td>\n",
       "      <td>2.980000e+02</td>\n",
       "    </tr>\n",
       "    <tr>\n",
       "      <th>75%</th>\n",
       "      <td>7879.000000</td>\n",
       "      <td>11.000000</td>\n",
       "      <td>2.240000e+03</td>\n",
       "    </tr>\n",
       "    <tr>\n",
       "      <th>max</th>\n",
       "      <td>342348.000000</td>\n",
       "      <td>18495.555556</td>\n",
       "      <td>1.069344e+07</td>\n",
       "    </tr>\n",
       "  </tbody>\n",
       "</table>\n",
       "</div>"
      ],
      "text/plain": [
       "          Meter Read  Billed Demand      kWh Usage\n",
       "count   57428.000000    57427.000000  5.743000e+04\n",
       "mean    10008.024135       52.581303  2.249732e+04\n",
       "std     19208.052944      432.027165  2.216349e+05\n",
       "min         0.000000        0.000000  0.000000e+00\n",
       "25%       118.750000        0.000000  1.000000e+02\n",
       "50%      2583.000000        0.000000  2.980000e+02\n",
       "75%      7879.000000       11.000000  2.240000e+03\n",
       "max    342348.000000    18495.555556  1.069344e+07"
      ]
     },
     "execution_count": 10,
     "metadata": {},
     "output_type": "execute_result"
    }
   ],
   "source": [
    "data_2012[['Meter Read', 'Billed Demand ', 'kWh Usage']].describe()"
   ]
  },
  {
   "cell_type": "markdown",
   "id": "47da1403-2ade-41f1-a731-14d3223e1057",
   "metadata": {},
   "source": [
    "There are 3 columns that denote the amount of electricity: Meter Read, Billed Demand, kWh Usage.\n",
    "\n",
    "Using kWh Usage as a standard unit of measurement."
   ]
  },
  {
   "cell_type": "code",
   "execution_count": 11,
   "id": "66d090f4-d82e-437b-bbe7-a9ad7cac1f27",
   "metadata": {},
   "outputs": [
    {
     "data": {
      "text/html": [
       "<div>\n",
       "<style scoped>\n",
       "    .dataframe tbody tr th:only-of-type {\n",
       "        vertical-align: middle;\n",
       "    }\n",
       "\n",
       "    .dataframe tbody tr th {\n",
       "        vertical-align: top;\n",
       "    }\n",
       "\n",
       "    .dataframe thead th {\n",
       "        text-align: right;\n",
       "    }\n",
       "</style>\n",
       "<table border=\"1\" class=\"dataframe\">\n",
       "  <thead>\n",
       "    <tr style=\"text-align: right;\">\n",
       "      <th></th>\n",
       "      <th>Base Cost ($)</th>\n",
       "      <th>T&amp;D Discretionary ($)</th>\n",
       "      <th>T&amp;D Charges ($)</th>\n",
       "      <th>Current Due ($)</th>\n",
       "      <th>Total Due ($)</th>\n",
       "      <th>Franchise Fee ($)</th>\n",
       "      <th>Nodal Cu Charge ($)</th>\n",
       "      <th>Reliability Unit Charge ($)</th>\n",
       "    </tr>\n",
       "  </thead>\n",
       "  <tbody>\n",
       "    <tr>\n",
       "      <th>count</th>\n",
       "      <td>57430.000000</td>\n",
       "      <td>57430.000000</td>\n",
       "      <td>57430.000000</td>\n",
       "      <td>57430.000000</td>\n",
       "      <td>57430.000000</td>\n",
       "      <td>57430.000000</td>\n",
       "      <td>57429.000000</td>\n",
       "      <td>57426.0</td>\n",
       "    </tr>\n",
       "    <tr>\n",
       "      <th>mean</th>\n",
       "      <td>1557.590034</td>\n",
       "      <td>404.377159</td>\n",
       "      <td>322.324780</td>\n",
       "      <td>2292.520167</td>\n",
       "      <td>2326.005266</td>\n",
       "      <td>-36.249975</td>\n",
       "      <td>8.067123</td>\n",
       "      <td>0.0</td>\n",
       "    </tr>\n",
       "    <tr>\n",
       "      <th>std</th>\n",
       "      <td>15332.140262</td>\n",
       "      <td>12617.605024</td>\n",
       "      <td>2103.325682</td>\n",
       "      <td>23457.157709</td>\n",
       "      <td>23484.415824</td>\n",
       "      <td>255.356787</td>\n",
       "      <td>136.268511</td>\n",
       "      <td>0.0</td>\n",
       "    </tr>\n",
       "    <tr>\n",
       "      <th>min</th>\n",
       "      <td>0.000000</td>\n",
       "      <td>-44.990000</td>\n",
       "      <td>-680.340000</td>\n",
       "      <td>-64.210000</td>\n",
       "      <td>0.000000</td>\n",
       "      <td>-9352.010000</td>\n",
       "      <td>-367.210000</td>\n",
       "      <td>0.0</td>\n",
       "    </tr>\n",
       "    <tr>\n",
       "      <th>25%</th>\n",
       "      <td>6.870000</td>\n",
       "      <td>3.240000</td>\n",
       "      <td>7.380000</td>\n",
       "      <td>18.650000</td>\n",
       "      <td>18.430000</td>\n",
       "      <td>-5.740000</td>\n",
       "      <td>0.000000</td>\n",
       "      <td>0.0</td>\n",
       "    </tr>\n",
       "    <tr>\n",
       "      <th>50%</th>\n",
       "      <td>20.590000</td>\n",
       "      <td>3.910000</td>\n",
       "      <td>12.440000</td>\n",
       "      <td>38.240000</td>\n",
       "      <td>38.490000</td>\n",
       "      <td>-0.500000</td>\n",
       "      <td>0.010000</td>\n",
       "      <td>0.0</td>\n",
       "    </tr>\n",
       "    <tr>\n",
       "      <th>75%</th>\n",
       "      <td>155.252500</td>\n",
       "      <td>17.070000</td>\n",
       "      <td>98.847500</td>\n",
       "      <td>312.610000</td>\n",
       "      <td>317.212500</td>\n",
       "      <td>0.000000</td>\n",
       "      <td>0.280000</td>\n",
       "      <td>0.0</td>\n",
       "    </tr>\n",
       "    <tr>\n",
       "      <th>max</th>\n",
       "      <td>740473.960000</td>\n",
       "      <td>754326.010000</td>\n",
       "      <td>64282.330000</td>\n",
       "      <td>907483.660000</td>\n",
       "      <td>907483.660000</td>\n",
       "      <td>0.000000</td>\n",
       "      <td>18019.450000</td>\n",
       "      <td>0.0</td>\n",
       "    </tr>\n",
       "  </tbody>\n",
       "</table>\n",
       "</div>"
      ],
      "text/plain": [
       "       Base Cost ($)  T&D Discretionary ($)  T&D Charges ($)  Current Due ($)  \\\n",
       "count   57430.000000           57430.000000     57430.000000     57430.000000   \n",
       "mean     1557.590034             404.377159       322.324780      2292.520167   \n",
       "std     15332.140262           12617.605024      2103.325682     23457.157709   \n",
       "min         0.000000             -44.990000      -680.340000       -64.210000   \n",
       "25%         6.870000               3.240000         7.380000        18.650000   \n",
       "50%        20.590000               3.910000        12.440000        38.240000   \n",
       "75%       155.252500              17.070000        98.847500       312.610000   \n",
       "max    740473.960000          754326.010000     64282.330000    907483.660000   \n",
       "\n",
       "       Total Due ($)  Franchise Fee ($)  Nodal Cu Charge ($)  \\\n",
       "count   57430.000000       57430.000000         57429.000000   \n",
       "mean     2326.005266         -36.249975             8.067123   \n",
       "std     23484.415824         255.356787           136.268511   \n",
       "min         0.000000       -9352.010000          -367.210000   \n",
       "25%        18.430000          -5.740000             0.000000   \n",
       "50%        38.490000          -0.500000             0.010000   \n",
       "75%       317.212500           0.000000             0.280000   \n",
       "max    907483.660000           0.000000         18019.450000   \n",
       "\n",
       "       Reliability Unit Charge ($)  \n",
       "count                      57426.0  \n",
       "mean                           0.0  \n",
       "std                            0.0  \n",
       "min                            0.0  \n",
       "25%                            0.0  \n",
       "50%                            0.0  \n",
       "75%                            0.0  \n",
       "max                            0.0  "
      ]
     },
     "execution_count": 11,
     "metadata": {},
     "output_type": "execute_result"
    }
   ],
   "source": [
    "data_2012[[\n",
    "    'Base Cost ($)', 'T&D Discretionary ($)', 'T&D Charges ($)', \n",
    "    'Current Due ($)', 'Total Due ($)', 'Franchise Fee ($)', \n",
    "    'Nodal Cu Charge ($)', 'Reliability Unit Charge ($)'\n",
    "     ]].describe()"
   ]
  },
  {
   "cell_type": "markdown",
   "id": "30a9636f-4bd2-404d-9dab-e1056e2e011e",
   "metadata": {},
   "source": [
    "Reliability Unit Charge does not contain any useful information. Electing to drop that column.\n",
    "\n",
    "The columns other than Current Due or Total Due are adding up the value present in these two columns. Going forward choosing the column Total Due ($). \n",
    "Based on the above statistics the columns Current Due and Total Due represent the same value. "
   ]
  },
  {
   "cell_type": "markdown",
   "id": "30ee237a-089d-4d6b-8d68-07f2bd1cd8a6",
   "metadata": {},
   "source": [
    "### Selecting and Filtering Columns"
   ]
  },
  {
   "cell_type": "code",
   "execution_count": 12,
   "id": "aff81b80-85f9-4716-bb0d-e0916c916777",
   "metadata": {},
   "outputs": [
    {
     "data": {
      "text/plain": [
       "Index(['Reliant Contract No', 'Service Address ', 'Meter No', 'ESID',\n",
       "       'Business Area', 'Cost Center', 'Fund', 'Bill Type', 'Bill Date',\n",
       "       'Read Date', 'Due Date', 'Meter Read', 'Base Cost ($)',\n",
       "       'T&D Discretionary ($)', 'T&D Charges ($)', 'Current Due ($)',\n",
       "       'Total Due ($)', 'Franchise Fee ($)', 'Voucher Date', 'Billed Demand ',\n",
       "       'kWh Usage', 'Nodal Cu Charge ($)', 'Reliability Unit Charge ($)'],\n",
       "      dtype='object')"
      ]
     },
     "execution_count": 12,
     "metadata": {},
     "output_type": "execute_result"
    }
   ],
   "source": [
    "data_2012.columns"
   ]
  },
  {
   "cell_type": "markdown",
   "id": "478fe7bb-aa9e-45ae-9686-52cbc806c1b0",
   "metadata": {},
   "source": [
    "Based on the above analysis of the dataset choosing the following columns:\n",
    "\n",
    "1. ESID\n",
    "2. Business Area\n",
    "3. Service Address \n",
    "3. Bill Type\n",
    "4. Bill Date\n",
    "5. Total Due ($)\n",
    "6. kWh Usage"
   ]
  },
  {
   "cell_type": "code",
   "execution_count": 13,
   "id": "0fa1907f-7c75-490a-8afc-bcd84f6a73f3",
   "metadata": {},
   "outputs": [],
   "source": [
    "data_2012 = data_2012[[\n",
    "    'ESID', 'Business Area', 'Service Address ', 'Bill Type',\n",
    "    'Bill Date', 'Total Due ($)', 'kWh Usage'\n",
    "]]"
   ]
  },
  {
   "cell_type": "code",
   "execution_count": 14,
   "id": "b183ebf0-9a79-4571-a75a-c62b3d0c45ed",
   "metadata": {
    "tags": []
   },
   "outputs": [],
   "source": [
    "rename_cols = {\n",
    "    'ESID': 'esid',\n",
    "    'Business Area': 'business_area',\n",
    "    'Service Address ': 'service_address',\n",
    "    'Bill Type': 'bill_type',\n",
    "    'Bill Date': 'bill_date',\n",
    "    'Total Due ($)': 'total_due',\n",
    "    'kWh Usage': 'kwh_usage'\n",
    "}\n",
    "\n",
    "data_2012_main = data_2012.rename(columns=rename_cols)"
   ]
  },
  {
   "cell_type": "markdown",
   "id": "e2dd52fc-decd-494b-8590-5307ef9a4ced",
   "metadata": {},
   "source": [
    "Checking for Nulls again and dtypes"
   ]
  },
  {
   "cell_type": "code",
   "execution_count": 15,
   "id": "dea2e5a1-4726-49f3-a6cd-4a900540fcb2",
   "metadata": {},
   "outputs": [
    {
     "data": {
      "text/plain": [
       "esid               0\n",
       "business_area      0\n",
       "service_address    0\n",
       "bill_type          0\n",
       "bill_date          0\n",
       "total_due          0\n",
       "kwh_usage          0\n",
       "dtype: int64"
      ]
     },
     "execution_count": 15,
     "metadata": {},
     "output_type": "execute_result"
    }
   ],
   "source": [
    "data_2012_main.isna().sum()"
   ]
  },
  {
   "cell_type": "code",
   "execution_count": 16,
   "id": "f886cd8e-fe8f-45c6-9bde-c1bf3b8c3966",
   "metadata": {},
   "outputs": [
    {
     "data": {
      "text/plain": [
       "esid                       object\n",
       "business_area               int64\n",
       "service_address            object\n",
       "bill_type                  object\n",
       "bill_date          datetime64[ns]\n",
       "total_due                 float64\n",
       "kwh_usage                   int64\n",
       "dtype: object"
      ]
     },
     "execution_count": 16,
     "metadata": {},
     "output_type": "execute_result"
    }
   ],
   "source": [
    "data_2012_main.dtypes"
   ]
  },
  {
   "cell_type": "code",
   "execution_count": 17,
   "id": "d11d565f-230f-45a8-a55c-0061977b1e02",
   "metadata": {},
   "outputs": [
    {
     "data": {
      "text/plain": [
       "(57430, 7)"
      ]
     },
     "execution_count": 17,
     "metadata": {},
     "output_type": "execute_result"
    }
   ],
   "source": [
    "data_2012_main.shape"
   ]
  },
  {
   "cell_type": "code",
   "execution_count": 18,
   "id": "6984666f-9e5a-406c-b538-02a46dada90e",
   "metadata": {},
   "outputs": [
    {
     "data": {
      "text/html": [
       "<div>\n",
       "<style scoped>\n",
       "    .dataframe tbody tr th:only-of-type {\n",
       "        vertical-align: middle;\n",
       "    }\n",
       "\n",
       "    .dataframe tbody tr th {\n",
       "        vertical-align: top;\n",
       "    }\n",
       "\n",
       "    .dataframe thead th {\n",
       "        text-align: right;\n",
       "    }\n",
       "</style>\n",
       "<table border=\"1\" class=\"dataframe\">\n",
       "  <thead>\n",
       "    <tr style=\"text-align: right;\">\n",
       "      <th></th>\n",
       "      <th>total_due</th>\n",
       "      <th>kwh_usage</th>\n",
       "    </tr>\n",
       "  </thead>\n",
       "  <tbody>\n",
       "    <tr>\n",
       "      <th>0</th>\n",
       "      <td>3.019310</td>\n",
       "      <td>3.983720</td>\n",
       "    </tr>\n",
       "    <tr>\n",
       "      <th>1</th>\n",
       "      <td>2.816252</td>\n",
       "      <td>3.616835</td>\n",
       "    </tr>\n",
       "    <tr>\n",
       "      <th>2</th>\n",
       "      <td>3.343602</td>\n",
       "      <td>4.310039</td>\n",
       "    </tr>\n",
       "    <tr>\n",
       "      <th>3</th>\n",
       "      <td>3.067930</td>\n",
       "      <td>3.854755</td>\n",
       "    </tr>\n",
       "    <tr>\n",
       "      <th>4</th>\n",
       "      <td>3.055426</td>\n",
       "      <td>3.836978</td>\n",
       "    </tr>\n",
       "    <tr>\n",
       "      <th>...</th>\n",
       "      <td>...</td>\n",
       "      <td>...</td>\n",
       "    </tr>\n",
       "    <tr>\n",
       "      <th>57425</th>\n",
       "      <td>-0.070053</td>\n",
       "      <td>-0.090029</td>\n",
       "    </tr>\n",
       "    <tr>\n",
       "      <th>57426</th>\n",
       "      <td>-0.070059</td>\n",
       "      <td>-0.090029</td>\n",
       "    </tr>\n",
       "    <tr>\n",
       "      <th>57427</th>\n",
       "      <td>-0.070064</td>\n",
       "      <td>-0.090029</td>\n",
       "    </tr>\n",
       "    <tr>\n",
       "      <th>57428</th>\n",
       "      <td>-0.070255</td>\n",
       "      <td>-0.090029</td>\n",
       "    </tr>\n",
       "    <tr>\n",
       "      <th>57429</th>\n",
       "      <td>-0.011686</td>\n",
       "      <td>-0.090029</td>\n",
       "    </tr>\n",
       "  </tbody>\n",
       "</table>\n",
       "<p>57430 rows × 2 columns</p>\n",
       "</div>"
      ],
      "text/plain": [
       "       total_due  kwh_usage\n",
       "0       3.019310   3.983720\n",
       "1       2.816252   3.616835\n",
       "2       3.343602   4.310039\n",
       "3       3.067930   3.854755\n",
       "4       3.055426   3.836978\n",
       "...          ...        ...\n",
       "57425  -0.070053  -0.090029\n",
       "57426  -0.070059  -0.090029\n",
       "57427  -0.070064  -0.090029\n",
       "57428  -0.070255  -0.090029\n",
       "57429  -0.011686  -0.090029\n",
       "\n",
       "[57430 rows x 2 columns]"
      ]
     },
     "execution_count": 18,
     "metadata": {},
     "output_type": "execute_result"
    }
   ],
   "source": [
    "zscore_2012 = stats.zscore(data_2012_main[['total_due', 'kwh_usage']])\n",
    "\n",
    "zscore_2012"
   ]
  },
  {
   "cell_type": "markdown",
   "id": "e549f7b8-6fde-4141-9a63-76e03c6cf84a",
   "metadata": {},
   "source": [
    "Each zscore value signifies how many standard deviations away an individual value is from the mean. This is a good indicator to finding outliers in the dataframe.\n",
    "\n",
    "Usually z-score=3 is considered as a cut-off value to set the limit. Therefore, any z-score greater than +3 or less than -3 is considered as outlier which is pretty much similar to standard deviation method"
   ]
  },
  {
   "cell_type": "code",
   "execution_count": 19,
   "id": "c26d84f0-5c33-4d0e-b69d-127f7ad28822",
   "metadata": {},
   "outputs": [
    {
     "data": {
      "text/plain": [
       "(57430, 7)"
      ]
     },
     "execution_count": 19,
     "metadata": {},
     "output_type": "execute_result"
    }
   ],
   "source": [
    "# data_2012_main = data_2012_main[(np.abs(zscore_2012) < 3).all(axis=1)]\n",
    "\n",
    "data_2012_main.shape"
   ]
  },
  {
   "cell_type": "markdown",
   "id": "6da9540b-a9b1-4f0b-bb7d-3de125ec4b8e",
   "metadata": {},
   "source": [
    "The number of rows has decreased from 57,430 to 57,025. So 405 rows were outliers based on the data."
   ]
  },
  {
   "cell_type": "code",
   "execution_count": 20,
   "id": "c2dc8ed2-06f8-4c8e-ad94-5ab9a84b8f16",
   "metadata": {},
   "outputs": [
    {
     "data": {
      "text/html": [
       "<div>\n",
       "<style scoped>\n",
       "    .dataframe tbody tr th:only-of-type {\n",
       "        vertical-align: middle;\n",
       "    }\n",
       "\n",
       "    .dataframe tbody tr th {\n",
       "        vertical-align: top;\n",
       "    }\n",
       "\n",
       "    .dataframe thead th {\n",
       "        text-align: right;\n",
       "    }\n",
       "</style>\n",
       "<table border=\"1\" class=\"dataframe\">\n",
       "  <thead>\n",
       "    <tr style=\"text-align: right;\">\n",
       "      <th></th>\n",
       "      <th>esid</th>\n",
       "      <th>business_area</th>\n",
       "      <th>service_address</th>\n",
       "      <th>bill_type</th>\n",
       "      <th>bill_date</th>\n",
       "      <th>total_due</th>\n",
       "      <th>kwh_usage</th>\n",
       "    </tr>\n",
       "  </thead>\n",
       "  <tbody>\n",
       "    <tr>\n",
       "      <th>0</th>\n",
       "      <td>1008901000140050014100</td>\n",
       "      <td>2000</td>\n",
       "      <td>10518 BELLAIRE</td>\n",
       "      <td>T</td>\n",
       "      <td>2012-06-26</td>\n",
       "      <td>73232.11</td>\n",
       "      <td>905421</td>\n",
       "    </tr>\n",
       "    <tr>\n",
       "      <th>1</th>\n",
       "      <td>1008901000140050014100</td>\n",
       "      <td>2000</td>\n",
       "      <td>10518 BELLAIRE</td>\n",
       "      <td>T</td>\n",
       "      <td>2012-05-25</td>\n",
       "      <td>68463.46</td>\n",
       "      <td>824107</td>\n",
       "    </tr>\n",
       "    <tr>\n",
       "      <th>2</th>\n",
       "      <td>1008901000140050014100</td>\n",
       "      <td>2000</td>\n",
       "      <td>10518 BELLAIRE</td>\n",
       "      <td>T</td>\n",
       "      <td>2012-04-27</td>\n",
       "      <td>80847.87</td>\n",
       "      <td>977744</td>\n",
       "    </tr>\n",
       "    <tr>\n",
       "      <th>3</th>\n",
       "      <td>1008901000140050014100</td>\n",
       "      <td>2000</td>\n",
       "      <td>10518 BELLAIRE</td>\n",
       "      <td>T</td>\n",
       "      <td>2012-03-27</td>\n",
       "      <td>74373.93</td>\n",
       "      <td>876838</td>\n",
       "    </tr>\n",
       "    <tr>\n",
       "      <th>4</th>\n",
       "      <td>1008901000140050014100</td>\n",
       "      <td>2000</td>\n",
       "      <td>10518 BELLAIRE</td>\n",
       "      <td>T</td>\n",
       "      <td>2012-02-27</td>\n",
       "      <td>74080.27</td>\n",
       "      <td>872898</td>\n",
       "    </tr>\n",
       "  </tbody>\n",
       "</table>\n",
       "</div>"
      ],
      "text/plain": [
       "                     esid  business_area service_address bill_type  bill_date  \\\n",
       "0  1008901000140050014100           2000  10518 BELLAIRE         T 2012-06-26   \n",
       "1  1008901000140050014100           2000  10518 BELLAIRE         T 2012-05-25   \n",
       "2  1008901000140050014100           2000  10518 BELLAIRE         T 2012-04-27   \n",
       "3  1008901000140050014100           2000  10518 BELLAIRE         T 2012-03-27   \n",
       "4  1008901000140050014100           2000  10518 BELLAIRE         T 2012-02-27   \n",
       "\n",
       "   total_due  kwh_usage  \n",
       "0   73232.11     905421  \n",
       "1   68463.46     824107  \n",
       "2   80847.87     977744  \n",
       "3   74373.93     876838  \n",
       "4   74080.27     872898  "
      ]
     },
     "execution_count": 20,
     "metadata": {},
     "output_type": "execute_result"
    }
   ],
   "source": [
    "data_2012_main.head(5)"
   ]
  },
  {
   "cell_type": "code",
   "execution_count": 21,
   "id": "53613c54-483c-4663-9ff6-cf524fd1830c",
   "metadata": {},
   "outputs": [
    {
     "data": {
      "text/plain": [
       "0"
      ]
     },
     "execution_count": 21,
     "metadata": {},
     "output_type": "execute_result"
    }
   ],
   "source": [
    "orig_shape_2012 - data_2012_main.shape[0]"
   ]
  },
  {
   "cell_type": "code",
   "execution_count": 22,
   "id": "fb4644de-7ae7-4906-a264-dbe31a468bd6",
   "metadata": {},
   "outputs": [],
   "source": [
    "data_2012.to_csv('electricity_usage_data_2012.csv', index=False)"
   ]
  },
  {
   "cell_type": "markdown",
   "id": "21554471-ad72-4047-b65f-ce7c2d713ba0",
   "metadata": {},
   "source": [
    "The trend graph of both the cost and energy usage is the same as the value of cost = energy usage times the cost per unit."
   ]
  }
 ],
 "metadata": {
  "kernelspec": {
   "display_name": "Python 3 (ipykernel)",
   "language": "python",
   "name": "python3"
  },
  "language_info": {
   "codemirror_mode": {
    "name": "ipython",
    "version": 3
   },
   "file_extension": ".py",
   "mimetype": "text/x-python",
   "name": "python",
   "nbconvert_exporter": "python",
   "pygments_lexer": "ipython3",
   "version": "3.10.9"
  }
 },
 "nbformat": 4,
 "nbformat_minor": 5
}

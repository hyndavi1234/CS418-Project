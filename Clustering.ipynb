{
 "cells": [
  {
   "cell_type": "markdown",
   "id": "48ba3f19-fbf4-414a-9231-b99f6b4634af",
   "metadata": {},
   "source": [
    "## Import Statements"
   ]
  },
  {
   "cell_type": "code",
   "execution_count": 1,
   "id": "19c37088-67e8-4475-a423-f10273460dd1",
   "metadata": {},
   "outputs": [
    {
     "name": "stderr",
     "output_type": "stream",
     "text": [
      "C:\\Users\\sbelde3\\Anaconda3\\lib\\site-packages\\scipy\\__init__.py:146: UserWarning: A NumPy version >=1.16.5 and <1.23.0 is required for this version of SciPy (detected version 1.24.2\n",
      "  warnings.warn(f\"A NumPy version >={np_minversion} and <{np_maxversion}\"\n"
     ]
    }
   ],
   "source": [
    "import pandas as pd\n",
    "import numpy as np\n",
    "import matplotlib.pyplot as plt\n",
    "import matplotlib.dates as mdates\n",
    "import seaborn as sns\n",
    "from scipy import stats\n",
    "\n",
    "from sklearn.linear_model import LinearRegression\n",
    "from sklearn.ensemble import GradientBoostingRegressor\n",
    "from sklearn.tree import DecisionTreeRegressor\n",
    "\n",
    "from sklearn.preprocessing import LabelEncoder\n",
    "from sklearn.model_selection import train_test_split\n",
    "from sklearn.metrics import r2_score, mean_squared_error\n",
    "\n",
    "pd.options.display.max_columns=25"
   ]
  },
  {
   "cell_type": "code",
   "execution_count": 2,
   "id": "b8b39d44-3c9e-4fcd-a60e-dd3553ef1dcb",
   "metadata": {},
   "outputs": [],
   "source": [
    "data_main = pd.read_csv('Electricity_Usage_Data.csv')"
   ]
  },
  {
   "cell_type": "code",
   "execution_count": 3,
   "id": "c058c9fb-93ca-44be-88b0-993b3931b027",
   "metadata": {},
   "outputs": [],
   "source": [
    "data_main[['bill_date']] = data_main[['bill_date']].apply(pd.to_datetime)"
   ]
  },
  {
   "cell_type": "code",
   "execution_count": 4,
   "id": "627f134b-c29a-4641-bcca-bb3d8e19778d",
   "metadata": {},
   "outputs": [],
   "source": [
    "data_main.loc[:,'bill_date'] = data_main['bill_date'].apply(lambda x: pd.to_datetime(f'{x.year}-{x.month}-01'))"
   ]
  },
  {
   "cell_type": "code",
   "execution_count": 8,
   "id": "6f23ceb6-5a21-4749-99a7-7681a36f4acc",
   "metadata": {},
   "outputs": [],
   "source": [
    "address_enc = LabelEncoder()\n",
    "bill_type_enc = LabelEncoder()\n",
    "\n",
    "data_main['address_enc'] = address_enc.fit_transform(data_main['service_address'])\n",
    "data_main['bill_type_enc'] = bill_type_enc.fit_transform(data_main['bill_type'])\n",
    "data_main['year'] = data_main['bill_date'].apply(lambda x:x.year)\n",
    "data_main['month'] = data_main['bill_date'].apply(lambda x:x.month)"
   ]
  },
  {
   "cell_type": "markdown",
   "id": "4415009b-4a45-48ab-9a17-5e67cdd6d005",
   "metadata": {
    "tags": []
   },
   "source": [
    "### Clustering - Sunil\n",
    "\n",
    "Models proposed:\n",
    "\n",
    "1. KMeans - simple and easy model which is computationally efficient. requires the number of clusters to be specified and can be sensitive to initialization of centroids\n",
    "2. DBSCAN - can handle arbitrary shapes of clusters and noise points. But this model can be quite computationally expensive for big datasets.\n",
    "3. Hierarchical - can provide hierarchy of clusters which is useful fpr understanding relationships between the clusters. But this model too is computationally expensive.\n",
    "\n",
    "Currently still working on clustering."
   ]
  },
  {
   "cell_type": "code",
   "execution_count": 5,
   "id": "50cf8478-e74a-48ed-af83-768419efcdd9",
   "metadata": {},
   "outputs": [],
   "source": [
    "from sklearn.cluster import KMeans, DBSCAN\n",
    "from sklearn.metrics import silhouette_score\n",
    "from sklearn.preprocessing import StandardScaler, normalize\n",
    "from sklearn.cluster import AgglomerativeClustering"
   ]
  },
  {
   "cell_type": "code",
   "execution_count": 9,
   "id": "3742c4ea-1d12-4315-96a0-78d118e6d9fb",
   "metadata": {},
   "outputs": [
    {
     "data": {
      "text/html": [
       "<div>\n",
       "<style scoped>\n",
       "    .dataframe tbody tr th:only-of-type {\n",
       "        vertical-align: middle;\n",
       "    }\n",
       "\n",
       "    .dataframe tbody tr th {\n",
       "        vertical-align: top;\n",
       "    }\n",
       "\n",
       "    .dataframe thead th {\n",
       "        text-align: right;\n",
       "    }\n",
       "</style>\n",
       "<table border=\"1\" class=\"dataframe\">\n",
       "  <thead>\n",
       "    <tr style=\"text-align: right;\">\n",
       "      <th></th>\n",
       "      <th>esid</th>\n",
       "      <th>business_area</th>\n",
       "      <th>service_address</th>\n",
       "      <th>bill_type</th>\n",
       "      <th>bill_date</th>\n",
       "      <th>total_due</th>\n",
       "      <th>kwh_usage</th>\n",
       "      <th>address_enc</th>\n",
       "      <th>bill_type_enc</th>\n",
       "      <th>year</th>\n",
       "      <th>month</th>\n",
       "    </tr>\n",
       "  </thead>\n",
       "  <tbody>\n",
       "    <tr>\n",
       "      <th>0</th>\n",
       "      <td>1008901000140050014100</td>\n",
       "      <td>2000</td>\n",
       "      <td>10518 BELLAIRE</td>\n",
       "      <td>T</td>\n",
       "      <td>2012-06-01</td>\n",
       "      <td>73232.11</td>\n",
       "      <td>905421.0</td>\n",
       "      <td>249</td>\n",
       "      <td>2</td>\n",
       "      <td>2012</td>\n",
       "      <td>6</td>\n",
       "    </tr>\n",
       "    <tr>\n",
       "      <th>1</th>\n",
       "      <td>1008901000140050014100</td>\n",
       "      <td>2000</td>\n",
       "      <td>10518 BELLAIRE</td>\n",
       "      <td>T</td>\n",
       "      <td>2012-05-01</td>\n",
       "      <td>68463.46</td>\n",
       "      <td>824107.0</td>\n",
       "      <td>249</td>\n",
       "      <td>2</td>\n",
       "      <td>2012</td>\n",
       "      <td>5</td>\n",
       "    </tr>\n",
       "    <tr>\n",
       "      <th>2</th>\n",
       "      <td>1008901000140050014100</td>\n",
       "      <td>2000</td>\n",
       "      <td>10518 BELLAIRE</td>\n",
       "      <td>T</td>\n",
       "      <td>2012-04-01</td>\n",
       "      <td>80847.87</td>\n",
       "      <td>977744.0</td>\n",
       "      <td>249</td>\n",
       "      <td>2</td>\n",
       "      <td>2012</td>\n",
       "      <td>4</td>\n",
       "    </tr>\n",
       "    <tr>\n",
       "      <th>3</th>\n",
       "      <td>1008901000140050014100</td>\n",
       "      <td>2000</td>\n",
       "      <td>10518 BELLAIRE</td>\n",
       "      <td>T</td>\n",
       "      <td>2012-03-01</td>\n",
       "      <td>74373.93</td>\n",
       "      <td>876838.0</td>\n",
       "      <td>249</td>\n",
       "      <td>2</td>\n",
       "      <td>2012</td>\n",
       "      <td>3</td>\n",
       "    </tr>\n",
       "    <tr>\n",
       "      <th>4</th>\n",
       "      <td>1008901000140050014100</td>\n",
       "      <td>2000</td>\n",
       "      <td>10518 BELLAIRE</td>\n",
       "      <td>T</td>\n",
       "      <td>2012-02-01</td>\n",
       "      <td>74080.27</td>\n",
       "      <td>872898.0</td>\n",
       "      <td>249</td>\n",
       "      <td>2</td>\n",
       "      <td>2012</td>\n",
       "      <td>2</td>\n",
       "    </tr>\n",
       "    <tr>\n",
       "      <th>...</th>\n",
       "      <td>...</td>\n",
       "      <td>...</td>\n",
       "      <td>...</td>\n",
       "      <td>...</td>\n",
       "      <td>...</td>\n",
       "      <td>...</td>\n",
       "      <td>...</td>\n",
       "      <td>...</td>\n",
       "      <td>...</td>\n",
       "      <td>...</td>\n",
       "      <td>...</td>\n",
       "    </tr>\n",
       "    <tr>\n",
       "      <th>191248</th>\n",
       "      <td>100890108174510SHE8207</td>\n",
       "      <td>2800</td>\n",
       "      <td>1 STREET LIGHT WAY (VARIOUS)</td>\n",
       "      <td>T</td>\n",
       "      <td>2014-01-01</td>\n",
       "      <td>652.62</td>\n",
       "      <td>2544.0</td>\n",
       "      <td>0</td>\n",
       "      <td>2</td>\n",
       "      <td>2014</td>\n",
       "      <td>1</td>\n",
       "    </tr>\n",
       "    <tr>\n",
       "      <th>191249</th>\n",
       "      <td>100890108174510SHE8207</td>\n",
       "      <td>2800</td>\n",
       "      <td>1 STREET LIGHT WAY (VARIOUS)</td>\n",
       "      <td>T</td>\n",
       "      <td>2013-12-01</td>\n",
       "      <td>1849.17</td>\n",
       "      <td>2544.0</td>\n",
       "      <td>0</td>\n",
       "      <td>2</td>\n",
       "      <td>2013</td>\n",
       "      <td>12</td>\n",
       "    </tr>\n",
       "    <tr>\n",
       "      <th>191250</th>\n",
       "      <td>100890108174510SHE8207</td>\n",
       "      <td>2800</td>\n",
       "      <td>1 STREET LIGHT WAY (VARIOUS)</td>\n",
       "      <td>T</td>\n",
       "      <td>2013-09-01</td>\n",
       "      <td>599.33</td>\n",
       "      <td>2544.0</td>\n",
       "      <td>0</td>\n",
       "      <td>2</td>\n",
       "      <td>2013</td>\n",
       "      <td>9</td>\n",
       "    </tr>\n",
       "    <tr>\n",
       "      <th>191251</th>\n",
       "      <td>100890108174510SHE8207</td>\n",
       "      <td>2800</td>\n",
       "      <td>1 STREET LIGHT WAY (VARIOUS)</td>\n",
       "      <td>T</td>\n",
       "      <td>2013-08-01</td>\n",
       "      <td>603.48</td>\n",
       "      <td>2544.0</td>\n",
       "      <td>0</td>\n",
       "      <td>2</td>\n",
       "      <td>2013</td>\n",
       "      <td>8</td>\n",
       "    </tr>\n",
       "    <tr>\n",
       "      <th>191252</th>\n",
       "      <td>100890108174510SHE8207</td>\n",
       "      <td>2800</td>\n",
       "      <td>1 STREET LIGHT WAY (VARIOUS)</td>\n",
       "      <td>T</td>\n",
       "      <td>2013-07-01</td>\n",
       "      <td>677.53</td>\n",
       "      <td>2544.0</td>\n",
       "      <td>0</td>\n",
       "      <td>2</td>\n",
       "      <td>2013</td>\n",
       "      <td>7</td>\n",
       "    </tr>\n",
       "  </tbody>\n",
       "</table>\n",
       "<p>191253 rows × 11 columns</p>\n",
       "</div>"
      ],
      "text/plain": [
       "                          esid  business_area               service_address  \\\n",
       "0       1008901000140050014100           2000                10518 BELLAIRE   \n",
       "1       1008901000140050014100           2000                10518 BELLAIRE   \n",
       "2       1008901000140050014100           2000                10518 BELLAIRE   \n",
       "3       1008901000140050014100           2000                10518 BELLAIRE   \n",
       "4       1008901000140050014100           2000                10518 BELLAIRE   \n",
       "...                        ...            ...                           ...   \n",
       "191248  100890108174510SHE8207           2800  1 STREET LIGHT WAY (VARIOUS)   \n",
       "191249  100890108174510SHE8207           2800  1 STREET LIGHT WAY (VARIOUS)   \n",
       "191250  100890108174510SHE8207           2800  1 STREET LIGHT WAY (VARIOUS)   \n",
       "191251  100890108174510SHE8207           2800  1 STREET LIGHT WAY (VARIOUS)   \n",
       "191252  100890108174510SHE8207           2800  1 STREET LIGHT WAY (VARIOUS)   \n",
       "\n",
       "       bill_type  bill_date  total_due  kwh_usage  address_enc  bill_type_enc  \\\n",
       "0              T 2012-06-01   73232.11   905421.0          249              2   \n",
       "1              T 2012-05-01   68463.46   824107.0          249              2   \n",
       "2              T 2012-04-01   80847.87   977744.0          249              2   \n",
       "3              T 2012-03-01   74373.93   876838.0          249              2   \n",
       "4              T 2012-02-01   74080.27   872898.0          249              2   \n",
       "...          ...        ...        ...        ...          ...            ...   \n",
       "191248         T 2014-01-01     652.62     2544.0            0              2   \n",
       "191249         T 2013-12-01    1849.17     2544.0            0              2   \n",
       "191250         T 2013-09-01     599.33     2544.0            0              2   \n",
       "191251         T 2013-08-01     603.48     2544.0            0              2   \n",
       "191252         T 2013-07-01     677.53     2544.0            0              2   \n",
       "\n",
       "        year  month  \n",
       "0       2012      6  \n",
       "1       2012      5  \n",
       "2       2012      4  \n",
       "3       2012      3  \n",
       "4       2012      2  \n",
       "...      ...    ...  \n",
       "191248  2014      1  \n",
       "191249  2013     12  \n",
       "191250  2013      9  \n",
       "191251  2013      8  \n",
       "191252  2013      7  \n",
       "\n",
       "[191253 rows x 11 columns]"
      ]
     },
     "execution_count": 9,
     "metadata": {},
     "output_type": "execute_result"
    }
   ],
   "source": [
    "data_main"
   ]
  },
  {
   "cell_type": "code",
   "execution_count": 10,
   "id": "83b4ddc4-01d2-4ff0-a3a5-33337d019c72",
   "metadata": {
    "tags": []
   },
   "outputs": [],
   "source": [
    "X = data_main[[\n",
    "    'business_area', \n",
    "    'address_enc', \n",
    "    'bill_type_enc', \n",
    "    'year', \n",
    "    'month',\n",
    "    'kwh_usage',\n",
    "]]"
   ]
  },
  {
   "cell_type": "code",
   "execution_count": 11,
   "id": "9bff305d-4d56-402b-bc28-1969aeb6e445",
   "metadata": {},
   "outputs": [
    {
     "data": {
      "text/plain": [
       "business_area      int64\n",
       "address_enc        int32\n",
       "bill_type_enc      int32\n",
       "year               int64\n",
       "month              int64\n",
       "kwh_usage        float64\n",
       "dtype: object"
      ]
     },
     "execution_count": 11,
     "metadata": {},
     "output_type": "execute_result"
    }
   ],
   "source": [
    "X.dtypes"
   ]
  },
  {
   "cell_type": "code",
   "execution_count": 13,
   "id": "a1e89abd-65c8-4f69-9717-1897d3c07053",
   "metadata": {},
   "outputs": [
    {
     "name": "stdout",
     "output_type": "stream",
     "text": [
      "Value Counts of Cluster obtained from kmeans :  0     176516\n",
      "14      7821\n",
      "7       2809\n",
      "5       1053\n",
      "18      1018\n",
      "19       653\n",
      "3        265\n",
      "13       265\n",
      "6        258\n",
      "15       165\n",
      "2        131\n",
      "11       127\n",
      "4         51\n",
      "8         40\n",
      "17        22\n",
      "1         20\n",
      "9         13\n",
      "12        11\n",
      "16         9\n",
      "10         6\n",
      "dtype: int64\n"
     ]
    }
   ],
   "source": [
    "kmeans = KMeans(n_clusters=20, random_state=0).fit(X)\n",
    "print(\"Value Counts of Cluster obtained from kmeans : \",pd.Series(kmeans.labels_).value_counts())"
   ]
  },
  {
   "cell_type": "code",
   "execution_count": 15,
   "id": "5420ad3a-f57d-4bf2-a832-0a828fdd8e45",
   "metadata": {},
   "outputs": [
    {
     "data": {
      "text/plain": [
       "Text(0.5, 1.0, 'Clusters determined by DBSCAN')"
      ]
     },
     "execution_count": 15,
     "metadata": {},
     "output_type": "execute_result"
    },
    {
     "data": {
      "image/png": "[encoded data removed]",
      "text/plain": [
       "<Figure size 720x432 with 1 Axes>"
      ]
     },
     "metadata": {
      "needs_background": "light"
     },
     "output_type": "display_data"
    }
   ],
   "source": [
    "y_pred = kmeans.labels_\n",
    "plt.figure(figsize=(10,6))\n",
    "plt.scatter(X.iloc[:,0], X.iloc[:,1],c=y_pred, cmap='Paired')\n",
    "plt.title(\"Clusters determined by DBSCAN\")"
   ]
  },
  {
   "cell_type": "code",
   "execution_count": 22,
   "id": "d3f5a410-5c4f-4331-a99c-55931ad6ba5c",
   "metadata": {},
   "outputs": [
    {
     "name": "stdout",
     "output_type": "stream",
     "text": [
      "Number of Clusters Obtained from Kmeans :  3\n"
     ]
    },
    {
     "data": {
      "image/png": "[encoded data removed]",
      "text/plain": [
       "<Figure size 720x432 with 1 Axes>"
      ]
     },
     "metadata": {
      "needs_background": "light"
     },
     "output_type": "display_data"
    }
   ],
   "source": [
    "db = DBSCAN(eps=0.4, min_samples=3)\n",
    "db.fit(X)\n",
    "\n",
    "y_pred = db.fit_predict(X)\n",
    "plt.figure(figsize=(10,6))\n",
    "plt.scatter(X.iloc[:,0], X.iloc[:,1],c=y_pred, cmap='Paired')\n",
    "plt.title(\"Clusters determined by DBSCAN\")\n",
    "print(\"Number of Clusters Obtained from Kmeans : \",len(set(y_pred)))"
   ]
  },
  {
   "cell_type": "markdown",
   "id": "bf215f61-6327-4e49-a536-ee7d047ad426",
   "metadata": {},
   "source": [
    "## Agglomerative Clustering"
   ]
  },
  {
   "cell_type": "code",
   "execution_count": 18,
   "id": "8e7d65f9-29ed-4811-b6f2-cc30b77a2949",
   "metadata": {},
   "outputs": [],
   "source": [
    "for k in range(1, 11):\n",
    "    agg_cluster = AgglomerativeClustering(\n",
    "        n_clusters=k, \n",
    "        affinity='euclidean', \n",
    "        linkage='single'\n",
    "    )\n",
    "    agg_cluster.fit(X)\n",
    "    break"
   ]
  },
  {
   "cell_type": "code",
   "execution_count": null,
   "id": "ccd1dd51-3edb-4498-a552-643d3563f25e",
   "metadata": {},
   "outputs": [],
   "source": [
    "kmeans_kwargs = {\n",
    "   \"init\": \"random\",\n",
    "   \"n_init\": 10,\n",
    "   \"max_iter\": 300,\n",
    "   \"random_state\": 42,\n",
    "}\n",
    "\n",
    "sse = []\n",
    "for k in range(1, 11):\n",
    "    kmeans = KMeans(n_clusters=k, **kmeans_kwargs)\n",
    "    kmeans.fit(X)\n",
    "    sse.append(kmeans.inertia_)"
   ]
  },
  {
   "cell_type": "code",
   "execution_count": null,
   "id": "0efc59fb-dbfa-4175-be0f-1d56ec7795c9",
   "metadata": {},
   "outputs": [],
   "source": [
    "plt.plot(range(1, 11), sse)\n",
    "plt.xticks(range(1, 11))\n",
    "plt.xlabel(\"Number of Clusters\")\n",
    "plt.ylabel(\"SSE\")\n",
    "plt.show()"
   ]
  },
  {
   "cell_type": "code",
   "execution_count": null,
   "id": "b3c6ee55-095d-48c3-ac45-be8135a763ac",
   "metadata": {},
   "outputs": [],
   "source": []
  }
 ],
 "metadata": {
  "kernelspec": {
   "display_name": "Python 3 (ipykernel)",
   "language": "python",
   "name": "python3"
  },
  "language_info": {
   "codemirror_mode": {
    "name": "ipython",
    "version": 3
   },
   "file_extension": ".py",
   "mimetype": "text/x-python",
   "name": "python",
   "nbconvert_exporter": "python",
   "pygments_lexer": "ipython3",
   "version": "3.9.12"
  }
 },
 "nbformat": 4,
 "nbformat_minor": 5
}

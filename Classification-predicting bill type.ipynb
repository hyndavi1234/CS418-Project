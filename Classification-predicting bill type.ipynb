{
 "cells": [
  {
   "attachments": {},
   "cell_type": "markdown",
   "metadata": {},
   "source": [
    "\n",
    "## Data\n",
    "The source of the data is the following link: [LINK](https://data.world/houston/houston-electricity-bills)\n",
    "\n",
    "There are 4 files, they are:\n",
    "1. July 2011 to June 2012 excel file - 57,430 rows and 24 columns\n",
    "2. May 2012 to April 2013 excel file - 65,806 rows and 24 columns\n",
    "3. July 2012 to June 2013 excel file - 66,776 rows and 24 columns\n",
    "4. July 2013 to June 2014 excel file - 67,838 rows and 24 columns\n",
    "\n",
    "The data tables contain information regarding the building address, location, service number, billing dates, total amount due. \n",
    "\n",
    "The plan is to go through and clean the data tables individually and make them consistent. Once that is done the next step is to merge the cleaned data tables. After merging the tables one important check is to search for duplicates since there is an overlap of dates it is highly likely that there will be duplicates.\n",
    "\n",
    "Description of each column \n",
    "1. Reliant Contract No: A unique identifier for each contract. \n",
    "2. Service Address: Address for the service location\n",
    "3. Meter No: Meter number for the service location.\n",
    "4. ESID: Electric Service Identifier for the service location.\n",
    "5. Business Area: Business area code for the service location.\n",
    "6. Cost Center: Cost center code for the service location.\n",
    "7. Fund: Fund code for the service location.\n",
    "8. Bill Type: Type of bill (e.g. \"T\" for \"Total\", \"P\" for \"Partial\", etc.). \n",
    "9. Bill Date: Date the bill was generated. \n",
    "10. Read Date: Date the meter was read. \n",
    "11. Due Date: Due date for the bill. \n",
    "12. Meter Read: Meter reading for the service location. \n",
    "13. Base Cost: TBase cost for the service. \n",
    "14. T&D Discretionary: Transmission and Distribution Discretionary charge for the service. \n",
    "15. T&D Charges: Transmission and Distribution charge for the service. \n",
    "16. Current Due: Current due amount for the service.\n",
    "17. Index Charge: Index charge for the service. \n",
    "18. Total Due: Total due amount for the service. \n",
    "19. Franchise Fee: Franchise fee for the service. \n",
    "20. Voucher Date: Date the voucher was issued for the service. \n",
    "21. Billed Demand: Billed demand for the service in KVA. \n",
    "22. kWh Usage: Kilowatt-hour usage for the service. \n",
    "23. Nodal Cu Charge:  Nodal Cu Charge for the service. \n",
    "24. Adder Charge:  Adder Charge for the service.\n",
    "\n",
    "Statistical Data Type of Each Column \n",
    "1. Reliant Contract No: integer (ratio)\n",
    "2. Service Address: string (nominal)\n",
    "3. Meter No: integer (nominal)\n",
    "4. ESID: integer (nominal)\n",
    "5. Business Area: integer (ratio))\n",
    "6. Cost Center: integer (ratio)\n",
    "7. Fund: integer (ratio)\n",
    "8. Bill Type: string (nominal)\n",
    "9. Bill Date: date (nominal)\n",
    "10. Read Date: date (nominal)\n",
    "11. Due Date: date (nominal)\n",
    "12. Meter Read: integer (ratio)\n",
    "13. Base Cost: float (nominal)\n",
    "14. T&D Discretionary: float (nominal)\n",
    "15. T&D Charges: float (nominal)\n",
    "16. Current Due: float (nominal)\n",
    "17. Index Charge: float (nominal)\n",
    "18. Total Due: float (nominal)\n",
    "19. Franchise Fee: float (nominal)\n",
    "20. Voucher Date: date (nominal)\n",
    "21. Billed Demand (KVA): integer (nominal)\n",
    "22. kWh Usage: integer (nominal)\n",
    "23. Nodal Cu Charge: float (nominal)\n",
    "24. Adder Charge: float (nominal)\n",
    "\n",
    "## Problem\n",
    "The key issue in generating electricity is to determine how much capacity to generate in order to meet future demand. \n",
    "\n",
    "Electricity usage forecasting involves predicting the demand for electricity over a specific eriod. This process has several uses, including energy procurement, where it helps suppliers purchase the right amount of energy to ensure a steady supply.\n",
    "\n",
    "The advancement of smart infrastructure and integration of distributed renewable power has raised future supply, demand, and pricing uncertainties. This unpredictability has increased interest in price prediction and energy analysis.\n",
    "\n",
    "## Research Question\n",
    "Classification of bill type can be done using features in the data (Classification) - Sharmisha"
   ]
  },
  {
   "cell_type": "code",
   "execution_count": 47,
   "metadata": {},
   "outputs": [],
   "source": [
    "import pandas as pd\n",
    "import numpy as np\n",
    "import matplotlib.pyplot as plt\n",
    "import matplotlib.dates as mdates\n",
    "import seaborn as sns\n",
    "from scipy import stats\n",
    "\n",
    "from sklearn.linear_model import LinearRegression, LogisticRegression\n",
    "from sklearn.ensemble import GradientBoostingRegressor\n",
    "\n",
    "from sklearn.tree import DecisionTreeClassifier, DecisionTreeRegressor\n",
    "from sklearn.ensemble import RandomForestClassifier\n",
    "\n",
    "from sklearn.preprocessing import LabelEncoder\n",
    "from sklearn.model_selection import train_test_split\n",
    "from sklearn.metrics import r2_score, mean_squared_error, accuracy_score, f1_score\n",
    "\n",
    "pd.options.display.max_columns=25"
   ]
  },
  {
   "cell_type": "code",
   "execution_count": 48,
   "metadata": {},
   "outputs": [
    {
     "data": {
      "text/plain": [
       "(67838, 24)"
      ]
     },
     "execution_count": 48,
     "metadata": {},
     "output_type": "execute_result"
    }
   ],
   "source": [
    "data_2014 = pd.read_excel('houston-houston-electricity-bills/coh-fy2014-ee-bills-july2013-june2014.xlsx')\n",
    "orig_shape_2014 = data_2014.shape[0]\n",
    "\n",
    "data_2014.shape"
   ]
  },
  {
   "cell_type": "code",
   "execution_count": 49,
   "metadata": {},
   "outputs": [
    {
     "data": {
      "text/html": [
       "<div>\n",
       "<style scoped>\n",
       "    .dataframe tbody tr th:only-of-type {\n",
       "        vertical-align: middle;\n",
       "    }\n",
       "\n",
       "    .dataframe tbody tr th {\n",
       "        vertical-align: top;\n",
       "    }\n",
       "\n",
       "    .dataframe thead th {\n",
       "        text-align: right;\n",
       "    }\n",
       "</style>\n",
       "<table border=\"1\" class=\"dataframe\">\n",
       "  <thead>\n",
       "    <tr style=\"text-align: right;\">\n",
       "      <th></th>\n",
       "      <th>Reliant Contract No</th>\n",
       "      <th>Service Address</th>\n",
       "      <th>Meter No</th>\n",
       "      <th>ESID</th>\n",
       "      <th>Business Area</th>\n",
       "      <th>Cost Center</th>\n",
       "      <th>Fund</th>\n",
       "      <th>Bill Type</th>\n",
       "      <th>Bill Date</th>\n",
       "      <th>Read Date</th>\n",
       "      <th>Due Date</th>\n",
       "      <th>Meter Read</th>\n",
       "      <th>Base Cost ($)</th>\n",
       "      <th>T&amp;D Discretionary ($)</th>\n",
       "      <th>T&amp;D Charges ($)</th>\n",
       "      <th>Current Due ($)</th>\n",
       "      <th>Index Charge ($)</th>\n",
       "      <th>Total Due ($)</th>\n",
       "      <th>Franchise Fee ($)</th>\n",
       "      <th>Voucher Date</th>\n",
       "      <th>Billed Demand (KVA)</th>\n",
       "      <th>kWh Usage</th>\n",
       "      <th>Nodal Cu Charge ($)</th>\n",
       "      <th>Adder Charge ($)</th>\n",
       "    </tr>\n",
       "  </thead>\n",
       "  <tbody>\n",
       "    <tr>\n",
       "      <th>0</th>\n",
       "      <td>2059605</td>\n",
       "      <td>10518 BELLAIRE</td>\n",
       "      <td>303261</td>\n",
       "      <td>1008901000140050014100</td>\n",
       "      <td>2000</td>\n",
       "      <td>2000040005</td>\n",
       "      <td>8300</td>\n",
       "      <td>T</td>\n",
       "      <td>2014-05-28</td>\n",
       "      <td>2014-05-21</td>\n",
       "      <td>2014-06-27</td>\n",
       "      <td>64981.0</td>\n",
       "      <td>36098.63</td>\n",
       "      <td>2600.53</td>\n",
       "      <td>10078.92</td>\n",
       "      <td>50249.89</td>\n",
       "      <td>0.0</td>\n",
       "      <td>50249.89</td>\n",
       "      <td>-1014.83</td>\n",
       "      <td>2014-05-29</td>\n",
       "      <td>1470.526316</td>\n",
       "      <td>818192</td>\n",
       "      <td>479.19</td>\n",
       "      <td>0.0</td>\n",
       "    </tr>\n",
       "    <tr>\n",
       "      <th>1</th>\n",
       "      <td>2059605</td>\n",
       "      <td>10518 BELLAIRE</td>\n",
       "      <td>303261</td>\n",
       "      <td>1008901000140050014100</td>\n",
       "      <td>2000</td>\n",
       "      <td>2000040005</td>\n",
       "      <td>8300</td>\n",
       "      <td>T</td>\n",
       "      <td>2014-04-28</td>\n",
       "      <td>2014-04-22</td>\n",
       "      <td>2014-05-28</td>\n",
       "      <td>64299.0</td>\n",
       "      <td>38619.91</td>\n",
       "      <td>2576.95</td>\n",
       "      <td>9978.70</td>\n",
       "      <td>52378.23</td>\n",
       "      <td>0.0</td>\n",
       "      <td>52378.23</td>\n",
       "      <td>-1005.86</td>\n",
       "      <td>2014-04-29</td>\n",
       "      <td>1442.268041</td>\n",
       "      <td>875338</td>\n",
       "      <td>161.23</td>\n",
       "      <td>0.0</td>\n",
       "    </tr>\n",
       "    <tr>\n",
       "      <th>2</th>\n",
       "      <td>2059605</td>\n",
       "      <td>10518 BELLAIRE</td>\n",
       "      <td>303261</td>\n",
       "      <td>1008901000140050014100</td>\n",
       "      <td>2000</td>\n",
       "      <td>2000040005</td>\n",
       "      <td>8300</td>\n",
       "      <td>T</td>\n",
       "      <td>2014-03-27</td>\n",
       "      <td>2014-03-23</td>\n",
       "      <td>2014-04-26</td>\n",
       "      <td>63569.0</td>\n",
       "      <td>36275.51</td>\n",
       "      <td>2538.54</td>\n",
       "      <td>9896.25</td>\n",
       "      <td>49788.85</td>\n",
       "      <td>0.0</td>\n",
       "      <td>49788.85</td>\n",
       "      <td>-981.00</td>\n",
       "      <td>2014-03-28</td>\n",
       "      <td>1425.000000</td>\n",
       "      <td>822201</td>\n",
       "      <td>93.04</td>\n",
       "      <td>0.0</td>\n",
       "    </tr>\n",
       "    <tr>\n",
       "      <th>3</th>\n",
       "      <td>2059605</td>\n",
       "      <td>10518 BELLAIRE</td>\n",
       "      <td>303261</td>\n",
       "      <td>1008901000140050014100</td>\n",
       "      <td>2000</td>\n",
       "      <td>2000040005</td>\n",
       "      <td>8300</td>\n",
       "      <td>T</td>\n",
       "      <td>2014-02-27</td>\n",
       "      <td>2014-02-23</td>\n",
       "      <td>2014-03-29</td>\n",
       "      <td>62884.0</td>\n",
       "      <td>43283.31</td>\n",
       "      <td>2207.88</td>\n",
       "      <td>9373.41</td>\n",
       "      <td>56056.70</td>\n",
       "      <td>0.0</td>\n",
       "      <td>56056.70</td>\n",
       "      <td>-1053.49</td>\n",
       "      <td>2014-02-28</td>\n",
       "      <td>1513.265306</td>\n",
       "      <td>981036</td>\n",
       "      <td>77.36</td>\n",
       "      <td>0.0</td>\n",
       "    </tr>\n",
       "    <tr>\n",
       "      <th>4</th>\n",
       "      <td>2059605</td>\n",
       "      <td>10518 BELLAIRE</td>\n",
       "      <td>303261</td>\n",
       "      <td>1008901000140050014100</td>\n",
       "      <td>2000</td>\n",
       "      <td>2000040005</td>\n",
       "      <td>8300</td>\n",
       "      <td>T</td>\n",
       "      <td>2014-01-27</td>\n",
       "      <td>2014-01-21</td>\n",
       "      <td>2014-02-26</td>\n",
       "      <td>62066.0</td>\n",
       "      <td>37987.10</td>\n",
       "      <td>1992.16</td>\n",
       "      <td>8762.55</td>\n",
       "      <td>49748.12</td>\n",
       "      <td>0.0</td>\n",
       "      <td>49748.12</td>\n",
       "      <td>-950.63</td>\n",
       "      <td>2014-01-30</td>\n",
       "      <td>1373.195876</td>\n",
       "      <td>860995</td>\n",
       "      <td>17.73</td>\n",
       "      <td>0.0</td>\n",
       "    </tr>\n",
       "  </tbody>\n",
       "</table>\n",
       "</div>"
      ],
      "text/plain": [
       "   Reliant Contract No Service Address  Meter No                    ESID  \\\n",
       "0              2059605   10518 BELLAIRE   303261  1008901000140050014100   \n",
       "1              2059605   10518 BELLAIRE   303261  1008901000140050014100   \n",
       "2              2059605   10518 BELLAIRE   303261  1008901000140050014100   \n",
       "3              2059605   10518 BELLAIRE   303261  1008901000140050014100   \n",
       "4              2059605   10518 BELLAIRE   303261  1008901000140050014100   \n",
       "\n",
       "   Business Area  Cost Center  Fund Bill Type  Bill Date  Read Date  \\\n",
       "0           2000   2000040005  8300         T 2014-05-28 2014-05-21   \n",
       "1           2000   2000040005  8300         T 2014-04-28 2014-04-22   \n",
       "2           2000   2000040005  8300         T 2014-03-27 2014-03-23   \n",
       "3           2000   2000040005  8300         T 2014-02-27 2014-02-23   \n",
       "4           2000   2000040005  8300         T 2014-01-27 2014-01-21   \n",
       "\n",
       "    Due Date  Meter Read  Base Cost ($)  T&D Discretionary ($)  \\\n",
       "0 2014-06-27     64981.0       36098.63                2600.53   \n",
       "1 2014-05-28     64299.0       38619.91                2576.95   \n",
       "2 2014-04-26     63569.0       36275.51                2538.54   \n",
       "3 2014-03-29     62884.0       43283.31                2207.88   \n",
       "4 2014-02-26     62066.0       37987.10                1992.16   \n",
       "\n",
       "   T&D Charges ($)  Current Due ($)  Index Charge ($)  Total Due ($)  \\\n",
       "0         10078.92         50249.89               0.0       50249.89   \n",
       "1          9978.70         52378.23               0.0       52378.23   \n",
       "2          9896.25         49788.85               0.0       49788.85   \n",
       "3          9373.41         56056.70               0.0       56056.70   \n",
       "4          8762.55         49748.12               0.0       49748.12   \n",
       "\n",
       "   Franchise Fee ($) Voucher Date  Billed Demand (KVA)  kWh Usage  \\\n",
       "0           -1014.83   2014-05-29          1470.526316     818192   \n",
       "1           -1005.86   2014-04-29          1442.268041     875338   \n",
       "2            -981.00   2014-03-28          1425.000000     822201   \n",
       "3           -1053.49   2014-02-28          1513.265306     981036   \n",
       "4            -950.63   2014-01-30          1373.195876     860995   \n",
       "\n",
       "   Nodal Cu Charge ($)  Adder Charge ($)  \n",
       "0               479.19               0.0  \n",
       "1               161.23               0.0  \n",
       "2                93.04               0.0  \n",
       "3                77.36               0.0  \n",
       "4                17.73               0.0  "
      ]
     },
     "execution_count": 49,
     "metadata": {},
     "output_type": "execute_result"
    }
   ],
   "source": [
    "data_2014.head(5)"
   ]
  },
  {
   "cell_type": "code",
   "execution_count": 50,
   "metadata": {},
   "outputs": [
    {
     "name": "stdout",
     "output_type": "stream",
     "text": [
      "{'Reliant Contract No': 'ratio', 'Service Address ': 'nominal', 'Meter No': 'nominal', 'ESID': 'nominal', 'Business Area': 'ratio', 'Cost Center': 'ratio', 'Fund': 'ratio', 'Bill Type': 'nominal', 'Bill Date': 'unknown', 'Read Date': 'unknown', 'Due Date': 'unknown', 'Meter Read': 'ratio', 'Base Cost ($)': 'ratio', 'T&D Discretionary ($)': 'ratio', 'T&D Charges ($)': 'ratio', 'Current Due ($)': 'ratio', 'Index Charge ($)': 'ratio', 'Total Due ($)': 'ratio', 'Franchise Fee ($)': 'ratio', 'Voucher Date': 'unknown', 'Billed Demand (KVA)': 'ratio', 'kWh Usage': 'ratio', 'Nodal Cu Charge ($)': 'ratio', 'Adder Charge ($)': 'ratio'}\n"
     ]
    }
   ],
   "source": [
    "data_types = {}\n",
    "for col in data_2014.columns:\n",
    "    dtype = data_2014[col].dtype\n",
    "    if dtype == 'object':\n",
    "        data_types[col] = 'nominal'\n",
    "    elif dtype.name == 'category':\n",
    "        data_types[col] = 'ordinal'\n",
    "    elif dtype.name.startswith('int') or dtype.name.startswith('float'):\n",
    "        data_types[col] = 'ratio'\n",
    "    else:\n",
    "        data_types[col] = 'unknown'\n",
    "        \n",
    "print(data_types)"
   ]
  },
  {
   "cell_type": "code",
   "execution_count": 51,
   "metadata": {},
   "outputs": [
    {
     "data": {
      "text/html": [
       "<div>\n",
       "<style scoped>\n",
       "    .dataframe tbody tr th:only-of-type {\n",
       "        vertical-align: middle;\n",
       "    }\n",
       "\n",
       "    .dataframe tbody tr th {\n",
       "        vertical-align: top;\n",
       "    }\n",
       "\n",
       "    .dataframe thead th {\n",
       "        text-align: right;\n",
       "    }\n",
       "</style>\n",
       "<table border=\"1\" class=\"dataframe\">\n",
       "  <thead>\n",
       "    <tr style=\"text-align: right;\">\n",
       "      <th></th>\n",
       "      <th>Reliant Contract No</th>\n",
       "      <th>Business Area</th>\n",
       "      <th>Cost Center</th>\n",
       "      <th>Fund</th>\n",
       "      <th>Meter Read</th>\n",
       "      <th>Base Cost ($)</th>\n",
       "      <th>T&amp;D Discretionary ($)</th>\n",
       "      <th>T&amp;D Charges ($)</th>\n",
       "      <th>Current Due ($)</th>\n",
       "      <th>Index Charge ($)</th>\n",
       "      <th>Total Due ($)</th>\n",
       "      <th>Franchise Fee ($)</th>\n",
       "      <th>Billed Demand (KVA)</th>\n",
       "      <th>kWh Usage</th>\n",
       "      <th>Nodal Cu Charge ($)</th>\n",
       "      <th>Adder Charge ($)</th>\n",
       "    </tr>\n",
       "  </thead>\n",
       "  <tbody>\n",
       "    <tr>\n",
       "      <th>count</th>\n",
       "      <td>6.783800e+04</td>\n",
       "      <td>67838.000000</td>\n",
       "      <td>6.783800e+04</td>\n",
       "      <td>67838.000000</td>\n",
       "      <td>67822.000000</td>\n",
       "      <td>67832.000000</td>\n",
       "      <td>67838.000000</td>\n",
       "      <td>67838.000000</td>\n",
       "      <td>67838.000000</td>\n",
       "      <td>67835.000000</td>\n",
       "      <td>67838.000000</td>\n",
       "      <td>67838.000000</td>\n",
       "      <td>67822.000000</td>\n",
       "      <td>6.783800e+04</td>\n",
       "      <td>67831.000000</td>\n",
       "      <td>67835.000000</td>\n",
       "    </tr>\n",
       "    <tr>\n",
       "      <th>mean</th>\n",
       "      <td>4.466026e+06</td>\n",
       "      <td>2234.462985</td>\n",
       "      <td>2.234508e+09</td>\n",
       "      <td>3905.364972</td>\n",
       "      <td>11922.180792</td>\n",
       "      <td>752.493762</td>\n",
       "      <td>346.176442</td>\n",
       "      <td>243.271038</td>\n",
       "      <td>1429.004427</td>\n",
       "      <td>51.921319</td>\n",
       "      <td>1428.948580</td>\n",
       "      <td>-30.802815</td>\n",
       "      <td>41.816244</td>\n",
       "      <td>1.757642e+04</td>\n",
       "      <td>2.847491</td>\n",
       "      <td>8.410448</td>\n",
       "    </tr>\n",
       "    <tr>\n",
       "      <th>std</th>\n",
       "      <td>3.538467e+06</td>\n",
       "      <td>610.308174</td>\n",
       "      <td>6.103035e+08</td>\n",
       "      <td>3554.304295</td>\n",
       "      <td>19950.210597</td>\n",
       "      <td>8850.260472</td>\n",
       "      <td>11412.058754</td>\n",
       "      <td>1761.077978</td>\n",
       "      <td>17419.486301</td>\n",
       "      <td>1745.464417</td>\n",
       "      <td>17420.904924</td>\n",
       "      <td>210.583496</td>\n",
       "      <td>365.658193</td>\n",
       "      <td>1.925858e+05</td>\n",
       "      <td>42.663730</td>\n",
       "      <td>276.832133</td>\n",
       "    </tr>\n",
       "    <tr>\n",
       "      <th>min</th>\n",
       "      <td>2.029300e+04</td>\n",
       "      <td>1600.000000</td>\n",
       "      <td>1.600010e+09</td>\n",
       "      <td>1000.000000</td>\n",
       "      <td>0.000000</td>\n",
       "      <td>-1269.920000</td>\n",
       "      <td>-45.930000</td>\n",
       "      <td>-1715.790000</td>\n",
       "      <td>-104.790000</td>\n",
       "      <td>0.000000</td>\n",
       "      <td>0.000000</td>\n",
       "      <td>-6179.070000</td>\n",
       "      <td>0.000000</td>\n",
       "      <td>0.000000e+00</td>\n",
       "      <td>-0.010000</td>\n",
       "      <td>0.000000</td>\n",
       "    </tr>\n",
       "    <tr>\n",
       "      <th>25%</th>\n",
       "      <td>1.320004e+06</td>\n",
       "      <td>2000.000000</td>\n",
       "      <td>2.000050e+09</td>\n",
       "      <td>1000.000000</td>\n",
       "      <td>0.000000</td>\n",
       "      <td>0.070000</td>\n",
       "      <td>3.140000</td>\n",
       "      <td>5.750000</td>\n",
       "      <td>12.080000</td>\n",
       "      <td>0.000000</td>\n",
       "      <td>12.080000</td>\n",
       "      <td>-4.830000</td>\n",
       "      <td>0.000000</td>\n",
       "      <td>1.000000e+00</td>\n",
       "      <td>0.000000</td>\n",
       "      <td>0.000000</td>\n",
       "    </tr>\n",
       "    <tr>\n",
       "      <th>50%</th>\n",
       "      <td>3.004037e+06</td>\n",
       "      <td>2000.000000</td>\n",
       "      <td>2.000050e+09</td>\n",
       "      <td>1000.000000</td>\n",
       "      <td>4507.000000</td>\n",
       "      <td>10.020000</td>\n",
       "      <td>6.440000</td>\n",
       "      <td>10.380000</td>\n",
       "      <td>27.330000</td>\n",
       "      <td>0.000000</td>\n",
       "      <td>27.270000</td>\n",
       "      <td>-0.470000</td>\n",
       "      <td>0.000000</td>\n",
       "      <td>2.200000e+02</td>\n",
       "      <td>0.030000</td>\n",
       "      <td>0.000000</td>\n",
       "    </tr>\n",
       "    <tr>\n",
       "      <th>75%</th>\n",
       "      <td>8.051266e+06</td>\n",
       "      <td>2000.000000</td>\n",
       "      <td>2.000050e+09</td>\n",
       "      <td>8300.000000</td>\n",
       "      <td>12230.750000</td>\n",
       "      <td>59.690000</td>\n",
       "      <td>17.800000</td>\n",
       "      <td>60.692500</td>\n",
       "      <td>164.850000</td>\n",
       "      <td>0.000000</td>\n",
       "      <td>164.212500</td>\n",
       "      <td>0.000000</td>\n",
       "      <td>7.000000</td>\n",
       "      <td>1.419750e+03</td>\n",
       "      <td>0.170000</td>\n",
       "      <td>0.000000</td>\n",
       "    </tr>\n",
       "    <tr>\n",
       "      <th>max</th>\n",
       "      <td>1.125101e+07</td>\n",
       "      <td>6800.000000</td>\n",
       "      <td>6.800050e+09</td>\n",
       "      <td>8700.000000</td>\n",
       "      <td>492196.000000</td>\n",
       "      <td>586509.580000</td>\n",
       "      <td>781792.760000</td>\n",
       "      <td>70591.250000</td>\n",
       "      <td>906606.680000</td>\n",
       "      <td>105158.970000</td>\n",
       "      <td>906606.680000</td>\n",
       "      <td>0.000000</td>\n",
       "      <td>17348.148148</td>\n",
       "      <td>9.383361e+06</td>\n",
       "      <td>5531.690000</td>\n",
       "      <td>12528.970000</td>\n",
       "    </tr>\n",
       "  </tbody>\n",
       "</table>\n",
       "</div>"
      ],
      "text/plain": [
       "       Reliant Contract No  Business Area   Cost Center          Fund  \\\n",
       "count         6.783800e+04   67838.000000  6.783800e+04  67838.000000   \n",
       "mean          4.466026e+06    2234.462985  2.234508e+09   3905.364972   \n",
       "std           3.538467e+06     610.308174  6.103035e+08   3554.304295   \n",
       "min           2.029300e+04    1600.000000  1.600010e+09   1000.000000   \n",
       "25%           1.320004e+06    2000.000000  2.000050e+09   1000.000000   \n",
       "50%           3.004037e+06    2000.000000  2.000050e+09   1000.000000   \n",
       "75%           8.051266e+06    2000.000000  2.000050e+09   8300.000000   \n",
       "max           1.125101e+07    6800.000000  6.800050e+09   8700.000000   \n",
       "\n",
       "          Meter Read  Base Cost ($)  T&D Discretionary ($)  T&D Charges ($)  \\\n",
       "count   67822.000000   67832.000000           67838.000000     67838.000000   \n",
       "mean    11922.180792     752.493762             346.176442       243.271038   \n",
       "std     19950.210597    8850.260472           11412.058754      1761.077978   \n",
       "min         0.000000   -1269.920000             -45.930000     -1715.790000   \n",
       "25%         0.000000       0.070000               3.140000         5.750000   \n",
       "50%      4507.000000      10.020000               6.440000        10.380000   \n",
       "75%     12230.750000      59.690000              17.800000        60.692500   \n",
       "max    492196.000000  586509.580000          781792.760000     70591.250000   \n",
       "\n",
       "       Current Due ($)  Index Charge ($)  Total Due ($)  Franchise Fee ($)  \\\n",
       "count     67838.000000      67835.000000   67838.000000       67838.000000   \n",
       "mean       1429.004427         51.921319    1428.948580         -30.802815   \n",
       "std       17419.486301       1745.464417   17420.904924         210.583496   \n",
       "min        -104.790000          0.000000       0.000000       -6179.070000   \n",
       "25%          12.080000          0.000000      12.080000          -4.830000   \n",
       "50%          27.330000          0.000000      27.270000          -0.470000   \n",
       "75%         164.850000          0.000000     164.212500           0.000000   \n",
       "max      906606.680000     105158.970000  906606.680000           0.000000   \n",
       "\n",
       "       Billed Demand (KVA)     kWh Usage  Nodal Cu Charge ($)  \\\n",
       "count         67822.000000  6.783800e+04         67831.000000   \n",
       "mean             41.816244  1.757642e+04             2.847491   \n",
       "std             365.658193  1.925858e+05            42.663730   \n",
       "min               0.000000  0.000000e+00            -0.010000   \n",
       "25%               0.000000  1.000000e+00             0.000000   \n",
       "50%               0.000000  2.200000e+02             0.030000   \n",
       "75%               7.000000  1.419750e+03             0.170000   \n",
       "max           17348.148148  9.383361e+06          5531.690000   \n",
       "\n",
       "       Adder Charge ($)  \n",
       "count      67835.000000  \n",
       "mean           8.410448  \n",
       "std          276.832133  \n",
       "min            0.000000  \n",
       "25%            0.000000  \n",
       "50%            0.000000  \n",
       "75%            0.000000  \n",
       "max        12528.970000  "
      ]
     },
     "execution_count": 51,
     "metadata": {},
     "output_type": "execute_result"
    }
   ],
   "source": [
    "data_2014.describe()"
   ]
  },
  {
   "cell_type": "code",
   "execution_count": 52,
   "metadata": {},
   "outputs": [
    {
     "name": "stderr",
     "output_type": "stream",
     "text": [
      "C:\\Users\\sparva3\\AppData\\Local\\Temp\\ipykernel_16148\\4135571758.py:1: FutureWarning: Treating datetime data as categorical rather than numeric in `.describe` is deprecated and will be removed in a future version of pandas. Specify `datetime_is_numeric=True` to silence this warning and adopt the future behavior now.\n",
      "  data_2014.describe(exclude='number').T.sort_values(by='unique')\n",
      "C:\\Users\\sparva3\\AppData\\Local\\Temp\\ipykernel_16148\\4135571758.py:1: FutureWarning: Treating datetime data as categorical rather than numeric in `.describe` is deprecated and will be removed in a future version of pandas. Specify `datetime_is_numeric=True` to silence this warning and adopt the future behavior now.\n",
      "  data_2014.describe(exclude='number').T.sort_values(by='unique')\n",
      "C:\\Users\\sparva3\\AppData\\Local\\Temp\\ipykernel_16148\\4135571758.py:1: FutureWarning: Treating datetime data as categorical rather than numeric in `.describe` is deprecated and will be removed in a future version of pandas. Specify `datetime_is_numeric=True` to silence this warning and adopt the future behavior now.\n",
      "  data_2014.describe(exclude='number').T.sort_values(by='unique')\n",
      "C:\\Users\\sparva3\\AppData\\Local\\Temp\\ipykernel_16148\\4135571758.py:1: FutureWarning: Treating datetime data as categorical rather than numeric in `.describe` is deprecated and will be removed in a future version of pandas. Specify `datetime_is_numeric=True` to silence this warning and adopt the future behavior now.\n",
      "  data_2014.describe(exclude='number').T.sort_values(by='unique')\n"
     ]
    },
    {
     "data": {
      "text/html": [
       "<div>\n",
       "<style scoped>\n",
       "    .dataframe tbody tr th:only-of-type {\n",
       "        vertical-align: middle;\n",
       "    }\n",
       "\n",
       "    .dataframe tbody tr th {\n",
       "        vertical-align: top;\n",
       "    }\n",
       "\n",
       "    .dataframe thead th {\n",
       "        text-align: right;\n",
       "    }\n",
       "</style>\n",
       "<table border=\"1\" class=\"dataframe\">\n",
       "  <thead>\n",
       "    <tr style=\"text-align: right;\">\n",
       "      <th></th>\n",
       "      <th>count</th>\n",
       "      <th>unique</th>\n",
       "      <th>top</th>\n",
       "      <th>freq</th>\n",
       "      <th>first</th>\n",
       "      <th>last</th>\n",
       "    </tr>\n",
       "  </thead>\n",
       "  <tbody>\n",
       "    <tr>\n",
       "      <th>Bill Type</th>\n",
       "      <td>67838</td>\n",
       "      <td>2</td>\n",
       "      <td>T</td>\n",
       "      <td>67340</td>\n",
       "      <td>NaT</td>\n",
       "      <td>NaT</td>\n",
       "    </tr>\n",
       "    <tr>\n",
       "      <th>Voucher Date</th>\n",
       "      <td>67838</td>\n",
       "      <td>229</td>\n",
       "      <td>2014-01-30 00:00:00</td>\n",
       "      <td>1262</td>\n",
       "      <td>2013-07-02</td>\n",
       "      <td>2014-06-25</td>\n",
       "    </tr>\n",
       "    <tr>\n",
       "      <th>Bill Date</th>\n",
       "      <td>67838</td>\n",
       "      <td>249</td>\n",
       "      <td>2013-08-20 00:00:00</td>\n",
       "      <td>1271</td>\n",
       "      <td>2013-07-01</td>\n",
       "      <td>2014-06-24</td>\n",
       "    </tr>\n",
       "    <tr>\n",
       "      <th>Due Date</th>\n",
       "      <td>67838</td>\n",
       "      <td>255</td>\n",
       "      <td>2013-09-19 00:00:00</td>\n",
       "      <td>1170</td>\n",
       "      <td>2013-07-31</td>\n",
       "      <td>2017-04-02</td>\n",
       "    </tr>\n",
       "    <tr>\n",
       "      <th>Read Date</th>\n",
       "      <td>67838</td>\n",
       "      <td>327</td>\n",
       "      <td>2014-04-07 00:00:00</td>\n",
       "      <td>469</td>\n",
       "      <td>2013-04-01</td>\n",
       "      <td>2014-06-19</td>\n",
       "    </tr>\n",
       "    <tr>\n",
       "      <th>Meter No</th>\n",
       "      <td>50205</td>\n",
       "      <td>4026</td>\n",
       "      <td>Unmetered</td>\n",
       "      <td>1977</td>\n",
       "      <td>NaT</td>\n",
       "      <td>NaT</td>\n",
       "    </tr>\n",
       "    <tr>\n",
       "      <th>Service Address</th>\n",
       "      <td>67838</td>\n",
       "      <td>5824</td>\n",
       "      <td>VARIOUS</td>\n",
       "      <td>498</td>\n",
       "      <td>NaT</td>\n",
       "      <td>NaT</td>\n",
       "    </tr>\n",
       "    <tr>\n",
       "      <th>ESID</th>\n",
       "      <td>67838</td>\n",
       "      <td>5885</td>\n",
       "      <td>1008901023802923620100</td>\n",
       "      <td>16</td>\n",
       "      <td>NaT</td>\n",
       "      <td>NaT</td>\n",
       "    </tr>\n",
       "  </tbody>\n",
       "</table>\n",
       "</div>"
      ],
      "text/plain": [
       "                  count unique                     top   freq      first  \\\n",
       "Bill Type         67838      2                       T  67340        NaT   \n",
       "Voucher Date      67838    229     2014-01-30 00:00:00   1262 2013-07-02   \n",
       "Bill Date         67838    249     2013-08-20 00:00:00   1271 2013-07-01   \n",
       "Due Date          67838    255     2013-09-19 00:00:00   1170 2013-07-31   \n",
       "Read Date         67838    327     2014-04-07 00:00:00    469 2013-04-01   \n",
       "Meter No          50205   4026               Unmetered   1977        NaT   \n",
       "Service Address   67838   5824                 VARIOUS    498        NaT   \n",
       "ESID              67838   5885  1008901023802923620100     16        NaT   \n",
       "\n",
       "                       last  \n",
       "Bill Type               NaT  \n",
       "Voucher Date     2014-06-25  \n",
       "Bill Date        2014-06-24  \n",
       "Due Date         2017-04-02  \n",
       "Read Date        2014-06-19  \n",
       "Meter No                NaT  \n",
       "Service Address         NaT  \n",
       "ESID                    NaT  "
      ]
     },
     "execution_count": 52,
     "metadata": {},
     "output_type": "execute_result"
    }
   ],
   "source": [
    "data_2014.describe(exclude='number').T.sort_values(by='unique')"
   ]
  },
  {
   "cell_type": "code",
   "execution_count": 53,
   "metadata": {},
   "outputs": [
    {
     "data": {
      "text/plain": [
       "Reliant Contract No          0\n",
       "Service Address              0\n",
       "Meter No                 17633\n",
       "ESID                         0\n",
       "Business Area                0\n",
       "Cost Center                  0\n",
       "Fund                         0\n",
       "Bill Type                    0\n",
       "Bill Date                    0\n",
       "Read Date                    0\n",
       "Due Date                     0\n",
       "Meter Read                  16\n",
       "Base Cost ($)                6\n",
       "T&D Discretionary ($)        0\n",
       "T&D Charges ($)              0\n",
       "Current Due ($)              0\n",
       "Index Charge ($)             3\n",
       "Total Due ($)                0\n",
       "Franchise Fee ($)            0\n",
       "Voucher Date                 0\n",
       "Billed Demand (KVA)         16\n",
       "kWh Usage                    0\n",
       "Nodal Cu Charge ($)          7\n",
       "Adder Charge ($)             3\n",
       "dtype: int64"
      ]
     },
     "execution_count": 53,
     "metadata": {},
     "output_type": "execute_result"
    }
   ],
   "source": [
    "data_2014.isna().sum()"
   ]
  },
  {
   "cell_type": "code",
   "execution_count": 54,
   "metadata": {},
   "outputs": [
    {
     "data": {
      "text/plain": [
       "0.00        67320\n",
       "NaN             3\n",
       "8.23            3\n",
       "8.04            2\n",
       "7.36            2\n",
       "            ...  \n",
       "13587.81        1\n",
       "10639.12        1\n",
       "9521.45         1\n",
       "93.97           1\n",
       "70.22           1\n",
       "Name: Index Charge ($), Length: 511, dtype: int64"
      ]
     },
     "execution_count": 54,
     "metadata": {},
     "output_type": "execute_result"
    }
   ],
   "source": [
    "data_2014['Index Charge ($)'].value_counts(dropna=False)"
   ]
  },
  {
   "cell_type": "code",
   "execution_count": 55,
   "metadata": {},
   "outputs": [],
   "source": [
    "data_2014.drop(columns=['Index Charge ($)'], inplace=True)"
   ]
  },
  {
   "attachments": {},
   "cell_type": "markdown",
   "metadata": {},
   "source": [
    "### Checking Unique Number of Customers"
   ]
  },
  {
   "attachments": {},
   "cell_type": "markdown",
   "metadata": {},
   "source": [
    "There are quite a few columns in the dataset that signify relating to a unique person/house/business. Checking the unique counts of such columns."
   ]
  },
  {
   "cell_type": "code",
   "execution_count": 56,
   "metadata": {},
   "outputs": [
    {
     "name": "stdout",
     "output_type": "stream",
     "text": [
      "Number of Unique Values in Reliant Contract No: 5888\n",
      "Number of Unique Values in Service Address : 5824\n",
      "Number of Unique Values in Meter No: 4026\n",
      "Number of Unique Values in ESID: 5885\n",
      "Number of Unique Values in Business Area: 8\n",
      "Number of Unique Values in Cost Center: 34\n"
     ]
    }
   ],
   "source": [
    "check_unique_columns = ['Reliant Contract No', 'Service Address ', 'Meter No', \n",
    "                        'ESID', 'Business Area', 'Cost Center',]\n",
    "\n",
    "for col in check_unique_columns:\n",
    "    print(f'Number of Unique Values in {col}: {data_2014[col].nunique()}')"
   ]
  },
  {
   "attachments": {},
   "cell_type": "markdown",
   "metadata": {},
   "source": [
    "NOTE: Compared to previous years, there is one less business area.\n",
    "\n",
    "Based on the above reported values and further research online:\n",
    "\n",
    "ESID signifies a unique ID provided to each customer subscribed to the electricity board. It would be best to choose ESID and Service Address columns going forward as these would provide number of unique customers and the areas (streets) where higher usage of electricity occurs.\n",
    "\n",
    "Business Area signifies a grouping a number of buildings which covers a certain area. This would be useful usage patterns grouped by certain zones in the city."
   ]
  },
  {
   "attachments": {},
   "cell_type": "markdown",
   "metadata": {},
   "source": [
    "### Checking Bill Type"
   ]
  },
  {
   "cell_type": "code",
   "execution_count": 57,
   "metadata": {},
   "outputs": [
    {
     "data": {
      "text/plain": [
       "T    67340\n",
       "P      498\n",
       "Name: Bill Type, dtype: int64"
      ]
     },
     "execution_count": 57,
     "metadata": {},
     "output_type": "execute_result"
    }
   ],
   "source": [
    "data_2014['Bill Type'].value_counts(dropna=False)"
   ]
  },
  {
   "attachments": {},
   "cell_type": "markdown",
   "metadata": {},
   "source": [
    "Bill Type could signify the type of the connection given. Since commercial, residential and government spaces would have different type of pricing and needs this column could be capturing that information.\n",
    "\n",
    "Previously there were 3 types of Bills. T, P, and C. But in year 2014 there are only 2 types."
   ]
  },
  {
   "cell_type": "code",
   "execution_count": 58,
   "metadata": {},
   "outputs": [
    {
     "data": {
      "text/plain": [
       "(5824, 4026, 5885)"
      ]
     },
     "execution_count": 58,
     "metadata": {},
     "output_type": "execute_result"
    }
   ],
   "source": [
    "data_2014['Service Address '].nunique(), data_2014['Meter No'].nunique(), data_2014['ESID'].nunique()"
   ]
  },
  {
   "attachments": {},
   "cell_type": "markdown",
   "metadata": {},
   "source": [
    "The next 3 columns are: Bill Date, Read Date and Due Date. Of these it would be best to choose the Bill date across all the data files to keep the data consistent. "
   ]
  },
  {
   "attachments": {},
   "cell_type": "markdown",
   "metadata": {},
   "source": [
    "### Electricity Usage Statistics"
   ]
  },
  {
   "cell_type": "code",
   "execution_count": 59,
   "metadata": {},
   "outputs": [
    {
     "data": {
      "text/html": [
       "<div>\n",
       "<style scoped>\n",
       "    .dataframe tbody tr th:only-of-type {\n",
       "        vertical-align: middle;\n",
       "    }\n",
       "\n",
       "    .dataframe tbody tr th {\n",
       "        vertical-align: top;\n",
       "    }\n",
       "\n",
       "    .dataframe thead th {\n",
       "        text-align: right;\n",
       "    }\n",
       "</style>\n",
       "<table border=\"1\" class=\"dataframe\">\n",
       "  <thead>\n",
       "    <tr style=\"text-align: right;\">\n",
       "      <th></th>\n",
       "      <th>Reliant Contract No</th>\n",
       "      <th>Business Area</th>\n",
       "      <th>Cost Center</th>\n",
       "      <th>Fund</th>\n",
       "      <th>Meter Read</th>\n",
       "      <th>Base Cost ($)</th>\n",
       "      <th>T&amp;D Discretionary ($)</th>\n",
       "      <th>T&amp;D Charges ($)</th>\n",
       "      <th>Current Due ($)</th>\n",
       "      <th>Total Due ($)</th>\n",
       "      <th>Franchise Fee ($)</th>\n",
       "      <th>Billed Demand (KVA)</th>\n",
       "      <th>kWh Usage</th>\n",
       "      <th>Nodal Cu Charge ($)</th>\n",
       "      <th>Adder Charge ($)</th>\n",
       "    </tr>\n",
       "  </thead>\n",
       "  <tbody>\n",
       "    <tr>\n",
       "      <th>count</th>\n",
       "      <td>6.783800e+04</td>\n",
       "      <td>67838.000000</td>\n",
       "      <td>6.783800e+04</td>\n",
       "      <td>67838.000000</td>\n",
       "      <td>67822.000000</td>\n",
       "      <td>67832.000000</td>\n",
       "      <td>67838.000000</td>\n",
       "      <td>67838.000000</td>\n",
       "      <td>67838.000000</td>\n",
       "      <td>67838.000000</td>\n",
       "      <td>67838.000000</td>\n",
       "      <td>67822.000000</td>\n",
       "      <td>6.783800e+04</td>\n",
       "      <td>67831.000000</td>\n",
       "      <td>67835.000000</td>\n",
       "    </tr>\n",
       "    <tr>\n",
       "      <th>mean</th>\n",
       "      <td>4.466026e+06</td>\n",
       "      <td>2234.462985</td>\n",
       "      <td>2.234508e+09</td>\n",
       "      <td>3905.364972</td>\n",
       "      <td>11922.180792</td>\n",
       "      <td>752.493762</td>\n",
       "      <td>346.176442</td>\n",
       "      <td>243.271038</td>\n",
       "      <td>1429.004427</td>\n",
       "      <td>1428.948580</td>\n",
       "      <td>-30.802815</td>\n",
       "      <td>41.816244</td>\n",
       "      <td>1.757642e+04</td>\n",
       "      <td>2.847491</td>\n",
       "      <td>8.410448</td>\n",
       "    </tr>\n",
       "    <tr>\n",
       "      <th>std</th>\n",
       "      <td>3.538467e+06</td>\n",
       "      <td>610.308174</td>\n",
       "      <td>6.103035e+08</td>\n",
       "      <td>3554.304295</td>\n",
       "      <td>19950.210597</td>\n",
       "      <td>8850.260472</td>\n",
       "      <td>11412.058754</td>\n",
       "      <td>1761.077978</td>\n",
       "      <td>17419.486301</td>\n",
       "      <td>17420.904924</td>\n",
       "      <td>210.583496</td>\n",
       "      <td>365.658193</td>\n",
       "      <td>1.925858e+05</td>\n",
       "      <td>42.663730</td>\n",
       "      <td>276.832133</td>\n",
       "    </tr>\n",
       "    <tr>\n",
       "      <th>min</th>\n",
       "      <td>2.029300e+04</td>\n",
       "      <td>1600.000000</td>\n",
       "      <td>1.600010e+09</td>\n",
       "      <td>1000.000000</td>\n",
       "      <td>0.000000</td>\n",
       "      <td>-1269.920000</td>\n",
       "      <td>-45.930000</td>\n",
       "      <td>-1715.790000</td>\n",
       "      <td>-104.790000</td>\n",
       "      <td>0.000000</td>\n",
       "      <td>-6179.070000</td>\n",
       "      <td>0.000000</td>\n",
       "      <td>0.000000e+00</td>\n",
       "      <td>-0.010000</td>\n",
       "      <td>0.000000</td>\n",
       "    </tr>\n",
       "    <tr>\n",
       "      <th>25%</th>\n",
       "      <td>1.320004e+06</td>\n",
       "      <td>2000.000000</td>\n",
       "      <td>2.000050e+09</td>\n",
       "      <td>1000.000000</td>\n",
       "      <td>0.000000</td>\n",
       "      <td>0.070000</td>\n",
       "      <td>3.140000</td>\n",
       "      <td>5.750000</td>\n",
       "      <td>12.080000</td>\n",
       "      <td>12.080000</td>\n",
       "      <td>-4.830000</td>\n",
       "      <td>0.000000</td>\n",
       "      <td>1.000000e+00</td>\n",
       "      <td>0.000000</td>\n",
       "      <td>0.000000</td>\n",
       "    </tr>\n",
       "    <tr>\n",
       "      <th>50%</th>\n",
       "      <td>3.004037e+06</td>\n",
       "      <td>2000.000000</td>\n",
       "      <td>2.000050e+09</td>\n",
       "      <td>1000.000000</td>\n",
       "      <td>4507.000000</td>\n",
       "      <td>10.020000</td>\n",
       "      <td>6.440000</td>\n",
       "      <td>10.380000</td>\n",
       "      <td>27.330000</td>\n",
       "      <td>27.270000</td>\n",
       "      <td>-0.470000</td>\n",
       "      <td>0.000000</td>\n",
       "      <td>2.200000e+02</td>\n",
       "      <td>0.030000</td>\n",
       "      <td>0.000000</td>\n",
       "    </tr>\n",
       "    <tr>\n",
       "      <th>75%</th>\n",
       "      <td>8.051266e+06</td>\n",
       "      <td>2000.000000</td>\n",
       "      <td>2.000050e+09</td>\n",
       "      <td>8300.000000</td>\n",
       "      <td>12230.750000</td>\n",
       "      <td>59.690000</td>\n",
       "      <td>17.800000</td>\n",
       "      <td>60.692500</td>\n",
       "      <td>164.850000</td>\n",
       "      <td>164.212500</td>\n",
       "      <td>0.000000</td>\n",
       "      <td>7.000000</td>\n",
       "      <td>1.419750e+03</td>\n",
       "      <td>0.170000</td>\n",
       "      <td>0.000000</td>\n",
       "    </tr>\n",
       "    <tr>\n",
       "      <th>max</th>\n",
       "      <td>1.125101e+07</td>\n",
       "      <td>6800.000000</td>\n",
       "      <td>6.800050e+09</td>\n",
       "      <td>8700.000000</td>\n",
       "      <td>492196.000000</td>\n",
       "      <td>586509.580000</td>\n",
       "      <td>781792.760000</td>\n",
       "      <td>70591.250000</td>\n",
       "      <td>906606.680000</td>\n",
       "      <td>906606.680000</td>\n",
       "      <td>0.000000</td>\n",
       "      <td>17348.148148</td>\n",
       "      <td>9.383361e+06</td>\n",
       "      <td>5531.690000</td>\n",
       "      <td>12528.970000</td>\n",
       "    </tr>\n",
       "  </tbody>\n",
       "</table>\n",
       "</div>"
      ],
      "text/plain": [
       "       Reliant Contract No  Business Area   Cost Center          Fund  \\\n",
       "count         6.783800e+04   67838.000000  6.783800e+04  67838.000000   \n",
       "mean          4.466026e+06    2234.462985  2.234508e+09   3905.364972   \n",
       "std           3.538467e+06     610.308174  6.103035e+08   3554.304295   \n",
       "min           2.029300e+04    1600.000000  1.600010e+09   1000.000000   \n",
       "25%           1.320004e+06    2000.000000  2.000050e+09   1000.000000   \n",
       "50%           3.004037e+06    2000.000000  2.000050e+09   1000.000000   \n",
       "75%           8.051266e+06    2000.000000  2.000050e+09   8300.000000   \n",
       "max           1.125101e+07    6800.000000  6.800050e+09   8700.000000   \n",
       "\n",
       "          Meter Read  Base Cost ($)  T&D Discretionary ($)  T&D Charges ($)  \\\n",
       "count   67822.000000   67832.000000           67838.000000     67838.000000   \n",
       "mean    11922.180792     752.493762             346.176442       243.271038   \n",
       "std     19950.210597    8850.260472           11412.058754      1761.077978   \n",
       "min         0.000000   -1269.920000             -45.930000     -1715.790000   \n",
       "25%         0.000000       0.070000               3.140000         5.750000   \n",
       "50%      4507.000000      10.020000               6.440000        10.380000   \n",
       "75%     12230.750000      59.690000              17.800000        60.692500   \n",
       "max    492196.000000  586509.580000          781792.760000     70591.250000   \n",
       "\n",
       "       Current Due ($)  Total Due ($)  Franchise Fee ($)  Billed Demand (KVA)  \\\n",
       "count     67838.000000   67838.000000       67838.000000         67822.000000   \n",
       "mean       1429.004427    1428.948580         -30.802815            41.816244   \n",
       "std       17419.486301   17420.904924         210.583496           365.658193   \n",
       "min        -104.790000       0.000000       -6179.070000             0.000000   \n",
       "25%          12.080000      12.080000          -4.830000             0.000000   \n",
       "50%          27.330000      27.270000          -0.470000             0.000000   \n",
       "75%         164.850000     164.212500           0.000000             7.000000   \n",
       "max      906606.680000  906606.680000           0.000000         17348.148148   \n",
       "\n",
       "          kWh Usage  Nodal Cu Charge ($)  Adder Charge ($)  \n",
       "count  6.783800e+04         67831.000000      67835.000000  \n",
       "mean   1.757642e+04             2.847491          8.410448  \n",
       "std    1.925858e+05            42.663730        276.832133  \n",
       "min    0.000000e+00            -0.010000          0.000000  \n",
       "25%    1.000000e+00             0.000000          0.000000  \n",
       "50%    2.200000e+02             0.030000          0.000000  \n",
       "75%    1.419750e+03             0.170000          0.000000  \n",
       "max    9.383361e+06          5531.690000      12528.970000  "
      ]
     },
     "execution_count": 59,
     "metadata": {},
     "output_type": "execute_result"
    }
   ],
   "source": [
    "data_2014.describe()"
   ]
  },
  {
   "attachments": {},
   "cell_type": "markdown",
   "metadata": {},
   "source": [
    "There are 3 columns that denote the amount of electricity: Meter Read, Billed Demand, kWh Usage.\n",
    "\n",
    "Using kWh Usage as a standard unit of measurement."
   ]
  },
  {
   "cell_type": "code",
   "execution_count": 60,
   "metadata": {},
   "outputs": [
    {
     "data": {
      "text/html": [
       "<div>\n",
       "<style scoped>\n",
       "    .dataframe tbody tr th:only-of-type {\n",
       "        vertical-align: middle;\n",
       "    }\n",
       "\n",
       "    .dataframe tbody tr th {\n",
       "        vertical-align: top;\n",
       "    }\n",
       "\n",
       "    .dataframe thead th {\n",
       "        text-align: right;\n",
       "    }\n",
       "</style>\n",
       "<table border=\"1\" class=\"dataframe\">\n",
       "  <thead>\n",
       "    <tr style=\"text-align: right;\">\n",
       "      <th></th>\n",
       "      <th>Base Cost ($)</th>\n",
       "      <th>T&amp;D Discretionary ($)</th>\n",
       "      <th>T&amp;D Charges ($)</th>\n",
       "      <th>Current Due ($)</th>\n",
       "      <th>Total Due ($)</th>\n",
       "      <th>Franchise Fee ($)</th>\n",
       "      <th>Nodal Cu Charge ($)</th>\n",
       "      <th>Adder Charge ($)</th>\n",
       "    </tr>\n",
       "  </thead>\n",
       "  <tbody>\n",
       "    <tr>\n",
       "      <th>count</th>\n",
       "      <td>67832.000000</td>\n",
       "      <td>67838.000000</td>\n",
       "      <td>67838.000000</td>\n",
       "      <td>67838.000000</td>\n",
       "      <td>67838.000000</td>\n",
       "      <td>67838.000000</td>\n",
       "      <td>67831.000000</td>\n",
       "      <td>67835.000000</td>\n",
       "    </tr>\n",
       "    <tr>\n",
       "      <th>mean</th>\n",
       "      <td>752.493762</td>\n",
       "      <td>346.176442</td>\n",
       "      <td>243.271038</td>\n",
       "      <td>1429.004427</td>\n",
       "      <td>1428.948580</td>\n",
       "      <td>-30.802815</td>\n",
       "      <td>2.847491</td>\n",
       "      <td>8.410448</td>\n",
       "    </tr>\n",
       "    <tr>\n",
       "      <th>std</th>\n",
       "      <td>8850.260472</td>\n",
       "      <td>11412.058754</td>\n",
       "      <td>1761.077978</td>\n",
       "      <td>17419.486301</td>\n",
       "      <td>17420.904924</td>\n",
       "      <td>210.583496</td>\n",
       "      <td>42.663730</td>\n",
       "      <td>276.832133</td>\n",
       "    </tr>\n",
       "    <tr>\n",
       "      <th>min</th>\n",
       "      <td>-1269.920000</td>\n",
       "      <td>-45.930000</td>\n",
       "      <td>-1715.790000</td>\n",
       "      <td>-104.790000</td>\n",
       "      <td>0.000000</td>\n",
       "      <td>-6179.070000</td>\n",
       "      <td>-0.010000</td>\n",
       "      <td>0.000000</td>\n",
       "    </tr>\n",
       "    <tr>\n",
       "      <th>25%</th>\n",
       "      <td>0.070000</td>\n",
       "      <td>3.140000</td>\n",
       "      <td>5.750000</td>\n",
       "      <td>12.080000</td>\n",
       "      <td>12.080000</td>\n",
       "      <td>-4.830000</td>\n",
       "      <td>0.000000</td>\n",
       "      <td>0.000000</td>\n",
       "    </tr>\n",
       "    <tr>\n",
       "      <th>50%</th>\n",
       "      <td>10.020000</td>\n",
       "      <td>6.440000</td>\n",
       "      <td>10.380000</td>\n",
       "      <td>27.330000</td>\n",
       "      <td>27.270000</td>\n",
       "      <td>-0.470000</td>\n",
       "      <td>0.030000</td>\n",
       "      <td>0.000000</td>\n",
       "    </tr>\n",
       "    <tr>\n",
       "      <th>75%</th>\n",
       "      <td>59.690000</td>\n",
       "      <td>17.800000</td>\n",
       "      <td>60.692500</td>\n",
       "      <td>164.850000</td>\n",
       "      <td>164.212500</td>\n",
       "      <td>0.000000</td>\n",
       "      <td>0.170000</td>\n",
       "      <td>0.000000</td>\n",
       "    </tr>\n",
       "    <tr>\n",
       "      <th>max</th>\n",
       "      <td>586509.580000</td>\n",
       "      <td>781792.760000</td>\n",
       "      <td>70591.250000</td>\n",
       "      <td>906606.680000</td>\n",
       "      <td>906606.680000</td>\n",
       "      <td>0.000000</td>\n",
       "      <td>5531.690000</td>\n",
       "      <td>12528.970000</td>\n",
       "    </tr>\n",
       "  </tbody>\n",
       "</table>\n",
       "</div>"
      ],
      "text/plain": [
       "       Base Cost ($)  T&D Discretionary ($)  T&D Charges ($)  Current Due ($)  \\\n",
       "count   67832.000000           67838.000000     67838.000000     67838.000000   \n",
       "mean      752.493762             346.176442       243.271038      1429.004427   \n",
       "std      8850.260472           11412.058754      1761.077978     17419.486301   \n",
       "min     -1269.920000             -45.930000     -1715.790000      -104.790000   \n",
       "25%         0.070000               3.140000         5.750000        12.080000   \n",
       "50%        10.020000               6.440000        10.380000        27.330000   \n",
       "75%        59.690000              17.800000        60.692500       164.850000   \n",
       "max    586509.580000          781792.760000     70591.250000    906606.680000   \n",
       "\n",
       "       Total Due ($)  Franchise Fee ($)  Nodal Cu Charge ($)  Adder Charge ($)  \n",
       "count   67838.000000       67838.000000         67831.000000      67835.000000  \n",
       "mean     1428.948580         -30.802815             2.847491          8.410448  \n",
       "std     17420.904924         210.583496            42.663730        276.832133  \n",
       "min         0.000000       -6179.070000            -0.010000          0.000000  \n",
       "25%        12.080000          -4.830000             0.000000          0.000000  \n",
       "50%        27.270000          -0.470000             0.030000          0.000000  \n",
       "75%       164.212500           0.000000             0.170000          0.000000  \n",
       "max    906606.680000           0.000000          5531.690000      12528.970000  "
      ]
     },
     "execution_count": 60,
     "metadata": {},
     "output_type": "execute_result"
    }
   ],
   "source": [
    "data_2014[[\n",
    "    'Base Cost ($)', 'T&D Discretionary ($)', 'T&D Charges ($)', \n",
    "    'Current Due ($)', 'Total Due ($)', 'Franchise Fee ($)', \n",
    "    'Nodal Cu Charge ($)', 'Adder Charge ($)'\n",
    "     ]].describe()"
   ]
  },
  {
   "attachments": {},
   "cell_type": "markdown",
   "metadata": {},
   "source": [
    "Adder Charge ($) does not contain any useful information. Electing to drop that column. Previously this column was Reliability Unit Charge.\n",
    "\n",
    "The columns other than Current Due or Total Due are adding up the value present in these two columns. Going forward choosing the column Total Due ($). \n",
    "Based on the above statistics the columns Current Due and Total Due represent the same value. "
   ]
  },
  {
   "attachments": {},
   "cell_type": "markdown",
   "metadata": {},
   "source": [
    "Based on the above analysis of the dataset choosing the following columns:\n",
    "\n",
    "1. ESID\n",
    "2. Business Area\n",
    "3. Service Address \n",
    "3. Bill Type\n",
    "4. Bill Date\n",
    "5. Total Due ($)\n",
    "6. kWh Usage"
   ]
  },
  {
   "attachments": {},
   "cell_type": "markdown",
   "metadata": {},
   "source": [
    "### Selecting and Filtering Columns"
   ]
  },
  {
   "cell_type": "code",
   "execution_count": 61,
   "metadata": {},
   "outputs": [],
   "source": [
    "data_2014 = data_2014[[\n",
    "    'ESID', 'Business Area', 'Service Address ', 'Bill Type',\n",
    "    'Bill Date', 'Total Due ($)', 'kWh Usage'\n",
    "]]"
   ]
  },
  {
   "cell_type": "code",
   "execution_count": 62,
   "metadata": {},
   "outputs": [],
   "source": [
    "rename_cols = {\n",
    "    'ESID': 'esid',\n",
    "    'Business Area': 'business_area',\n",
    "    'Service Address ': 'service_address',\n",
    "    'Bill Type': 'bill_type',\n",
    "    'Bill Date': 'bill_date',\n",
    "    'Total Due ($)': 'total_due',\n",
    "    'kWh Usage': 'kwh_usage'\n",
    "}\n",
    "\n",
    "data_2014_main = data_2014.rename(columns=rename_cols)"
   ]
  },
  {
   "attachments": {},
   "cell_type": "markdown",
   "metadata": {},
   "source": [
    "Checking for Nulls again and dtypes"
   ]
  },
  {
   "cell_type": "code",
   "execution_count": 63,
   "metadata": {},
   "outputs": [
    {
     "data": {
      "text/plain": [
       "esid               0\n",
       "business_area      0\n",
       "service_address    0\n",
       "bill_type          0\n",
       "bill_date          0\n",
       "total_due          0\n",
       "kwh_usage          0\n",
       "dtype: int64"
      ]
     },
     "execution_count": 63,
     "metadata": {},
     "output_type": "execute_result"
    }
   ],
   "source": [
    "data_2014_main.isna().sum()"
   ]
  },
  {
   "cell_type": "code",
   "execution_count": 64,
   "metadata": {},
   "outputs": [
    {
     "data": {
      "text/plain": [
       "esid                       object\n",
       "business_area               int64\n",
       "service_address            object\n",
       "bill_type                  object\n",
       "bill_date          datetime64[ns]\n",
       "total_due                 float64\n",
       "kwh_usage                   int64\n",
       "dtype: object"
      ]
     },
     "execution_count": 64,
     "metadata": {},
     "output_type": "execute_result"
    }
   ],
   "source": [
    "data_2014_main.dtypes"
   ]
  },
  {
   "cell_type": "code",
   "execution_count": 65,
   "metadata": {},
   "outputs": [
    {
     "data": {
      "text/plain": [
       "(67838, 7)"
      ]
     },
     "execution_count": 65,
     "metadata": {},
     "output_type": "execute_result"
    }
   ],
   "source": [
    "data_2014_main.shape"
   ]
  },
  {
   "cell_type": "code",
   "execution_count": 66,
   "metadata": {},
   "outputs": [
    {
     "data": {
      "text/html": [
       "<div>\n",
       "<style scoped>\n",
       "    .dataframe tbody tr th:only-of-type {\n",
       "        vertical-align: middle;\n",
       "    }\n",
       "\n",
       "    .dataframe tbody tr th {\n",
       "        vertical-align: top;\n",
       "    }\n",
       "\n",
       "    .dataframe thead th {\n",
       "        text-align: right;\n",
       "    }\n",
       "</style>\n",
       "<table border=\"1\" class=\"dataframe\">\n",
       "  <thead>\n",
       "    <tr style=\"text-align: right;\">\n",
       "      <th></th>\n",
       "      <th>total_due</th>\n",
       "      <th>kwh_usage</th>\n",
       "    </tr>\n",
       "  </thead>\n",
       "  <tbody>\n",
       "    <tr>\n",
       "      <th>0</th>\n",
       "      <td>2.802455</td>\n",
       "      <td>4.157220</td>\n",
       "    </tr>\n",
       "    <tr>\n",
       "      <th>1</th>\n",
       "      <td>2.924627</td>\n",
       "      <td>4.453952</td>\n",
       "    </tr>\n",
       "    <tr>\n",
       "      <th>2</th>\n",
       "      <td>2.775990</td>\n",
       "      <td>4.178037</td>\n",
       "    </tr>\n",
       "    <tr>\n",
       "      <th>3</th>\n",
       "      <td>3.135782</td>\n",
       "      <td>5.002792</td>\n",
       "    </tr>\n",
       "    <tr>\n",
       "      <th>4</th>\n",
       "      <td>2.773652</td>\n",
       "      <td>4.379476</td>\n",
       "    </tr>\n",
       "    <tr>\n",
       "      <th>...</th>\n",
       "      <td>...</td>\n",
       "      <td>...</td>\n",
       "    </tr>\n",
       "    <tr>\n",
       "      <th>67833</th>\n",
       "      <td>-0.044563</td>\n",
       "      <td>-0.078056</td>\n",
       "    </tr>\n",
       "    <tr>\n",
       "      <th>67834</th>\n",
       "      <td>0.024122</td>\n",
       "      <td>-0.078056</td>\n",
       "    </tr>\n",
       "    <tr>\n",
       "      <th>67835</th>\n",
       "      <td>-0.047622</td>\n",
       "      <td>-0.078056</td>\n",
       "    </tr>\n",
       "    <tr>\n",
       "      <th>67836</th>\n",
       "      <td>-0.047384</td>\n",
       "      <td>-0.078056</td>\n",
       "    </tr>\n",
       "    <tr>\n",
       "      <th>67837</th>\n",
       "      <td>-0.043133</td>\n",
       "      <td>-0.078056</td>\n",
       "    </tr>\n",
       "  </tbody>\n",
       "</table>\n",
       "<p>67838 rows × 2 columns</p>\n",
       "</div>"
      ],
      "text/plain": [
       "       total_due  kwh_usage\n",
       "0       2.802455   4.157220\n",
       "1       2.924627   4.453952\n",
       "2       2.775990   4.178037\n",
       "3       3.135782   5.002792\n",
       "4       2.773652   4.379476\n",
       "...          ...        ...\n",
       "67833  -0.044563  -0.078056\n",
       "67834   0.024122  -0.078056\n",
       "67835  -0.047622  -0.078056\n",
       "67836  -0.047384  -0.078056\n",
       "67837  -0.043133  -0.078056\n",
       "\n",
       "[67838 rows x 2 columns]"
      ]
     },
     "execution_count": 66,
     "metadata": {},
     "output_type": "execute_result"
    }
   ],
   "source": [
    "zscore_2014 = stats.zscore(data_2014_main[['total_due', 'kwh_usage']])\n",
    "\n",
    "zscore_2014"
   ]
  },
  {
   "attachments": {},
   "cell_type": "markdown",
   "metadata": {},
   "source": [
    "Each zscore value signifies how many standard deviations away an individual value is from the mean. This is a good indicator to finding outliers in the dataframe.\n",
    "\n",
    "Usually z-score=3 is considered as a cut-off value to set the limit. Therefore, any z-score greater than +3 or less than -3 is considered as outlier which is pretty much similar to standard deviation method"
   ]
  },
  {
   "cell_type": "code",
   "execution_count": 67,
   "metadata": {},
   "outputs": [
    {
     "data": {
      "text/plain": [
       "(67838, 7)"
      ]
     },
     "execution_count": 67,
     "metadata": {},
     "output_type": "execute_result"
    }
   ],
   "source": [
    "# data_2014_main = data_2014_main[(np.abs(zscore_2014) < 3).all(axis=1)]\n",
    "\n",
    "data_2014_main.shape"
   ]
  },
  {
   "attachments": {},
   "cell_type": "markdown",
   "metadata": {},
   "source": [
    "The number of rows has decreased from 67,838 to 67,427. So 411 rows were outliers based on the data."
   ]
  },
  {
   "cell_type": "code",
   "execution_count": 68,
   "metadata": {},
   "outputs": [
    {
     "data": {
      "text/html": [
       "<div>\n",
       "<style scoped>\n",
       "    .dataframe tbody tr th:only-of-type {\n",
       "        vertical-align: middle;\n",
       "    }\n",
       "\n",
       "    .dataframe tbody tr th {\n",
       "        vertical-align: top;\n",
       "    }\n",
       "\n",
       "    .dataframe thead th {\n",
       "        text-align: right;\n",
       "    }\n",
       "</style>\n",
       "<table border=\"1\" class=\"dataframe\">\n",
       "  <thead>\n",
       "    <tr style=\"text-align: right;\">\n",
       "      <th></th>\n",
       "      <th>esid</th>\n",
       "      <th>business_area</th>\n",
       "      <th>service_address</th>\n",
       "      <th>bill_type</th>\n",
       "      <th>bill_date</th>\n",
       "      <th>total_due</th>\n",
       "      <th>kwh_usage</th>\n",
       "    </tr>\n",
       "  </thead>\n",
       "  <tbody>\n",
       "    <tr>\n",
       "      <th>0</th>\n",
       "      <td>1008901000140050014100</td>\n",
       "      <td>2000</td>\n",
       "      <td>10518 BELLAIRE</td>\n",
       "      <td>T</td>\n",
       "      <td>2014-05-28</td>\n",
       "      <td>50249.89</td>\n",
       "      <td>818192</td>\n",
       "    </tr>\n",
       "    <tr>\n",
       "      <th>1</th>\n",
       "      <td>1008901000140050014100</td>\n",
       "      <td>2000</td>\n",
       "      <td>10518 BELLAIRE</td>\n",
       "      <td>T</td>\n",
       "      <td>2014-04-28</td>\n",
       "      <td>52378.23</td>\n",
       "      <td>875338</td>\n",
       "    </tr>\n",
       "    <tr>\n",
       "      <th>2</th>\n",
       "      <td>1008901000140050014100</td>\n",
       "      <td>2000</td>\n",
       "      <td>10518 BELLAIRE</td>\n",
       "      <td>T</td>\n",
       "      <td>2014-03-27</td>\n",
       "      <td>49788.85</td>\n",
       "      <td>822201</td>\n",
       "    </tr>\n",
       "    <tr>\n",
       "      <th>3</th>\n",
       "      <td>1008901000140050014100</td>\n",
       "      <td>2000</td>\n",
       "      <td>10518 BELLAIRE</td>\n",
       "      <td>T</td>\n",
       "      <td>2014-02-27</td>\n",
       "      <td>56056.70</td>\n",
       "      <td>981036</td>\n",
       "    </tr>\n",
       "    <tr>\n",
       "      <th>4</th>\n",
       "      <td>1008901000140050014100</td>\n",
       "      <td>2000</td>\n",
       "      <td>10518 BELLAIRE</td>\n",
       "      <td>T</td>\n",
       "      <td>2014-01-27</td>\n",
       "      <td>49748.12</td>\n",
       "      <td>860995</td>\n",
       "    </tr>\n",
       "  </tbody>\n",
       "</table>\n",
       "</div>"
      ],
      "text/plain": [
       "                     esid  business_area service_address bill_type  bill_date  \\\n",
       "0  1008901000140050014100           2000  10518 BELLAIRE         T 2014-05-28   \n",
       "1  1008901000140050014100           2000  10518 BELLAIRE         T 2014-04-28   \n",
       "2  1008901000140050014100           2000  10518 BELLAIRE         T 2014-03-27   \n",
       "3  1008901000140050014100           2000  10518 BELLAIRE         T 2014-02-27   \n",
       "4  1008901000140050014100           2000  10518 BELLAIRE         T 2014-01-27   \n",
       "\n",
       "   total_due  kwh_usage  \n",
       "0   50249.89     818192  \n",
       "1   52378.23     875338  \n",
       "2   49788.85     822201  \n",
       "3   56056.70     981036  \n",
       "4   49748.12     860995  "
      ]
     },
     "execution_count": 68,
     "metadata": {},
     "output_type": "execute_result"
    }
   ],
   "source": [
    "data_2014_main.head(5)"
   ]
  },
  {
   "cell_type": "code",
   "execution_count": 69,
   "metadata": {},
   "outputs": [
    {
     "data": {
      "text/plain": [
       "0"
      ]
     },
     "execution_count": 69,
     "metadata": {},
     "output_type": "execute_result"
    }
   ],
   "source": [
    "orig_shape_2014 - data_2014_main.shape[0]"
   ]
  },
  {
   "cell_type": "code",
   "execution_count": 70,
   "metadata": {},
   "outputs": [],
   "source": [
    "data_2014_main.to_csv('electricity_usage_data_2014.csv', index=False)"
   ]
  },
  {
   "cell_type": "code",
   "execution_count": 71,
   "metadata": {},
   "outputs": [
    {
     "name": "stderr",
     "output_type": "stream",
     "text": [
      "C:\\Users\\sparva3\\AppData\\Local\\Temp\\ipykernel_16148\\2002267354.py:1: FutureWarning: The default value of numeric_only in DataFrame.corr is deprecated. In a future version, it will default to False. Select only valid columns or specify the value of numeric_only to silence this warning.\n",
      "  sns.heatmap(data_2014_main.corr())\n"
     ]
    },
    {
     "data": {
      "text/plain": [
       "<AxesSubplot: >"
      ]
     },
     "execution_count": 71,
     "metadata": {},
     "output_type": "execute_result"
    },
    {
     "data": {
      "image/png": "[encoded data removed]",
      "text/plain": [
       "<Figure size 640x480 with 2 Axes>"
      ]
     },
     "metadata": {},
     "output_type": "display_data"
    }
   ],
   "source": [
    "sns.heatmap(data_2014_main.corr())"
   ]
  },
  {
   "attachments": {},
   "cell_type": "markdown",
   "metadata": {},
   "source": [
    "There do not seem to be any features that have high correlation with kwh usage except total due. But this is to be expected since the amount of energy used is directly proportional to the cost.\n"
   ]
  },
  {
   "attachments": {},
   "cell_type": "markdown",
   "metadata": {},
   "source": [
    "###VISUALIZATIONS"
   ]
  },
  {
   "cell_type": "code",
   "execution_count": 72,
   "metadata": {},
   "outputs": [],
   "source": [
    "data_2014_main = pd.read_csv('Electricity_Usage_Data.csv')"
   ]
  },
  {
   "cell_type": "code",
   "execution_count": 73,
   "metadata": {},
   "outputs": [],
   "source": [
    "data_2014_main[['bill_date']] = data_2014_main[['bill_date']].apply(pd.to_datetime)"
   ]
  },
  {
   "cell_type": "code",
   "execution_count": 74,
   "metadata": {},
   "outputs": [],
   "source": [
    "viz_df = data_2014_main.set_index('bill_date')"
   ]
  },
  {
   "cell_type": "code",
   "execution_count": 75,
   "metadata": {},
   "outputs": [
    {
     "data": {
      "text/html": [
       "<div>\n",
       "<style scoped>\n",
       "    .dataframe tbody tr th:only-of-type {\n",
       "        vertical-align: middle;\n",
       "    }\n",
       "\n",
       "    .dataframe tbody tr th {\n",
       "        vertical-align: top;\n",
       "    }\n",
       "\n",
       "    .dataframe thead th {\n",
       "        text-align: right;\n",
       "    }\n",
       "</style>\n",
       "<table border=\"1\" class=\"dataframe\">\n",
       "  <thead>\n",
       "    <tr style=\"text-align: right;\">\n",
       "      <th></th>\n",
       "      <th>esid</th>\n",
       "      <th>business_area</th>\n",
       "      <th>service_address</th>\n",
       "      <th>bill_type</th>\n",
       "      <th>total_due</th>\n",
       "      <th>kwh_usage</th>\n",
       "    </tr>\n",
       "    <tr>\n",
       "      <th>bill_date</th>\n",
       "      <th></th>\n",
       "      <th></th>\n",
       "      <th></th>\n",
       "      <th></th>\n",
       "      <th></th>\n",
       "      <th></th>\n",
       "    </tr>\n",
       "  </thead>\n",
       "  <tbody>\n",
       "    <tr>\n",
       "      <th>2012-06-26</th>\n",
       "      <td>1008901000140050014100</td>\n",
       "      <td>2000</td>\n",
       "      <td>10518 BELLAIRE</td>\n",
       "      <td>T</td>\n",
       "      <td>73232.11</td>\n",
       "      <td>905421.0</td>\n",
       "    </tr>\n",
       "    <tr>\n",
       "      <th>2012-05-25</th>\n",
       "      <td>1008901000140050014100</td>\n",
       "      <td>2000</td>\n",
       "      <td>10518 BELLAIRE</td>\n",
       "      <td>T</td>\n",
       "      <td>68463.46</td>\n",
       "      <td>824107.0</td>\n",
       "    </tr>\n",
       "    <tr>\n",
       "      <th>2012-04-27</th>\n",
       "      <td>1008901000140050014100</td>\n",
       "      <td>2000</td>\n",
       "      <td>10518 BELLAIRE</td>\n",
       "      <td>T</td>\n",
       "      <td>80847.87</td>\n",
       "      <td>977744.0</td>\n",
       "    </tr>\n",
       "    <tr>\n",
       "      <th>2012-03-27</th>\n",
       "      <td>1008901000140050014100</td>\n",
       "      <td>2000</td>\n",
       "      <td>10518 BELLAIRE</td>\n",
       "      <td>T</td>\n",
       "      <td>74373.93</td>\n",
       "      <td>876838.0</td>\n",
       "    </tr>\n",
       "    <tr>\n",
       "      <th>2012-02-27</th>\n",
       "      <td>1008901000140050014100</td>\n",
       "      <td>2000</td>\n",
       "      <td>10518 BELLAIRE</td>\n",
       "      <td>T</td>\n",
       "      <td>74080.27</td>\n",
       "      <td>872898.0</td>\n",
       "    </tr>\n",
       "  </tbody>\n",
       "</table>\n",
       "</div>"
      ],
      "text/plain": [
       "                              esid  business_area service_address bill_type  \\\n",
       "bill_date                                                                     \n",
       "2012-06-26  1008901000140050014100           2000  10518 BELLAIRE         T   \n",
       "2012-05-25  1008901000140050014100           2000  10518 BELLAIRE         T   \n",
       "2012-04-27  1008901000140050014100           2000  10518 BELLAIRE         T   \n",
       "2012-03-27  1008901000140050014100           2000  10518 BELLAIRE         T   \n",
       "2012-02-27  1008901000140050014100           2000  10518 BELLAIRE         T   \n",
       "\n",
       "            total_due  kwh_usage  \n",
       "bill_date                         \n",
       "2012-06-26   73232.11   905421.0  \n",
       "2012-05-25   68463.46   824107.0  \n",
       "2012-04-27   80847.87   977744.0  \n",
       "2012-03-27   74373.93   876838.0  \n",
       "2012-02-27   74080.27   872898.0  "
      ]
     },
     "execution_count": 75,
     "metadata": {},
     "output_type": "execute_result"
    }
   ],
   "source": [
    "viz_df.head()"
   ]
  },
  {
   "cell_type": "code",
   "execution_count": 94,
   "metadata": {},
   "outputs": [
    {
     "data": {
      "image/png": "[encoded data removed]",
      "text/plain": [
       "<Figure size 1000x500 with 1 Axes>"
      ]
     },
     "metadata": {},
     "output_type": "display_data"
    }
   ],
   "source": [
    "# Bar chart for 'Business Area'\n",
    "plt.figure(figsize=(10, 5))\n",
    "data_2014_main['business_area'].value_counts().plot(kind='bar')\n",
    "plt.title('Business Area')\n",
    "plt.xlabel('Area')\n",
    "plt.ylabel('Frequency')\n",
    "plt.show()"
   ]
  },
  {
   "cell_type": "code",
   "execution_count": 95,
   "metadata": {},
   "outputs": [],
   "source": [
    "def plotbox(data_2014_main, column):\n",
    "    plot_features = data_2014_main.groupby(pd.Grouper(freq=str(60)+'T')).mean().copy()\n",
    "    plot_features[column] = [eval('x.%s'%column) for x in plot_features.index] \n",
    "    plot_features.boxplot('kwh_usage', by=column, figsize=(8, 6), grid=False)\n",
    "    plt.ylabel('kWh Usage')\n",
    "    plt.xlabel(column)\n",
    "    plt.show()"
   ]
  },
  {
   "cell_type": "code",
   "execution_count": 77,
   "metadata": {},
   "outputs": [
    {
     "name": "stderr",
     "output_type": "stream",
     "text": [
      "C:\\Users\\sparva3\\AppData\\Local\\Temp\\ipykernel_16148\\1212594819.py:2: FutureWarning: The default value of numeric_only in DataFrameGroupBy.mean is deprecated. In a future version, numeric_only will default to False. Either specify numeric_only or select only columns which should be valid for the function.\n",
      "  plot_features = data_2014_main.groupby(pd.Grouper(freq=str(60)+'T')).mean().copy()\n"
     ]
    },
    {
     "data": {
      "image/png": "[encoded data removed]",
      "text/plain": [
       "<Figure size 800x600 with 1 Axes>"
      ]
     },
     "metadata": {},
     "output_type": "display_data"
    }
   ],
   "source": [
    "plotbox(viz_df, 'month')"
   ]
  },
  {
   "attachments": {},
   "cell_type": "markdown",
   "metadata": {},
   "source": [
    "Based on the above box plot, we can see that the highest energy is consumed in the months of June-September. That is in the summer/fall season energy usage is quite high."
   ]
  },
  {
   "cell_type": "code",
   "execution_count": 96,
   "metadata": {},
   "outputs": [
    {
     "data": {
      "text/plain": [
       "<matplotlib.legend.Legend at 0x1d2e824cf90>"
      ]
     },
     "execution_count": 96,
     "metadata": {},
     "output_type": "execute_result"
    },
    {
     "data": {
      "image/png": "[encoded data removed]",
      "text/plain": [
       "<Figure size 640x480 with 1 Axes>"
      ]
     },
     "metadata": {},
     "output_type": "display_data"
    }
   ],
   "source": [
    "import matplotlib.pyplot as plt\n",
    "plt.title('Pie Chart: Bill Type',fontsize=20,pad=50)\n",
    "crimes_data_primary_type_pie = plt.pie(data_2014_main['bill_type'].value_counts().values,labels=data_2014_main['bill_type'].value_counts().index,autopct='%1.5f%%',radius=1)\n",
    "plt.legend(bbox_to_anchor=(-0.5, 1), loc=\"upper left\")"
   ]
  },
  {
   "attachments": {},
   "cell_type": "markdown",
   "metadata": {},
   "source": [
    "Bill Type could signify the type of the connection given. Since commercial, residential and government spaces would have different type of pricing and needs this column could be capturing that information. Most common bill type is T."
   ]
  },
  {
   "cell_type": "code",
   "execution_count": 79,
   "metadata": {},
   "outputs": [
    {
     "data": {
      "image/png": "[encoded data removed]",
      "text/plain": [
       "<Figure size 640x480 with 1 Axes>"
      ]
     },
     "metadata": {},
     "output_type": "display_data"
    }
   ],
   "source": [
    "plt.plot(data_2014_main.index, data_2014_main['total_due'], color='b', label='Average Cost')\n",
    "plt.title('Average Energy Usage by Business Area')\n",
    "plt.legend()\n",
    "plt.show()"
   ]
  },
  {
   "attachments": {},
   "cell_type": "markdown",
   "metadata": {},
   "source": [
    "Monthly energy consumption"
   ]
  },
  {
   "cell_type": "code",
   "execution_count": 80,
   "metadata": {},
   "outputs": [
    {
     "data": {
      "image/png": "[encoded data removed]",
      "text/plain": [
       "<Figure size 1200x600 with 1 Axes>"
      ]
     },
     "metadata": {},
     "output_type": "display_data"
    }
   ],
   "source": [
    "monthly_en = viz_df.resample('M', label = 'left')['kwh_usage'].max()\n",
    "plt.figure(figsize = (12,6))\n",
    "\n",
    "#plotting the max monthly energy consumption\n",
    "plt.plot(monthly_en)\n",
    "# ensuring the limits on x axis to be between the dataframe's datetime limits\n",
    "plt.xlim(monthly_en.index.min(), monthly_en.index.max())\n",
    "# Using matplotlib MonthLocator to be used in the xticks to mark individual months\n",
    "locator = mdates.MonthLocator(bymonthday = 1, interval = 2)  # every 2 months \n",
    "fmt = mdates.DateFormatter('%m-%y') \n",
    "X = plt.gca().xaxis\n",
    "# Setting the locator\n",
    "X.set_major_locator(locator)\n",
    "# Specify formatter\n",
    "X.set_major_formatter(fmt)\n",
    "plt.xticks(rotation = 45)\n",
    "plt.ylabel('Max Energy consumption in kWh')\n",
    "plt.xlabel('Date')\n",
    "plt.title('Peak energy usage of a month over the years 2011-14')\n",
    "plt.show()"
   ]
  },
  {
   "cell_type": "code",
   "execution_count": 81,
   "metadata": {},
   "outputs": [
    {
     "name": "stdout",
     "output_type": "stream",
     "text": [
      "bill_type_counts_by_business_area:\n"
     ]
    },
    {
     "data": {
      "image/png": "[encoded data removed]",
      "text/plain": [
       "<Figure size 640x480 with 1 Axes>"
      ]
     },
     "metadata": {},
     "output_type": "display_data"
    }
   ],
   "source": [
    "# Stacked bar chart to visualize the distribution of bill types across different business areas\n",
    "business_areas = data_2014_main['business_area'].unique()\n",
    "if len(business_areas) > 0:\n",
    "    bill_types = data_2014_main['bill_type'].unique()\n",
    "\n",
    "\n",
    "    business_area_counts = []\n",
    "    for ba in business_areas:\n",
    "        counts = data_2014_main.loc[data_2014_main['business_area'] == ba]['bill_type'].value_counts()\n",
    "        business_area_counts.append(counts)\n",
    "\n",
    "    bill_type_counts_by_business_area = pd.concat(business_area_counts, axis=1, keys=business_areas)\n",
    "    print('bill_type_counts_by_business_area:')\n",
    "\n",
    "    bill_type_counts_by_business_area.plot(kind='bar', stacked=True)\n",
    "\n",
    "    # y-axis label\n",
    "    plt.ylabel('Number of Bills')\n",
    "\n",
    "    # Chart title\n",
    "    plt.title('Distribution of Bill Types by Business Area')\n",
    "\n",
    "    plt.show()    "
   ]
  },
  {
   "attachments": {},
   "cell_type": "markdown",
   "metadata": {},
   "source": [
    "### Classification - Task: Predicting Type of Bill - Sharmisha"
   ]
  },
  {
   "attachments": {},
   "cell_type": "markdown",
   "metadata": {},
   "source": [
    "Models proposed:\n",
    "1. Logistic Regression - widely used interpretable model which can be used for setting a baseline accuracy. This model assumed linear relationship between the variables, so mighht give bad results\n",
    "\n",
    "2. Decision Tree Classifier - It can handle the non-linear relationships well between input and target variable. Can be prone to overfitting on the train data.\n",
    "\n",
    "3. Random Forest Classifier - ensemble model, takes advantage of multiple decision trees to create a powerful model. But this model is not easy to interpret and requires more computational resource to run."
   ]
  },
  {
   "cell_type": "code",
   "execution_count": 82,
   "metadata": {},
   "outputs": [],
   "source": [
    "def classification_metrics(model, X_train, X_test, y_train, y_test):\n",
    "    y_train_pred = model.predict(X_train)\n",
    "    y_test_pred = model.predict(X_test)\n",
    "\n",
    "    print(f'Train F1 Score: {f1_score(y_train, y_train_pred, average=\"macro\")}')\n",
    "    print(f'Test F1 Score: {f1_score(y_test, y_test_pred, average=\"macro\")}')\n",
    "\n",
    "    print(f'Train Accuracy Score: {accuracy_score(y_train, y_train_pred)}')\n",
    "    print(f'Test Accuract Score: {accuracy_score(y_test, y_test_pred)}')"
   ]
  },
  {
   "cell_type": "code",
   "execution_count": 83,
   "metadata": {},
   "outputs": [],
   "source": [
    "address_enc = LabelEncoder()\n",
    "bill_type_enc = LabelEncoder()\n",
    "\n",
    "data_2014_main['address_enc'] = address_enc.fit_transform(data_2014_main['service_address'])\n",
    "data_2014_main['bill_type_enc'] = bill_type_enc.fit_transform(data_2014_main['bill_type'])\n",
    "data_2014_main['year'] = data_2014_main['bill_date'].apply(lambda x:x.year)\n",
    "data_2014_main['month'] = data_2014_main['bill_date'].apply(lambda x:x.month)\n",
    "\n",
    "X = data_2014_main[[\n",
    "    'business_area', 'address_enc', 'kwh_usage', 'year', 'month'\n",
    "]]\n",
    "y = data_2014_main[['bill_type_enc']]"
   ]
  },
  {
   "cell_type": "code",
   "execution_count": 84,
   "metadata": {},
   "outputs": [],
   "source": [
    "X_train, X_test, y_train, y_test = train_test_split(X, y, test_size=0.2, random_state=42)"
   ]
  },
  {
   "attachments": {},
   "cell_type": "markdown",
   "metadata": {},
   "source": [
    "#### Logistic Regression"
   ]
  },
  {
   "cell_type": "code",
   "execution_count": 85,
   "metadata": {},
   "outputs": [
    {
     "name": "stderr",
     "output_type": "stream",
     "text": [
      "c:\\Users\\sparva3\\AppData\\Local\\Programs\\Python\\Python311\\Lib\\site-packages\\sklearn\\linear_model\\_logistic.py:458: ConvergenceWarning: lbfgs failed to converge (status=1):\n",
      "STOP: TOTAL NO. of ITERATIONS REACHED LIMIT.\n",
      "\n",
      "Increase the number of iterations (max_iter) or scale the data as shown in:\n",
      "    https://scikit-learn.org/stable/modules/preprocessing.html\n",
      "Please also refer to the documentation for alternative solver options:\n",
      "    https://scikit-learn.org/stable/modules/linear_model.html#logistic-regression\n",
      "  n_iter_i = _check_optimize_result(\n"
     ]
    }
   ],
   "source": [
    "lreg = LogisticRegression().fit(X_train, np.ravel(y_train))"
   ]
  },
  {
   "cell_type": "code",
   "execution_count": 86,
   "metadata": {},
   "outputs": [
    {
     "name": "stdout",
     "output_type": "stream",
     "text": [
      "Train F1 Score: 0.49070301858922133\n",
      "Test F1 Score: 0.4875581514879594\n",
      "Train Accuracy Score: 0.9941046522267682\n",
      "Test Accuract Score: 0.994431518130245\n"
     ]
    }
   ],
   "source": [
    "classification_metrics(lreg, X_train, X_test, y_train, y_test)"
   ]
  },
  {
   "attachments": {},
   "cell_type": "markdown",
   "metadata": {},
   "source": [
    "#### Decision Tree Classifier"
   ]
  },
  {
   "cell_type": "code",
   "execution_count": 87,
   "metadata": {},
   "outputs": [],
   "source": [
    "dtc = DecisionTreeClassifier().fit(X_train, y_train)"
   ]
  },
  {
   "cell_type": "code",
   "execution_count": 88,
   "metadata": {},
   "outputs": [
    {
     "name": "stdout",
     "output_type": "stream",
     "text": [
      "Train F1 Score: 0.9998707454630322\n",
      "Test F1 Score: 0.6666403148167668\n",
      "Train Accuracy Score: 0.9999934641377237\n",
      "Test Accuract Score: 0.9998431413557816\n"
     ]
    }
   ],
   "source": [
    "classification_metrics(dtc, X_train, X_test, y_train, y_test)"
   ]
  },
  {
   "attachments": {},
   "cell_type": "markdown",
   "metadata": {},
   "source": [
    "#### Random Forest Classifier"
   ]
  },
  {
   "cell_type": "code",
   "execution_count": 89,
   "metadata": {},
   "outputs": [],
   "source": [
    "rfc = RandomForestClassifier().fit(X_train, np.ravel(y_train))"
   ]
  },
  {
   "cell_type": "code",
   "execution_count": 90,
   "metadata": {},
   "outputs": [
    {
     "name": "stdout",
     "output_type": "stream",
     "text": [
      "Train F1 Score: 0.9998707454630322\n",
      "Test F1 Score: 0.6666403148167668\n",
      "Train Accuracy Score: 0.9999934641377237\n",
      "Test Accuract Score: 0.9998431413557816\n"
     ]
    }
   ],
   "source": [
    "classification_metrics(dtc, X_train, X_test, np.ravel(y_train), np.ravel(y_test))"
   ]
  },
  {
   "attachments": {},
   "cell_type": "markdown",
   "metadata": {},
   "source": [
    "Evaluated the performance of three different classifiers: logistic regression, decision tree classifier, and random forest classifier. The evaluation metrics used are F1 score.\n",
    "\n",
    "Based on the results, we can see that the logistic regression model has lower F1 scores compared to the other two models. This suggests that the logistic regression model may not be performing as well as the decision tree and random forest models in correctly predicting both positive and negative instances.\n",
    "\n",
    "The decision tree and random forest models have very high F1 scores and accuracy scores for both the train and test sets. This suggests that these models are doing a good job at predicting both positive and negative instances, and are likely to be reliable in making predictions on new data.\n",
    "\n",
    "For predicting the type of bill, the Decision Tree Classifier and Random Forest Classifier models both performed similarly with an F1-score of 66%. The Logistic Regression model had a lower F1-score of 43%."
   ]
  }
 ],
 "metadata": {
  "kernelspec": {
   "display_name": "Python 3",
   "language": "python",
   "name": "python3"
  },
  "language_info": {
   "codemirror_mode": {
    "name": "ipython",
    "version": 3
   },
   "file_extension": ".py",
   "mimetype": "text/x-python",
   "name": "python",
   "nbconvert_exporter": "python",
   "pygments_lexer": "ipython3",
   "version": "3.11.1"
  },
  "orig_nbformat": 4
 },
 "nbformat": 4,
 "nbformat_minor": 2
}

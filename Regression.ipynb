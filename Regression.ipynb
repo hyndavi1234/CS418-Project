{
 "cells": [
  {
   "cell_type": "markdown",
   "id": "8043e72a-9c55-4e1c-8ae4-addd3dc5b812",
   "metadata": {},
   "source": [
    "## Import Statements"
   ]
  },
  {
   "cell_type": "code",
   "execution_count": 1,
   "id": "10c38aa1-b27d-4bc7-999a-686f8644a48d",
   "metadata": {},
   "outputs": [],
   "source": [
    "import pandas as pd\n",
    "import numpy as np\n",
    "import matplotlib.pyplot as plt\n",
    "import matplotlib.dates as mdates\n",
    "import seaborn as sns\n",
    "from scipy import stats\n",
    "\n",
    "from sklearn.linear_model import LinearRegression\n",
    "from sklearn.ensemble import GradientBoostingRegressor\n",
    "from sklearn.tree import DecisionTreeRegressor\n",
    "\n",
    "from sklearn.preprocessing import LabelEncoder\n",
    "from sklearn.model_selection import train_test_split\n",
    "from sklearn.metrics import r2_score, mean_squared_error\n",
    "\n",
    "pd.options.display.max_columns=25"
   ]
  },
  {
   "cell_type": "code",
   "execution_count": null,
   "id": "f3e5b0c9-9586-4182-a6a5-6312af4a954f",
   "metadata": {},
   "outputs": [],
   "source": [
    "data_main = pd.read_csv('Electricity_Usage_Data.csv')"
   ]
  },
  {
   "cell_type": "code",
   "execution_count": 4,
   "id": "6d5acc28-f12a-49f5-bfc0-9f18ff8d0246",
   "metadata": {},
   "outputs": [],
   "source": [
    "data_main[['bill_date']] = data_main[['bill_date']].apply(pd.to_datetime)"
   ]
  },
  {
   "cell_type": "code",
   "execution_count": null,
   "id": "249b963b-5ced-4119-97c7-92c57dc5fd7d",
   "metadata": {},
   "outputs": [],
   "source": [
    "data_main.loc[:,'bill_date'] = data_main['bill_date'].apply(lambda x: pd.to_datetime(f'{x.year}-{x.month}-01'))"
   ]
  },
  {
   "cell_type": "code",
   "execution_count": 107,
   "id": "30a082b1-5444-417b-9215-c13542719e8c",
   "metadata": {},
   "outputs": [],
   "source": [
    "address_enc = LabelEncoder()\n",
    "bill_type_enc = LabelEncoder()\n",
    "\n",
    "data_main['address_enc'] = address_enc.fit_transform(data_main['service_address'])\n",
    "data_main['bill_type_enc'] = bill_type_enc.fit_transform(data_main['bill_type'])\n",
    "data_main['year'] = data_main['bill_date'].apply(lambda x:x.year)\n",
    "data_main['month'] = data_main['bill_date'].apply(lambda x:x.month)"
   ]
  },
  {
   "cell_type": "markdown",
   "id": "21b0ab51-f0ab-480e-adbf-e3920b7cb391",
   "metadata": {},
   "source": [
    "### Regression - Task: Predicting Energy Usage - Sourabh\n",
    "\n",
    "Models Proposed:\n",
    "1. Linear Regression - Simple and easy to understand model. Using this to set a baseline. assumes linear relationship between thhe input features and the target variable.\n",
    "2. Gradient Boosting Regressor - Since this model is an ensemble model which combines, multiple decision tree. Expecting good accuracy from this model. can be computationally expensive and may require more resources to other models\n",
    "3. Decision Tree Regressor - This is a simple, interpretable model. can handle non-linear relationships between the input features. Can be prone to overfitting on the train data"
   ]
  },
  {
   "cell_type": "code",
   "execution_count": 108,
   "id": "ef5698cb-e4c4-4d2a-9c37-ef5ac5c2cf4d",
   "metadata": {},
   "outputs": [],
   "source": [
    "def regression_metrics(model, X_train, X_test, y_train, y_test):\n",
    "    y_train_pred = model.predict(X_train)\n",
    "    y_test_pred = model.predict(X_test)\n",
    "\n",
    "    print(f'Train R2 Score: {r2_score(y_train, y_train_pred)}')\n",
    "    print(f'Test R2 Score: {r2_score(y_test, y_test_pred)}')\n",
    "\n",
    "    print(f'Train MSE Score: {mean_squared_error(y_train, y_train_pred)}')\n",
    "    print(f'Test MSE Score: {mean_squared_error(y_test, y_test_pred)}')"
   ]
  },
  {
   "cell_type": "code",
   "execution_count": 109,
   "id": "8036b909-2175-4dd3-a09f-bccfdee3b235",
   "metadata": {},
   "outputs": [],
   "source": [
    "X = data_main[[\n",
    "    'business_area', 'address_enc', 'bill_type_enc', 'year', 'month'\n",
    "]]\n",
    "y = data_main[['kwh_usage']]"
   ]
  },
  {
   "cell_type": "code",
   "execution_count": 110,
   "id": "f8883d3d-a271-4133-a887-45311c5e933b",
   "metadata": {},
   "outputs": [],
   "source": [
    "X_train, X_test, y_train, y_test = train_test_split(X, y, test_size=0.2, random_state=42)"
   ]
  },
  {
   "cell_type": "markdown",
   "id": "4579ce18-dbdd-4de4-8ad1-8103dd087ae5",
   "metadata": {},
   "source": [
    "#### Linear Regression"
   ]
  },
  {
   "cell_type": "code",
   "execution_count": 111,
   "id": "02ae254a-4436-474c-96e4-11ac2610eeb3",
   "metadata": {},
   "outputs": [],
   "source": [
    "reg = LinearRegression().fit(X_train, y_train)"
   ]
  },
  {
   "cell_type": "code",
   "execution_count": 112,
   "id": "cc06f78b-f5bf-43c6-924c-fc1cdf00717c",
   "metadata": {},
   "outputs": [
    {
     "name": "stdout",
     "output_type": "stream",
     "text": [
      "Train R2 Score: 0.009173833177215318\n",
      "Test R2 Score: 0.007167343822345074\n",
      "Train MSE Score: 39877725926.044525\n",
      "Test MSE Score: 49616557595.280334\n"
     ]
    }
   ],
   "source": [
    "regression_metrics(reg, X_train, X_test, y_train, y_test)"
   ]
  },
  {
   "cell_type": "markdown",
   "id": "bee4ff0d-3324-4a46-87dc-05439160051e",
   "metadata": {},
   "source": [
    "#### Gradient Boosting Regression"
   ]
  },
  {
   "cell_type": "code",
   "execution_count": 113,
   "id": "ffd5f67f-377a-442c-b2d9-4308b86c123a",
   "metadata": {},
   "outputs": [],
   "source": [
    "gbr = GradientBoostingRegressor().fit(X_train, np.ravel(y_train))"
   ]
  },
  {
   "cell_type": "code",
   "execution_count": 114,
   "id": "b17dd51d-3abb-44ae-aa7a-ff2505c832d6",
   "metadata": {},
   "outputs": [
    {
     "name": "stdout",
     "output_type": "stream",
     "text": [
      "Train R2 Score: 0.7043295722890507\n",
      "Test R2 Score: 0.731555408814922\n",
      "Train MSE Score: 11899831348.320082\n",
      "Test MSE Score: 13415449659.919914\n"
     ]
    }
   ],
   "source": [
    "regression_metrics(gbr, X_train, X_test, np.ravel(y_train), np.ravel(y_test))"
   ]
  },
  {
   "cell_type": "markdown",
   "id": "a804a124-6474-49aa-98a4-dec1db668897",
   "metadata": {},
   "source": [
    "#### Decision Tree Regressor"
   ]
  },
  {
   "cell_type": "code",
   "execution_count": 115,
   "id": "775c33fb-b7d8-44ce-b44e-68bec657e906",
   "metadata": {},
   "outputs": [],
   "source": [
    "dtr = DecisionTreeRegressor().fit(X_train, np.ravel(y_train))"
   ]
  },
  {
   "cell_type": "code",
   "execution_count": 116,
   "id": "ac66410a-1a08-42fd-89d1-6a2b8cbda938",
   "metadata": {},
   "outputs": [
    {
     "name": "stdout",
     "output_type": "stream",
     "text": [
      "Train R2 Score: 0.9328533753005721\n",
      "Test R2 Score: 0.9247996538963315\n",
      "Train MSE Score: 2702446489.891373\n",
      "Test MSE Score: 3758118027.666927\n"
     ]
    }
   ],
   "source": [
    "regression_metrics(dtr, X_train, X_test, np.ravel(y_train), np.ravel(y_test))"
   ]
  },
  {
   "cell_type": "markdown",
   "id": "9e763883-e743-4544-8c66-e4065298ef68",
   "metadata": {},
   "source": [
    "#### Preliminary Conclusions:\n",
    "\n",
    "In the above models based on the R2 score we can see that the Decision Tree Regressor works quite well even on the unseen test data. But what is concerning is the large MSE score. We are working on figuring out what the possible reason could be for such a large value and how to mitigate this."
   ]
  }
 ],
 "metadata": {
  "kernelspec": {
   "display_name": "Python 3 (ipykernel)",
   "language": "python",
   "name": "python3"
  },
  "language_info": {
   "codemirror_mode": {
    "name": "ipython",
    "version": 3
   },
   "file_extension": ".py",
   "mimetype": "text/x-python",
   "name": "python",
   "nbconvert_exporter": "python",
   "pygments_lexer": "ipython3",
   "version": "3.10.9"
  }
 },
 "nbformat": 4,
 "nbformat_minor": 5
}
